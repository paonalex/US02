{
 "cells": [
  {
   "cell_type": "code",
   "execution_count": 53,
   "metadata": {},
   "outputs": [],
   "source": [
    "import pickle\n",
    "import networkx as nx\n",
    "import numpy as np"
   ]
  },
  {
   "cell_type": "code",
   "execution_count": 54,
   "metadata": {},
   "outputs": [
    {
     "name": "stdout",
     "output_type": "stream",
     "text": [
      "18\n"
     ]
    }
   ],
   "source": [
    "with open('GOT-characters-raw.pickle','rb') as fp:\n",
    "    characters = pickle.load(fp)\n",
    "len(characters.keys())\n",
    "\n",
    "entities = set()\n",
    "for chapter in characters.values():\n",
    "    for entity in chapter:\n",
    "        name = entity[0]\n",
    "        entities.add(name)\n",
    "    break\n",
    "print(len(entities))"
   ]
  },
  {
   "cell_type": "code",
   "execution_count": 55,
   "metadata": {},
   "outputs": [
    {
     "name": "stdout",
     "output_type": "stream",
     "text": [
      "Name: \n",
      "Type: Graph\n",
      "Number of nodes: 0\n",
      "Number of edges: 0\n",
      "\n"
     ]
    }
   ],
   "source": [
    "GOT = nx.Graph()\n",
    "\n",
    "print(nx.info(GOT))"
   ]
  },
  {
   "cell_type": "markdown",
   "metadata": {},
   "source": [
    "GOT = nx.Graph()\n",
    "GOT.add_nodes_from(list(entities))"
   ]
  },
  {
   "cell_type": "code",
   "execution_count": 56,
   "metadata": {},
   "outputs": [],
   "source": [
    "def get_edges_from_chapter(chapter):\n",
    "    chapter.sort(key=lambda a:a[1],reverse=False)\n",
    "\n",
    "    potential_edges = []\n",
    "    for i in range(0,len(chapter)):\n",
    "        name1,start1,end1 = chapter[i]\n",
    "        for j in range(i+1,len(chapter)):    \n",
    "            name2,start2,end2 = chapter[j]\n",
    "            if name2 != name1:\n",
    "                potential_edges.append((name1,name2,{'dist':start2-end1}))\n",
    "\n",
    "    edges = {}\n",
    "    for name1,name2,value in potential_edges:\n",
    "        if (name1,name2) not in edges.keys():\n",
    "            if (name2,name1) not in edges.keys():\n",
    "                edges[(name1,name2)] = {'values':[value['dist']]}\n",
    "            else:\n",
    "                edges[(name2,name1)]['values'].append(value['dist'])\n",
    "        else:\n",
    "            edges[(name1,name2)]['values'].append(value['dist'])\n",
    "\n",
    "    for k,v in edges.items():\n",
    "        #edges[k]['weight']=np.percentile(v['values'],10)\n",
    "        edges[k]['weight']=len([a for a in v['values'] if a <1000])\n",
    "    \n",
    "    ready_for_nx = []\n",
    "    for k,v in edges.items():\n",
    "        name1 = k[0]\n",
    "        name2 = k[1]\n",
    "        weight = v['weight']\n",
    "        if weight > 0:\n",
    "            ready_for_nx.append((name1,name2,{'weight':weight}))\n",
    "    return ready_for_nx"
   ]
  },
  {
   "cell_type": "code",
   "execution_count": 57,
   "metadata": {},
   "outputs": [
    {
     "name": "stdout",
     "output_type": "stream",
     "text": [
      "Name: \n",
      "Type: Graph\n",
      "Number of nodes: 27\n",
      "Number of edges: 351\n",
      "Average degree:  26.0000\n"
     ]
    }
   ],
   "source": [
    "print(nx.info(subG)) #node = perso différents #edges = combinaisons le graph garde que la dernier combi entre 2 persos"
   ]
  },
  {
   "cell_type": "code",
   "execution_count": 58,
   "metadata": {},
   "outputs": [
    {
     "name": "stdout",
     "output_type": "stream",
     "text": [
      "Name: \n",
      "Type: Graph\n",
      "Number of nodes: 5520\n",
      "Number of edges: 141918\n",
      "Average degree:  51.4196\n"
     ]
    }
   ],
   "source": [
    "for chapter in characters.values():\n",
    "    GOT.add_edges_from(get_edges_from_chapter(chapter))\n",
    "    \n",
    "print(nx.info(GOT))"
   ]
  },
  {
   "cell_type": "code",
   "execution_count": 59,
   "metadata": {},
   "outputs": [],
   "source": [
    "nx.write_gexf(GOT, 'GOT-version-1.gexf')"
   ]
  },
  {
   "cell_type": "code",
   "execution_count": null,
   "metadata": {},
   "outputs": [],
   "source": []
  },
  {
   "cell_type": "code",
   "execution_count": null,
   "metadata": {},
   "outputs": [],
   "source": []
  }
 ],
 "metadata": {
  "kernelspec": {
   "display_name": "Python 3",
   "language": "python",
   "name": "python3"
  },
  "language_info": {
   "codemirror_mode": {
    "name": "ipython",
    "version": 3
   },
   "file_extension": ".py",
   "mimetype": "text/x-python",
   "name": "python",
   "nbconvert_exporter": "python",
   "pygments_lexer": "ipython3",
   "version": "3.7.1"
  }
 },
 "nbformat": 4,
 "nbformat_minor": 2
}
