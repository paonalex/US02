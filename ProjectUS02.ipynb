{
 "cells": [
  {
   "cell_type": "markdown",
   "metadata": {},
   "source": [
    "# US02 PROJECT"
   ]
  },
  {
   "cell_type": "markdown",
   "metadata": {},
   "source": [
    "For this project we are working on articles and more precisely on 1200 summmaries of articles of the website : https://wasteadvantagemag.com\n",
    "\n",
    "The major goal is to find thanks to summaries which article could be the most interesting if you work and would like to find some data about plastic waste, organic waste, ..."
   ]
  },
  {
   "cell_type": "markdown",
   "metadata": {},
   "source": [
    "The goals of this code are :\n",
    "- Create a graph of the most frequent words in our summaries\n",
    "- Create a Excel file and a data frame on Python to classify : the title, the summary, the link, the category, the words occurrences in summaries of categories such as waste, organic, recyclable, ... A category will be composed of words which are synonyms or can create a category by themselves.\n",
    "- Find the article associated to the summary which contains for example the most occurrences of the category \"organic\"\n",
    "- Apply Word2Vec in order to create vectors of words and obtain a graph on Gephi\n",
    "- Apply a machine learning method called LDA thanks to TFIDF and BagofWords to create some topics and predict in which topic, articles which are not in the training set (allows us to build our model) but in the test set are"
   ]
  },
  {
   "cell_type": "markdown",
   "metadata": {},
   "source": [
    "## Import useful librairies"
   ]
  },
  {
   "cell_type": "code",
   "execution_count": 1,
   "metadata": {},
   "outputs": [],
   "source": [
    "import requests\n",
    "import nltk\n",
    "import random\n",
    "import time\n",
    "from collections import Counter\n",
    "from bs4 import BeautifulSoup\n",
    "import pandas as pd\n",
    "import os\n",
    "import time\n",
    "from pprint import pprint"
   ]
  },
  {
   "cell_type": "markdown",
   "metadata": {},
   "source": [
    "## Recover articles from pages"
   ]
  },
  {
   "cell_type": "code",
   "execution_count": 354,
   "metadata": {},
   "outputs": [],
   "source": [
    "source = []\n",
    "article = []\n",
    "soup = []"
   ]
  },
  {
   "cell_type": "code",
   "execution_count": 355,
   "metadata": {},
   "outputs": [
    {
     "name": "stdout",
     "output_type": "stream",
     "text": [
      "article number 0 done.\n",
      "article number 1 done.\n",
      "article number 2 done.\n",
      "article number 3 done.\n",
      "article number 4 done.\n",
      "article number 5 done.\n",
      "article number 6 done.\n",
      "article number 7 done.\n",
      "article number 8 done.\n",
      "article number 9 done.\n",
      "article number 10 done.\n",
      "article number 11 done.\n",
      "article number 12 done.\n",
      "article number 13 done.\n",
      "article number 14 done.\n",
      "article number 15 done.\n",
      "article number 16 done.\n",
      "article number 17 done.\n",
      "article number 18 done.\n",
      "article number 19 done.\n",
      "article number 20 done.\n",
      "article number 21 done.\n",
      "article number 22 done.\n",
      "article number 23 done.\n",
      "article number 24 done.\n",
      "article number 25 done.\n",
      "article number 26 done.\n",
      "article number 27 done.\n",
      "article number 28 done.\n",
      "article number 29 done.\n",
      "article number 30 done.\n",
      "article number 31 done.\n",
      "article number 32 done.\n",
      "article number 33 done.\n",
      "article number 34 done.\n",
      "article number 35 done.\n",
      "article number 36 done.\n",
      "article number 37 done.\n",
      "article number 38 done.\n",
      "error download\n",
      "article number 40 done.\n",
      "article number 41 done.\n",
      "article number 42 done.\n",
      "article number 43 done.\n",
      "article number 44 done.\n",
      "error download\n",
      "article number 46 done.\n",
      "article number 47 done.\n",
      "article number 48 done.\n",
      "article number 49 done.\n",
      "article number 50 done.\n",
      "article number 51 done.\n",
      "article number 52 done.\n",
      "article number 53 done.\n",
      "article number 54 done.\n",
      "article number 55 done.\n",
      "article number 56 done.\n",
      "article number 57 done.\n",
      "article number 58 done.\n",
      "article number 59 done.\n",
      "article number 60 done.\n",
      "article number 61 done.\n",
      "article number 62 done.\n",
      "article number 63 done.\n",
      "article number 64 done.\n",
      "article number 65 done.\n",
      "article number 66 done.\n",
      "article number 67 done.\n",
      "article number 68 done.\n",
      "article number 69 done.\n",
      "article number 70 done.\n",
      "article number 71 done.\n",
      "article number 72 done.\n",
      "article number 73 done.\n",
      "article number 74 done.\n",
      "article number 75 done.\n",
      "article number 76 done.\n",
      "article number 77 done.\n",
      "article number 78 done.\n",
      "article number 79 done.\n",
      "article number 80 done.\n",
      "article number 81 done.\n",
      "article number 82 done.\n",
      "article number 83 done.\n",
      "article number 84 done.\n",
      "article number 85 done.\n",
      "article number 86 done.\n",
      "article number 87 done.\n",
      "article number 88 done.\n",
      "article number 89 done.\n",
      "article number 90 done.\n",
      "article number 91 done.\n",
      "article number 92 done.\n",
      "article number 93 done.\n",
      "article number 94 done.\n",
      "article number 95 done.\n",
      "article number 96 done.\n",
      "article number 97 done.\n",
      "article number 98 done.\n",
      "article number 99 done.\n"
     ]
    }
   ],
   "source": [
    "for i in range(0, 100):\n",
    "    \n",
    "    url = requests.get('https://wasteadvantagemag.com/news-archive/page/' + str(i+1)).text\n",
    "    source.append(url)\n",
    "    \n",
    "    try:\n",
    "        soup.append(BeautifulSoup(source[i], 'html5lib'))\n",
    "\n",
    "        article.append(soup[i].find_all('div', 'span_8 mobile_9 pad'))\n",
    "        \n",
    "        with open(\"articlesforproject/page_\" + str(i), 'w') as fp: #penser à modifier ou cleaner le dossier\n",
    "            fp.write(str(article[i]))\n",
    "            \n",
    "        print(\"article number \" + str(i) + \" done.\")\n",
    "        \n",
    "        time.sleep(0.2)\n",
    "    except :\n",
    "        print(\"error download\")\n",
    "        #print(i, \" \", url)"
   ]
  },
  {
   "cell_type": "code",
   "execution_count": 288,
   "metadata": {},
   "outputs": [
    {
     "name": "stdout",
     "output_type": "stream",
     "text": [
      "591\n",
      "10\n"
     ]
    }
   ],
   "source": [
    "print(len(soup))\n",
    "print(len(article))"
   ]
  },
  {
   "cell_type": "code",
   "execution_count": 289,
   "metadata": {},
   "outputs": [],
   "source": [
    "n_articles_downloaded = len(os.listdir(path='articlesforproject/'))\n",
    "article_fp = \"\"\n",
    "soup = []\n",
    "for i in range(0, n_articles_downloaded):\n",
    "    with open(\"articlesforproject/page_\" + str(i), 'r') as fp:\n",
    "        soup.append(BeautifulSoup(fp.read(), 'html5lib'))"
   ]
  },
  {
   "cell_type": "markdown",
   "metadata": {},
   "source": [
    "## Other downloading method"
   ]
  },
  {
   "cell_type": "code",
   "execution_count": 242,
   "metadata": {},
   "outputs": [
    {
     "name": "stdout",
     "output_type": "stream",
     "text": [
      "page number 0 done :)\n",
      "page number 1 done :)\n",
      "page number 2 done :)\n",
      "page number 3 done :)\n",
      "page number 4 done :)\n",
      "page number 5 done :)\n",
      "page number 6 done :)\n",
      "page number 7 done :)\n",
      "page number 8 done :)\n",
      "page number 9 done :)\n",
      "page number 10 done :)\n",
      "page number 11 done :)\n",
      "page number 12 done :)\n",
      "page number 13 done :)\n",
      "page number 14 done :)\n",
      "page number 15 done :)\n",
      "page number 16 done :)\n",
      "page number 17 done :)\n",
      "page number 18 done :)\n",
      "page number 19 done :)\n",
      "page number 20 done :)\n",
      "page number 21 done :)\n",
      "page number 22 done :)\n",
      "page number 23 done :)\n",
      "page number 24 done :)\n",
      "page number 25 done :)\n",
      "page number 26 done :)\n",
      "page number 27 done :)\n",
      "page number 28 done :)\n",
      "page number 29 done :)\n",
      "page number 30 done :)\n",
      "page number 31 done :)\n",
      "page number 32 done :)\n",
      "page number 33 done :)\n",
      "page number 34 done :)\n",
      "page number 35 done :)\n",
      "page number 36 done :)\n",
      "page number 37 done :)\n",
      "page number 38 done :)\n",
      "page number 39 done :)\n",
      "page number 40 done :)\n",
      "page number 41 done :)\n",
      "page number 42 done :)\n",
      "page number 43 done :)\n",
      "page number 44 done :)\n",
      "page number 45 done :)\n",
      "page number 46 done :)\n",
      "page number 47 done :)\n",
      "page number 48 done :)\n",
      "page number 49 done :)\n",
      "page number 50 done :)\n",
      "page number 51 done :)\n",
      "page number 52 done :)\n",
      "page number 53 done :)\n",
      "page number 54 done :)\n",
      "page number 55 done :)\n",
      "page number 56 done :)\n",
      "page number 57 done :)\n",
      "page number 58 done :)\n",
      "page number 59 done :)\n",
      "page number 60 done :)\n",
      "page number 61 done :)\n",
      "page number 62 done :)\n",
      "page number 63 done :)\n",
      "page number 64 done :)\n",
      "page number 65 done :)\n",
      "page number 66 done :)\n",
      "page number 67 done :)\n",
      "page number 68 done :)\n",
      "page number 69 done :)\n",
      "page number 70 done :)\n",
      "page number 71 done :)\n",
      "page number 72 done :)\n",
      "page number 73 done :)\n",
      "page number 74 done :)\n",
      "page number 75 done :)\n",
      "page number 76 done :)\n",
      "page number 77 done :)\n",
      "page number 78 done :)\n",
      "page number 79 done :)\n",
      "page number 80 done :)\n",
      "page number 81 done :)\n",
      "page number 82 done :)\n",
      "page number 83 done :)\n",
      "page number 84 done :)\n",
      "page number 85 done :)\n",
      "page number 86 done :)\n",
      "page number 87 done :)\n",
      "page number 88 done :)\n",
      "page number 89 done :)\n",
      "page number 90 done :)\n",
      "page number 91 done :)\n",
      "page number 92 done :)\n",
      "page number 93 done :)\n",
      "page number 94 done :)\n",
      "page number 95 done :)\n",
      "page number 96 done :)\n",
      "page number 97 done :)\n",
      "page number 98 done :)\n",
      "page number 99 done :)\n",
      "100\n"
     ]
    }
   ],
   "source": [
    "source = []\n",
    "article = []\n",
    "soup = []\n",
    "for i in range(100):\n",
    "    url = requests.get('https://wasteadvantagemag.com/news-archive/page/' + str(i+1)).text\n",
    "    source.append(url)\n",
    "\n",
    "    soup.append(BeautifulSoup(source[i], 'html5lib'))\n",
    "\n",
    "    article.append(soup[i].find_all('div', 'span_8 mobile_9 pad'))\n",
    "    time.sleep(0.35)\n",
    "    \n",
    "    print(\"page number \" + str(i) + \" done :)\")\n",
    "\n",
    "print(len(article))"
   ]
  },
  {
   "cell_type": "markdown",
   "metadata": {},
   "source": [
    "# Recover summaries, titles, links, categories, dates\n",
    "## Summary"
   ]
  },
  {
   "cell_type": "code",
   "execution_count": 243,
   "metadata": {},
   "outputs": [
    {
     "name": "stdout",
     "output_type": "stream",
     "text": [
      "['Before the manufacturing process of glass was discovered, the ancient man used naturally occurring glass popularly known as obsidian or volcanic glass. Volcanic glass was used to make knives, jewelry, arrowheads and even money. Pliny, a Roman historian reported that glass was made in first made in Syria around 5000BC. In the following three hundred years, […]', 'Pittsburgh Mayor Bill Peduto unveiled plans to provide thousands more blue recycling bins to city residents in an effort to meet zero waste goals. “As the recycling industry and our climate continue to change, Pittsburgh needs to keep adapting to a stronger culture of waste reduction and material reuse,” Mayor Peduto said. “A strategic plan […]', 'The quantity of waste produced and how park visitors dispose of it (recycling some materials) is a growing concern for park managers. Handling park waste costs money, involves significant effort, and requires human and natural resources that tax parks to the extreme. And with numbers of visitors increasing, managers are looking for strategies to increase […]']\n",
      "1200\n",
      "1200\n"
     ]
    },
    {
     "data": {
      "text/plain": [
       "['before the manufacturing process of glass was discovered, the ancient man used naturally occurring glass popularly known as obsidian or volcanic glass. volcanic glass was used to make knives, jewelry, arrowheads and even money. pliny, a roman historian reported that glass was made in first made in syria around 5000bc. in the following three hundred years, […]',\n",
       " 'pittsburgh mayor bill peduto unveiled plans to provide thousands more blue recycling bins to city residents in an effort to meet zero waste goals. “as the recycling industry and our climate continue to change, pittsburgh needs to keep adapting to a stronger culture of waste reduction and material reuse,” mayor peduto said. “a strategic plan […]',\n",
       " 'the quantity of waste produced and how park visitors dispose of it (recycling some materials) is a growing concern for park managers. handling park waste costs money, involves significant effort, and requires human and natural resources that tax parks to the extreme. and with numbers of visitors increasing, managers are looking for strategies to increase […]']"
      ]
     },
     "execution_count": 243,
     "metadata": {},
     "output_type": "execute_result"
    }
   ],
   "source": [
    "def get_list_article_name(soup):\n",
    "    summary_list = []\n",
    "    for each in soup:\n",
    "        first_step_summary = each.find_all('div', 'span_8 mobile_9 pad')\n",
    "        for each in first_step_summary:\n",
    "            second_step_summary = each.find_all('p')\n",
    "            for each in second_step_summary:\n",
    "                third_step_summary = each.find_all('a')\n",
    "                for articlesummary in third_step_summary:\n",
    "                    summary_test = articlesummary.contents[0]\n",
    "                    summary = str(summary_test).replace('\\xa0',' ')\n",
    "                    summary_list.append(summary)\n",
    "    return summary_list\n",
    "\n",
    "summary_list = get_list_article_name(soup)\n",
    "print(summary_list[0:3])\n",
    "print(len(summary_list))\n",
    "\n",
    "summarylist = []\n",
    "for each in summary_list:\n",
    "    summarylist.append(each.lower())\n",
    "summarylist = list(summarylist)\n",
    "print(len(summarylist))\n",
    "summarylist[0:3]"
   ]
  },
  {
   "cell_type": "markdown",
   "metadata": {},
   "source": [
    "### Number the dictionary\n",
    "Not now a useful part below, just to see in which summary are some words, but it will be useful after"
   ]
  },
  {
   "cell_type": "code",
   "execution_count": 244,
   "metadata": {},
   "outputs": [
    {
     "name": "stdout",
     "output_type": "stream",
     "text": [
      "1199\n"
     ]
    }
   ],
   "source": [
    "number_word = {}\n",
    "c = 0\n",
    "for each in summarylist:\n",
    "    number_word[each] = c\n",
    "    c += 1\n",
    "\n",
    "print(len(number_word))\n",
    "#number_word"
   ]
  },
  {
   "cell_type": "markdown",
   "metadata": {},
   "source": [
    "### Test : show in which summary the word ... is "
   ]
  },
  {
   "cell_type": "code",
   "execution_count": 245,
   "metadata": {},
   "outputs": [
    {
     "name": "stdout",
     "output_type": "stream",
     "text": [
      "[1, 2, 6, 9, 14, 15, 21, 23, 27, 28]\n"
     ]
    }
   ],
   "source": [
    "word_presence = [val  for (k, val) in number_word.items() if not k.find('waste') == -1]\n",
    "print(word_presence[:10])"
   ]
  },
  {
   "cell_type": "markdown",
   "metadata": {},
   "source": [
    "## Title"
   ]
  },
  {
   "cell_type": "code",
   "execution_count": 246,
   "metadata": {},
   "outputs": [
    {
     "name": "stdout",
     "output_type": "stream",
     "text": [
      "1200\n"
     ]
    },
    {
     "data": {
      "text/plain": [
       "['Commentary: Glass Recycling You Should Know: The Most Important Material in the History of Mankind',\n",
       " 'Pittsburgh, PA Mayor Bill Peduto Proposes Recycling Expansion Plan',\n",
       " 'National Trash: Reducing Waste Produced in U.S. National Parks',\n",
       " 'AMP Robotics Announces Largest Deployment of AI Guided Robots for the Recycling Industry',\n",
       " 'Lakeshore Recycling Systems Named Fastest Growing Company by Crain’s Chicago Business',\n",
       " 'California Inches Closer To Banning Sale And Manufacture Of Single-Use Plastics',\n",
       " 'SWANA Supports California Lithium-Ion Battery Fire Prevention Act',\n",
       " 'Plastics Makers Welcome the Introduction of Save of Seas Act 2.0',\n",
       " 'National CleanUp Day Announces Return on September 2',\n",
       " 'Sebastopol, CA Bans Styrofoam Food Containers Amid Growing Alarm About Single-Use Plastics']"
      ]
     },
     "execution_count": 246,
     "metadata": {},
     "output_type": "execute_result"
    }
   ],
   "source": [
    "def get_list_article_name(soup):\n",
    "    titlelist = []\n",
    "    for each in soup:\n",
    "        feed_title = each.find_all('div', 'span_8 mobile_9 pad')\n",
    "        for eachs in feed_title:\n",
    "            debut = eachs.find_all('h3')\n",
    "            for article in debut:\n",
    "                a = article.find_all('a')\n",
    "                for articletitle in a:\n",
    "                    title = articletitle.contents[0]\n",
    "                    titlelist.append(title)\n",
    "    return titlelist\n",
    "titlelist = get_list_article_name(soup)\n",
    "print(len(titlelist))\n",
    "titlelist[:10]"
   ]
  },
  {
   "cell_type": "markdown",
   "metadata": {},
   "source": [
    "## Link"
   ]
  },
  {
   "cell_type": "code",
   "execution_count": 247,
   "metadata": {},
   "outputs": [
    {
     "name": "stdout",
     "output_type": "stream",
     "text": [
      "1200\n"
     ]
    },
    {
     "data": {
      "text/plain": [
       "['https://wasteadvantagemag.com/commentary-glass-recycling-you-should-know-the-most-important-material-in-the-history-of-mankind/',\n",
       " 'https://wasteadvantagemag.com/pittsburgh-pa-mayor-bill-peduto-proposes-recycling-expansion-plan/',\n",
       " 'https://wasteadvantagemag.com/national-trash-reducing-waste-produced-in-u-s-national-parks/',\n",
       " 'https://wasteadvantagemag.com/amp-robotics-announces-largest-deployment-of-ai-guided-robots-for-the-recycling-industry/',\n",
       " 'https://wasteadvantagemag.com/lakeshore-recycling-systems-named-fastest-growing-company-by-crains-chicago-business/',\n",
       " 'https://wasteadvantagemag.com/california-inches-closer-to-banning-sale-and-manufacture-of-single-use-plastics/',\n",
       " 'https://wasteadvantagemag.com/swana-supports-california-lithium-ion-battery-fire-prevention-act/',\n",
       " 'https://wasteadvantagemag.com/plastics-makers-welcome-the-introduction-of-save-of-seas-act-2-0/',\n",
       " 'https://wasteadvantagemag.com/national-cleanup-day-announces-return-on-september-2/',\n",
       " 'https://wasteadvantagemag.com/sebastopol-ca-bans-styrofoam-food-containers-amid-growing-alarm-about-single-use-plastics/']"
      ]
     },
     "execution_count": 247,
     "metadata": {},
     "output_type": "execute_result"
    }
   ],
   "source": [
    "def get_list_article_name(soup):\n",
    "    linklist = []\n",
    "    for each in soup:\n",
    "        feed_title = each.find_all('div', 'span_8 mobile_9 pad')\n",
    "        for eachs in feed_title:\n",
    "            debut = eachs.find_all('h3')\n",
    "            for article in debut:\n",
    "                a = article.find_all('a')\n",
    "                for articletitle in a:\n",
    "                    link = articletitle.get('href')\n",
    "                    linklist.append(link)\n",
    "    return linklist\n",
    "linklist = get_list_article_name(soup)\n",
    "print(len(linklist))\n",
    "linklist[:10]"
   ]
  },
  {
   "cell_type": "markdown",
   "metadata": {},
   "source": [
    "## Category"
   ]
  },
  {
   "cell_type": "code",
   "execution_count": 249,
   "metadata": {},
   "outputs": [
    {
     "name": "stdout",
     "output_type": "stream",
     "text": [
      "1200\n"
     ]
    },
    {
     "data": {
      "text/plain": [
       "['Newsletter Headline',\n",
       " 'Newsletter Headline',\n",
       " 'Newsletter Headline',\n",
       " 'News and Press',\n",
       " 'Collection/Transfer',\n",
       " 'Government and Regulations',\n",
       " 'Collection/Transfer',\n",
       " 'Government and Regulations',\n",
       " 'News and Press',\n",
       " 'News and Press']"
      ]
     },
     "execution_count": 249,
     "metadata": {},
     "output_type": "execute_result"
    }
   ],
   "source": [
    "def get_list_article_name(soup):\n",
    "    categorylist = []\n",
    "    for each in soup:\n",
    "        feed_title = each.find_all('div', 'span_8 mobile_9 pad')\n",
    "        for eachs in feed_title:\n",
    "            debut = eachs.find_all('span', 'desktop meta')\n",
    "            for article in debut:\n",
    "                a = article.find_all('b')\n",
    "                for alex in a:\n",
    "                    b = alex.find_all('a')\n",
    "                    for articletitle in b:\n",
    "                        category = articletitle.contents[0]\n",
    "                    categorylist.append(category)\n",
    "    return categorylist\n",
    "categorylist = get_list_article_name(soup)\n",
    "print(len(categorylist))\n",
    "categorylist[:10]"
   ]
  },
  {
   "cell_type": "markdown",
   "metadata": {},
   "source": [
    "## Date"
   ]
  },
  {
   "cell_type": "code",
   "execution_count": 250,
   "metadata": {},
   "outputs": [
    {
     "name": "stdout",
     "output_type": "stream",
     "text": [
      "1200\n"
     ]
    },
    {
     "data": {
      "text/plain": [
       "['June 28, 2019',\n",
       " 'June 28, 2019',\n",
       " 'June 28, 2019',\n",
       " 'June 28, 2019',\n",
       " 'June 28, 2019',\n",
       " 'June 28, 2019',\n",
       " 'June 27, 2019',\n",
       " 'June 27, 2019',\n",
       " 'June 27, 2019',\n",
       " 'June 25, 2019']"
      ]
     },
     "execution_count": 250,
     "metadata": {},
     "output_type": "execute_result"
    }
   ],
   "source": [
    "def get_list_article_name(soup):\n",
    "    datelist = []\n",
    "    for each in soup:\n",
    "        feed_title = each.find_all('div', 'span_8 mobile_9 pad')\n",
    "        for eachs in feed_title:\n",
    "            debut = eachs.find_all('span', 'desktop meta')\n",
    "            for article in debut:\n",
    "                a = article.find_all('time')\n",
    "                for articletitle in a:\n",
    "                    date = articletitle.contents[0]\n",
    "                datelist.append(date)\n",
    "    return datelist\n",
    "datelist = get_list_article_name(soup)\n",
    "print(len(datelist))\n",
    "datelist[:10]"
   ]
  },
  {
   "cell_type": "markdown",
   "metadata": {},
   "source": [
    "Now we have our summaries, titles, links, categories and dates"
   ]
  },
  {
   "cell_type": "markdown",
   "metadata": {},
   "source": [
    "## Clean the summarylist"
   ]
  },
  {
   "cell_type": "markdown",
   "metadata": {},
   "source": [
    "### Tokenize"
   ]
  },
  {
   "cell_type": "code",
   "execution_count": 251,
   "metadata": {},
   "outputs": [
    {
     "name": "stdout",
     "output_type": "stream",
     "text": [
      "['manufacturing', 'process', 'glass', 'ancient', 'man', 'glass', 'glass', 'glass', 'knives', 'jewelry', 'arrowheads', 'money', 'pliny', 'roman', 'historian', 'glass', 'syria', 'years', '[', '…', ']', 'pittsburgh', 'mayor', 'bill', 'peduto', 'plans', 'thousands', 'bins', 'city', 'residents', 'effort', 'waste', 'goals', 'recycling', 'industry', 'climate', 'continue', 'needs', 'culture', 'waste', 'reduction', 'material', 'reuse', '”', 'mayor', 'peduto', 'plan', '[', '…', ']']\n"
     ]
    }
   ],
   "source": [
    "def get_list_tokens(summarylist):\n",
    "    tokensummarylist = []\n",
    "    for summary in summarylist:\n",
    "        tokens = nltk.word_tokenize(summary)\n",
    "        tags = nltk.pos_tag(tokens)\n",
    "               \n",
    "        for tag in tags :\n",
    "            if tag[1] == 'NN' or tag[1] == 'NNPS' or tag[1] == 'NNS' or tag[1] == 'NNP':\n",
    "                tokensummarylist.append(str(tag[0]))\n",
    "    return tokensummarylist\n",
    "tokensummarylist = get_list_tokens(summarylist)\n",
    "print(tokensummarylist[:50])"
   ]
  },
  {
   "cell_type": "markdown",
   "metadata": {},
   "source": [
    "### Lemmatize"
   ]
  },
  {
   "cell_type": "code",
   "execution_count": 252,
   "metadata": {},
   "outputs": [],
   "source": [
    "from nltk.stem import WordNetLemmatizer"
   ]
  },
  {
   "cell_type": "code",
   "execution_count": 253,
   "metadata": {},
   "outputs": [
    {
     "name": "stderr",
     "output_type": "stream",
     "text": [
      "[nltk_data] Downloading package wordnet to\n",
      "[nltk_data]     C:\\Users\\alexa\\AppData\\Roaming\\nltk_data...\n",
      "[nltk_data]   Package wordnet is already up-to-date!\n"
     ]
    },
    {
     "data": {
      "text/plain": [
       "True"
      ]
     },
     "execution_count": 253,
     "metadata": {},
     "output_type": "execute_result"
    }
   ],
   "source": [
    "import nltk\n",
    "nltk.download('wordnet')"
   ]
  },
  {
   "cell_type": "code",
   "execution_count": 255,
   "metadata": {},
   "outputs": [
    {
     "name": "stdout",
     "output_type": "stream",
     "text": [
      "['manufacturing', 'process', 'glass', 'ancient', 'man', 'glass', 'glass', 'glass', 'knife', 'jewelry', 'arrowhead', 'money', 'pliny', 'roman', 'historian', 'glass', 'syria', 'year', '[', '…', ']', 'pittsburgh', 'mayor', 'bill', 'peduto', 'plan', 'thousand', 'bin', 'city', 'resident', 'effort', 'waste', 'goal', 'recycling', 'industry', 'climate', 'continue', 'need', 'culture', 'waste', 'reduction', 'material', 'reuse', '”', 'mayor', 'peduto', 'plan', '[', '…', ']', 'quantity', 'waste', 'visitor', 'material', 'concern', 'park', 'manager', 'waste', 'cost', 'money', 'effort', 'resource', 'tax', 'park', 'extreme', 'number', 'visitor', 'manager', 'strategy', '[', '…', ']', 'robotics', 'corp.', 'amp', 'expansion', 'robot', 'msw', 'stream', 'recyclers', 'ssr', '’', 's', 'unveiling', 'installation', 'system', 'mrf', 'florida', 'kind', 'state', 'ssr', 'system', 'sr', '[', '…', ']', 'system', 'lr', '’', 's']\n"
     ]
    }
   ],
   "source": [
    "def get_list_lemmatize(tokensummarylist):\n",
    "    lemmatizesummarylist = []\n",
    "    \n",
    "    for words in tokensummarylist:\n",
    "        wordnet_lemmatizer = WordNetLemmatizer()\n",
    "        each = wordnet_lemmatizer.lemmatize(words)\n",
    "        lemmatizesummarylist.append(each)\n",
    "\n",
    "    return lemmatizesummarylist\n",
    "\n",
    "lemmatizesummarylist = get_list_lemmatize(tokensummarylist)\n",
    "\n",
    "print(lemmatizesummarylist[:100])"
   ]
  },
  {
   "cell_type": "markdown",
   "metadata": {},
   "source": [
    "## Last step of cleaning"
   ]
  },
  {
   "cell_type": "code",
   "execution_count": 256,
   "metadata": {},
   "outputs": [
    {
     "name": "stdout",
     "output_type": "stream",
     "text": [
      "48\n",
      "['before', 'the', 'manufacturing', 'process', 'glass', 'was', 'discovered,', 'the', 'ancient', 'man', 'used', 'naturally', 'occurring', 'glass', 'popularly', 'known', 'obsidian', 'volcanic', 'glass', 'volcanic', 'glass', 'was', 'used', 'make', 'knives,', 'jewelry,', 'arrowheads', 'and', 'even', 'money', 'pliny,', 'roman', 'historian', 'reported', 'that', 'glass', 'was', 'made', 'first', 'made', 'syria', 'around', '5000bc', 'the', 'following', 'three', 'hundred', 'years,']\n"
     ]
    }
   ],
   "source": [
    "new_list = []\n",
    "for each in summarylist:\n",
    "    new_list.append([])\n",
    "    new_list[-1] = each.replace('[…]', '').replace('.', '').split(' ') \n",
    "    new_list[-1] = [i for i in new_list[-1] if len(i) > 2]\n",
    "print(len(new_list[0]))\n",
    "print(new_list[0])"
   ]
  },
  {
   "cell_type": "code",
   "execution_count": 257,
   "metadata": {},
   "outputs": [
    {
     "name": "stderr",
     "output_type": "stream",
     "text": [
      "[nltk_data] Downloading package stopwords to\n",
      "[nltk_data]     C:\\Users\\alexa\\AppData\\Roaming\\nltk_data...\n",
      "[nltk_data]   Package stopwords is already up-to-date!\n"
     ]
    },
    {
     "data": {
      "text/plain": [
       "True"
      ]
     },
     "execution_count": 257,
     "metadata": {},
     "output_type": "execute_result"
    }
   ],
   "source": [
    "import nltk\n",
    "nltk.download('stopwords')"
   ]
  },
  {
   "cell_type": "code",
   "execution_count": 258,
   "metadata": {},
   "outputs": [],
   "source": [
    "from nltk.corpus import stopwords"
   ]
  },
  {
   "cell_type": "code",
   "execution_count": 259,
   "metadata": {},
   "outputs": [],
   "source": [
    "stopWords = set(stopwords.words('english'))"
   ]
  },
  {
   "cell_type": "code",
   "execution_count": 260,
   "metadata": {},
   "outputs": [],
   "source": [
    "summarylist_join = \":\".join(lemmatizesummarylist)"
   ]
  },
  {
   "cell_type": "code",
   "execution_count": 261,
   "metadata": {},
   "outputs": [
    {
     "name": "stdout",
     "output_type": "stream",
     "text": [
      "['manufacturing', ':', 'process', ':', 'glass', ':', 'ancient', ':', 'man', ':', 'glass', ':', 'glass', ':', 'glass', ':', 'knife', ':', 'jewelry', ':', 'arrowhead', ':', 'money', ':', 'pliny', ':', 'roman', ':', 'historian', ':', 'glass', ':', 'syria', ':', 'year', ':', '[', ':', '…', ':', ']', ':', 'pittsburgh', ':', 'mayor', ':', 'bill', ':', 'peduto', ':', 'plan', ':', 'thousand', ':', 'bin', ':', 'city', ':', 'resident', ':', 'effort', ':', 'waste', ':', 'goal', ':', 'recycling', ':', 'industry', ':', 'climate', ':', 'continue', ':', 'need', ':', 'culture', ':', 'waste', ':']\n",
      "55019\n"
     ]
    }
   ],
   "source": [
    "from nltk.tokenize import sent_tokenize, word_tokenize\n",
    "words = word_tokenize(summarylist_join)\n",
    "wordsFiltered = []\n",
    "for w in words:\n",
    "    if w not in stopWords:\n",
    "        wordsFiltered.append(w)\n",
    "print(wordsFiltered[0:80])\n",
    "print(len(wordsFiltered))"
   ]
  },
  {
   "cell_type": "code",
   "execution_count": 262,
   "metadata": {},
   "outputs": [
    {
     "name": "stdout",
     "output_type": "stream",
     "text": [
      "1195\n",
      "[['manufacturing', 'process', 'glass', 'ancient', 'man', 'glass', 'glass', 'glass', 'knife', 'jewelry', 'arrowhead', 'money', 'pliny', 'roman', 'historian', 'glass', 'syria', 'year'], ['pittsburgh', 'mayor', 'bill', 'peduto', 'plan', 'thousand', 'bin', 'city', 'resident', 'effort', 'waste', 'goal', 'recycling', 'industry', 'climate', 'continue', 'need', 'culture', 'waste', 'reduction', 'material', 'reuse', 'mayor', 'peduto', 'plan'], ['quantity', 'waste', 'visitor', 'material', 'concern', 'park', 'manager', 'waste', 'cost', 'money', 'effort', 'resource', 'tax', 'park', 'extreme', 'number', 'visitor', 'manager', 'strategy'], ['robotics', 'corp.', 'amp', 'expansion', 'robot', 'msw', 'stream', 'recyclers', 'ssr', 'unveiling', 'installation', 'system', 'mrf', 'florida', 'kind', 'state', 'ssr', 'system', 'sr'], ['system', 'lr', 'company', 'crain', 'announcement', 'friday', 'june', 'crain', 'award', 'luncheon', 'ranking', 'region', 'company', 'business', 'strategy', 'revenue', 'growth', 'lakeshore'], ['california', 'state', 'lawmaker', 'sale', 'distribution', 'plastic', 'item', 'lawmaker', 'california', 'economy', 'pollution', 'reduction', 'act', 'plan', 'onus', 'manufacturer', 'production', 'plastic'], ['waste', 'association', 'america', 'swana', 'legislation', 'program', 'lithium-ion', 'battery', 'california', 'ab', 'lithium-ion', 'battery', 'fire', 'prevention', 'act', 'swana', 'letter', 'need', 'action', 'state', 'senate', 'quality', 'committee', 'hearing', 'legislation', 'july'], ['chemistry', 'council', 'acc', 'senate', 'introduction', 'sea', 'senator', 'sullivan', 'whitehouse', 'effort', 'problem', 'debris', 'passage'], ['cleanup', 'organization', 'co-founders', 'jewett', 'bill', 'question', 'world', 'everyone', 'piece', 'litter', 'year', 'people', 'call', 'cleanup', 'day', 'city', 'beach', 'park'], ['sebastopol', 'ban', 'polystyrene', 'foam', 'food', 'beverage', 'container', 'lead', 'county', 'concern', 'single-use', 'plastic', 'mounting', 'crisis', 'consumer', 'waste', 'ordinance', 'kind', 'county', 'sale', 'use', 'cup', 'burger']]\n"
     ]
    }
   ],
   "source": [
    "words_filtered_list = [[]]\n",
    "for each in wordsFiltered:\n",
    "    if each == ']':\n",
    "        words_filtered_list.append([])\n",
    "    words_filtered_list[-1].append(each)\n",
    "del words_filtered_list[-1]\n",
    "\n",
    "new_list_clean = []\n",
    "for each in words_filtered_list:\n",
    "    new_list_clean.append([])\n",
    "    for v in each:\n",
    "        if len(v) > 1:\n",
    "            new_list_clean[-1].append(v)\n",
    "\n",
    "print(len(new_list_clean))\n",
    "print(new_list_clean[:10])"
   ]
  },
  {
   "cell_type": "markdown",
   "metadata": {},
   "source": [
    "## Show the most common words"
   ]
  },
  {
   "cell_type": "code",
   "execution_count": 263,
   "metadata": {},
   "outputs": [
    {
     "name": "stdout",
     "output_type": "stream",
     "text": [
      "23378\n",
      "['manufacturing', 'process', 'glass', 'ancient', 'man', 'glass', 'glass', 'glass', 'knife', 'jewelry', 'arrowhead', 'money', 'pliny', 'roman', 'historian', 'glass', 'syria', 'year', 'pittsburgh', 'mayor', 'bill', 'peduto', 'plan', 'thousand', 'bin', 'city', 'resident', 'effort', 'waste', 'goal', 'recycling', 'industry', 'climate', 'continue', 'need', 'culture', 'waste', 'reduction', 'material', 'reuse', 'mayor', 'peduto', 'plan', 'quantity', 'waste', 'visitor', 'material', 'concern', 'park', 'manager', 'waste', 'cost', 'money', 'effort', 'resource', 'tax', 'park', 'extreme', 'number', 'visitor', 'manager', 'strategy', 'robotics', 'corp.', 'amp', 'expansion', 'robot', 'msw', 'stream', 'recyclers', 'ssr', 'unveiling', 'installation', 'system', 'mrf', 'florida', 'kind', 'state', 'ssr', 'system', 'sr', 'system', 'lr', 'company', 'crain', 'announcement', 'friday', 'june', 'crain', 'award', 'luncheon', 'ranking', 'region', 'company', 'business', 'strategy', 'revenue', 'growth', 'lakeshore', 'california']\n"
     ]
    }
   ],
   "source": [
    "new_list_clean1 = []\n",
    "for each in new_list_clean:\n",
    "    for i in each:\n",
    "            new_list_clean1.append(i)\n",
    "print(len(new_list_clean1))\n",
    "print(new_list_clean1[0:100])"
   ]
  },
  {
   "cell_type": "code",
   "execution_count": 264,
   "metadata": {},
   "outputs": [
    {
     "name": "stdout",
     "output_type": "stream",
     "text": [
      "4557\n",
      "['shortage', 'pressure', 'longer', 'pulp', 'metro', 'allison', 'smartphones', 'whoosh', 'lee', 'renewables', 'sensor', 'loveland', 'pa', 'art', 'rico', 'event', 'improvement', 'delta', 'reader', 'digestate', 'asbestos', 'recall', 'northwoods', 'aspire', 'cunningham', 'bolger', 'proposal', 'weinberger', 'judy', 'facility', 'greensboro', 'frigid', 'amuref', 'grandfather', 'landmark', 'census', 'reshaping', 'recognition', 'violation', 'celebrate', 'release', 'payne', 'accounting', 'roundtable', 'shutdown', 'teach', 'sharon', 'damage', 'gridlock', 'formula']\n"
     ]
    }
   ],
   "source": [
    "texte = ' '.join(new_list_clean1)\n",
    "list_words = set()\n",
    "for each in new_list_clean1:\n",
    "    list_words.add(each.lower())\n",
    "list_words = list(list_words)\n",
    "\n",
    "print(len(list_words))\n",
    "print(list_words[0:50])"
   ]
  },
  {
   "cell_type": "code",
   "execution_count": 265,
   "metadata": {},
   "outputs": [
    {
     "data": {
      "text/plain": [
       "[('waste', 755),\n",
       " ('year', 288),\n",
       " ('city', 262),\n",
       " ('company', 252),\n",
       " ('plastic', 249),\n",
       " ('industry', 196),\n",
       " ('state', 189),\n",
       " ('service', 185),\n",
       " ('program', 179),\n",
       " ('recycling', 174),\n",
       " ('business', 171),\n",
       " ('food', 158),\n",
       " ('management', 156),\n",
       " ('county', 145),\n",
       " ('material', 141),\n",
       " ('truck', 123),\n",
       " ('landfill', 123),\n",
       " ('facility', 119),\n",
       " ('market', 113),\n",
       " ('technology', 95)]"
      ]
     },
     "execution_count": 265,
     "metadata": {},
     "output_type": "execute_result"
    }
   ],
   "source": [
    "from collections import Counter\n",
    "number_word = Counter(new_list_clean1)\n",
    "number_word_sorted_summary = [(l,k) for k,l in sorted([(j,i) for i,j in number_word.items()], reverse=True)]\n",
    "number_word_sorted_summary[:20]"
   ]
  },
  {
   "cell_type": "code",
   "execution_count": 267,
   "metadata": {},
   "outputs": [
    {
     "data": {
      "text/plain": [
       "[('waste', 755),\n",
       " ('year', 288),\n",
       " ('city', 262),\n",
       " ('company', 252),\n",
       " ('plastic', 249),\n",
       " ('industry', 196),\n",
       " ('state', 189),\n",
       " ('service', 185),\n",
       " ('program', 179),\n",
       " ('recycling', 174),\n",
       " ('business', 171),\n",
       " ('food', 158),\n",
       " ('management', 156)]"
      ]
     },
     "execution_count": 267,
     "metadata": {},
     "output_type": "execute_result"
    }
   ],
   "source": [
    "list_top_words = [each for each in number_word_sorted_summary if each[1] >= 150]\n",
    "list_top_words"
   ]
  },
  {
   "cell_type": "markdown",
   "metadata": {},
   "source": [
    "## Plot the graph"
   ]
  },
  {
   "cell_type": "code",
   "execution_count": 268,
   "metadata": {},
   "outputs": [],
   "source": [
    "import matplotlib.pyplot as plt; plt.rcdefaults()\n",
    "import numpy as np\n",
    "import matplotlib.pyplot as plt"
   ]
  },
  {
   "cell_type": "code",
   "execution_count": 269,
   "metadata": {},
   "outputs": [],
   "source": [
    "df = pd.DataFrame(data = list_top_words)\n",
    "df.columns = ['Words', 'Occurrences']"
   ]
  },
  {
   "cell_type": "code",
   "execution_count": 270,
   "metadata": {},
   "outputs": [
    {
     "data": {
      "text/html": [
       "<div>\n",
       "<style scoped>\n",
       "    .dataframe tbody tr th:only-of-type {\n",
       "        vertical-align: middle;\n",
       "    }\n",
       "\n",
       "    .dataframe tbody tr th {\n",
       "        vertical-align: top;\n",
       "    }\n",
       "\n",
       "    .dataframe thead th {\n",
       "        text-align: right;\n",
       "    }\n",
       "</style>\n",
       "<table border=\"1\" class=\"dataframe\">\n",
       "  <thead>\n",
       "    <tr style=\"text-align: right;\">\n",
       "      <th></th>\n",
       "      <th>Occurrences</th>\n",
       "    </tr>\n",
       "    <tr>\n",
       "      <th>Words</th>\n",
       "      <th></th>\n",
       "    </tr>\n",
       "  </thead>\n",
       "  <tbody>\n",
       "    <tr>\n",
       "      <th>waste</th>\n",
       "      <td>755</td>\n",
       "    </tr>\n",
       "    <tr>\n",
       "      <th>year</th>\n",
       "      <td>288</td>\n",
       "    </tr>\n",
       "    <tr>\n",
       "      <th>city</th>\n",
       "      <td>262</td>\n",
       "    </tr>\n",
       "    <tr>\n",
       "      <th>company</th>\n",
       "      <td>252</td>\n",
       "    </tr>\n",
       "    <tr>\n",
       "      <th>plastic</th>\n",
       "      <td>249</td>\n",
       "    </tr>\n",
       "    <tr>\n",
       "      <th>industry</th>\n",
       "      <td>196</td>\n",
       "    </tr>\n",
       "    <tr>\n",
       "      <th>state</th>\n",
       "      <td>189</td>\n",
       "    </tr>\n",
       "    <tr>\n",
       "      <th>service</th>\n",
       "      <td>185</td>\n",
       "    </tr>\n",
       "    <tr>\n",
       "      <th>program</th>\n",
       "      <td>179</td>\n",
       "    </tr>\n",
       "    <tr>\n",
       "      <th>recycling</th>\n",
       "      <td>174</td>\n",
       "    </tr>\n",
       "    <tr>\n",
       "      <th>business</th>\n",
       "      <td>171</td>\n",
       "    </tr>\n",
       "    <tr>\n",
       "      <th>food</th>\n",
       "      <td>158</td>\n",
       "    </tr>\n",
       "    <tr>\n",
       "      <th>management</th>\n",
       "      <td>156</td>\n",
       "    </tr>\n",
       "  </tbody>\n",
       "</table>\n",
       "</div>"
      ],
      "text/plain": [
       "            Occurrences\n",
       "Words                  \n",
       "waste               755\n",
       "year                288\n",
       "city                262\n",
       "company             252\n",
       "plastic             249\n",
       "industry            196\n",
       "state               189\n",
       "service             185\n",
       "program             179\n",
       "recycling           174\n",
       "business            171\n",
       "food                158\n",
       "management          156"
      ]
     },
     "execution_count": 270,
     "metadata": {},
     "output_type": "execute_result"
    }
   ],
   "source": [
    "df1 = df[['Occurrences', 'Words']].groupby('Words').mean()\n",
    "occurrences = df1.sort_values(by='Occurrences', ascending=0)\n",
    "occurrences"
   ]
  },
  {
   "cell_type": "code",
   "execution_count": 271,
   "metadata": {},
   "outputs": [
    {
     "data": {
      "text/plain": [
       "<BarContainer object of 13 artists>"
      ]
     },
     "execution_count": 271,
     "metadata": {},
     "output_type": "execute_result"
    },
    {
     "data": {
      "image/png": "[encoded data removed]",
      "text/plain": [
       "<Figure size 640x480 with 1 Axes>"
      ]
     },
     "metadata": {
      "image/png": {
       "height": 415,
       "width": 562
      }
     },
     "output_type": "display_data"
    }
   ],
   "source": [
    "plt.bar(x=np.arange(occurrences.size), height=occurrences['Occurrences'])\n",
    "\n",
    "plt.rcdefaults()\n",
    "\n",
    "#plt.bar(x=np.arange(occurrences.size), height=occurrences['Occurrences'])\n",
    "\n",
    "plt.bar(x=np.arange(occurrences.size), height=occurrences['Occurrences'], tick_label=occurrences.index)"
   ]
  },
  {
   "cell_type": "code",
   "execution_count": 272,
   "metadata": {},
   "outputs": [],
   "source": [
    "from IPython.display import set_matplotlib_formats\n",
    "set_matplotlib_formats('retina', quality=100)"
   ]
  },
  {
   "cell_type": "code",
   "execution_count": 273,
   "metadata": {},
   "outputs": [
    {
     "data": {
      "image/png": "[encoded data removed]",
      "text/plain": [
       "<Figure size 1200x600 with 1 Axes>"
      ]
     },
     "metadata": {
      "image/png": {
       "height": 588,
       "width": 1188
      }
     },
     "output_type": "display_data"
    }
   ],
   "source": [
    "# Set default figure size.\n",
    "plt.rcParams['figure.figsize'] = (12, 6)\n",
    "\n",
    "fig, ax = plt.subplots()\n",
    "\n",
    "ax.bar(x=np.arange(occurrences.size), height=occurrences['Occurrences'], tick_label=occurrences.index)\n",
    "\n",
    "# Make the chart fill out the figure better.\n",
    "fig.tight_layout()"
   ]
  },
  {
   "cell_type": "code",
   "execution_count": 274,
   "metadata": {},
   "outputs": [
    {
     "data": {
      "image/png": "[encoded data removed]",
      "text/plain": [
       "<Figure size 1200x600 with 1 Axes>"
      ]
     },
     "metadata": {
      "image/png": {
       "height": 591,
       "width": 1188
      }
     },
     "output_type": "display_data"
    }
   ],
   "source": [
    "fig, ax = plt.subplots()\n",
    "\n",
    "# Save the chart so we can loop through the bars below.\n",
    "bars = ax.bar(\n",
    "    x=np.arange(occurrences.size),\n",
    "    height=occurrences['Occurrences'],\n",
    "    tick_label=occurrences.index)\n",
    "\n",
    "# Axis formatting.\n",
    "ax.spines['top'].set_visible(False)\n",
    "ax.spines['right'].set_visible(False)\n",
    "ax.spines['left'].set_visible(False)\n",
    "ax.spines['bottom'].set_color('#AAAAAA')\n",
    "ax.tick_params(bottom=False, left=False)\n",
    "ax.set_axisbelow(True)\n",
    "ax.yaxis.grid(True, color='#EEEEEE')\n",
    "ax.xaxis.grid(False)\n",
    "\n",
    "# Add text annotations to the top of the bars.\n",
    "bar_color = bars[0].get_facecolor()\n",
    "for bar in bars:\n",
    "  ax.text(\n",
    "      bar.get_x() + bar.get_width() / 2,\n",
    "      bar.get_height() + 10,\n",
    "      round(bar.get_height(), 1),\n",
    "      horizontalalignment='center',\n",
    "      color=bar_color,\n",
    "      weight='bold'\n",
    "  )\n",
    "\n",
    "# Add labels and a title. Note the use of `labelpad` and `pad` to add some\n",
    "ax.set_xlabel('Words', labelpad=15, color='#333333')\n",
    "ax.set_ylabel('Occurrences', labelpad=15, color='#333333')\n",
    "ax.set_title('Occurrences of the most frequent words', pad=15, color='#333333',\n",
    "             weight='bold')\n",
    "\n",
    "plt.xticks(rotation=70)\n",
    "fig.tight_layout()"
   ]
  },
  {
   "cell_type": "markdown",
   "metadata": {},
   "source": [
    "Now, we have our graph of the most common words in our summaries. No surprise here, waste is the most important and the other one are also not surprising and even logical because they are all closely related to waste (plastic, industry, city, company, service,...)"
   ]
  },
  {
   "cell_type": "markdown",
   "metadata": {},
   "source": [
    "## Occurrences of specific categories : with words chosen by myself\n",
    "Four categories :\n",
    "- Organic\n",
    "- Other waste\n",
    "- Recyclable\n",
    "- Hazardous\n",
    "\n",
    "These categories represent the new categories of waste set in Shanghai for the sorting of waste"
   ]
  },
  {
   "cell_type": "markdown",
   "metadata": {},
   "source": [
    "### Organic"
   ]
  },
  {
   "cell_type": "code",
   "execution_count": 276,
   "metadata": {},
   "outputs": [
    {
     "name": "stdout",
     "output_type": "stream",
     "text": [
      "[1, 0, 1, 0, 0, 0, 0, 0, 0, 1]\n",
      "271\n",
      "1200\n"
     ]
    }
   ],
   "source": [
    "def get_list_nouns(summarylist, listText):\n",
    "    countlist_organic = []\n",
    "    for each in listText:\n",
    "        for i,name in enumerate(summarylist):\n",
    "            try:\n",
    "                countlist_organic[i] += name.count(each)\n",
    "            except IndexError:\n",
    "                countlist_organic.append(name.count(each))\n",
    "    return countlist_organic\n",
    "\n",
    "organic_list = get_list_nouns(summarylist, ['organic', 'fruit', 'food', 'natural', 'vegetables']) #words chosen by myself\n",
    "print(organic_list[:10])\n",
    "print(sum(organic_list))\n",
    "print(len(organic_list))"
   ]
  },
  {
   "cell_type": "markdown",
   "metadata": {},
   "source": [
    "### Other waste"
   ]
  },
  {
   "cell_type": "code",
   "execution_count": 278,
   "metadata": {},
   "outputs": [
    {
     "name": "stdout",
     "output_type": "stream",
     "text": [
      "[0, 2, 2, 0, 0, 0, 1, 0, 0, 1]\n",
      "988\n",
      "1200\n"
     ]
    }
   ],
   "source": [
    "def get_list_nouns(summarylist, listText):\n",
    "    countlist_waste= []\n",
    "    for each in listText:\n",
    "        for i,name in enumerate(summarylist):\n",
    "            try:\n",
    "                countlist_waste[i] += name.count(each)\n",
    "            except IndexError:\n",
    "                countlist_waste.append(name.count(each))\n",
    "    return countlist_waste\n",
    "    \n",
    "waste_list = get_list_nouns(summarylist, ['waste', 'trash', 'garbage', 'rubbish'])\n",
    "print(waste_list [:10])\n",
    "print(sum(waste_list))\n",
    "print(len(waste_list))"
   ]
  },
  {
   "cell_type": "markdown",
   "metadata": {},
   "source": [
    "### Recyclable"
   ]
  },
  {
   "cell_type": "code",
   "execution_count": 279,
   "metadata": {},
   "outputs": [
    {
     "name": "stdout",
     "output_type": "stream",
     "text": [
      "[5, 0, 0, 0, 0, 3, 0, 0, 0, 1]\n",
      "373\n",
      "1200\n"
     ]
    }
   ],
   "source": [
    "def get_list_nouns(summarylist, listText):\n",
    "    countlist_recyclable= []\n",
    "    for each in listText:\n",
    "        for i,name in enumerate(summarylist):\n",
    "            try:\n",
    "                countlist_recyclable[i] += name.count(each)\n",
    "            except IndexError:\n",
    "                countlist_recyclable.append(name.count(each))\n",
    "    return countlist_recyclable\n",
    "    \n",
    "recyclable_list = get_list_nouns(summarylist, ['plastic', 'glass'])\n",
    "print(recyclable_list[:10])\n",
    "print(sum(recyclable_list))\n",
    "print(len(recyclable_list))"
   ]
  },
  {
   "cell_type": "markdown",
   "metadata": {},
   "source": [
    "### Hazardous"
   ]
  },
  {
   "cell_type": "code",
   "execution_count": 280,
   "metadata": {},
   "outputs": [
    {
     "name": "stdout",
     "output_type": "stream",
     "text": [
      "[0, 0, 0, 0, 0, 0, 0, 0, 0, 0]\n",
      "101\n",
      "1200\n"
     ]
    }
   ],
   "source": [
    "def get_list_nouns(summarylist, listText):\n",
    "    countlist_hazardous = []\n",
    "    for each in listText:\n",
    "        for i,name in enumerate(summarylist):\n",
    "            try:\n",
    "                countlist_hazardous[i] += name.count(each)\n",
    "            except IndexError:\n",
    "                countlist_hazardous.append(name.count(each))\n",
    "    return countlist_hazardous\n",
    "    \n",
    "hazardous_list = get_list_nouns(summarylist, ['hazardous', 'dangerous', 'harmful', 'risk', 'electronic'])\n",
    "print(hazardous_list[:10])\n",
    "print(sum(hazardous_list))\n",
    "print(len(hazardous_list))"
   ]
  },
  {
   "cell_type": "code",
   "execution_count": 281,
   "metadata": {},
   "outputs": [
    {
     "data": {
      "text/plain": [
       "[('Commentary: Glass Recycling You Should Know: The Most Important Material in the History of Mankind',\n",
       "  'before the manufacturing process of glass was discovered, the ancient man used naturally occurring glass popularly known as obsidian or volcanic glass. volcanic glass was used to make knives, jewelry, arrowheads and even money. pliny, a roman historian reported that glass was made in first made in syria around 5000bc. in the following three hundred years, […]',\n",
       "  'https://wasteadvantagemag.com/commentary-glass-recycling-you-should-know-the-most-important-material-in-the-history-of-mankind/',\n",
       "  'June 28, 2019',\n",
       "  'Newsletter Headline',\n",
       "  0,\n",
       "  1,\n",
       "  5,\n",
       "  0),\n",
       " ('Pittsburgh, PA Mayor Bill Peduto Proposes Recycling Expansion Plan',\n",
       "  'pittsburgh mayor bill peduto unveiled plans to provide thousands more blue recycling bins to city residents in an effort to meet zero waste goals. “as the recycling industry and our climate continue to change, pittsburgh needs to keep adapting to a stronger culture of waste reduction and material reuse,” mayor peduto said. “a strategic plan […]',\n",
       "  'https://wasteadvantagemag.com/pittsburgh-pa-mayor-bill-peduto-proposes-recycling-expansion-plan/',\n",
       "  'June 28, 2019',\n",
       "  'Newsletter Headline',\n",
       "  2,\n",
       "  0,\n",
       "  0,\n",
       "  0),\n",
       " ('National Trash: Reducing Waste Produced in U.S. National Parks',\n",
       "  'the quantity of waste produced and how park visitors dispose of it (recycling some materials) is a growing concern for park managers. handling park waste costs money, involves significant effort, and requires human and natural resources that tax parks to the extreme. and with numbers of visitors increasing, managers are looking for strategies to increase […]',\n",
       "  'https://wasteadvantagemag.com/national-trash-reducing-waste-produced-in-u-s-national-parks/',\n",
       "  'June 28, 2019',\n",
       "  'Newsletter Headline',\n",
       "  2,\n",
       "  1,\n",
       "  0,\n",
       "  0)]"
      ]
     },
     "execution_count": 281,
     "metadata": {},
     "output_type": "execute_result"
    }
   ],
   "source": [
    "i = 0\n",
    "infolist = []\n",
    "for each in summarylist:\n",
    "    infolist.append((titlelist[i], summarylist[i], linklist[i], datelist[i], categorylist[i], waste_list[i], organic_list[i], recyclable_list[i], hazardous_list[i]))\n",
    "    i += 1\n",
    "infolist[:3]"
   ]
  },
  {
   "cell_type": "markdown",
   "metadata": {},
   "source": [
    "## Data Frame Python"
   ]
  },
  {
   "cell_type": "code",
   "execution_count": 283,
   "metadata": {},
   "outputs": [
    {
     "data": {
      "text/html": [
       "<div>\n",
       "<style scoped>\n",
       "    .dataframe tbody tr th:only-of-type {\n",
       "        vertical-align: middle;\n",
       "    }\n",
       "\n",
       "    .dataframe tbody tr th {\n",
       "        vertical-align: top;\n",
       "    }\n",
       "\n",
       "    .dataframe thead th {\n",
       "        text-align: right;\n",
       "    }\n",
       "</style>\n",
       "<table border=\"1\" class=\"dataframe\">\n",
       "  <thead>\n",
       "    <tr style=\"text-align: right;\">\n",
       "      <th></th>\n",
       "      <th>Title</th>\n",
       "      <th>Summary</th>\n",
       "      <th>Link</th>\n",
       "      <th>Date</th>\n",
       "      <th>Category</th>\n",
       "      <th>Other waste occurences</th>\n",
       "      <th>Organic occurences</th>\n",
       "      <th>Recyclable occurences</th>\n",
       "      <th>Hazardous occurences</th>\n",
       "    </tr>\n",
       "  </thead>\n",
       "  <tbody>\n",
       "    <tr>\n",
       "      <th>0</th>\n",
       "      <td>Commentary: Glass Recycling You Should Know: T...</td>\n",
       "      <td>before the manufacturing process of glass was ...</td>\n",
       "      <td>https://wasteadvantagemag.com/commentary-glass...</td>\n",
       "      <td>June 28, 2019</td>\n",
       "      <td>Newsletter Headline</td>\n",
       "      <td>0</td>\n",
       "      <td>1</td>\n",
       "      <td>5</td>\n",
       "      <td>0</td>\n",
       "    </tr>\n",
       "    <tr>\n",
       "      <th>1</th>\n",
       "      <td>Pittsburgh, PA Mayor Bill Peduto Proposes Recy...</td>\n",
       "      <td>pittsburgh mayor bill peduto unveiled plans to...</td>\n",
       "      <td>https://wasteadvantagemag.com/pittsburgh-pa-ma...</td>\n",
       "      <td>June 28, 2019</td>\n",
       "      <td>Newsletter Headline</td>\n",
       "      <td>2</td>\n",
       "      <td>0</td>\n",
       "      <td>0</td>\n",
       "      <td>0</td>\n",
       "    </tr>\n",
       "    <tr>\n",
       "      <th>2</th>\n",
       "      <td>National Trash: Reducing Waste Produced in U.S...</td>\n",
       "      <td>the quantity of waste produced and how park vi...</td>\n",
       "      <td>https://wasteadvantagemag.com/national-trash-r...</td>\n",
       "      <td>June 28, 2019</td>\n",
       "      <td>Newsletter Headline</td>\n",
       "      <td>2</td>\n",
       "      <td>1</td>\n",
       "      <td>0</td>\n",
       "      <td>0</td>\n",
       "    </tr>\n",
       "    <tr>\n",
       "      <th>3</th>\n",
       "      <td>AMP Robotics Announces Largest Deployment of A...</td>\n",
       "      <td>amp robotics corp. (amp) announces the further...</td>\n",
       "      <td>https://wasteadvantagemag.com/amp-robotics-ann...</td>\n",
       "      <td>June 28, 2019</td>\n",
       "      <td>News and Press</td>\n",
       "      <td>0</td>\n",
       "      <td>0</td>\n",
       "      <td>0</td>\n",
       "      <td>0</td>\n",
       "    </tr>\n",
       "    <tr>\n",
       "      <th>4</th>\n",
       "      <td>Lakeshore Recycling Systems Named Fastest Grow...</td>\n",
       "      <td>lakeshore recycling systems (lrs) announces it...</td>\n",
       "      <td>https://wasteadvantagemag.com/lakeshore-recycl...</td>\n",
       "      <td>June 28, 2019</td>\n",
       "      <td>Collection/Transfer</td>\n",
       "      <td>0</td>\n",
       "      <td>0</td>\n",
       "      <td>0</td>\n",
       "      <td>0</td>\n",
       "    </tr>\n",
       "    <tr>\n",
       "      <th>5</th>\n",
       "      <td>California Inches Closer To Banning Sale And M...</td>\n",
       "      <td>california state lawmakers are pursuing phasin...</td>\n",
       "      <td>https://wasteadvantagemag.com/california-inche...</td>\n",
       "      <td>June 28, 2019</td>\n",
       "      <td>Government and Regulations</td>\n",
       "      <td>0</td>\n",
       "      <td>0</td>\n",
       "      <td>3</td>\n",
       "      <td>0</td>\n",
       "    </tr>\n",
       "    <tr>\n",
       "      <th>6</th>\n",
       "      <td>SWANA Supports California Lithium-Ion Battery ...</td>\n",
       "      <td>the solid waste association of north america (...</td>\n",
       "      <td>https://wasteadvantagemag.com/swana-supports-c...</td>\n",
       "      <td>June 27, 2019</td>\n",
       "      <td>Collection/Transfer</td>\n",
       "      <td>1</td>\n",
       "      <td>0</td>\n",
       "      <td>0</td>\n",
       "      <td>0</td>\n",
       "    </tr>\n",
       "    <tr>\n",
       "      <th>7</th>\n",
       "      <td>Plastics Makers Welcome the Introduction of Sa...</td>\n",
       "      <td>the american chemistry council (acc) praised t...</td>\n",
       "      <td>https://wasteadvantagemag.com/plastics-makers-...</td>\n",
       "      <td>June 27, 2019</td>\n",
       "      <td>Government and Regulations</td>\n",
       "      <td>0</td>\n",
       "      <td>0</td>\n",
       "      <td>0</td>\n",
       "      <td>0</td>\n",
       "    </tr>\n",
       "    <tr>\n",
       "      <th>8</th>\n",
       "      <td>National CleanUp Day Announces Return on Septe...</td>\n",
       "      <td>national cleanup dayis a non-profit organizati...</td>\n",
       "      <td>https://wasteadvantagemag.com/national-cleanup...</td>\n",
       "      <td>June 27, 2019</td>\n",
       "      <td>News and Press</td>\n",
       "      <td>0</td>\n",
       "      <td>0</td>\n",
       "      <td>0</td>\n",
       "      <td>0</td>\n",
       "    </tr>\n",
       "    <tr>\n",
       "      <th>9</th>\n",
       "      <td>Sebastopol, CA Bans Styrofoam Food Containers ...</td>\n",
       "      <td>sebastopol is going ahead with a ban on polyst...</td>\n",
       "      <td>https://wasteadvantagemag.com/sebastopol-ca-ba...</td>\n",
       "      <td>June 25, 2019</td>\n",
       "      <td>News and Press</td>\n",
       "      <td>1</td>\n",
       "      <td>1</td>\n",
       "      <td>1</td>\n",
       "      <td>0</td>\n",
       "    </tr>\n",
       "    <tr>\n",
       "      <th>10</th>\n",
       "      <td>New Haven, CT’s Plastic Bag Ban Bounces Forward</td>\n",
       "      <td>at new haven’s regular monthly city plan commi...</td>\n",
       "      <td>https://wasteadvantagemag.com/new-haven-cts-pl...</td>\n",
       "      <td>June 25, 2019</td>\n",
       "      <td>Government and Regulations</td>\n",
       "      <td>0</td>\n",
       "      <td>0</td>\n",
       "      <td>1</td>\n",
       "      <td>0</td>\n",
       "    </tr>\n",
       "    <tr>\n",
       "      <th>11</th>\n",
       "      <td>United Airlines Makes History Flying the Most ...</td>\n",
       "      <td>united airlines, a longstanding leader among a...</td>\n",
       "      <td>https://wasteadvantagemag.com/united-airlines-...</td>\n",
       "      <td>June 25, 2019</td>\n",
       "      <td>Newsletter Headline</td>\n",
       "      <td>0</td>\n",
       "      <td>0</td>\n",
       "      <td>0</td>\n",
       "      <td>0</td>\n",
       "    </tr>\n",
       "    <tr>\n",
       "      <th>12</th>\n",
       "      <td>Michigan Launches $2M Education Campaign to Bo...</td>\n",
       "      <td>michigan has launched a $2 million educational...</td>\n",
       "      <td>https://wasteadvantagemag.com/michigan-launche...</td>\n",
       "      <td>June 25, 2019</td>\n",
       "      <td>Education</td>\n",
       "      <td>0</td>\n",
       "      <td>0</td>\n",
       "      <td>0</td>\n",
       "      <td>0</td>\n",
       "    </tr>\n",
       "    <tr>\n",
       "      <th>13</th>\n",
       "      <td>Recycling in Philadelphia: What to Know About ...</td>\n",
       "      <td>to curb litter, philadelphia began distributin...</td>\n",
       "      <td>https://wasteadvantagemag.com/recycling-in-phi...</td>\n",
       "      <td>June 25, 2019</td>\n",
       "      <td>Newsletter Headline</td>\n",
       "      <td>0</td>\n",
       "      <td>0</td>\n",
       "      <td>0</td>\n",
       "      <td>0</td>\n",
       "    </tr>\n",
       "    <tr>\n",
       "      <th>14</th>\n",
       "      <td>US Ecology and NRC Group Agree to Merge, Expan...</td>\n",
       "      <td>us ecology, inc. announces that it has entered...</td>\n",
       "      <td>https://wasteadvantagemag.com/us-ecology-and-n...</td>\n",
       "      <td>June 25, 2019</td>\n",
       "      <td>Collection/Transfer</td>\n",
       "      <td>1</td>\n",
       "      <td>0</td>\n",
       "      <td>0</td>\n",
       "      <td>0</td>\n",
       "    </tr>\n",
       "    <tr>\n",
       "      <th>15</th>\n",
       "      <td>PDC Plans to Exit Hazardous Waste Treatment Se...</td>\n",
       "      <td>effective january 1, 2020, peoria disposal com...</td>\n",
       "      <td>https://wasteadvantagemag.com/pdc-plans-to-exi...</td>\n",
       "      <td>June 25, 2019</td>\n",
       "      <td>Collection/Transfer</td>\n",
       "      <td>2</td>\n",
       "      <td>0</td>\n",
       "      <td>0</td>\n",
       "      <td>3</td>\n",
       "    </tr>\n",
       "    <tr>\n",
       "      <th>16</th>\n",
       "      <td>HINO Trucks Announces Groundbreaking Transmiss...</td>\n",
       "      <td>hino trucks is taking ownership value to new h...</td>\n",
       "      <td>https://wasteadvantagemag.com/hino-trucks-anno...</td>\n",
       "      <td>June 25, 2019</td>\n",
       "      <td>News and Press</td>\n",
       "      <td>0</td>\n",
       "      <td>0</td>\n",
       "      <td>0</td>\n",
       "      <td>0</td>\n",
       "    </tr>\n",
       "    <tr>\n",
       "      <th>17</th>\n",
       "      <td>Mack Trucks Names Mack Masters Champions</td>\n",
       "      <td>mack trucks put its superheroes of service to ...</td>\n",
       "      <td>https://wasteadvantagemag.com/mack-trucks-name...</td>\n",
       "      <td>June 25, 2019</td>\n",
       "      <td>News and Press</td>\n",
       "      <td>0</td>\n",
       "      <td>0</td>\n",
       "      <td>0</td>\n",
       "      <td>0</td>\n",
       "    </tr>\n",
       "    <tr>\n",
       "      <th>18</th>\n",
       "      <td>How You Can Make Your Appliances More Eco-Frie...</td>\n",
       "      <td>amy hodgetts   no matter how many, alerting he...</td>\n",
       "      <td>https://wasteadvantagemag.com/how-can-you-make...</td>\n",
       "      <td>June 25, 2019</td>\n",
       "      <td>Newsletter Headline</td>\n",
       "      <td>0</td>\n",
       "      <td>0</td>\n",
       "      <td>1</td>\n",
       "      <td>1</td>\n",
       "    </tr>\n",
       "    <tr>\n",
       "      <th>19</th>\n",
       "      <td>MillerCoors Joins The Recycling Partnership to...</td>\n",
       "      <td>millercoors announces that it is joining 44 le...</td>\n",
       "      <td>https://wasteadvantagemag.com/millercoors-join...</td>\n",
       "      <td>June 25, 2019</td>\n",
       "      <td>News and Press</td>\n",
       "      <td>0</td>\n",
       "      <td>0</td>\n",
       "      <td>0</td>\n",
       "      <td>0</td>\n",
       "    </tr>\n",
       "    <tr>\n",
       "      <th>20</th>\n",
       "      <td>Why and How Creative Employees can be an Asset...</td>\n",
       "      <td>the business landscape is evolving. taking the...</td>\n",
       "      <td>https://wasteadvantagemag.com/why-and-how-crea...</td>\n",
       "      <td>June 25, 2019</td>\n",
       "      <td>Management</td>\n",
       "      <td>0</td>\n",
       "      <td>0</td>\n",
       "      <td>0</td>\n",
       "      <td>0</td>\n",
       "    </tr>\n",
       "    <tr>\n",
       "      <th>21</th>\n",
       "      <td>Norfolk, Virginia Selects Rubicon Global For S...</td>\n",
       "      <td>the city of norfolk, virginia announces that i...</td>\n",
       "      <td>https://wasteadvantagemag.com/norfolk-virginia...</td>\n",
       "      <td>June 25, 2019</td>\n",
       "      <td>News and Press</td>\n",
       "      <td>2</td>\n",
       "      <td>0</td>\n",
       "      <td>0</td>\n",
       "      <td>0</td>\n",
       "    </tr>\n",
       "    <tr>\n",
       "      <th>22</th>\n",
       "      <td>Why People Don’t Recycle (and Why They Should)</td>\n",
       "      <td>caitlin purvis   despite its near-constant pre...</td>\n",
       "      <td>https://wasteadvantagemag.com/why-people-dont-...</td>\n",
       "      <td>June 25, 2019</td>\n",
       "      <td>Newsletter Headline</td>\n",
       "      <td>0</td>\n",
       "      <td>0</td>\n",
       "      <td>1</td>\n",
       "      <td>0</td>\n",
       "    </tr>\n",
       "    <tr>\n",
       "      <th>23</th>\n",
       "      <td>3 Ways You Can Declutter, Clean and Make a Pos...</td>\n",
       "      <td>we all want to be better for the environment. ...</td>\n",
       "      <td>https://wasteadvantagemag.com/3-ways-you-can-d...</td>\n",
       "      <td>June 25, 2019</td>\n",
       "      <td>Newsletter Headline</td>\n",
       "      <td>1</td>\n",
       "      <td>0</td>\n",
       "      <td>0</td>\n",
       "      <td>0</td>\n",
       "    </tr>\n",
       "    <tr>\n",
       "      <th>24</th>\n",
       "      <td>How Best Buy Tries to Deal with a Glut of Card...</td>\n",
       "      <td>at best buy’s e-commerce and appliance warehou...</td>\n",
       "      <td>https://wasteadvantagemag.com/how-best-buy-tri...</td>\n",
       "      <td>June 24, 2019</td>\n",
       "      <td>Collection/Transfer</td>\n",
       "      <td>0</td>\n",
       "      <td>0</td>\n",
       "      <td>0</td>\n",
       "      <td>0</td>\n",
       "    </tr>\n",
       "    <tr>\n",
       "      <th>25</th>\n",
       "      <td>Rock Springs, WY City Council Approves Funding...</td>\n",
       "      <td>the ray lovato recycling center will remain op...</td>\n",
       "      <td>https://wasteadvantagemag.com/rock-springs-wy-...</td>\n",
       "      <td>June 24, 2019</td>\n",
       "      <td>Government and Regulations</td>\n",
       "      <td>0</td>\n",
       "      <td>0</td>\n",
       "      <td>0</td>\n",
       "      <td>0</td>\n",
       "    </tr>\n",
       "    <tr>\n",
       "      <th>26</th>\n",
       "      <td>Hilltopper Refuse &amp; Recycling in Wisconsin Lau...</td>\n",
       "      <td>brandon knudtson, refuse and recycling coordin...</td>\n",
       "      <td>https://wasteadvantagemag.com/hilltopper-refus...</td>\n",
       "      <td>June 24, 2019</td>\n",
       "      <td>Collection/Transfer</td>\n",
       "      <td>0</td>\n",
       "      <td>4</td>\n",
       "      <td>0</td>\n",
       "      <td>0</td>\n",
       "    </tr>\n",
       "    <tr>\n",
       "      <th>27</th>\n",
       "      <td>Composting Vermont: One Year Until Food Scraps...</td>\n",
       "      <td>food waste in vermont will be banned from disp...</td>\n",
       "      <td>https://wasteadvantagemag.com/composting-vermo...</td>\n",
       "      <td>June 24, 2019</td>\n",
       "      <td>Compost/Organic Recycling</td>\n",
       "      <td>3</td>\n",
       "      <td>3</td>\n",
       "      <td>0</td>\n",
       "      <td>0</td>\n",
       "    </tr>\n",
       "    <tr>\n",
       "      <th>28</th>\n",
       "      <td>Boston, MA Announces Zero Waste Plan</td>\n",
       "      <td>mayor martin j. walsh announces boston’s first...</td>\n",
       "      <td>https://wasteadvantagemag.com/boston-ma-announ...</td>\n",
       "      <td>June 24, 2019</td>\n",
       "      <td>Newsletter Headline</td>\n",
       "      <td>2</td>\n",
       "      <td>1</td>\n",
       "      <td>0</td>\n",
       "      <td>0</td>\n",
       "    </tr>\n",
       "    <tr>\n",
       "      <th>29</th>\n",
       "      <td>How Artificial Intelligence Helps Recycling Be...</td>\n",
       "      <td>smart robots, sensors and vision systems forti...</td>\n",
       "      <td>https://wasteadvantagemag.com/how-artificial-i...</td>\n",
       "      <td>June 23, 2019</td>\n",
       "      <td>News and Press</td>\n",
       "      <td>0</td>\n",
       "      <td>0</td>\n",
       "      <td>0</td>\n",
       "      <td>0</td>\n",
       "    </tr>\n",
       "    <tr>\n",
       "      <th>...</th>\n",
       "      <td>...</td>\n",
       "      <td>...</td>\n",
       "      <td>...</td>\n",
       "      <td>...</td>\n",
       "      <td>...</td>\n",
       "      <td>...</td>\n",
       "      <td>...</td>\n",
       "      <td>...</td>\n",
       "      <td>...</td>\n",
       "    </tr>\n",
       "    <tr>\n",
       "      <th>1170</th>\n",
       "      <td>Recycling Experts Underscore Importance of Tur...</td>\n",
       "      <td>in the midst of the holiday season, the execut...</td>\n",
       "      <td>https://wasteadvantagemag.com/recycling-expert...</td>\n",
       "      <td>November 28, 2018</td>\n",
       "      <td>Newsletter Headline</td>\n",
       "      <td>0</td>\n",
       "      <td>0</td>\n",
       "      <td>0</td>\n",
       "      <td>0</td>\n",
       "    </tr>\n",
       "    <tr>\n",
       "      <th>1171</th>\n",
       "      <td>Multiple Casinos Working to Reduce Food Waste ...</td>\n",
       "      <td>several casino companies are using methods to ...</td>\n",
       "      <td>https://wasteadvantagemag.com/multiple-casinos...</td>\n",
       "      <td>November 28, 2018</td>\n",
       "      <td>Compost/Organic Recycling</td>\n",
       "      <td>1</td>\n",
       "      <td>3</td>\n",
       "      <td>0</td>\n",
       "      <td>0</td>\n",
       "    </tr>\n",
       "    <tr>\n",
       "      <th>1172</th>\n",
       "      <td>Investigation Tests New Methods of Water Recyc...</td>\n",
       "      <td>life-support technology aboard any spacecraft ...</td>\n",
       "      <td>https://wasteadvantagemag.com/investigation-te...</td>\n",
       "      <td>November 27, 2018</td>\n",
       "      <td>Newsletter Headline</td>\n",
       "      <td>0</td>\n",
       "      <td>0</td>\n",
       "      <td>0</td>\n",
       "      <td>0</td>\n",
       "    </tr>\n",
       "    <tr>\n",
       "      <th>1173</th>\n",
       "      <td>NYC Ban On Some Single-Use Foam Products Goes ...</td>\n",
       "      <td>starting new year’s day, single-service styrof...</td>\n",
       "      <td>https://wasteadvantagemag.com/nyc-ban-on-some-...</td>\n",
       "      <td>November 27, 2018</td>\n",
       "      <td>Government and Regulations</td>\n",
       "      <td>0</td>\n",
       "      <td>0</td>\n",
       "      <td>0</td>\n",
       "      <td>0</td>\n",
       "    </tr>\n",
       "    <tr>\n",
       "      <th>1174</th>\n",
       "      <td>Waste Heat to Power Market Will Be Valued USD ...</td>\n",
       "      <td>according to a new research report by the mark...</td>\n",
       "      <td>https://wasteadvantagemag.com/waste-heat-to-po...</td>\n",
       "      <td>November 27, 2018</td>\n",
       "      <td>Newsletter Headline</td>\n",
       "      <td>2</td>\n",
       "      <td>0</td>\n",
       "      <td>0</td>\n",
       "      <td>0</td>\n",
       "    </tr>\n",
       "    <tr>\n",
       "      <th>1175</th>\n",
       "      <td>International: What Are Clean Air Zones and Ho...</td>\n",
       "      <td>last year, oxford city council announced plans...</td>\n",
       "      <td>https://wasteadvantagemag.com/international-wh...</td>\n",
       "      <td>November 27, 2018</td>\n",
       "      <td>Collection/Transfer</td>\n",
       "      <td>0</td>\n",
       "      <td>0</td>\n",
       "      <td>0</td>\n",
       "      <td>0</td>\n",
       "    </tr>\n",
       "    <tr>\n",
       "      <th>1176</th>\n",
       "      <td>Veolia Facility Recycles Nearly Four Million L...</td>\n",
       "      <td>this month, veolia north america’s ontario lam...</td>\n",
       "      <td>https://wasteadvantagemag.com/veolia-facility-...</td>\n",
       "      <td>November 27, 2018</td>\n",
       "      <td>Newsletter Headline</td>\n",
       "      <td>1</td>\n",
       "      <td>0</td>\n",
       "      <td>0</td>\n",
       "      <td>1</td>\n",
       "    </tr>\n",
       "    <tr>\n",
       "      <th>1177</th>\n",
       "      <td>Redline Emissions Products® Announces New East...</td>\n",
       "      <td>redline emissions products®, a dpf system part...</td>\n",
       "      <td>https://wasteadvantagemag.com/redline-emission...</td>\n",
       "      <td>November 27, 2018</td>\n",
       "      <td>News and Press</td>\n",
       "      <td>0</td>\n",
       "      <td>0</td>\n",
       "      <td>0</td>\n",
       "      <td>0</td>\n",
       "    </tr>\n",
       "    <tr>\n",
       "      <th>1178</th>\n",
       "      <td>EPA Awards $2.4 Million Clean Diesel Grant to ...</td>\n",
       "      <td>maryland environmental service (mes) will rece...</td>\n",
       "      <td>https://wasteadvantagemag.com/epa-awards-2-4-m...</td>\n",
       "      <td>November 27, 2018</td>\n",
       "      <td>Collection/Transfer</td>\n",
       "      <td>0</td>\n",
       "      <td>0</td>\n",
       "      <td>0</td>\n",
       "      <td>0</td>\n",
       "    </tr>\n",
       "    <tr>\n",
       "      <th>1179</th>\n",
       "      <td>Continental Celebrates Opening of Mississippi ...</td>\n",
       "      <td>continental, a leading technology company and ...</td>\n",
       "      <td>https://wasteadvantagemag.com/continental-cele...</td>\n",
       "      <td>November 27, 2018</td>\n",
       "      <td>News and Press</td>\n",
       "      <td>0</td>\n",
       "      <td>0</td>\n",
       "      <td>0</td>\n",
       "      <td>0</td>\n",
       "    </tr>\n",
       "    <tr>\n",
       "      <th>1180</th>\n",
       "      <td>Fuchs Continues to Drive Momentum in North Ame...</td>\n",
       "      <td>fuchs announces the appointment of hoffman equ...</td>\n",
       "      <td>https://wasteadvantagemag.com/fuchs-continues-...</td>\n",
       "      <td>November 26, 2018</td>\n",
       "      <td>News and Press</td>\n",
       "      <td>0</td>\n",
       "      <td>0</td>\n",
       "      <td>0</td>\n",
       "      <td>0</td>\n",
       "    </tr>\n",
       "    <tr>\n",
       "      <th>1181</th>\n",
       "      <td>ecomaine Calls for 2019 Eco-Excellence Award N...</td>\n",
       "      <td>ecomaine has opened its call for nominations f...</td>\n",
       "      <td>https://wasteadvantagemag.com/ecomaine-calls-f...</td>\n",
       "      <td>November 26, 2018</td>\n",
       "      <td>News and Press</td>\n",
       "      <td>1</td>\n",
       "      <td>0</td>\n",
       "      <td>0</td>\n",
       "      <td>0</td>\n",
       "    </tr>\n",
       "    <tr>\n",
       "      <th>1182</th>\n",
       "      <td>Global Household Composters Market 2018-2022</td>\n",
       "      <td>technavio analysts forecast the global househo...</td>\n",
       "      <td>https://wasteadvantagemag.com/global-household...</td>\n",
       "      <td>November 25, 2018</td>\n",
       "      <td>Compost/Organic Recycling</td>\n",
       "      <td>0</td>\n",
       "      <td>0</td>\n",
       "      <td>0</td>\n",
       "      <td>0</td>\n",
       "    </tr>\n",
       "    <tr>\n",
       "      <th>1183</th>\n",
       "      <td>Savannah, GA Facing Increased Recycling Costs ...</td>\n",
       "      <td>as the city of savannah’s curbside recycling c...</td>\n",
       "      <td>https://wasteadvantagemag.com/savannah-ga-faci...</td>\n",
       "      <td>November 25, 2018</td>\n",
       "      <td>Newsletter Headline</td>\n",
       "      <td>0</td>\n",
       "      <td>0</td>\n",
       "      <td>0</td>\n",
       "      <td>0</td>\n",
       "    </tr>\n",
       "    <tr>\n",
       "      <th>1184</th>\n",
       "      <td>What’s Recyclable? Connecticut is Taking Steps...</td>\n",
       "      <td>concerned about recycling confusion, connectic...</td>\n",
       "      <td>https://wasteadvantagemag.com/whats-recyclable...</td>\n",
       "      <td>November 25, 2018</td>\n",
       "      <td>Education</td>\n",
       "      <td>0</td>\n",
       "      <td>0</td>\n",
       "      <td>1</td>\n",
       "      <td>0</td>\n",
       "    </tr>\n",
       "    <tr>\n",
       "      <th>1185</th>\n",
       "      <td>Trawling for Trash: the Brands Turning Plastic...</td>\n",
       "      <td>brands including gucci, stella mccartney and a...</td>\n",
       "      <td>https://wasteadvantagemag.com/trawling-for-tra...</td>\n",
       "      <td>November 25, 2018</td>\n",
       "      <td>Newsletter Headline</td>\n",
       "      <td>1</td>\n",
       "      <td>0</td>\n",
       "      <td>1</td>\n",
       "      <td>0</td>\n",
       "    </tr>\n",
       "    <tr>\n",
       "      <th>1186</th>\n",
       "      <td>Team Effort Puts Kent County, MI on Track for ...</td>\n",
       "      <td>according to the kent county department of pub...</td>\n",
       "      <td>https://wasteadvantagemag.com/team-effort-puts...</td>\n",
       "      <td>November 25, 2018</td>\n",
       "      <td>Collection/Transfer</td>\n",
       "      <td>3</td>\n",
       "      <td>0</td>\n",
       "      <td>0</td>\n",
       "      <td>0</td>\n",
       "    </tr>\n",
       "    <tr>\n",
       "      <th>1187</th>\n",
       "      <td>Cleveland, OH Fines Residents $387,000 for Gar...</td>\n",
       "      <td>during the three months since city council lif...</td>\n",
       "      <td>https://wasteadvantagemag.com/cleveland-oh-fin...</td>\n",
       "      <td>November 25, 2018</td>\n",
       "      <td>Newsletter Headline</td>\n",
       "      <td>1</td>\n",
       "      <td>0</td>\n",
       "      <td>0</td>\n",
       "      <td>0</td>\n",
       "    </tr>\n",
       "    <tr>\n",
       "      <th>1188</th>\n",
       "      <td>Will Those Holiday Gift Boxes Actually Get Rec...</td>\n",
       "      <td>as millions of holiday deliveries head to door...</td>\n",
       "      <td>https://wasteadvantagemag.com/will-those-holid...</td>\n",
       "      <td>November 25, 2018</td>\n",
       "      <td>Newsletter Headline</td>\n",
       "      <td>0</td>\n",
       "      <td>0</td>\n",
       "      <td>0</td>\n",
       "      <td>0</td>\n",
       "    </tr>\n",
       "    <tr>\n",
       "      <th>1189</th>\n",
       "      <td>Salt Lake City’s ‘Recycling Police’ Look at Wh...</td>\n",
       "      <td>jennifer farrell, the waste and education and ...</td>\n",
       "      <td>https://wasteadvantagemag.com/salt-lake-citys-...</td>\n",
       "      <td>November 25, 2018</td>\n",
       "      <td>Collection/Transfer</td>\n",
       "      <td>3</td>\n",
       "      <td>0</td>\n",
       "      <td>0</td>\n",
       "      <td>0</td>\n",
       "    </tr>\n",
       "    <tr>\n",
       "      <th>1190</th>\n",
       "      <td>Expansion Plans for 100 People Over the Next T...</td>\n",
       "      <td>pat breen td, minister of state for trade, emp...</td>\n",
       "      <td>https://wasteadvantagemag.com/expansion-plans-...</td>\n",
       "      <td>November 25, 2018</td>\n",
       "      <td>News and Press</td>\n",
       "      <td>1</td>\n",
       "      <td>0</td>\n",
       "      <td>0</td>\n",
       "      <td>0</td>\n",
       "    </tr>\n",
       "    <tr>\n",
       "      <th>1191</th>\n",
       "      <td>The Trash One Person Produces in One Year</td>\n",
       "      <td>how much trash does america produce? if you di...</td>\n",
       "      <td>https://wasteadvantagemag.com/the-trash-one-pe...</td>\n",
       "      <td>November 23, 2018</td>\n",
       "      <td>Collection/Transfer</td>\n",
       "      <td>5</td>\n",
       "      <td>0</td>\n",
       "      <td>0</td>\n",
       "      <td>0</td>\n",
       "    </tr>\n",
       "    <tr>\n",
       "      <th>1192</th>\n",
       "      <td>How Companies Can Achieve Their ‘Zero Waste to...</td>\n",
       "      <td>the uk and the rest of the world do not curren...</td>\n",
       "      <td>https://wasteadvantagemag.com/how-companies-ca...</td>\n",
       "      <td>November 23, 2018</td>\n",
       "      <td>Newsletter Headline</td>\n",
       "      <td>2</td>\n",
       "      <td>0</td>\n",
       "      <td>0</td>\n",
       "      <td>0</td>\n",
       "    </tr>\n",
       "    <tr>\n",
       "      <th>1193</th>\n",
       "      <td>King County Solid Waste Advisory Committees Ad...</td>\n",
       "      <td>changes could be coming in 2019 to what goes i...</td>\n",
       "      <td>https://wasteadvantagemag.com/king-county-soli...</td>\n",
       "      <td>November 23, 2018</td>\n",
       "      <td>Newsletter Headline</td>\n",
       "      <td>1</td>\n",
       "      <td>0</td>\n",
       "      <td>1</td>\n",
       "      <td>0</td>\n",
       "    </tr>\n",
       "    <tr>\n",
       "      <th>1194</th>\n",
       "      <td>Illinois EPA Unveils New Recycling Guide</td>\n",
       "      <td>illinois epa has launched a new recycling guid...</td>\n",
       "      <td>https://wasteadvantagemag.com/illinois-epa-unv...</td>\n",
       "      <td>November 23, 2018</td>\n",
       "      <td>Government and Regulations</td>\n",
       "      <td>0</td>\n",
       "      <td>0</td>\n",
       "      <td>0</td>\n",
       "      <td>0</td>\n",
       "    </tr>\n",
       "    <tr>\n",
       "      <th>1195</th>\n",
       "      <td>Waste Industry Veteran Danny Ardellini, Almada...</td>\n",
       "      <td>danny ardellini, almada inc. and paul coffey t...</td>\n",
       "      <td>https://wasteadvantagemag.com/waste-industry-v...</td>\n",
       "      <td>November 23, 2018</td>\n",
       "      <td>News and Press</td>\n",
       "      <td>1</td>\n",
       "      <td>0</td>\n",
       "      <td>0</td>\n",
       "      <td>0</td>\n",
       "    </tr>\n",
       "    <tr>\n",
       "      <th>1196</th>\n",
       "      <td>Protect CRV Initiates Cross-functional Task Fo...</td>\n",
       "      <td>protect crv (pcrv) launched a working task for...</td>\n",
       "      <td>https://wasteadvantagemag.com/protect-crv-init...</td>\n",
       "      <td>November 23, 2018</td>\n",
       "      <td>Newsletter Headline</td>\n",
       "      <td>0</td>\n",
       "      <td>0</td>\n",
       "      <td>1</td>\n",
       "      <td>0</td>\n",
       "    </tr>\n",
       "    <tr>\n",
       "      <th>1197</th>\n",
       "      <td>FCC Wins Three New Contracts in Texas</td>\n",
       "      <td>fcc environmental services (the us subsidiary ...</td>\n",
       "      <td>https://wasteadvantagemag.com/fcc-wins-three-n...</td>\n",
       "      <td>November 23, 2018</td>\n",
       "      <td>Collection/Transfer</td>\n",
       "      <td>0</td>\n",
       "      <td>0</td>\n",
       "      <td>0</td>\n",
       "      <td>0</td>\n",
       "    </tr>\n",
       "    <tr>\n",
       "      <th>1198</th>\n",
       "      <td>Meridian Waste Acquires Two C&amp;D Landfills in K...</td>\n",
       "      <td>meridian waste, an integrated, non-hazardous s...</td>\n",
       "      <td>https://wasteadvantagemag.com/meridian-waste-a...</td>\n",
       "      <td>November 23, 2018</td>\n",
       "      <td>Collection/Transfer</td>\n",
       "      <td>2</td>\n",
       "      <td>0</td>\n",
       "      <td>0</td>\n",
       "      <td>1</td>\n",
       "    </tr>\n",
       "    <tr>\n",
       "      <th>1199</th>\n",
       "      <td>Dead Fish to Power Cruise Ships</td>\n",
       "      <td>waste fish parts will be used to power ships i...</td>\n",
       "      <td>https://wasteadvantagemag.com/dead-fish-to-pow...</td>\n",
       "      <td>November 21, 2018</td>\n",
       "      <td>Newsletter Headline</td>\n",
       "      <td>2</td>\n",
       "      <td>2</td>\n",
       "      <td>0</td>\n",
       "      <td>0</td>\n",
       "    </tr>\n",
       "  </tbody>\n",
       "</table>\n",
       "<p>1200 rows × 9 columns</p>\n",
       "</div>"
      ],
      "text/plain": [
       "                                                  Title  \\\n",
       "0     Commentary: Glass Recycling You Should Know: T...   \n",
       "1     Pittsburgh, PA Mayor Bill Peduto Proposes Recy...   \n",
       "2     National Trash: Reducing Waste Produced in U.S...   \n",
       "3     AMP Robotics Announces Largest Deployment of A...   \n",
       "4     Lakeshore Recycling Systems Named Fastest Grow...   \n",
       "5     California Inches Closer To Banning Sale And M...   \n",
       "6     SWANA Supports California Lithium-Ion Battery ...   \n",
       "7     Plastics Makers Welcome the Introduction of Sa...   \n",
       "8     National CleanUp Day Announces Return on Septe...   \n",
       "9     Sebastopol, CA Bans Styrofoam Food Containers ...   \n",
       "10      New Haven, CT’s Plastic Bag Ban Bounces Forward   \n",
       "11    United Airlines Makes History Flying the Most ...   \n",
       "12    Michigan Launches $2M Education Campaign to Bo...   \n",
       "13    Recycling in Philadelphia: What to Know About ...   \n",
       "14    US Ecology and NRC Group Agree to Merge, Expan...   \n",
       "15    PDC Plans to Exit Hazardous Waste Treatment Se...   \n",
       "16    HINO Trucks Announces Groundbreaking Transmiss...   \n",
       "17             Mack Trucks Names Mack Masters Champions   \n",
       "18    How You Can Make Your Appliances More Eco-Frie...   \n",
       "19    MillerCoors Joins The Recycling Partnership to...   \n",
       "20    Why and How Creative Employees can be an Asset...   \n",
       "21    Norfolk, Virginia Selects Rubicon Global For S...   \n",
       "22       Why People Don’t Recycle (and Why They Should)   \n",
       "23    3 Ways You Can Declutter, Clean and Make a Pos...   \n",
       "24    How Best Buy Tries to Deal with a Glut of Card...   \n",
       "25    Rock Springs, WY City Council Approves Funding...   \n",
       "26    Hilltopper Refuse & Recycling in Wisconsin Lau...   \n",
       "27    Composting Vermont: One Year Until Food Scraps...   \n",
       "28                 Boston, MA Announces Zero Waste Plan   \n",
       "29    How Artificial Intelligence Helps Recycling Be...   \n",
       "...                                                 ...   \n",
       "1170  Recycling Experts Underscore Importance of Tur...   \n",
       "1171  Multiple Casinos Working to Reduce Food Waste ...   \n",
       "1172  Investigation Tests New Methods of Water Recyc...   \n",
       "1173  NYC Ban On Some Single-Use Foam Products Goes ...   \n",
       "1174  Waste Heat to Power Market Will Be Valued USD ...   \n",
       "1175  International: What Are Clean Air Zones and Ho...   \n",
       "1176  Veolia Facility Recycles Nearly Four Million L...   \n",
       "1177  Redline Emissions Products® Announces New East...   \n",
       "1178  EPA Awards $2.4 Million Clean Diesel Grant to ...   \n",
       "1179  Continental Celebrates Opening of Mississippi ...   \n",
       "1180  Fuchs Continues to Drive Momentum in North Ame...   \n",
       "1181  ecomaine Calls for 2019 Eco-Excellence Award N...   \n",
       "1182       Global Household Composters Market 2018-2022   \n",
       "1183  Savannah, GA Facing Increased Recycling Costs ...   \n",
       "1184  What’s Recyclable? Connecticut is Taking Steps...   \n",
       "1185  Trawling for Trash: the Brands Turning Plastic...   \n",
       "1186  Team Effort Puts Kent County, MI on Track for ...   \n",
       "1187  Cleveland, OH Fines Residents $387,000 for Gar...   \n",
       "1188  Will Those Holiday Gift Boxes Actually Get Rec...   \n",
       "1189  Salt Lake City’s ‘Recycling Police’ Look at Wh...   \n",
       "1190  Expansion Plans for 100 People Over the Next T...   \n",
       "1191          The Trash One Person Produces in One Year   \n",
       "1192  How Companies Can Achieve Their ‘Zero Waste to...   \n",
       "1193  King County Solid Waste Advisory Committees Ad...   \n",
       "1194           Illinois EPA Unveils New Recycling Guide   \n",
       "1195  Waste Industry Veteran Danny Ardellini, Almada...   \n",
       "1196  Protect CRV Initiates Cross-functional Task Fo...   \n",
       "1197              FCC Wins Three New Contracts in Texas   \n",
       "1198  Meridian Waste Acquires Two C&D Landfills in K...   \n",
       "1199                    Dead Fish to Power Cruise Ships   \n",
       "\n",
       "                                                Summary  \\\n",
       "0     before the manufacturing process of glass was ...   \n",
       "1     pittsburgh mayor bill peduto unveiled plans to...   \n",
       "2     the quantity of waste produced and how park vi...   \n",
       "3     amp robotics corp. (amp) announces the further...   \n",
       "4     lakeshore recycling systems (lrs) announces it...   \n",
       "5     california state lawmakers are pursuing phasin...   \n",
       "6     the solid waste association of north america (...   \n",
       "7     the american chemistry council (acc) praised t...   \n",
       "8     national cleanup dayis a non-profit organizati...   \n",
       "9     sebastopol is going ahead with a ban on polyst...   \n",
       "10    at new haven’s regular monthly city plan commi...   \n",
       "11    united airlines, a longstanding leader among a...   \n",
       "12    michigan has launched a $2 million educational...   \n",
       "13    to curb litter, philadelphia began distributin...   \n",
       "14    us ecology, inc. announces that it has entered...   \n",
       "15    effective january 1, 2020, peoria disposal com...   \n",
       "16    hino trucks is taking ownership value to new h...   \n",
       "17    mack trucks put its superheroes of service to ...   \n",
       "18    amy hodgetts   no matter how many, alerting he...   \n",
       "19    millercoors announces that it is joining 44 le...   \n",
       "20    the business landscape is evolving. taking the...   \n",
       "21    the city of norfolk, virginia announces that i...   \n",
       "22    caitlin purvis   despite its near-constant pre...   \n",
       "23    we all want to be better for the environment. ...   \n",
       "24    at best buy’s e-commerce and appliance warehou...   \n",
       "25    the ray lovato recycling center will remain op...   \n",
       "26    brandon knudtson, refuse and recycling coordin...   \n",
       "27    food waste in vermont will be banned from disp...   \n",
       "28    mayor martin j. walsh announces boston’s first...   \n",
       "29    smart robots, sensors and vision systems forti...   \n",
       "...                                                 ...   \n",
       "1170  in the midst of the holiday season, the execut...   \n",
       "1171  several casino companies are using methods to ...   \n",
       "1172  life-support technology aboard any spacecraft ...   \n",
       "1173  starting new year’s day, single-service styrof...   \n",
       "1174  according to a new research report by the mark...   \n",
       "1175  last year, oxford city council announced plans...   \n",
       "1176  this month, veolia north america’s ontario lam...   \n",
       "1177  redline emissions products®, a dpf system part...   \n",
       "1178  maryland environmental service (mes) will rece...   \n",
       "1179  continental, a leading technology company and ...   \n",
       "1180  fuchs announces the appointment of hoffman equ...   \n",
       "1181  ecomaine has opened its call for nominations f...   \n",
       "1182  technavio analysts forecast the global househo...   \n",
       "1183  as the city of savannah’s curbside recycling c...   \n",
       "1184  concerned about recycling confusion, connectic...   \n",
       "1185  brands including gucci, stella mccartney and a...   \n",
       "1186  according to the kent county department of pub...   \n",
       "1187  during the three months since city council lif...   \n",
       "1188  as millions of holiday deliveries head to door...   \n",
       "1189  jennifer farrell, the waste and education and ...   \n",
       "1190  pat breen td, minister of state for trade, emp...   \n",
       "1191  how much trash does america produce? if you di...   \n",
       "1192  the uk and the rest of the world do not curren...   \n",
       "1193  changes could be coming in 2019 to what goes i...   \n",
       "1194  illinois epa has launched a new recycling guid...   \n",
       "1195  danny ardellini, almada inc. and paul coffey t...   \n",
       "1196  protect crv (pcrv) launched a working task for...   \n",
       "1197  fcc environmental services (the us subsidiary ...   \n",
       "1198  meridian waste, an integrated, non-hazardous s...   \n",
       "1199  waste fish parts will be used to power ships i...   \n",
       "\n",
       "                                                   Link               Date  \\\n",
       "0     https://wasteadvantagemag.com/commentary-glass...      June 28, 2019   \n",
       "1     https://wasteadvantagemag.com/pittsburgh-pa-ma...      June 28, 2019   \n",
       "2     https://wasteadvantagemag.com/national-trash-r...      June 28, 2019   \n",
       "3     https://wasteadvantagemag.com/amp-robotics-ann...      June 28, 2019   \n",
       "4     https://wasteadvantagemag.com/lakeshore-recycl...      June 28, 2019   \n",
       "5     https://wasteadvantagemag.com/california-inche...      June 28, 2019   \n",
       "6     https://wasteadvantagemag.com/swana-supports-c...      June 27, 2019   \n",
       "7     https://wasteadvantagemag.com/plastics-makers-...      June 27, 2019   \n",
       "8     https://wasteadvantagemag.com/national-cleanup...      June 27, 2019   \n",
       "9     https://wasteadvantagemag.com/sebastopol-ca-ba...      June 25, 2019   \n",
       "10    https://wasteadvantagemag.com/new-haven-cts-pl...      June 25, 2019   \n",
       "11    https://wasteadvantagemag.com/united-airlines-...      June 25, 2019   \n",
       "12    https://wasteadvantagemag.com/michigan-launche...      June 25, 2019   \n",
       "13    https://wasteadvantagemag.com/recycling-in-phi...      June 25, 2019   \n",
       "14    https://wasteadvantagemag.com/us-ecology-and-n...      June 25, 2019   \n",
       "15    https://wasteadvantagemag.com/pdc-plans-to-exi...      June 25, 2019   \n",
       "16    https://wasteadvantagemag.com/hino-trucks-anno...      June 25, 2019   \n",
       "17    https://wasteadvantagemag.com/mack-trucks-name...      June 25, 2019   \n",
       "18    https://wasteadvantagemag.com/how-can-you-make...      June 25, 2019   \n",
       "19    https://wasteadvantagemag.com/millercoors-join...      June 25, 2019   \n",
       "20    https://wasteadvantagemag.com/why-and-how-crea...      June 25, 2019   \n",
       "21    https://wasteadvantagemag.com/norfolk-virginia...      June 25, 2019   \n",
       "22    https://wasteadvantagemag.com/why-people-dont-...      June 25, 2019   \n",
       "23    https://wasteadvantagemag.com/3-ways-you-can-d...      June 25, 2019   \n",
       "24    https://wasteadvantagemag.com/how-best-buy-tri...      June 24, 2019   \n",
       "25    https://wasteadvantagemag.com/rock-springs-wy-...      June 24, 2019   \n",
       "26    https://wasteadvantagemag.com/hilltopper-refus...      June 24, 2019   \n",
       "27    https://wasteadvantagemag.com/composting-vermo...      June 24, 2019   \n",
       "28    https://wasteadvantagemag.com/boston-ma-announ...      June 24, 2019   \n",
       "29    https://wasteadvantagemag.com/how-artificial-i...      June 23, 2019   \n",
       "...                                                 ...                ...   \n",
       "1170  https://wasteadvantagemag.com/recycling-expert...  November 28, 2018   \n",
       "1171  https://wasteadvantagemag.com/multiple-casinos...  November 28, 2018   \n",
       "1172  https://wasteadvantagemag.com/investigation-te...  November 27, 2018   \n",
       "1173  https://wasteadvantagemag.com/nyc-ban-on-some-...  November 27, 2018   \n",
       "1174  https://wasteadvantagemag.com/waste-heat-to-po...  November 27, 2018   \n",
       "1175  https://wasteadvantagemag.com/international-wh...  November 27, 2018   \n",
       "1176  https://wasteadvantagemag.com/veolia-facility-...  November 27, 2018   \n",
       "1177  https://wasteadvantagemag.com/redline-emission...  November 27, 2018   \n",
       "1178  https://wasteadvantagemag.com/epa-awards-2-4-m...  November 27, 2018   \n",
       "1179  https://wasteadvantagemag.com/continental-cele...  November 27, 2018   \n",
       "1180  https://wasteadvantagemag.com/fuchs-continues-...  November 26, 2018   \n",
       "1181  https://wasteadvantagemag.com/ecomaine-calls-f...  November 26, 2018   \n",
       "1182  https://wasteadvantagemag.com/global-household...  November 25, 2018   \n",
       "1183  https://wasteadvantagemag.com/savannah-ga-faci...  November 25, 2018   \n",
       "1184  https://wasteadvantagemag.com/whats-recyclable...  November 25, 2018   \n",
       "1185  https://wasteadvantagemag.com/trawling-for-tra...  November 25, 2018   \n",
       "1186  https://wasteadvantagemag.com/team-effort-puts...  November 25, 2018   \n",
       "1187  https://wasteadvantagemag.com/cleveland-oh-fin...  November 25, 2018   \n",
       "1188  https://wasteadvantagemag.com/will-those-holid...  November 25, 2018   \n",
       "1189  https://wasteadvantagemag.com/salt-lake-citys-...  November 25, 2018   \n",
       "1190  https://wasteadvantagemag.com/expansion-plans-...  November 25, 2018   \n",
       "1191  https://wasteadvantagemag.com/the-trash-one-pe...  November 23, 2018   \n",
       "1192  https://wasteadvantagemag.com/how-companies-ca...  November 23, 2018   \n",
       "1193  https://wasteadvantagemag.com/king-county-soli...  November 23, 2018   \n",
       "1194  https://wasteadvantagemag.com/illinois-epa-unv...  November 23, 2018   \n",
       "1195  https://wasteadvantagemag.com/waste-industry-v...  November 23, 2018   \n",
       "1196  https://wasteadvantagemag.com/protect-crv-init...  November 23, 2018   \n",
       "1197  https://wasteadvantagemag.com/fcc-wins-three-n...  November 23, 2018   \n",
       "1198  https://wasteadvantagemag.com/meridian-waste-a...  November 23, 2018   \n",
       "1199  https://wasteadvantagemag.com/dead-fish-to-pow...  November 21, 2018   \n",
       "\n",
       "                        Category  Other waste occurences  Organic occurences  \\\n",
       "0            Newsletter Headline                       0                   1   \n",
       "1            Newsletter Headline                       2                   0   \n",
       "2            Newsletter Headline                       2                   1   \n",
       "3                 News and Press                       0                   0   \n",
       "4            Collection/Transfer                       0                   0   \n",
       "5     Government and Regulations                       0                   0   \n",
       "6            Collection/Transfer                       1                   0   \n",
       "7     Government and Regulations                       0                   0   \n",
       "8                 News and Press                       0                   0   \n",
       "9                 News and Press                       1                   1   \n",
       "10    Government and Regulations                       0                   0   \n",
       "11           Newsletter Headline                       0                   0   \n",
       "12                     Education                       0                   0   \n",
       "13           Newsletter Headline                       0                   0   \n",
       "14           Collection/Transfer                       1                   0   \n",
       "15           Collection/Transfer                       2                   0   \n",
       "16                News and Press                       0                   0   \n",
       "17                News and Press                       0                   0   \n",
       "18           Newsletter Headline                       0                   0   \n",
       "19                News and Press                       0                   0   \n",
       "20                    Management                       0                   0   \n",
       "21                News and Press                       2                   0   \n",
       "22           Newsletter Headline                       0                   0   \n",
       "23           Newsletter Headline                       1                   0   \n",
       "24           Collection/Transfer                       0                   0   \n",
       "25    Government and Regulations                       0                   0   \n",
       "26           Collection/Transfer                       0                   4   \n",
       "27     Compost/Organic Recycling                       3                   3   \n",
       "28           Newsletter Headline                       2                   1   \n",
       "29                News and Press                       0                   0   \n",
       "...                          ...                     ...                 ...   \n",
       "1170         Newsletter Headline                       0                   0   \n",
       "1171   Compost/Organic Recycling                       1                   3   \n",
       "1172         Newsletter Headline                       0                   0   \n",
       "1173  Government and Regulations                       0                   0   \n",
       "1174         Newsletter Headline                       2                   0   \n",
       "1175         Collection/Transfer                       0                   0   \n",
       "1176         Newsletter Headline                       1                   0   \n",
       "1177              News and Press                       0                   0   \n",
       "1178         Collection/Transfer                       0                   0   \n",
       "1179              News and Press                       0                   0   \n",
       "1180              News and Press                       0                   0   \n",
       "1181              News and Press                       1                   0   \n",
       "1182   Compost/Organic Recycling                       0                   0   \n",
       "1183         Newsletter Headline                       0                   0   \n",
       "1184                   Education                       0                   0   \n",
       "1185         Newsletter Headline                       1                   0   \n",
       "1186         Collection/Transfer                       3                   0   \n",
       "1187         Newsletter Headline                       1                   0   \n",
       "1188         Newsletter Headline                       0                   0   \n",
       "1189         Collection/Transfer                       3                   0   \n",
       "1190              News and Press                       1                   0   \n",
       "1191         Collection/Transfer                       5                   0   \n",
       "1192         Newsletter Headline                       2                   0   \n",
       "1193         Newsletter Headline                       1                   0   \n",
       "1194  Government and Regulations                       0                   0   \n",
       "1195              News and Press                       1                   0   \n",
       "1196         Newsletter Headline                       0                   0   \n",
       "1197         Collection/Transfer                       0                   0   \n",
       "1198         Collection/Transfer                       2                   0   \n",
       "1199         Newsletter Headline                       2                   2   \n",
       "\n",
       "      Recyclable occurences  Hazardous occurences  \n",
       "0                         5                     0  \n",
       "1                         0                     0  \n",
       "2                         0                     0  \n",
       "3                         0                     0  \n",
       "4                         0                     0  \n",
       "5                         3                     0  \n",
       "6                         0                     0  \n",
       "7                         0                     0  \n",
       "8                         0                     0  \n",
       "9                         1                     0  \n",
       "10                        1                     0  \n",
       "11                        0                     0  \n",
       "12                        0                     0  \n",
       "13                        0                     0  \n",
       "14                        0                     0  \n",
       "15                        0                     3  \n",
       "16                        0                     0  \n",
       "17                        0                     0  \n",
       "18                        1                     1  \n",
       "19                        0                     0  \n",
       "20                        0                     0  \n",
       "21                        0                     0  \n",
       "22                        1                     0  \n",
       "23                        0                     0  \n",
       "24                        0                     0  \n",
       "25                        0                     0  \n",
       "26                        0                     0  \n",
       "27                        0                     0  \n",
       "28                        0                     0  \n",
       "29                        0                     0  \n",
       "...                     ...                   ...  \n",
       "1170                      0                     0  \n",
       "1171                      0                     0  \n",
       "1172                      0                     0  \n",
       "1173                      0                     0  \n",
       "1174                      0                     0  \n",
       "1175                      0                     0  \n",
       "1176                      0                     1  \n",
       "1177                      0                     0  \n",
       "1178                      0                     0  \n",
       "1179                      0                     0  \n",
       "1180                      0                     0  \n",
       "1181                      0                     0  \n",
       "1182                      0                     0  \n",
       "1183                      0                     0  \n",
       "1184                      1                     0  \n",
       "1185                      1                     0  \n",
       "1186                      0                     0  \n",
       "1187                      0                     0  \n",
       "1188                      0                     0  \n",
       "1189                      0                     0  \n",
       "1190                      0                     0  \n",
       "1191                      0                     0  \n",
       "1192                      0                     0  \n",
       "1193                      1                     0  \n",
       "1194                      0                     0  \n",
       "1195                      0                     0  \n",
       "1196                      1                     0  \n",
       "1197                      0                     0  \n",
       "1198                      0                     1  \n",
       "1199                      0                     0  \n",
       "\n",
       "[1200 rows x 9 columns]"
      ]
     },
     "execution_count": 283,
     "metadata": {},
     "output_type": "execute_result"
    }
   ],
   "source": [
    "df = pd.DataFrame(data = infolist)\n",
    "df.columns = ['Title', 'Summary', 'Link', 'Date', 'Category', 'Other waste occurences', 'Organic occurences', 'Recyclable occurences', 'Hazardous occurences']\n",
    "df"
   ]
  },
  {
   "cell_type": "markdown",
   "metadata": {},
   "source": [
    "## Sort the data frame"
   ]
  },
  {
   "cell_type": "code",
   "execution_count": 285,
   "metadata": {},
   "outputs": [
    {
     "data": {
      "text/html": [
       "<div>\n",
       "<style scoped>\n",
       "    .dataframe tbody tr th:only-of-type {\n",
       "        vertical-align: middle;\n",
       "    }\n",
       "\n",
       "    .dataframe tbody tr th {\n",
       "        vertical-align: top;\n",
       "    }\n",
       "\n",
       "    .dataframe thead th {\n",
       "        text-align: right;\n",
       "    }\n",
       "</style>\n",
       "<table border=\"1\" class=\"dataframe\">\n",
       "  <thead>\n",
       "    <tr style=\"text-align: right;\">\n",
       "      <th></th>\n",
       "      <th>Title</th>\n",
       "      <th>Summary</th>\n",
       "      <th>Link</th>\n",
       "      <th>Date</th>\n",
       "      <th>Category</th>\n",
       "      <th>Other waste occurences</th>\n",
       "      <th>Organic occurences</th>\n",
       "      <th>Recyclable occurences</th>\n",
       "      <th>Hazardous occurences</th>\n",
       "    </tr>\n",
       "  </thead>\n",
       "  <tbody>\n",
       "    <tr>\n",
       "      <th>0</th>\n",
       "      <td>Commentary: Glass Recycling You Should Know: T...</td>\n",
       "      <td>before the manufacturing process of glass was ...</td>\n",
       "      <td>https://wasteadvantagemag.com/commentary-glass...</td>\n",
       "      <td>June 28, 2019</td>\n",
       "      <td>Newsletter Headline</td>\n",
       "      <td>0</td>\n",
       "      <td>1</td>\n",
       "      <td>5</td>\n",
       "      <td>0</td>\n",
       "    </tr>\n",
       "    <tr>\n",
       "      <th>94</th>\n",
       "      <td>Marine Litter Problem is Solvable With a Littl...</td>\n",
       "      <td>today it’s impossible to imagine modern life w...</td>\n",
       "      <td>https://wasteadvantagemag.com/marine-litter-pr...</td>\n",
       "      <td>June 12, 2019</td>\n",
       "      <td>Collection/Transfer</td>\n",
       "      <td>1</td>\n",
       "      <td>2</td>\n",
       "      <td>5</td>\n",
       "      <td>0</td>\n",
       "    </tr>\n",
       "    <tr>\n",
       "      <th>193</th>\n",
       "      <td>Plastic Waste Management Market is Expected to...</td>\n",
       "      <td>plastic waste management involves various acti...</td>\n",
       "      <td>https://wasteadvantagemag.com/plastic-waste-ma...</td>\n",
       "      <td>May 28, 2019</td>\n",
       "      <td>Collection/Transfer</td>\n",
       "      <td>5</td>\n",
       "      <td>0</td>\n",
       "      <td>5</td>\n",
       "      <td>0</td>\n",
       "    </tr>\n",
       "    <tr>\n",
       "      <th>1013</th>\n",
       "      <td>Leveraging Biodegradation and  Composting to D...</td>\n",
       "      <td>governmental incentives and consumer expectati...</td>\n",
       "      <td>https://wasteadvantagemag.com/leveraging-biode...</td>\n",
       "      <td>December 31, 2018</td>\n",
       "      <td>Compost/Organic Recycling</td>\n",
       "      <td>0</td>\n",
       "      <td>0</td>\n",
       "      <td>5</td>\n",
       "      <td>0</td>\n",
       "    </tr>\n",
       "    <tr>\n",
       "      <th>808</th>\n",
       "      <td>PLASTICS Releases Transportation Report, Explo...</td>\n",
       "      <td>the plastics market watch report, released by ...</td>\n",
       "      <td>https://wasteadvantagemag.com/plastics-release...</td>\n",
       "      <td>February 12, 2019</td>\n",
       "      <td>Collection/Transfer</td>\n",
       "      <td>0</td>\n",
       "      <td>0</td>\n",
       "      <td>4</td>\n",
       "      <td>0</td>\n",
       "    </tr>\n",
       "    <tr>\n",
       "      <th>1091</th>\n",
       "      <td>ISWA Joins a New Collaborative H2020 Project t...</td>\n",
       "      <td>plastics deliver value through convenient, ver...</td>\n",
       "      <td>https://wasteadvantagemag.com/iswa-joins-a-new...</td>\n",
       "      <td>December 13, 2018</td>\n",
       "      <td>Newsletter Headline</td>\n",
       "      <td>0</td>\n",
       "      <td>0</td>\n",
       "      <td>4</td>\n",
       "      <td>0</td>\n",
       "    </tr>\n",
       "    <tr>\n",
       "      <th>1068</th>\n",
       "      <td>Plastic Bottle Recycling Resilient in Face of ...</td>\n",
       "      <td>plastic bottle recycling declined slightly in ...</td>\n",
       "      <td>https://wasteadvantagemag.com/plastic-bottle-r...</td>\n",
       "      <td>December 18, 2018</td>\n",
       "      <td>Newsletter Headline</td>\n",
       "      <td>0</td>\n",
       "      <td>0</td>\n",
       "      <td>4</td>\n",
       "      <td>0</td>\n",
       "    </tr>\n",
       "    <tr>\n",
       "      <th>920</th>\n",
       "      <td>Project Expands Glass Recycling in Denver</td>\n",
       "      <td>a six-month glass collection pilot project coo...</td>\n",
       "      <td>https://wasteadvantagemag.com/project-expands-...</td>\n",
       "      <td>January 20, 2019</td>\n",
       "      <td>Newsletter Headline</td>\n",
       "      <td>0</td>\n",
       "      <td>0</td>\n",
       "      <td>4</td>\n",
       "      <td>0</td>\n",
       "    </tr>\n",
       "    <tr>\n",
       "      <th>897</th>\n",
       "      <td>Walmart Canada Makes Milestone Commitment to P...</td>\n",
       "      <td>walmart canada announces the walmart canada ch...</td>\n",
       "      <td>https://wasteadvantagemag.com/walmart-canada-m...</td>\n",
       "      <td>January 24, 2019</td>\n",
       "      <td>Newsletter Headline</td>\n",
       "      <td>2</td>\n",
       "      <td>0</td>\n",
       "      <td>4</td>\n",
       "      <td>0</td>\n",
       "    </tr>\n",
       "    <tr>\n",
       "      <th>823</th>\n",
       "      <td>Expand Connecticut’s Bottle Bill, Reduce Plast...</td>\n",
       "      <td>the amount of plastic produced since 2010 is m...</td>\n",
       "      <td>https://wasteadvantagemag.com/expand-connectic...</td>\n",
       "      <td>February 7, 2019</td>\n",
       "      <td>Collection/Transfer</td>\n",
       "      <td>0</td>\n",
       "      <td>0</td>\n",
       "      <td>4</td>\n",
       "      <td>0</td>\n",
       "    </tr>\n",
       "    <tr>\n",
       "      <th>802</th>\n",
       "      <td>Why Glass Recycling in the U.S. is Broken</td>\n",
       "      <td>americans dispose of some 10 million metric to...</td>\n",
       "      <td>https://wasteadvantagemag.com/why-glass-recycl...</td>\n",
       "      <td>February 12, 2019</td>\n",
       "      <td>Newsletter Headline</td>\n",
       "      <td>1</td>\n",
       "      <td>0</td>\n",
       "      <td>4</td>\n",
       "      <td>0</td>\n",
       "    </tr>\n",
       "    <tr>\n",
       "      <th>88</th>\n",
       "      <td>Ohio Solid Waste District Restarts Glass Recyc...</td>\n",
       "      <td>three years after removing glass from acceptab...</td>\n",
       "      <td>https://wasteadvantagemag.com/ohio-solid-waste...</td>\n",
       "      <td>June 13, 2019</td>\n",
       "      <td>Newsletter Headline</td>\n",
       "      <td>1</td>\n",
       "      <td>0</td>\n",
       "      <td>4</td>\n",
       "      <td>0</td>\n",
       "    </tr>\n",
       "    <tr>\n",
       "      <th>757</th>\n",
       "      <td>California Proposes Phaseout of Single-Use Pla...</td>\n",
       "      <td>california’s proposed legislation was introduc...</td>\n",
       "      <td>https://wasteadvantagemag.com/california-propo...</td>\n",
       "      <td>February 24, 2019</td>\n",
       "      <td>Government and Regulations</td>\n",
       "      <td>0</td>\n",
       "      <td>1</td>\n",
       "      <td>4</td>\n",
       "      <td>0</td>\n",
       "    </tr>\n",
       "    <tr>\n",
       "      <th>585</th>\n",
       "      <td>Europe Bans Single-Use Plastics. And Glitter C...</td>\n",
       "      <td>on wednesday, the e.u. parliament voted to ban...</td>\n",
       "      <td>https://wasteadvantagemag.com/europe-bans-sing...</td>\n",
       "      <td>March 28, 2019</td>\n",
       "      <td>Collection/Transfer</td>\n",
       "      <td>0</td>\n",
       "      <td>0</td>\n",
       "      <td>4</td>\n",
       "      <td>0</td>\n",
       "    </tr>\n",
       "    <tr>\n",
       "      <th>471</th>\n",
       "      <td>The 5 Things You Need to Know About Chemical R...</td>\n",
       "      <td>spurred by the growing number of commitments b...</td>\n",
       "      <td>https://wasteadvantagemag.com/the-5-things-you...</td>\n",
       "      <td>April 17, 2019</td>\n",
       "      <td>Newsletter Headline</td>\n",
       "      <td>1</td>\n",
       "      <td>0</td>\n",
       "      <td>4</td>\n",
       "      <td>0</td>\n",
       "    </tr>\n",
       "    <tr>\n",
       "      <th>467</th>\n",
       "      <td>Glass Recycling Foundation Launched to Support...</td>\n",
       "      <td>the first foundation focused solely on funding...</td>\n",
       "      <td>https://wasteadvantagemag.com/glass-recycling-...</td>\n",
       "      <td>April 17, 2019</td>\n",
       "      <td>Collection/Transfer</td>\n",
       "      <td>0</td>\n",
       "      <td>0</td>\n",
       "      <td>4</td>\n",
       "      <td>0</td>\n",
       "    </tr>\n",
       "    <tr>\n",
       "      <th>404</th>\n",
       "      <td>The Plastics Recycling Conundrum: Technology, ...</td>\n",
       "      <td>since the mid-1950s, when commercial plastics ...</td>\n",
       "      <td>https://wasteadvantagemag.com/the-plastics-rec...</td>\n",
       "      <td>April 25, 2019</td>\n",
       "      <td>Collection/Transfer</td>\n",
       "      <td>0</td>\n",
       "      <td>0</td>\n",
       "      <td>4</td>\n",
       "      <td>0</td>\n",
       "    </tr>\n",
       "    <tr>\n",
       "      <th>1101</th>\n",
       "      <td>Plastics Industry Association Mourns the Passi...</td>\n",
       "      <td>william (bill) r. carteaux, president and ceo ...</td>\n",
       "      <td>https://wasteadvantagemag.com/plastics-industr...</td>\n",
       "      <td>December 11, 2018</td>\n",
       "      <td>News and Press</td>\n",
       "      <td>0</td>\n",
       "      <td>0</td>\n",
       "      <td>4</td>\n",
       "      <td>0</td>\n",
       "    </tr>\n",
       "  </tbody>\n",
       "</table>\n",
       "</div>"
      ],
      "text/plain": [
       "                                                  Title  \\\n",
       "0     Commentary: Glass Recycling You Should Know: T...   \n",
       "94    Marine Litter Problem is Solvable With a Littl...   \n",
       "193   Plastic Waste Management Market is Expected to...   \n",
       "1013  Leveraging Biodegradation and  Composting to D...   \n",
       "808   PLASTICS Releases Transportation Report, Explo...   \n",
       "1091  ISWA Joins a New Collaborative H2020 Project t...   \n",
       "1068  Plastic Bottle Recycling Resilient in Face of ...   \n",
       "920           Project Expands Glass Recycling in Denver   \n",
       "897   Walmart Canada Makes Milestone Commitment to P...   \n",
       "823   Expand Connecticut’s Bottle Bill, Reduce Plast...   \n",
       "802           Why Glass Recycling in the U.S. is Broken   \n",
       "88    Ohio Solid Waste District Restarts Glass Recyc...   \n",
       "757   California Proposes Phaseout of Single-Use Pla...   \n",
       "585   Europe Bans Single-Use Plastics. And Glitter C...   \n",
       "471   The 5 Things You Need to Know About Chemical R...   \n",
       "467   Glass Recycling Foundation Launched to Support...   \n",
       "404   The Plastics Recycling Conundrum: Technology, ...   \n",
       "1101  Plastics Industry Association Mourns the Passi...   \n",
       "\n",
       "                                                Summary  \\\n",
       "0     before the manufacturing process of glass was ...   \n",
       "94    today it’s impossible to imagine modern life w...   \n",
       "193   plastic waste management involves various acti...   \n",
       "1013  governmental incentives and consumer expectati...   \n",
       "808   the plastics market watch report, released by ...   \n",
       "1091  plastics deliver value through convenient, ver...   \n",
       "1068  plastic bottle recycling declined slightly in ...   \n",
       "920   a six-month glass collection pilot project coo...   \n",
       "897   walmart canada announces the walmart canada ch...   \n",
       "823   the amount of plastic produced since 2010 is m...   \n",
       "802   americans dispose of some 10 million metric to...   \n",
       "88    three years after removing glass from acceptab...   \n",
       "757   california’s proposed legislation was introduc...   \n",
       "585   on wednesday, the e.u. parliament voted to ban...   \n",
       "471   spurred by the growing number of commitments b...   \n",
       "467   the first foundation focused solely on funding...   \n",
       "404   since the mid-1950s, when commercial plastics ...   \n",
       "1101  william (bill) r. carteaux, president and ceo ...   \n",
       "\n",
       "                                                   Link               Date  \\\n",
       "0     https://wasteadvantagemag.com/commentary-glass...      June 28, 2019   \n",
       "94    https://wasteadvantagemag.com/marine-litter-pr...      June 12, 2019   \n",
       "193   https://wasteadvantagemag.com/plastic-waste-ma...       May 28, 2019   \n",
       "1013  https://wasteadvantagemag.com/leveraging-biode...  December 31, 2018   \n",
       "808   https://wasteadvantagemag.com/plastics-release...  February 12, 2019   \n",
       "1091  https://wasteadvantagemag.com/iswa-joins-a-new...  December 13, 2018   \n",
       "1068  https://wasteadvantagemag.com/plastic-bottle-r...  December 18, 2018   \n",
       "920   https://wasteadvantagemag.com/project-expands-...   January 20, 2019   \n",
       "897   https://wasteadvantagemag.com/walmart-canada-m...   January 24, 2019   \n",
       "823   https://wasteadvantagemag.com/expand-connectic...   February 7, 2019   \n",
       "802   https://wasteadvantagemag.com/why-glass-recycl...  February 12, 2019   \n",
       "88    https://wasteadvantagemag.com/ohio-solid-waste...      June 13, 2019   \n",
       "757   https://wasteadvantagemag.com/california-propo...  February 24, 2019   \n",
       "585   https://wasteadvantagemag.com/europe-bans-sing...     March 28, 2019   \n",
       "471   https://wasteadvantagemag.com/the-5-things-you...     April 17, 2019   \n",
       "467   https://wasteadvantagemag.com/glass-recycling-...     April 17, 2019   \n",
       "404   https://wasteadvantagemag.com/the-plastics-rec...     April 25, 2019   \n",
       "1101  https://wasteadvantagemag.com/plastics-industr...  December 11, 2018   \n",
       "\n",
       "                        Category  Other waste occurences  Organic occurences  \\\n",
       "0            Newsletter Headline                       0                   1   \n",
       "94           Collection/Transfer                       1                   2   \n",
       "193          Collection/Transfer                       5                   0   \n",
       "1013   Compost/Organic Recycling                       0                   0   \n",
       "808          Collection/Transfer                       0                   0   \n",
       "1091         Newsletter Headline                       0                   0   \n",
       "1068         Newsletter Headline                       0                   0   \n",
       "920          Newsletter Headline                       0                   0   \n",
       "897          Newsletter Headline                       2                   0   \n",
       "823          Collection/Transfer                       0                   0   \n",
       "802          Newsletter Headline                       1                   0   \n",
       "88           Newsletter Headline                       1                   0   \n",
       "757   Government and Regulations                       0                   1   \n",
       "585          Collection/Transfer                       0                   0   \n",
       "471          Newsletter Headline                       1                   0   \n",
       "467          Collection/Transfer                       0                   0   \n",
       "404          Collection/Transfer                       0                   0   \n",
       "1101              News and Press                       0                   0   \n",
       "\n",
       "      Recyclable occurences  Hazardous occurences  \n",
       "0                         5                     0  \n",
       "94                        5                     0  \n",
       "193                       5                     0  \n",
       "1013                      5                     0  \n",
       "808                       4                     0  \n",
       "1091                      4                     0  \n",
       "1068                      4                     0  \n",
       "920                       4                     0  \n",
       "897                       4                     0  \n",
       "823                       4                     0  \n",
       "802                       4                     0  \n",
       "88                        4                     0  \n",
       "757                       4                     0  \n",
       "585                       4                     0  \n",
       "471                       4                     0  \n",
       "467                       4                     0  \n",
       "404                       4                     0  \n",
       "1101                      4                     0  "
      ]
     },
     "execution_count": 285,
     "metadata": {},
     "output_type": "execute_result"
    }
   ],
   "source": [
    "df.loc[df['Recyclable occurences']>3].sort_values(by = 'Recyclable occurences', ascending=0)"
   ]
  },
  {
   "cell_type": "code",
   "execution_count": 286,
   "metadata": {},
   "outputs": [
    {
     "data": {
      "text/html": [
       "<div>\n",
       "<style scoped>\n",
       "    .dataframe tbody tr th:only-of-type {\n",
       "        vertical-align: middle;\n",
       "    }\n",
       "\n",
       "    .dataframe tbody tr th {\n",
       "        vertical-align: top;\n",
       "    }\n",
       "\n",
       "    .dataframe thead th {\n",
       "        text-align: right;\n",
       "    }\n",
       "</style>\n",
       "<table border=\"1\" class=\"dataframe\">\n",
       "  <thead>\n",
       "    <tr style=\"text-align: right;\">\n",
       "      <th></th>\n",
       "      <th>Title</th>\n",
       "      <th>Summary</th>\n",
       "      <th>Link</th>\n",
       "      <th>Date</th>\n",
       "      <th>Category</th>\n",
       "      <th>Other waste occurences</th>\n",
       "      <th>Organic occurences</th>\n",
       "      <th>Recyclable occurences</th>\n",
       "      <th>Hazardous occurences</th>\n",
       "    </tr>\n",
       "  </thead>\n",
       "  <tbody>\n",
       "    <tr>\n",
       "      <th>347</th>\n",
       "      <td>U.S. EPA Honors Food Forward for Leading Food ...</td>\n",
       "      <td>as part of april’s winning on reducing food wa...</td>\n",
       "      <td>https://wasteadvantagemag.com/u-s-epa-honors-f...</td>\n",
       "      <td>May 1, 2019</td>\n",
       "      <td>Collection/Transfer</td>\n",
       "      <td>2</td>\n",
       "      <td>6</td>\n",
       "      <td>0</td>\n",
       "      <td>0</td>\n",
       "    </tr>\n",
       "    <tr>\n",
       "      <th>468</th>\n",
       "      <td>Renewable Natural Gas On-Road Fuel Use Reaches...</td>\n",
       "      <td>natural gas vehicles for america (ngvamerica) ...</td>\n",
       "      <td>https://wasteadvantagemag.com/renewable-natura...</td>\n",
       "      <td>April 17, 2019</td>\n",
       "      <td>News and Press</td>\n",
       "      <td>2</td>\n",
       "      <td>6</td>\n",
       "      <td>0</td>\n",
       "      <td>0</td>\n",
       "    </tr>\n",
       "    <tr>\n",
       "      <th>511</th>\n",
       "      <td>U.S. EPA Honors MGM Resorts’ Bellagio Hotel an...</td>\n",
       "      <td>last month, mgm resorts international (mgm) wa...</td>\n",
       "      <td>https://wasteadvantagemag.com/u-s-epa-honors-m...</td>\n",
       "      <td>April 9, 2019</td>\n",
       "      <td>Compost/Organic Recycling</td>\n",
       "      <td>1</td>\n",
       "      <td>5</td>\n",
       "      <td>0</td>\n",
       "      <td>0</td>\n",
       "    </tr>\n",
       "    <tr>\n",
       "      <th>26</th>\n",
       "      <td>Hilltopper Refuse &amp; Recycling in Wisconsin Lau...</td>\n",
       "      <td>brandon knudtson, refuse and recycling coordin...</td>\n",
       "      <td>https://wasteadvantagemag.com/hilltopper-refus...</td>\n",
       "      <td>June 24, 2019</td>\n",
       "      <td>Collection/Transfer</td>\n",
       "      <td>0</td>\n",
       "      <td>4</td>\n",
       "      <td>0</td>\n",
       "      <td>0</td>\n",
       "    </tr>\n",
       "    <tr>\n",
       "      <th>250</th>\n",
       "      <td>How One Atlanta Startup Solved The Biggest Pro...</td>\n",
       "      <td>goodr is a two-year-old startup that provides ...</td>\n",
       "      <td>https://wasteadvantagemag.com/how-one-atlanta-...</td>\n",
       "      <td>May 17, 2019</td>\n",
       "      <td>Compost/Organic Recycling</td>\n",
       "      <td>3</td>\n",
       "      <td>4</td>\n",
       "      <td>0</td>\n",
       "      <td>0</td>\n",
       "    </tr>\n",
       "    <tr>\n",
       "      <th>279</th>\n",
       "      <td>Organic Food Waste Program Could Return in Pri...</td>\n",
       "      <td>at a community meeting, princeton officials ou...</td>\n",
       "      <td>https://wasteadvantagemag.com/organic-food-was...</td>\n",
       "      <td>May 13, 2019</td>\n",
       "      <td>Compost/Organic Recycling</td>\n",
       "      <td>2</td>\n",
       "      <td>4</td>\n",
       "      <td>0</td>\n",
       "      <td>0</td>\n",
       "    </tr>\n",
       "    <tr>\n",
       "      <th>283</th>\n",
       "      <td>New Laws Aim to Reduce Food Waste in New Jersey</td>\n",
       "      <td>with one in 10 residents in new jersey facing ...</td>\n",
       "      <td>https://wasteadvantagemag.com/new-laws-aim-to-...</td>\n",
       "      <td>May 13, 2019</td>\n",
       "      <td>Collection/Transfer</td>\n",
       "      <td>2</td>\n",
       "      <td>4</td>\n",
       "      <td>0</td>\n",
       "      <td>0</td>\n",
       "    </tr>\n",
       "    <tr>\n",
       "      <th>389</th>\n",
       "      <td>New Collection Program in Hendersonville, NC C...</td>\n",
       "      <td>henderson county environmental programs and th...</td>\n",
       "      <td>https://wasteadvantagemag.com/new-collection-p...</td>\n",
       "      <td>April 29, 2019</td>\n",
       "      <td>Compost/Organic Recycling</td>\n",
       "      <td>2</td>\n",
       "      <td>4</td>\n",
       "      <td>0</td>\n",
       "      <td>0</td>\n",
       "    </tr>\n",
       "    <tr>\n",
       "      <th>648</th>\n",
       "      <td>New York Lawmakers Move to Tackle Food Waste</td>\n",
       "      <td>the new york state senate included the food do...</td>\n",
       "      <td>https://wasteadvantagemag.com/new-york-lawmake...</td>\n",
       "      <td>March 17, 2019</td>\n",
       "      <td>Collection/Transfer</td>\n",
       "      <td>1</td>\n",
       "      <td>4</td>\n",
       "      <td>0</td>\n",
       "      <td>0</td>\n",
       "    </tr>\n",
       "    <tr>\n",
       "      <th>794</th>\n",
       "      <td>Nashville, TN’s Mayor’s Food Saver Challenge S...</td>\n",
       "      <td>up to 40 percent of all food in the u.s. is th...</td>\n",
       "      <td>https://wasteadvantagemag.com/nashville-tns-ma...</td>\n",
       "      <td>February 14, 2019</td>\n",
       "      <td>Compost/Organic Recycling</td>\n",
       "      <td>2</td>\n",
       "      <td>4</td>\n",
       "      <td>0</td>\n",
       "      <td>0</td>\n",
       "    </tr>\n",
       "    <tr>\n",
       "      <th>1059</th>\n",
       "      <td>U.S. EPA Recognizes Food Recovery Efforts in C...</td>\n",
       "      <td>the u.s. environmental protection agency (epa)...</td>\n",
       "      <td>https://wasteadvantagemag.com/u-s-epa-recogniz...</td>\n",
       "      <td>December 21, 2018</td>\n",
       "      <td>Compost/Organic Recycling</td>\n",
       "      <td>2</td>\n",
       "      <td>4</td>\n",
       "      <td>0</td>\n",
       "      <td>0</td>\n",
       "    </tr>\n",
       "  </tbody>\n",
       "</table>\n",
       "</div>"
      ],
      "text/plain": [
       "                                                  Title  \\\n",
       "347   U.S. EPA Honors Food Forward for Leading Food ...   \n",
       "468   Renewable Natural Gas On-Road Fuel Use Reaches...   \n",
       "511   U.S. EPA Honors MGM Resorts’ Bellagio Hotel an...   \n",
       "26    Hilltopper Refuse & Recycling in Wisconsin Lau...   \n",
       "250   How One Atlanta Startup Solved The Biggest Pro...   \n",
       "279   Organic Food Waste Program Could Return in Pri...   \n",
       "283     New Laws Aim to Reduce Food Waste in New Jersey   \n",
       "389   New Collection Program in Hendersonville, NC C...   \n",
       "648        New York Lawmakers Move to Tackle Food Waste   \n",
       "794   Nashville, TN’s Mayor’s Food Saver Challenge S...   \n",
       "1059  U.S. EPA Recognizes Food Recovery Efforts in C...   \n",
       "\n",
       "                                                Summary  \\\n",
       "347   as part of april’s winning on reducing food wa...   \n",
       "468   natural gas vehicles for america (ngvamerica) ...   \n",
       "511   last month, mgm resorts international (mgm) wa...   \n",
       "26    brandon knudtson, refuse and recycling coordin...   \n",
       "250   goodr is a two-year-old startup that provides ...   \n",
       "279   at a community meeting, princeton officials ou...   \n",
       "283   with one in 10 residents in new jersey facing ...   \n",
       "389   henderson county environmental programs and th...   \n",
       "648   the new york state senate included the food do...   \n",
       "794   up to 40 percent of all food in the u.s. is th...   \n",
       "1059  the u.s. environmental protection agency (epa)...   \n",
       "\n",
       "                                                   Link               Date  \\\n",
       "347   https://wasteadvantagemag.com/u-s-epa-honors-f...        May 1, 2019   \n",
       "468   https://wasteadvantagemag.com/renewable-natura...     April 17, 2019   \n",
       "511   https://wasteadvantagemag.com/u-s-epa-honors-m...      April 9, 2019   \n",
       "26    https://wasteadvantagemag.com/hilltopper-refus...      June 24, 2019   \n",
       "250   https://wasteadvantagemag.com/how-one-atlanta-...       May 17, 2019   \n",
       "279   https://wasteadvantagemag.com/organic-food-was...       May 13, 2019   \n",
       "283   https://wasteadvantagemag.com/new-laws-aim-to-...       May 13, 2019   \n",
       "389   https://wasteadvantagemag.com/new-collection-p...     April 29, 2019   \n",
       "648   https://wasteadvantagemag.com/new-york-lawmake...     March 17, 2019   \n",
       "794   https://wasteadvantagemag.com/nashville-tns-ma...  February 14, 2019   \n",
       "1059  https://wasteadvantagemag.com/u-s-epa-recogniz...  December 21, 2018   \n",
       "\n",
       "                       Category  Other waste occurences  Organic occurences  \\\n",
       "347         Collection/Transfer                       2                   6   \n",
       "468              News and Press                       2                   6   \n",
       "511   Compost/Organic Recycling                       1                   5   \n",
       "26          Collection/Transfer                       0                   4   \n",
       "250   Compost/Organic Recycling                       3                   4   \n",
       "279   Compost/Organic Recycling                       2                   4   \n",
       "283         Collection/Transfer                       2                   4   \n",
       "389   Compost/Organic Recycling                       2                   4   \n",
       "648         Collection/Transfer                       1                   4   \n",
       "794   Compost/Organic Recycling                       2                   4   \n",
       "1059  Compost/Organic Recycling                       2                   4   \n",
       "\n",
       "      Recyclable occurences  Hazardous occurences  \n",
       "347                       0                     0  \n",
       "468                       0                     0  \n",
       "511                       0                     0  \n",
       "26                        0                     0  \n",
       "250                       0                     0  \n",
       "279                       0                     0  \n",
       "283                       0                     0  \n",
       "389                       0                     0  \n",
       "648                       0                     0  \n",
       "794                       0                     0  \n",
       "1059                      0                     0  "
      ]
     },
     "execution_count": 286,
     "metadata": {},
     "output_type": "execute_result"
    }
   ],
   "source": [
    "df.loc[df['Organic occurences']>3].sort_values(by = 'Organic occurences', ascending=0)"
   ]
  },
  {
   "cell_type": "markdown",
   "metadata": {},
   "source": [
    "## Excel file creation"
   ]
  },
  {
   "cell_type": "code",
   "execution_count": 287,
   "metadata": {},
   "outputs": [],
   "source": [
    "df.to_excel('DataFrameWasteAdvantageMag.xlsx')\n",
    "#df['Waste occurences'].plot"
   ]
  },
  {
   "cell_type": "markdown",
   "metadata": {},
   "source": [
    "### Recover article which has the most organic occurrences in its summary"
   ]
  },
  {
   "cell_type": "code",
   "execution_count": 288,
   "metadata": {},
   "outputs": [
    {
     "name": "stdout",
     "output_type": "stream",
     "text": [
      "https://wasteadvantagemag.com/u-s-epa-honors-food-forward-for-leading-food-recovery-efforts-nationwide/\n"
     ]
    }
   ],
   "source": [
    "tab_ord = df.loc[df['Organic occurences']>3].sort_values(by = 'Organic occurences', ascending=0)\n",
    "print(list(tab_ord['Link'])[0])"
   ]
  },
  {
   "cell_type": "code",
   "execution_count": 289,
   "metadata": {},
   "outputs": [],
   "source": [
    "source = requests.get(list(tab_ord['Link'])[0]).text\n",
    "soup = BeautifulSoup(source, 'html5lib')"
   ]
  },
  {
   "cell_type": "code",
   "execution_count": 290,
   "metadata": {},
   "outputs": [
    {
     "data": {
      "text/plain": [
       "[<div class=\"post-content\"><p>As part of April’s Winning on Reducing Food Waste Month, the U.S. Environmental Protection Agency (EPA) recognized Food Forward for its outstanding efforts in food recovery. This is the fourth Food Recovery Challenge award received by the nonprofit organization. Food Forward fights hunger and prevents food waste by rescuing fresh, surplus produce and connecting it to those in need via local hunger relief agencies. These nutritious fresh fruits and vegetables come from over 730 backyards, farms, and orchards; 283 farmers at 24 weekly farmers markets; and over 170 wholesale produce vendors.</p><p>“Food Forward is making surplus fresh produce available to people in need,” said <strong>E</strong>PA Pacific Southwest Regional Administrator Mike Stoker. “I’m pleased to recognize this organization’s leaders and the many volunteers and donors who make this possible.”</p><p>“Our volunteers stand on the front lines and distribute healthy, nutritious produce to our recipients. They also help prepare the small amount not fit for consumption for compost,” said Rick Nahmias, Food Forward’s Founder and Executive Director. “It’s truly an honor to dig into these unique collaborations and to take this virtuous circle to completion.”</p><div class=\"desktop\"><div class=\"sad type-large\" data-location=\"post\" data-size=\"large\"><a class=\"holder\"><span class=\"imgPlaceholder\" data-url=\"\"><span class=\"img\" style=\"background-image:url(''); background-position: 50% 50%; background-size: contain;\"><span></span></span><svg height=\"90\" viewBox=\"0 0 970 90\" width=\"970\" xmlns=\"http://www.w3.org/2000/svg\" xmlns:xlink=\"http://www.w3.org/1999/xlink\"></svg></span></a></div></div><div class=\"mobile\"><div class=\"sad type-small\" data-location=\"post\" data-size=\"small\"><a class=\"holder\"><span class=\"imgPlaceholder\" data-url=\"\"><span class=\"img\" style=\"background-image:url(''); background-position: 50% 50%; background-size: contain;\"><span></span></span><svg height=\"100\" viewBox=\"0 0 320 100\" width=\"320\" xmlns=\"http://www.w3.org/2000/svg\" xmlns:xlink=\"http://www.w3.org/1999/xlink\"></svg></span></a></div></div><p>In 2017, Food Forward’s Wholesale Produce Recovery program rescued 17.2 million pounds of perfectly edible fresh fruits and vegetables otherwise destined for landfill, a 25% increase over 2016. This growth allowed the launch of a new model of fruit and vegetable distribution directly to clients – the produce “pop-up.” Food Forward began community-driven produce pop-up distributions in South Los Angeles, Inglewood and Simi Valley, California, once or twice a month in partnership with local agencies (Watts Labor Community Action Committee, Social Justice Learning Institute, and Simi Valley Community Garden).</p><p>Over the course of 2017, Food Forward recovered and donated over 300,000 pounds of surplus produce to those in need through this innovative model, free of charge. The organization overcame the challenges of engaging and coordinating hundreds of community volunteers to sort and distribute food in a pop-up setting, transporting 7,000-15,000 pounds of eight different types of fruits and vegetables to each distribution event, and educating their service communities about food rescue.</p><p>EPA’s Food Recovery Challenge partners with over 1,000 organizations and businesses to prevent and reduce wasted food. The participants include groups such as grocers, educational institutions, sports and entertainment venues, restaurants and hotels. The program saves money, helps communities reduce hunger, and protects the environment by purchasing less, donating extra food and composting.</p><p>In 2017, participants prevented or diverted almost 648,000 tons of food from entering landfills or incinerators, saving participants up to $31.2 million in avoided landfill tipping fees.</p><div class=\"desktop\"><div class=\"sad type-large\" data-location=\"post\" data-size=\"large\"><a class=\"holder\"><span class=\"imgPlaceholder\" data-url=\"\"><span class=\"img\" style=\"background-image:url(''); background-position: 50% 50%; background-size: contain;\"><span></span></span><svg height=\"90\" viewBox=\"0 0 970 90\" width=\"970\" xmlns=\"http://www.w3.org/2000/svg\" xmlns:xlink=\"http://www.w3.org/1999/xlink\"></svg></span></a></div></div><div class=\"mobile\"><div class=\"sad type-small\" data-location=\"post\" data-size=\"small\"><a class=\"holder\"><span class=\"imgPlaceholder\" data-url=\"\"><span class=\"img\" style=\"background-image:url(''); background-position: 50% 50%; background-size: contain;\"><span></span></span><svg height=\"100\" viewBox=\"0 0 320 100\" width=\"320\" xmlns=\"http://www.w3.org/2000/svg\" xmlns:xlink=\"http://www.w3.org/1999/xlink\"></svg></span></a></div></div><h5><em>For more information, visit <a href=\"https://www.epa.gov/sustainable-management-food\">www.epa.gov/foodrecoverychallenge</a>.</em></h5><p></p></div>]"
      ]
     },
     "execution_count": 290,
     "metadata": {},
     "output_type": "execute_result"
    }
   ],
   "source": [
    "article = soup.find_all('div', 'post-content')\n",
    "article"
   ]
  },
  {
   "cell_type": "markdown",
   "metadata": {},
   "source": [
    "Thanks to the link you are now able to find the article which is supposed to be the most linked with organic waste for example\n",
    "\n",
    "We have also the html of this article and we could have done the same job as before with articles rather than summaries"
   ]
  },
  {
   "cell_type": "markdown",
   "metadata": {},
   "source": [
    "# Topic modeling\n",
    "## Word2Vec\n",
    "Word2vec is a group of related models that are used to produce word embeddings. Word2vec produces one vector per word. It helps in identifying content and subsets of content.\n",
    "## TF-IDF\n",
    "TFIDF is short for term frequency–inverse document frequency, is a numerical statistic that is intended to reflect how important a word is to a document in a collection or corpus.It is often used as user modeling. TFIDF produces a score. TFIDF is a way to judge the topic of an article. This is done by the kind of words it contains. Here words are given weight so it measures relevance, not frequency."
   ]
  },
  {
   "cell_type": "code",
   "execution_count": 291,
   "metadata": {},
   "outputs": [
    {
     "data": {
      "text/plain": [
       "'before the manufacturing process of glass was discovered, the ancient man used naturally occurring glass popularly known as obsidian or volcanic glass. volcanic glass was used to make knives, jewelry, arrowheads and even money. pliny, a roman historian reported that glass was made in first made in syria around 5000bc. in the following three hundred years, […]'"
      ]
     },
     "execution_count": 291,
     "metadata": {},
     "output_type": "execute_result"
    }
   ],
   "source": [
    "summarylist[0]"
   ]
  },
  {
   "cell_type": "markdown",
   "metadata": {},
   "source": [
    "## Creation of training set (2/3 of the data set)"
   ]
  },
  {
   "cell_type": "code",
   "execution_count": 292,
   "metadata": {},
   "outputs": [
    {
     "data": {
      "text/plain": [
       "797"
      ]
     },
     "execution_count": 292,
     "metadata": {},
     "output_type": "execute_result"
    }
   ],
   "source": [
    "a = int(round(2/3*len(new_list_clean)))\n",
    "a"
   ]
  },
  {
   "cell_type": "code",
   "execution_count": 293,
   "metadata": {},
   "outputs": [
    {
     "name": "stdout",
     "output_type": "stream",
     "text": [
      "[['manufacturing', 'process', 'glass', 'ancient', 'man', 'glass', 'glass', 'glass', 'knife', 'jewelry', 'arrowhead', 'money', 'pliny', 'roman', 'historian', 'glass', 'syria', 'year'], ['pittsburgh', 'mayor', 'bill', 'peduto', 'plan', 'thousand', 'bin', 'city', 'resident', 'effort', 'waste', 'goal', 'recycling', 'industry', 'climate', 'continue', 'need', 'culture', 'waste', 'reduction', 'material', 'reuse', 'mayor', 'peduto', 'plan'], ['quantity', 'waste', 'visitor', 'material', 'concern', 'park', 'manager', 'waste', 'cost', 'money', 'effort', 'resource', 'tax', 'park', 'extreme', 'number', 'visitor', 'manager', 'strategy'], ['robotics', 'corp.', 'amp', 'expansion', 'robot', 'msw', 'stream', 'recyclers', 'ssr', 'unveiling', 'installation', 'system', 'mrf', 'florida', 'kind', 'state', 'ssr', 'system', 'sr'], ['system', 'lr', 'company', 'crain', 'announcement', 'friday', 'june', 'crain', 'award', 'luncheon', 'ranking', 'region', 'company', 'business', 'strategy', 'revenue', 'growth', 'lakeshore']]\n"
     ]
    },
    {
     "data": {
      "text/plain": [
       "797"
      ]
     },
     "execution_count": 293,
     "metadata": {},
     "output_type": "execute_result"
    }
   ],
   "source": [
    "training_list = new_list_clean[:a]\n",
    "print(training_list[:5])\n",
    "len(training_list)"
   ]
  },
  {
   "cell_type": "markdown",
   "metadata": {},
   "source": [
    "## Word2Vec"
   ]
  },
  {
   "cell_type": "markdown",
   "metadata": {},
   "source": [
    "### First method"
   ]
  },
  {
   "cell_type": "code",
   "execution_count": 294,
   "metadata": {},
   "outputs": [],
   "source": [
    "import warnings\n",
    "warnings.filterwarnings(action='ignore', category=UserWarning, module='gensim')\n",
    "import gensim"
   ]
  },
  {
   "cell_type": "code",
   "execution_count": 295,
   "metadata": {},
   "outputs": [],
   "source": [
    "from gensim.models import Word2Vec"
   ]
  },
  {
   "cell_type": "code",
   "execution_count": 296,
   "metadata": {},
   "outputs": [],
   "source": [
    "model_word2vec = Word2Vec(training_list, min_count=10, size = 100) #fréquence minimale du mot 2\n",
    "#print word2vec"
   ]
  },
  {
   "cell_type": "code",
   "execution_count": 297,
   "metadata": {},
   "outputs": [],
   "source": [
    "vocabulary = model_word2vec.wv.vocab  \n",
    "#print(vocabulary) "
   ]
  },
  {
   "cell_type": "code",
   "execution_count": 298,
   "metadata": {},
   "outputs": [
    {
     "data": {
      "text/plain": [
       "array([-0.26038668,  0.1911383 , -0.29618204, -0.02289086, -0.31621405,\n",
       "       -0.26550743,  0.6048535 ,  0.10413208,  0.22002554,  0.29239684,\n",
       "        0.4325419 , -0.01053236, -0.01876423,  0.21120746,  0.12143701,\n",
       "        0.06699383, -0.40918618,  0.18385   , -0.00825366, -0.02545707,\n",
       "       -0.48562935,  0.16709544,  0.3483704 ,  0.54433686, -0.8427438 ,\n",
       "       -0.1686021 ,  0.27796793,  0.19719385, -0.00746597,  0.09407046,\n",
       "       -0.08182582, -0.18190578, -0.22154398, -0.04098717,  0.02822359,\n",
       "       -0.1875755 ,  0.5741977 , -0.25424185, -0.38717553,  0.21431895,\n",
       "       -0.15232566,  0.54967296, -0.13182229,  0.04942046, -0.01511368,\n",
       "       -0.00740521, -0.0986443 ,  0.15099363,  0.09876258,  0.08619151,\n",
       "       -0.17325892, -0.02560397, -0.5370953 , -0.04561631, -0.11664075,\n",
       "        0.09366732,  0.57669526, -0.3323497 ,  0.12301074,  0.02785341,\n",
       "       -0.10338937,  0.41497922,  0.18721586,  0.0939301 ,  0.5039587 ,\n",
       "       -0.08673202, -0.35867625,  0.24313022,  0.26335073,  0.15235405,\n",
       "       -0.2556768 ,  0.38034564,  0.26791224,  0.21981487, -0.02095016,\n",
       "        0.4570615 , -0.33916983, -0.32597154,  0.37959558, -0.01126792,\n",
       "       -0.2803728 ,  0.24673581, -0.11140181, -0.11477185, -0.45841917,\n",
       "       -0.43255302,  0.17133442, -0.3628641 , -0.35930264, -0.34540546,\n",
       "        0.0135521 ,  0.5064578 , -0.45452464, -0.24182951, -0.3750671 ,\n",
       "       -0.09650473, -0.2355087 , -0.7065671 , -0.00462425,  0.6154121 ],\n",
       "      dtype=float32)"
      ]
     },
     "execution_count": 298,
     "metadata": {},
     "output_type": "execute_result"
    }
   ],
   "source": [
    "v1 = model_word2vec.wv['waste']\n",
    "v1"
   ]
  },
  {
   "cell_type": "code",
   "execution_count": 299,
   "metadata": {},
   "outputs": [
    {
     "data": {
      "text/plain": [
       "[('state', 0.9998778104782104),\n",
       " ('plastic', 0.9998694658279419),\n",
       " ('year', 0.9998670220375061),\n",
       " ('city', 0.9998655915260315),\n",
       " ('industry', 0.9998654127120972),\n",
       " ('material', 0.9998488426208496),\n",
       " ('recycling', 0.9998461008071899),\n",
       " ('company', 0.9998372197151184),\n",
       " ('program', 0.9998361468315125),\n",
       " ('business', 0.9998353123664856)]"
      ]
     },
     "execution_count": 299,
     "metadata": {},
     "output_type": "execute_result"
    }
   ],
   "source": [
    "sim_words_waste = model_word2vec.wv.most_similar('waste')\n",
    "sim_words_waste"
   ]
  },
  {
   "cell_type": "code",
   "execution_count": 303,
   "metadata": {},
   "outputs": [
    {
     "data": {
      "text/plain": [
       "[('waste', 0.999830961227417),\n",
       " ('year', 0.9998257756233215),\n",
       " ('plastic', 0.999812126159668),\n",
       " ('state', 0.9998049736022949),\n",
       " ('business', 0.999786376953125),\n",
       " ('goal', 0.9997808337211609),\n",
       " ('company', 0.9997789263725281),\n",
       " ('material', 0.9997754096984863),\n",
       " ('industry', 0.9997743964195251),\n",
       " ('program', 0.9997743368148804)]"
      ]
     },
     "execution_count": 303,
     "metadata": {},
     "output_type": "execute_result"
    }
   ],
   "source": [
    "sim_words_organic = model_word2vec.wv.most_similar('food')\n",
    "sim_words_organic"
   ]
  },
  {
   "cell_type": "code",
   "execution_count": 304,
   "metadata": {},
   "outputs": [
    {
     "data": {
      "text/plain": [
       "[('city', 0.9998202323913574),\n",
       " ('company', 0.9998197555541992),\n",
       " ('state', 0.9998080730438232),\n",
       " ('year', 0.9998038411140442),\n",
       " ('waste', 0.9998026490211487),\n",
       " ('recycling', 0.9997972249984741),\n",
       " ('program', 0.9997954368591309),\n",
       " ('county', 0.9997928142547607),\n",
       " ('industry', 0.9997920989990234),\n",
       " ('award', 0.999770998954773)]"
      ]
     },
     "execution_count": 304,
     "metadata": {},
     "output_type": "execute_result"
    }
   ],
   "source": [
    "sim_words_recyclable = model_word2vec.wv.most_similar(['plastic', 'glass'])\n",
    "sim_words_recyclable"
   ]
  },
  {
   "cell_type": "code",
   "execution_count": 307,
   "metadata": {},
   "outputs": [],
   "source": [
    "# sim_words_hazardous = model_word2vec.wv.most_similar(['hazardous'])\n",
    "# sim_words_hazardous"
   ]
  },
  {
   "cell_type": "markdown",
   "metadata": {},
   "source": [
    "Now we can see that according to Word2Vec, the most similar words of waste seem to be plastic, year, state, city... We can notice that there are words like plastic which are kinds of waste and other which more refered to places or time."
   ]
  },
  {
   "cell_type": "code",
   "execution_count": 200,
   "metadata": {},
   "outputs": [
    {
     "data": {
      "text/plain": [
       "[('facility', 0.2582968771457672),\n",
       " ('state', 0.2159246951341629),\n",
       " ('packaging', 0.18899592757225037),\n",
       " ('sale', 0.18335336446762085),\n",
       " ('food', 0.1759570837020874),\n",
       " ('recovery', 0.14497309923171997),\n",
       " ('service', 0.14000041782855988),\n",
       " ('company', 0.13316810131072998),\n",
       " ('vehicle', 0.1324111372232437),\n",
       " ('center', 0.11635396629571915)]"
      ]
     },
     "execution_count": 200,
     "metadata": {},
     "output_type": "execute_result"
    }
   ],
   "source": [
    "sim_words1 = model_word2vec.wv.most_similar(['plastic', 'waste'])\n",
    "sim_words1"
   ]
  },
  {
   "cell_type": "markdown",
   "metadata": {},
   "source": [
    "Just to show the most similar words of plastic and waste"
   ]
  },
  {
   "cell_type": "markdown",
   "metadata": {},
   "source": [
    "## Conclusion\n",
    "\n",
    "Now thanks to Word2Vec we can clearly see the words which are the closest of one (ie: waste or food = organic)\n",
    "That is a good progress but it is not really visual. A graph could be a good improvement. Let's make a graph on Gephi ! "
   ]
  },
  {
   "cell_type": "markdown",
   "metadata": {},
   "source": [
    "## Graph on Gephi"
   ]
  },
  {
   "cell_type": "code",
   "execution_count": 308,
   "metadata": {},
   "outputs": [],
   "source": [
    "import networkx as nx"
   ]
  },
  {
   "cell_type": "code",
   "execution_count": 309,
   "metadata": {},
   "outputs": [],
   "source": [
    "graph = nx.Graph()"
   ]
  },
  {
   "cell_type": "code",
   "execution_count": 310,
   "metadata": {},
   "outputs": [
    {
     "name": "stdout",
     "output_type": "stream",
     "text": [
      "Name: \n",
      "Type: Graph\n",
      "Number of nodes: 0\n",
      "Number of edges: 0\n",
      "\n"
     ]
    }
   ],
   "source": [
    "print(nx.info(graph))"
   ]
  },
  {
   "cell_type": "code",
   "execution_count": 311,
   "metadata": {},
   "outputs": [],
   "source": [
    "graph.add_nodes_from(list(model_word2vec.wv.vocab))"
   ]
  },
  {
   "cell_type": "code",
   "execution_count": 312,
   "metadata": {},
   "outputs": [],
   "source": [
    "for each in model_word2vec.wv.vocab:\n",
    "    for i in model_word2vec.wv.most_similar(each):\n",
    "        graph.add_edge(each, i[0], weight = i[1])"
   ]
  },
  {
   "cell_type": "code",
   "execution_count": 313,
   "metadata": {},
   "outputs": [
    {
     "name": "stdout",
     "output_type": "stream",
     "text": [
      "Name: \n",
      "Type: Graph\n",
      "Number of nodes: 303\n",
      "Number of edges: 2955\n",
      "Average degree:  19.5050\n"
     ]
    }
   ],
   "source": [
    "print(nx.info(graph))"
   ]
  },
  {
   "cell_type": "code",
   "execution_count": 314,
   "metadata": {},
   "outputs": [],
   "source": [
    "nx.write_gexf(graph, 'graph_final.gexf')"
   ]
  },
  {
   "cell_type": "code",
   "execution_count": null,
   "metadata": {},
   "outputs": [],
   "source": [
    "On this graph we can see that we have eight categorirues\n",
    "some groups\n",
    "most important words on the sides of the graph\n",
    "xx nodes and xx edges (weight are roughly the same (cause of the numerous data))"
   ]
  },
  {
   "cell_type": "markdown",
   "metadata": {},
   "source": [
    "# Analyse word frequences thanks to machine learning"
   ]
  },
  {
   "cell_type": "markdown",
   "metadata": {},
   "source": [
    "## Bag of words"
   ]
  },
  {
   "cell_type": "code",
   "execution_count": 323,
   "metadata": {},
   "outputs": [
    {
     "name": "stdout",
     "output_type": "stream",
     "text": [
      "4557\n",
      "Dictionary(4557 unique tokens: ['ancient', 'arrowhead', 'glass', 'historian', 'jewelry']...)\n"
     ]
    }
   ],
   "source": [
    "dictionnary = gensim.corpora.Dictionary(new_list_clean)\n",
    "print(len(dictionnary))\n",
    "print(dictionnary)"
   ]
  },
  {
   "cell_type": "code",
   "execution_count": 330,
   "metadata": {},
   "outputs": [
    {
     "name": "stdout",
     "output_type": "stream",
     "text": [
      "Dictionary(185 unique tokens: ['glass', 'manufacturing', 'process', 'year', 'bill']...)\n"
     ]
    }
   ],
   "source": [
    "dictionnary.filter_extremes(no_below=20, no_above=0.3) #remove words that appear in less than 10 articles and also in more than 30% of all articles\n",
    "print (dictionnary)"
   ]
  },
  {
   "cell_type": "code",
   "execution_count": 331,
   "metadata": {},
   "outputs": [
    {
     "name": "stdout",
     "output_type": "stream",
     "text": [
      "[[(0, 5), (1, 1), (2, 1), (3, 1)], [(4, 1), (5, 1), (6, 1), (7, 1), (8, 1), (9, 1), (10, 1), (11, 1), (12, 2), (13, 1), (14, 1), (15, 1)], [(7, 1), (10, 1), (16, 1), (17, 2), (18, 1), (19, 1), (20, 1)], [(21, 1), (22, 1), (23, 1), (24, 2)], [(20, 1), (24, 1), (25, 1), (26, 1), (27, 2), (28, 1), (29, 1), (30, 1)], [(12, 1), (14, 1), (22, 1), (31, 2), (32, 1), (33, 1), (34, 2), (35, 1), (36, 1)], [(11, 1), (22, 1), (31, 1), (37, 1), (38, 1), (39, 2), (40, 1), (41, 1)], [(7, 1), (42, 1), (43, 1)], [(3, 1), (4, 1), (6, 1), (44, 1), (45, 1), (46, 1), (47, 1)], [(34, 1), (36, 1), (48, 1), (49, 1), (50, 1), (51, 2), (52, 1)]]\n"
     ]
    }
   ],
   "source": [
    "bow_corpus = [dictionnary.doc2bow(word) for word in training_list]\n",
    "print(bow_corpus[:10])\n",
    "#print(sum([len(each) for each in bow_corpus]))"
   ]
  },
  {
   "cell_type": "code",
   "execution_count": 332,
   "metadata": {},
   "outputs": [
    {
     "name": "stdout",
     "output_type": "stream",
     "text": [
      "['manufacturing', 'process', 'glass', 'ancient', 'man', 'glass', 'glass', 'glass', 'knife', 'jewelry', 'arrowhead', 'money', 'pliny', 'roman', 'historian', 'glass', 'syria', 'year']\n",
      "Word 0 (\"glass\") appears 5 time.\n",
      "Word 1 (\"manufacturing\") appears 1 time.\n",
      "Word 2 (\"process\") appears 1 time.\n",
      "Word 3 (\"year\") appears 1 time.\n"
     ]
    }
   ],
   "source": [
    "print(training_list[0])\n",
    "bow_doc_0 = bow_corpus[0]\n",
    "for i in range(len(bow_doc_0)):\n",
    "    print(\"Word {} (\\\"{}\\\") appears {} time.\".format(bow_doc_0[i][0], dictionnary[bow_doc_0[i][0]], bow_doc_0[i][1]))"
   ]
  },
  {
   "cell_type": "markdown",
   "metadata": {},
   "source": [
    "## TF - IDF"
   ]
  },
  {
   "cell_type": "code",
   "execution_count": 333,
   "metadata": {},
   "outputs": [],
   "source": [
    "from gensim import corpora, models"
   ]
  },
  {
   "cell_type": "code",
   "execution_count": 334,
   "metadata": {},
   "outputs": [],
   "source": [
    "tfidf = models.TfidfModel(bow_corpus)\n",
    "corpus_tfidf = tfidf[bow_corpus]"
   ]
  },
  {
   "cell_type": "code",
   "execution_count": 335,
   "metadata": {},
   "outputs": [
    {
     "name": "stdout",
     "output_type": "stream",
     "text": [
      "[('people', 1.0),\n",
      " ('investment', 1.0),\n",
      " ('plastic', 1.0),\n",
      " ('garbage', 1.0),\n",
      " ('recycling', 1.0),\n",
      " ('driver', 1.0),\n",
      " ('glass', 0.9696611127565707),\n",
      " ('glass', 0.9636619308326577),\n",
      " ('truck', 0.9612646886216839),\n",
      " ('addition', 0.9287991345616747)]\n",
      "\n",
      "\n",
      "[('company', 0.10173638024919814),\n",
      " ('state', 0.10076094705643197),\n",
      " ('year', 0.09793135980562251),\n",
      " ('year', 0.09502924269949271),\n",
      " ('year', 0.09367494200370471),\n",
      " ('year', 0.09121473069139735),\n",
      " ('year', 0.08994090165392049),\n",
      " ('year', 0.08654507486268753),\n",
      " ('year', 0.08240759178736388),\n",
      " ('year', 0.0742061876005869)]\n"
     ]
    }
   ],
   "source": [
    "list_words_tfidf = []\n",
    "for doc in corpus_tfidf:\n",
    "    for each in doc:\n",
    "        list_words_tfidf.append((dictionnary[each[0]], each[1]))\n",
    "list_words_tfidf = sorted(list_words_tfidf, key=lambda w: w[1], reverse=True)\n",
    "pprint(list_words_tfidf[:10])\n",
    "print('\\n')\n",
    "pprint(list_words_tfidf[-10:])"
   ]
  },
  {
   "cell_type": "markdown",
   "metadata": {},
   "source": [
    "Thanks to TFIDF we can see that people, plastic, garbage, recycling or car have high scores (each word in a document is associated to a number that is proportional to its frequency in the document and inversely proportional to the number of documents in which it occurs). \n",
    "But we can see that inversly year has a bad score. It could be removed by decreasing the value of no_above.\n",
    "We have our TFIDF scores and we are now able to create our LDA models. Firstly with bag of words and secondly with TFIDF."
   ]
  },
  {
   "cell_type": "markdown",
   "metadata": {},
   "source": [
    "## LDA Models"
   ]
  },
  {
   "cell_type": "markdown",
   "metadata": {},
   "source": [
    "### With bag of words"
   ]
  },
  {
   "cell_type": "code",
   "execution_count": 336,
   "metadata": {},
   "outputs": [],
   "source": [
    "lda_model = gensim.models.LdaMulticore(bow_corpus, num_topics=10, id2word=dictionnary, passes=5)"
   ]
  },
  {
   "cell_type": "code",
   "execution_count": 337,
   "metadata": {},
   "outputs": [
    {
     "name": "stdout",
     "output_type": "stream",
     "text": [
      "Topic: 0 \n",
      "Words: 0.039*\"food\" + 0.032*\"company\" + 0.030*\"initiative\" + 0.030*\"plan\" + 0.030*\"management\" + 0.027*\"program\" + 0.026*\"effort\" + 0.026*\"scrap\" + 0.025*\"member\" + 0.024*\"organization\"\n",
      "\n",
      "Topic: 1 \n",
      "Words: 0.085*\"bill\" + 0.084*\"state\" + 0.046*\"food\" + 0.036*\"container\" + 0.033*\"legislation\" + 0.031*\"california\" + 0.025*\"law\" + 0.025*\"agency\" + 0.023*\"house\" + 0.022*\"year\"\n",
      "\n",
      "Topic: 2 \n",
      "Words: 0.108*\"service\" + 0.076*\"company\" + 0.059*\"business\" + 0.049*\"customer\" + 0.026*\"disposal\" + 0.025*\"announces\" + 0.025*\"president\" + 0.018*\"management\" + 0.017*\"area\" + 0.017*\"market\"\n",
      "\n",
      "Topic: 3 \n",
      "Words: 0.102*\"year\" + 0.041*\"award\" + 0.040*\"safety\" + 0.038*\"glass\" + 0.030*\"market\" + 0.027*\"vehicle\" + 0.021*\"industry\" + 0.020*\"development\" + 0.019*\"gas\" + 0.016*\"sale\"\n",
      "\n",
      "Topic: 4 \n",
      "Words: 0.182*\"plastic\" + 0.051*\"bag\" + 0.048*\"energy\" + 0.046*\"state\" + 0.025*\"county\" + 0.024*\"recycling\" + 0.019*\"department\" + 0.018*\"country\" + 0.017*\"protection\" + 0.017*\"percent\"\n",
      "\n",
      "Topic: 5 \n",
      "Words: 0.099*\"food\" + 0.064*\"plastic\" + 0.044*\"packaging\" + 0.042*\"paper\" + 0.032*\"product\" + 0.023*\"recovery\" + 0.023*\"director\" + 0.019*\"resource\" + 0.019*\"sustainability\" + 0.018*\"brand\"\n",
      "\n",
      "Topic: 6 \n",
      "Words: 0.052*\"industry\" + 0.047*\"company\" + 0.044*\"technology\" + 0.039*\"management\" + 0.031*\"county\" + 0.030*\"solution\" + 0.022*\"recycling\" + 0.020*\"director\" + 0.019*\"year\" + 0.016*\"facility\"\n",
      "\n",
      "Topic: 7 \n",
      "Words: 0.048*\"day\" + 0.046*\"people\" + 0.043*\"year\" + 0.037*\"market\" + 0.029*\"trash\" + 0.028*\"time\" + 0.026*\"manufacturing\" + 0.025*\"research\" + 0.024*\"plant\" + 0.023*\"world\"\n",
      "\n",
      "Topic: 8 \n",
      "Words: 0.044*\"facility\" + 0.032*\"landfill\" + 0.029*\"business\" + 0.029*\"president\" + 0.028*\"equipment\" + 0.027*\"resource\" + 0.026*\"stream\" + 0.026*\"recovery\" + 0.025*\"company\" + 0.024*\"recycling\"\n",
      "\n",
      "Topic: 9 \n",
      "Words: 0.114*\"city\" + 0.053*\"program\" + 0.036*\"material\" + 0.029*\"county\" + 0.027*\"recycling\" + 0.027*\"truck\" + 0.026*\"trash\" + 0.025*\"garbage\" + 0.025*\"system\" + 0.021*\"year\"\n",
      "\n"
     ]
    }
   ],
   "source": [
    "for idx, topic in lda_model.print_topics(-1):\n",
    "    print('Topic: {} \\nWords: {}\\n'.format(idx, topic))"
   ]
  },
  {
   "cell_type": "markdown",
   "metadata": {},
   "source": [
    "### With TF - IDF"
   ]
  },
  {
   "cell_type": "code",
   "execution_count": 338,
   "metadata": {},
   "outputs": [],
   "source": [
    "lda_model_tfidf = gensim.models.LdaMulticore(corpus_tfidf, num_topics=10, id2word=dictionnary, passes=5)"
   ]
  },
  {
   "cell_type": "code",
   "execution_count": 339,
   "metadata": {},
   "outputs": [
    {
     "name": "stdout",
     "output_type": "stream",
     "text": [
      "Topic: 0 \n",
      "Word: 0.077*\"safety\" + 0.065*\"driver\" + 0.058*\"vehicle\" + 0.051*\"truck\" + 0.046*\"garbage\" + 0.030*\"technology\" + 0.021*\"equipment\" + 0.021*\"year\" + 0.020*\"leader\" + 0.018*\"industry\"\n",
      "\n",
      "Topic: 1 \n",
      "Word: 0.029*\"product\" + 0.028*\"solution\" + 0.021*\"agency\" + 0.021*\"landfill\" + 0.019*\"county\" + 0.019*\"award\" + 0.017*\"grant\" + 0.016*\"program\" + 0.016*\"organization\" + 0.016*\"recycling\"\n",
      "\n",
      "Topic: 2 \n",
      "Word: 0.047*\"food\" + 0.030*\"day\" + 0.029*\"industry\" + 0.023*\"percent\" + 0.022*\"state\" + 0.021*\"scrap\" + 0.020*\"center\" + 0.020*\"facility\" + 0.019*\"item\" + 0.016*\"association\"\n",
      "\n",
      "Topic: 3 \n",
      "Word: 0.041*\"sale\" + 0.035*\"president\" + 0.033*\"curbside\" + 0.027*\"glass\" + 0.026*\"officer\" + 0.026*\"vice\" + 0.026*\"experience\" + 0.024*\"collection\" + 0.024*\"manager\" + 0.022*\"recycling\"\n",
      "\n",
      "Topic: 4 \n",
      "Word: 0.067*\"city\" + 0.031*\"council\" + 0.028*\"trash\" + 0.028*\"business\" + 0.023*\"service\" + 0.022*\"landfill\" + 0.020*\"way\" + 0.020*\"department\" + 0.020*\"program\" + 0.020*\"rate\"\n",
      "\n",
      "Topic: 5 \n",
      "Word: 0.028*\"energy\" + 0.027*\"company\" + 0.026*\"recycling\" + 0.024*\"brand\" + 0.024*\"gas\" + 0.023*\"plant\" + 0.021*\"u.s.\" + 0.020*\"plan\" + 0.019*\"job\" + 0.018*\"service\"\n",
      "\n",
      "Topic: 6 \n",
      "Word: 0.043*\"plastic\" + 0.041*\"people\" + 0.033*\"market\" + 0.025*\"firm\" + 0.025*\"growth\" + 0.024*\"research\" + 0.023*\"addition\" + 0.023*\"year\" + 0.022*\"trash\" + 0.019*\"number\"\n",
      "\n",
      "Topic: 7 \n",
      "Word: 0.024*\"paper\" + 0.024*\"county\" + 0.022*\"china\" + 0.022*\"refuse\" + 0.022*\"world\" + 0.021*\"market\" + 0.021*\"home\" + 0.019*\"material\" + 0.019*\"board\" + 0.018*\"truck\"\n",
      "\n",
      "Topic: 8 \n",
      "Word: 0.046*\"truck\" + 0.037*\"facility\" + 0.034*\"system\" + 0.032*\"manufacturing\" + 0.024*\"partner\" + 0.023*\"company\" + 0.020*\"employee\" + 0.019*\"research\" + 0.019*\"customer\" + 0.018*\"need\"\n",
      "\n",
      "Topic: 9 \n",
      "Word: 0.048*\"plastic\" + 0.040*\"bag\" + 0.038*\"bill\" + 0.027*\"state\" + 0.027*\"container\" + 0.023*\"initiative\" + 0.021*\"goal\" + 0.021*\"city\" + 0.021*\"food\" + 0.020*\"law\"\n",
      "\n"
     ]
    }
   ],
   "source": [
    "for idx, topic in lda_model_tfidf.print_topics(-1):\n",
    "    print('Topic: {} \\nWord: {}\\n'.format(idx, topic))"
   ]
  },
  {
   "cell_type": "markdown",
   "metadata": {},
   "source": [
    "## Predictions for the other articles (with test_list)"
   ]
  },
  {
   "cell_type": "code",
   "execution_count": 340,
   "metadata": {},
   "outputs": [
    {
     "name": "stdout",
     "output_type": "stream",
     "text": [
      "398\n",
      "[['tealinc', 'offer', 'industry', 'scholarship', 'application', 'forsyth', 'tealinc', 'ltd.', 'railcar', 'operating', 'lessor', 'transportation', 'manager', 'rail', 'transportation', 'consultant', 'railcar', 'broker', 'application', 'scholarship', 'program', 'program', 'scholarship', 'candidate', 'scholarship'], ['series', 'mind', 'matter', 'spirit', 'artist', 'suzanne', 'jongman', 'model', 'pose', 'period', 'costume', 'material', 'foam', 'wrap', 'jar', 'lid', 'jongmans', 'act', 'something', 'nothing', 'change', 'way', 'reality', 'person', 'trash'], ['american', 'ton', 'glass', 'trash', 'material', 'property', 'glass', 'glass', 'weisenburger', 'lipetz', 'director', 'glass', 'manufacturing', 'industry', 'council'], ['food', 'waste', 'digester', 'public', 'thursday', 'house', 'center', 'food', 'waste', 'energy', 'resource', 'recovery', 'partnership', 'energy', 'water', 'district', 'ton', 'food', 'waste'], ['people', 'recycling', 'garbage', 'transfer', 'station', 'resident', 'business', 'county', 'house', 'march', 'king', 'county', 'facility', 'city', 'algona'], ['waste', 'association', 'letter', 'baltimore', 'city', 'council', 'air', 'quality', 'regulation', 'regulation', 'installation', 'monitoring', 'equipment', 'air', 'emission', 'rule', 'uncertainty'], ['industry', 'state', 'department', 'transportation', 'dot', 'law', 'driver', 'license', 'cdl', 'eligibility', 'truck', 'driver', 'cdl', 'wake', 'change', 'waste', 'operation', 'bourcheau', 'examiner', 'instructor', 'one-on-one'], ['cintas', 'corporation', 'collaboration', 'jw', 'marriott', 'part', 'marriott', 'inc.', 'collection', 'wardrobe', 'essential', 'brand', 'hotel', 'addition', 'collection', 'launch', 'jw', 'marriott', 'property', 'u.s.', 'program', 'cintas'], ['plastic', 'market', 'watch', 'report', 'plastic', 'industry', 'association', 'plastic', 'demand', 'plastic', 'number', 'mode', 'automobile', 'truck', 'boat', 'train', 'plane', 'world', 'report', 'trend', 'transportation', 'vehicle', 'ev', 'vehicle', 'vehicle'], ['beathard', 'everything', 'drum', 'slack', 'adjuster', 's-cam', 'driver', 'truck', 'right', 'call', 'frustration', 'person', 'end']]\n"
     ]
    }
   ],
   "source": [
    "test_list = new_list_clean[a:]\n",
    "print(len(test_list))\n",
    "print(test_list[0:10])"
   ]
  },
  {
   "cell_type": "markdown",
   "metadata": {},
   "source": [
    "## Predictions with Bag of Words"
   ]
  },
  {
   "cell_type": "code",
   "execution_count": 341,
   "metadata": {},
   "outputs": [
    {
     "name": "stdout",
     "output_type": "stream",
     "text": [
      "<class 'str'>\n"
     ]
    },
    {
     "data": {
      "text/plain": [
       "[['0', '6'],\n",
       " ['1', '9'],\n",
       " ['10', '9'],\n",
       " ['100', '7'],\n",
       " ['101', '1'],\n",
       " ['102', '6'],\n",
       " ['103', '0'],\n",
       " ['104', '7'],\n",
       " ['105', '7'],\n",
       " ['106', '3']]"
      ]
     },
     "execution_count": 341,
     "metadata": {},
     "output_type": "execute_result"
    }
   ],
   "source": [
    "article_topics = []\n",
    "for i in range(0,len(test_list)):\n",
    "        test_corpus = dictionnary.doc2bow(test_list[i])\n",
    "        proba = lda_model.get_document_topics(test_corpus)\n",
    "        article_topics.append([ str(i), str(max(proba, key = lambda w:w[1])[0])])\n",
    "\n",
    "prediction_list = sorted(article_topics, key=lambda w:w[0])\n",
    "print(type(prediction_list[0][1]))\n",
    "prediction_list[0:10]"
   ]
  },
  {
   "cell_type": "code",
   "execution_count": 342,
   "metadata": {},
   "outputs": [
    {
     "name": "stdout",
     "output_type": "stream",
     "text": [
      "[[0, 6], [1, 9], [2, 3], [3, 5], [4, 9], [5, 9], [6, 1], [7, 8], [8, 3], [9, 7]]\n"
     ]
    }
   ],
   "source": [
    "for e in range(len(prediction_list)):\n",
    "    for p in range(len(prediction_list[e])):\n",
    "        prediction_list[e][p] = int(prediction_list[e][p])\n",
    "prediction_list_1 = sorted(prediction_list)\n",
    "print(prediction_list_1[0:10])"
   ]
  },
  {
   "cell_type": "code",
   "execution_count": 343,
   "metadata": {},
   "outputs": [
    {
     "name": "stdout",
     "output_type": "stream",
     "text": [
      "[0, 6, 1, 9, 2, 3, 3, 5, 4, 9]\n",
      "[7, 3, 8, 1, 9, 9, 5, 3, 9, 6]\n",
      "[6, 9, 3, 5, 9, 9, 1, 8, 3, 7, 9, 7, 2, 3, 4, 5, 9, 4, 8, 3]\n"
     ]
    }
   ],
   "source": [
    "prediction_list_2 = []\n",
    "for each in prediction_list_1:\n",
    "    #print(each)\n",
    "    for i in each:    \n",
    "        prediction_list_2.append(i)\n",
    "print(prediction_list_2[0:10])\n",
    "\n",
    "prediction_list_3 = []\n",
    "for i in reversed(prediction_list_2):\n",
    "    prediction_list_3.append(i)\n",
    "prediction_list_3\n",
    "\n",
    "prediction_list_4 = prediction_list_3[::2]\n",
    "print(prediction_list_4[-10:])\n",
    "\n",
    "prediction_list_5 = []\n",
    "for i in reversed(prediction_list_4):\n",
    "    prediction_list_5.append(i)\n",
    "print(prediction_list_5[:20])"
   ]
  },
  {
   "cell_type": "code",
   "execution_count": 344,
   "metadata": {},
   "outputs": [
    {
     "data": {
      "text/plain": [
       "[('EPA Acting Administrator Announces First-Ever Comprehensive Nationwide PFAS Action Plan',\n",
       "  6,\n",
       "  'https://wasteadvantagemag.com/epa-acting-administrator-announces-first-ever-comprehensive-nationwide-pfas-action-plan/'),\n",
       " ('Amazon’s Streamlined Plastic Packaging is Jamming Up Recycling Centers',\n",
       "  9,\n",
       "  'https://wasteadvantagemag.com/amazons-streamlined-plastic-packaging-is-jamming-up-recycling-centers/'),\n",
       " ('Plastics Industry Association Launches Search for Next President and CEO',\n",
       "  3,\n",
       "  'https://wasteadvantagemag.com/plastics-industry-association-launches-search-for-next-president-and-ceo/')]"
      ]
     },
     "execution_count": 344,
     "metadata": {},
     "output_type": "execute_result"
    }
   ],
   "source": [
    "i = 0\n",
    "final_list_bagofwords = []\n",
    "for each in prediction_list_1:\n",
    "    final_list_bagofwords.append((titlelist[i+a], prediction_list_5[i], linklist[i+a]))\n",
    "    i += 1\n",
    "final_list_bagofwords[:3]"
   ]
  },
  {
   "cell_type": "code",
   "execution_count": 345,
   "metadata": {},
   "outputs": [
    {
     "data": {
      "text/html": [
       "<div>\n",
       "<style scoped>\n",
       "    .dataframe tbody tr th:only-of-type {\n",
       "        vertical-align: middle;\n",
       "    }\n",
       "\n",
       "    .dataframe tbody tr th {\n",
       "        vertical-align: top;\n",
       "    }\n",
       "\n",
       "    .dataframe thead th {\n",
       "        text-align: right;\n",
       "    }\n",
       "</style>\n",
       "<table border=\"1\" class=\"dataframe\">\n",
       "  <thead>\n",
       "    <tr style=\"text-align: right;\">\n",
       "      <th></th>\n",
       "      <th>Title</th>\n",
       "      <th>Topic</th>\n",
       "      <th>Link</th>\n",
       "    </tr>\n",
       "  </thead>\n",
       "  <tbody>\n",
       "    <tr>\n",
       "      <th>0</th>\n",
       "      <td>EPA Acting Administrator Announces First-Ever ...</td>\n",
       "      <td>6</td>\n",
       "      <td>https://wasteadvantagemag.com/epa-acting-admin...</td>\n",
       "    </tr>\n",
       "    <tr>\n",
       "      <th>1</th>\n",
       "      <td>Amazon’s Streamlined Plastic Packaging is Jamm...</td>\n",
       "      <td>9</td>\n",
       "      <td>https://wasteadvantagemag.com/amazons-streamli...</td>\n",
       "    </tr>\n",
       "    <tr>\n",
       "      <th>2</th>\n",
       "      <td>Plastics Industry Association Launches Search ...</td>\n",
       "      <td>3</td>\n",
       "      <td>https://wasteadvantagemag.com/plastics-industr...</td>\n",
       "    </tr>\n",
       "    <tr>\n",
       "      <th>3</th>\n",
       "      <td>Tealinc Offers Industry Scholarship</td>\n",
       "      <td>5</td>\n",
       "      <td>https://wasteadvantagemag.com/tealinc-offers-i...</td>\n",
       "    </tr>\n",
       "    <tr>\n",
       "      <th>4</th>\n",
       "      <td>Recycled Plastic Gets a Second Life in Renaiss...</td>\n",
       "      <td>9</td>\n",
       "      <td>https://wasteadvantagemag.com/recycled-plastic...</td>\n",
       "    </tr>\n",
       "    <tr>\n",
       "      <th>5</th>\n",
       "      <td>Why Glass Recycling in the U.S. is Broken</td>\n",
       "      <td>9</td>\n",
       "      <td>https://wasteadvantagemag.com/why-glass-recycl...</td>\n",
       "    </tr>\n",
       "    <tr>\n",
       "      <th>6</th>\n",
       "      <td>New Utah Facility Will Turn Food Waste Into Re...</td>\n",
       "      <td>1</td>\n",
       "      <td>https://wasteadvantagemag.com/new-utah-facilit...</td>\n",
       "    </tr>\n",
       "    <tr>\n",
       "      <th>7</th>\n",
       "      <td>King County’s Solid Waste Division Invites Com...</td>\n",
       "      <td>8</td>\n",
       "      <td>https://wasteadvantagemag.com/king-countys-sol...</td>\n",
       "    </tr>\n",
       "    <tr>\n",
       "      <th>8</th>\n",
       "      <td>NWRA Urges Baltimore City to Reconsider Air Qu...</td>\n",
       "      <td>3</td>\n",
       "      <td>https://wasteadvantagemag.com/nwra-urges-balti...</td>\n",
       "    </tr>\n",
       "    <tr>\n",
       "      <th>9</th>\n",
       "      <td>Waste Pro Looks Within to Address National Dri...</td>\n",
       "      <td>7</td>\n",
       "      <td>https://wasteadvantagemag.com/waste-pro-looks-...</td>\n",
       "    </tr>\n",
       "    <tr>\n",
       "      <th>10</th>\n",
       "      <td>Cintas Partners with JW Marriott to Launch New...</td>\n",
       "      <td>9</td>\n",
       "      <td>https://wasteadvantagemag.com/cintas-partners-...</td>\n",
       "    </tr>\n",
       "    <tr>\n",
       "      <th>11</th>\n",
       "      <td>PLASTICS Releases Transportation Report, Explo...</td>\n",
       "      <td>7</td>\n",
       "      <td>https://wasteadvantagemag.com/plastics-release...</td>\n",
       "    </tr>\n",
       "    <tr>\n",
       "      <th>12</th>\n",
       "      <td>Unexplained Brake Pulling Issue Solved</td>\n",
       "      <td>2</td>\n",
       "      <td>https://wasteadvantagemag.com/unexplained-brak...</td>\n",
       "    </tr>\n",
       "    <tr>\n",
       "      <th>13</th>\n",
       "      <td>Inland Waste Solutions Invests in State-of-the...</td>\n",
       "      <td>3</td>\n",
       "      <td>https://wasteadvantagemag.com/inland-waste-sol...</td>\n",
       "    </tr>\n",
       "    <tr>\n",
       "      <th>14</th>\n",
       "      <td>Wastequip Honors Waste Equipment Inventors on ...</td>\n",
       "      <td>4</td>\n",
       "      <td>https://wasteadvantagemag.com/wastequip-honors...</td>\n",
       "    </tr>\n",
       "    <tr>\n",
       "      <th>15</th>\n",
       "      <td>Companies Making the World Greener Through Tec...</td>\n",
       "      <td>5</td>\n",
       "      <td>https://wasteadvantagemag.com/companies-making...</td>\n",
       "    </tr>\n",
       "    <tr>\n",
       "      <th>16</th>\n",
       "      <td>SWANA Announces 2019 Award Winners</td>\n",
       "      <td>9</td>\n",
       "      <td>https://wasteadvantagemag.com/swana-announces-...</td>\n",
       "    </tr>\n",
       "    <tr>\n",
       "      <th>17</th>\n",
       "      <td>Trash Police? Providence, RI Says Goal of Recy...</td>\n",
       "      <td>4</td>\n",
       "      <td>https://wasteadvantagemag.com/trash-police-pro...</td>\n",
       "    </tr>\n",
       "    <tr>\n",
       "      <th>18</th>\n",
       "      <td>Upcycling Your Way To Sustainability</td>\n",
       "      <td>8</td>\n",
       "      <td>https://wasteadvantagemag.com/upcycling-your-w...</td>\n",
       "    </tr>\n",
       "    <tr>\n",
       "      <th>19</th>\n",
       "      <td>Carpet Recycling Op-ed and Analysis</td>\n",
       "      <td>3</td>\n",
       "      <td>https://wasteadvantagemag.com/carpet-recycling...</td>\n",
       "    </tr>\n",
       "    <tr>\n",
       "      <th>20</th>\n",
       "      <td>Western Pennsylvania Colleges Take Steps to Re...</td>\n",
       "      <td>8</td>\n",
       "      <td>https://wasteadvantagemag.com/western-pennsylv...</td>\n",
       "    </tr>\n",
       "    <tr>\n",
       "      <th>21</th>\n",
       "      <td>Tokyo 2020: Medals to Be Made from Recycled Waste</td>\n",
       "      <td>0</td>\n",
       "      <td>https://wasteadvantagemag.com/tokyo-2020-medal...</td>\n",
       "    </tr>\n",
       "    <tr>\n",
       "      <th>22</th>\n",
       "      <td>ISRI Adds Three New Safety Awards Recognizing ...</td>\n",
       "      <td>4</td>\n",
       "      <td>https://wasteadvantagemag.com/isri-adds-three-...</td>\n",
       "    </tr>\n",
       "    <tr>\n",
       "      <th>23</th>\n",
       "      <td>U.S. Chamber Foundation Announces Expansion of...</td>\n",
       "      <td>4</td>\n",
       "      <td>https://wasteadvantagemag.com/u-s-chamber-foun...</td>\n",
       "    </tr>\n",
       "    <tr>\n",
       "      <th>24</th>\n",
       "      <td>Southbridge, MA Cracks Down on ‘Dirty’ Recycling</td>\n",
       "      <td>7</td>\n",
       "      <td>https://wasteadvantagemag.com/southbridge-ma-c...</td>\n",
       "    </tr>\n",
       "    <tr>\n",
       "      <th>25</th>\n",
       "      <td>Millions of Tons of Plastic Waste Could Be Tur...</td>\n",
       "      <td>8</td>\n",
       "      <td>https://wasteadvantagemag.com/millions-of-tons...</td>\n",
       "    </tr>\n",
       "    <tr>\n",
       "      <th>26</th>\n",
       "      <td>Expand Connecticut’s Bottle Bill, Reduce Plast...</td>\n",
       "      <td>7</td>\n",
       "      <td>https://wasteadvantagemag.com/expand-connectic...</td>\n",
       "    </tr>\n",
       "    <tr>\n",
       "      <th>27</th>\n",
       "      <td>Seattle, WA to Receive First Electronic Reusin...</td>\n",
       "      <td>6</td>\n",
       "      <td>https://wasteadvantagemag.com/seattle-wa-to-re...</td>\n",
       "    </tr>\n",
       "    <tr>\n",
       "      <th>28</th>\n",
       "      <td>Santa Rosa Recycling Sorters Getting Stabbed B...</td>\n",
       "      <td>2</td>\n",
       "      <td>https://wasteadvantagemag.com/santa-rosa-recyc...</td>\n",
       "    </tr>\n",
       "    <tr>\n",
       "      <th>29</th>\n",
       "      <td>Unexplained Wheel Seal Failures?  What is Like...</td>\n",
       "      <td>6</td>\n",
       "      <td>https://wasteadvantagemag.com/unexplained-whee...</td>\n",
       "    </tr>\n",
       "    <tr>\n",
       "      <th>...</th>\n",
       "      <td>...</td>\n",
       "      <td>...</td>\n",
       "      <td>...</td>\n",
       "    </tr>\n",
       "    <tr>\n",
       "      <th>368</th>\n",
       "      <td>Content Marketing Tips that Work for a Waste B...</td>\n",
       "      <td>5</td>\n",
       "      <td>https://wasteadvantagemag.com/content-marketin...</td>\n",
       "    </tr>\n",
       "    <tr>\n",
       "      <th>369</th>\n",
       "      <td>Eriez® Appoints Tim Gland as Vice President &amp; ...</td>\n",
       "      <td>2</td>\n",
       "      <td>https://wasteadvantagemag.com/eriez-appoints-t...</td>\n",
       "    </tr>\n",
       "    <tr>\n",
       "      <th>370</th>\n",
       "      <td>PRECO Electronics Excellence in Safety Award –...</td>\n",
       "      <td>9</td>\n",
       "      <td>https://wasteadvantagemag.com/preco-electronic...</td>\n",
       "    </tr>\n",
       "    <tr>\n",
       "      <th>371</th>\n",
       "      <td>NWRA Joins Road Safety Coalition Led by FMCSA</td>\n",
       "      <td>1</td>\n",
       "      <td>https://wasteadvantagemag.com/nwra-joins-road-...</td>\n",
       "    </tr>\n",
       "    <tr>\n",
       "      <th>372</th>\n",
       "      <td>Simple Tips to Make the Holiday Season More En...</td>\n",
       "      <td>7</td>\n",
       "      <td>https://wasteadvantagemag.com/simple-tips-to-m...</td>\n",
       "    </tr>\n",
       "    <tr>\n",
       "      <th>373</th>\n",
       "      <td>Recycling Experts Underscore Importance of Tur...</td>\n",
       "      <td>0</td>\n",
       "      <td>https://wasteadvantagemag.com/recycling-expert...</td>\n",
       "    </tr>\n",
       "    <tr>\n",
       "      <th>374</th>\n",
       "      <td>Multiple Casinos Working to Reduce Food Waste ...</td>\n",
       "      <td>7</td>\n",
       "      <td>https://wasteadvantagemag.com/multiple-casinos...</td>\n",
       "    </tr>\n",
       "    <tr>\n",
       "      <th>375</th>\n",
       "      <td>Investigation Tests New Methods of Water Recyc...</td>\n",
       "      <td>8</td>\n",
       "      <td>https://wasteadvantagemag.com/investigation-te...</td>\n",
       "    </tr>\n",
       "    <tr>\n",
       "      <th>376</th>\n",
       "      <td>NYC Ban On Some Single-Use Foam Products Goes ...</td>\n",
       "      <td>1</td>\n",
       "      <td>https://wasteadvantagemag.com/nyc-ban-on-some-...</td>\n",
       "    </tr>\n",
       "    <tr>\n",
       "      <th>377</th>\n",
       "      <td>Waste Heat to Power Market Will Be Valued USD ...</td>\n",
       "      <td>6</td>\n",
       "      <td>https://wasteadvantagemag.com/waste-heat-to-po...</td>\n",
       "    </tr>\n",
       "    <tr>\n",
       "      <th>378</th>\n",
       "      <td>International: What Are Clean Air Zones and Ho...</td>\n",
       "      <td>8</td>\n",
       "      <td>https://wasteadvantagemag.com/international-wh...</td>\n",
       "    </tr>\n",
       "    <tr>\n",
       "      <th>379</th>\n",
       "      <td>Veolia Facility Recycles Nearly Four Million L...</td>\n",
       "      <td>5</td>\n",
       "      <td>https://wasteadvantagemag.com/veolia-facility-...</td>\n",
       "    </tr>\n",
       "    <tr>\n",
       "      <th>380</th>\n",
       "      <td>Redline Emissions Products® Announces New East...</td>\n",
       "      <td>7</td>\n",
       "      <td>https://wasteadvantagemag.com/redline-emission...</td>\n",
       "    </tr>\n",
       "    <tr>\n",
       "      <th>381</th>\n",
       "      <td>EPA Awards $2.4 Million Clean Diesel Grant to ...</td>\n",
       "      <td>9</td>\n",
       "      <td>https://wasteadvantagemag.com/epa-awards-2-4-m...</td>\n",
       "    </tr>\n",
       "    <tr>\n",
       "      <th>382</th>\n",
       "      <td>Continental Celebrates Opening of Mississippi ...</td>\n",
       "      <td>4</td>\n",
       "      <td>https://wasteadvantagemag.com/continental-cele...</td>\n",
       "    </tr>\n",
       "    <tr>\n",
       "      <th>383</th>\n",
       "      <td>Fuchs Continues to Drive Momentum in North Ame...</td>\n",
       "      <td>5</td>\n",
       "      <td>https://wasteadvantagemag.com/fuchs-continues-...</td>\n",
       "    </tr>\n",
       "    <tr>\n",
       "      <th>384</th>\n",
       "      <td>ecomaine Calls for 2019 Eco-Excellence Award N...</td>\n",
       "      <td>9</td>\n",
       "      <td>https://wasteadvantagemag.com/ecomaine-calls-f...</td>\n",
       "    </tr>\n",
       "    <tr>\n",
       "      <th>385</th>\n",
       "      <td>Global Household Composters Market 2018-2022</td>\n",
       "      <td>9</td>\n",
       "      <td>https://wasteadvantagemag.com/global-household...</td>\n",
       "    </tr>\n",
       "    <tr>\n",
       "      <th>386</th>\n",
       "      <td>Savannah, GA Facing Increased Recycling Costs ...</td>\n",
       "      <td>3</td>\n",
       "      <td>https://wasteadvantagemag.com/savannah-ga-faci...</td>\n",
       "    </tr>\n",
       "    <tr>\n",
       "      <th>387</th>\n",
       "      <td>What’s Recyclable? Connecticut is Taking Steps...</td>\n",
       "      <td>9</td>\n",
       "      <td>https://wasteadvantagemag.com/whats-recyclable...</td>\n",
       "    </tr>\n",
       "    <tr>\n",
       "      <th>388</th>\n",
       "      <td>Trawling for Trash: the Brands Turning Plastic...</td>\n",
       "      <td>8</td>\n",
       "      <td>https://wasteadvantagemag.com/trawling-for-tra...</td>\n",
       "    </tr>\n",
       "    <tr>\n",
       "      <th>389</th>\n",
       "      <td>Team Effort Puts Kent County, MI on Track for ...</td>\n",
       "      <td>7</td>\n",
       "      <td>https://wasteadvantagemag.com/team-effort-puts...</td>\n",
       "    </tr>\n",
       "    <tr>\n",
       "      <th>390</th>\n",
       "      <td>Cleveland, OH Fines Residents $387,000 for Gar...</td>\n",
       "      <td>9</td>\n",
       "      <td>https://wasteadvantagemag.com/cleveland-oh-fin...</td>\n",
       "    </tr>\n",
       "    <tr>\n",
       "      <th>391</th>\n",
       "      <td>Will Those Holiday Gift Boxes Actually Get Rec...</td>\n",
       "      <td>4</td>\n",
       "      <td>https://wasteadvantagemag.com/will-those-holid...</td>\n",
       "    </tr>\n",
       "    <tr>\n",
       "      <th>392</th>\n",
       "      <td>Salt Lake City’s ‘Recycling Police’ Look at Wh...</td>\n",
       "      <td>4</td>\n",
       "      <td>https://wasteadvantagemag.com/salt-lake-citys-...</td>\n",
       "    </tr>\n",
       "    <tr>\n",
       "      <th>393</th>\n",
       "      <td>Expansion Plans for 100 People Over the Next T...</td>\n",
       "      <td>8</td>\n",
       "      <td>https://wasteadvantagemag.com/expansion-plans-...</td>\n",
       "    </tr>\n",
       "    <tr>\n",
       "      <th>394</th>\n",
       "      <td>The Trash One Person Produces in One Year</td>\n",
       "      <td>0</td>\n",
       "      <td>https://wasteadvantagemag.com/the-trash-one-pe...</td>\n",
       "    </tr>\n",
       "    <tr>\n",
       "      <th>395</th>\n",
       "      <td>How Companies Can Achieve Their ‘Zero Waste to...</td>\n",
       "      <td>9</td>\n",
       "      <td>https://wasteadvantagemag.com/how-companies-ca...</td>\n",
       "    </tr>\n",
       "    <tr>\n",
       "      <th>396</th>\n",
       "      <td>King County Solid Waste Advisory Committees Ad...</td>\n",
       "      <td>6</td>\n",
       "      <td>https://wasteadvantagemag.com/king-county-soli...</td>\n",
       "    </tr>\n",
       "    <tr>\n",
       "      <th>397</th>\n",
       "      <td>Illinois EPA Unveils New Recycling Guide</td>\n",
       "      <td>6</td>\n",
       "      <td>https://wasteadvantagemag.com/illinois-epa-unv...</td>\n",
       "    </tr>\n",
       "  </tbody>\n",
       "</table>\n",
       "<p>398 rows × 3 columns</p>\n",
       "</div>"
      ],
      "text/plain": [
       "                                                 Title  Topic  \\\n",
       "0    EPA Acting Administrator Announces First-Ever ...      6   \n",
       "1    Amazon’s Streamlined Plastic Packaging is Jamm...      9   \n",
       "2    Plastics Industry Association Launches Search ...      3   \n",
       "3                  Tealinc Offers Industry Scholarship      5   \n",
       "4    Recycled Plastic Gets a Second Life in Renaiss...      9   \n",
       "5            Why Glass Recycling in the U.S. is Broken      9   \n",
       "6    New Utah Facility Will Turn Food Waste Into Re...      1   \n",
       "7    King County’s Solid Waste Division Invites Com...      8   \n",
       "8    NWRA Urges Baltimore City to Reconsider Air Qu...      3   \n",
       "9    Waste Pro Looks Within to Address National Dri...      7   \n",
       "10   Cintas Partners with JW Marriott to Launch New...      9   \n",
       "11   PLASTICS Releases Transportation Report, Explo...      7   \n",
       "12              Unexplained Brake Pulling Issue Solved      2   \n",
       "13   Inland Waste Solutions Invests in State-of-the...      3   \n",
       "14   Wastequip Honors Waste Equipment Inventors on ...      4   \n",
       "15   Companies Making the World Greener Through Tec...      5   \n",
       "16                  SWANA Announces 2019 Award Winners      9   \n",
       "17   Trash Police? Providence, RI Says Goal of Recy...      4   \n",
       "18                Upcycling Your Way To Sustainability      8   \n",
       "19                 Carpet Recycling Op-ed and Analysis      3   \n",
       "20   Western Pennsylvania Colleges Take Steps to Re...      8   \n",
       "21   Tokyo 2020: Medals to Be Made from Recycled Waste      0   \n",
       "22   ISRI Adds Three New Safety Awards Recognizing ...      4   \n",
       "23   U.S. Chamber Foundation Announces Expansion of...      4   \n",
       "24    Southbridge, MA Cracks Down on ‘Dirty’ Recycling      7   \n",
       "25   Millions of Tons of Plastic Waste Could Be Tur...      8   \n",
       "26   Expand Connecticut’s Bottle Bill, Reduce Plast...      7   \n",
       "27   Seattle, WA to Receive First Electronic Reusin...      6   \n",
       "28   Santa Rosa Recycling Sorters Getting Stabbed B...      2   \n",
       "29   Unexplained Wheel Seal Failures?  What is Like...      6   \n",
       "..                                                 ...    ...   \n",
       "368  Content Marketing Tips that Work for a Waste B...      5   \n",
       "369  Eriez® Appoints Tim Gland as Vice President & ...      2   \n",
       "370  PRECO Electronics Excellence in Safety Award –...      9   \n",
       "371      NWRA Joins Road Safety Coalition Led by FMCSA      1   \n",
       "372  Simple Tips to Make the Holiday Season More En...      7   \n",
       "373  Recycling Experts Underscore Importance of Tur...      0   \n",
       "374  Multiple Casinos Working to Reduce Food Waste ...      7   \n",
       "375  Investigation Tests New Methods of Water Recyc...      8   \n",
       "376  NYC Ban On Some Single-Use Foam Products Goes ...      1   \n",
       "377  Waste Heat to Power Market Will Be Valued USD ...      6   \n",
       "378  International: What Are Clean Air Zones and Ho...      8   \n",
       "379  Veolia Facility Recycles Nearly Four Million L...      5   \n",
       "380  Redline Emissions Products® Announces New East...      7   \n",
       "381  EPA Awards $2.4 Million Clean Diesel Grant to ...      9   \n",
       "382  Continental Celebrates Opening of Mississippi ...      4   \n",
       "383  Fuchs Continues to Drive Momentum in North Ame...      5   \n",
       "384  ecomaine Calls for 2019 Eco-Excellence Award N...      9   \n",
       "385       Global Household Composters Market 2018-2022      9   \n",
       "386  Savannah, GA Facing Increased Recycling Costs ...      3   \n",
       "387  What’s Recyclable? Connecticut is Taking Steps...      9   \n",
       "388  Trawling for Trash: the Brands Turning Plastic...      8   \n",
       "389  Team Effort Puts Kent County, MI on Track for ...      7   \n",
       "390  Cleveland, OH Fines Residents $387,000 for Gar...      9   \n",
       "391  Will Those Holiday Gift Boxes Actually Get Rec...      4   \n",
       "392  Salt Lake City’s ‘Recycling Police’ Look at Wh...      4   \n",
       "393  Expansion Plans for 100 People Over the Next T...      8   \n",
       "394          The Trash One Person Produces in One Year      0   \n",
       "395  How Companies Can Achieve Their ‘Zero Waste to...      9   \n",
       "396  King County Solid Waste Advisory Committees Ad...      6   \n",
       "397           Illinois EPA Unveils New Recycling Guide      6   \n",
       "\n",
       "                                                  Link  \n",
       "0    https://wasteadvantagemag.com/epa-acting-admin...  \n",
       "1    https://wasteadvantagemag.com/amazons-streamli...  \n",
       "2    https://wasteadvantagemag.com/plastics-industr...  \n",
       "3    https://wasteadvantagemag.com/tealinc-offers-i...  \n",
       "4    https://wasteadvantagemag.com/recycled-plastic...  \n",
       "5    https://wasteadvantagemag.com/why-glass-recycl...  \n",
       "6    https://wasteadvantagemag.com/new-utah-facilit...  \n",
       "7    https://wasteadvantagemag.com/king-countys-sol...  \n",
       "8    https://wasteadvantagemag.com/nwra-urges-balti...  \n",
       "9    https://wasteadvantagemag.com/waste-pro-looks-...  \n",
       "10   https://wasteadvantagemag.com/cintas-partners-...  \n",
       "11   https://wasteadvantagemag.com/plastics-release...  \n",
       "12   https://wasteadvantagemag.com/unexplained-brak...  \n",
       "13   https://wasteadvantagemag.com/inland-waste-sol...  \n",
       "14   https://wasteadvantagemag.com/wastequip-honors...  \n",
       "15   https://wasteadvantagemag.com/companies-making...  \n",
       "16   https://wasteadvantagemag.com/swana-announces-...  \n",
       "17   https://wasteadvantagemag.com/trash-police-pro...  \n",
       "18   https://wasteadvantagemag.com/upcycling-your-w...  \n",
       "19   https://wasteadvantagemag.com/carpet-recycling...  \n",
       "20   https://wasteadvantagemag.com/western-pennsylv...  \n",
       "21   https://wasteadvantagemag.com/tokyo-2020-medal...  \n",
       "22   https://wasteadvantagemag.com/isri-adds-three-...  \n",
       "23   https://wasteadvantagemag.com/u-s-chamber-foun...  \n",
       "24   https://wasteadvantagemag.com/southbridge-ma-c...  \n",
       "25   https://wasteadvantagemag.com/millions-of-tons...  \n",
       "26   https://wasteadvantagemag.com/expand-connectic...  \n",
       "27   https://wasteadvantagemag.com/seattle-wa-to-re...  \n",
       "28   https://wasteadvantagemag.com/santa-rosa-recyc...  \n",
       "29   https://wasteadvantagemag.com/unexplained-whee...  \n",
       "..                                                 ...  \n",
       "368  https://wasteadvantagemag.com/content-marketin...  \n",
       "369  https://wasteadvantagemag.com/eriez-appoints-t...  \n",
       "370  https://wasteadvantagemag.com/preco-electronic...  \n",
       "371  https://wasteadvantagemag.com/nwra-joins-road-...  \n",
       "372  https://wasteadvantagemag.com/simple-tips-to-m...  \n",
       "373  https://wasteadvantagemag.com/recycling-expert...  \n",
       "374  https://wasteadvantagemag.com/multiple-casinos...  \n",
       "375  https://wasteadvantagemag.com/investigation-te...  \n",
       "376  https://wasteadvantagemag.com/nyc-ban-on-some-...  \n",
       "377  https://wasteadvantagemag.com/waste-heat-to-po...  \n",
       "378  https://wasteadvantagemag.com/international-wh...  \n",
       "379  https://wasteadvantagemag.com/veolia-facility-...  \n",
       "380  https://wasteadvantagemag.com/redline-emission...  \n",
       "381  https://wasteadvantagemag.com/epa-awards-2-4-m...  \n",
       "382  https://wasteadvantagemag.com/continental-cele...  \n",
       "383  https://wasteadvantagemag.com/fuchs-continues-...  \n",
       "384  https://wasteadvantagemag.com/ecomaine-calls-f...  \n",
       "385  https://wasteadvantagemag.com/global-household...  \n",
       "386  https://wasteadvantagemag.com/savannah-ga-faci...  \n",
       "387  https://wasteadvantagemag.com/whats-recyclable...  \n",
       "388  https://wasteadvantagemag.com/trawling-for-tra...  \n",
       "389  https://wasteadvantagemag.com/team-effort-puts...  \n",
       "390  https://wasteadvantagemag.com/cleveland-oh-fin...  \n",
       "391  https://wasteadvantagemag.com/will-those-holid...  \n",
       "392  https://wasteadvantagemag.com/salt-lake-citys-...  \n",
       "393  https://wasteadvantagemag.com/expansion-plans-...  \n",
       "394  https://wasteadvantagemag.com/the-trash-one-pe...  \n",
       "395  https://wasteadvantagemag.com/how-companies-ca...  \n",
       "396  https://wasteadvantagemag.com/king-county-soli...  \n",
       "397  https://wasteadvantagemag.com/illinois-epa-unv...  \n",
       "\n",
       "[398 rows x 3 columns]"
      ]
     },
     "execution_count": 345,
     "metadata": {},
     "output_type": "execute_result"
    }
   ],
   "source": [
    "df = pd.DataFrame(data = final_list_bagofwords)\n",
    "df.columns = ['Title', 'Topic', 'Link']\n",
    "df"
   ]
  },
  {
   "cell_type": "markdown",
   "metadata": {},
   "source": [
    "## Prediction with TFIDF"
   ]
  },
  {
   "cell_type": "code",
   "execution_count": 346,
   "metadata": {},
   "outputs": [
    {
     "name": "stdout",
     "output_type": "stream",
     "text": [
      "<class 'int'>\n"
     ]
    },
    {
     "data": {
      "text/plain": [
       "[['0', '1'],\n",
       " ['1', '4'],\n",
       " ['10', '8'],\n",
       " ['100', '1'],\n",
       " ['101', '2'],\n",
       " ['102', '4'],\n",
       " ['103', '9'],\n",
       " ['104', '6'],\n",
       " ['105', '5'],\n",
       " ['106', '2']]"
      ]
     },
     "execution_count": 346,
     "metadata": {},
     "output_type": "execute_result"
    }
   ],
   "source": [
    "article_topics = []\n",
    "for i in range(0,len(test_list)):\n",
    "        test_corpus = dictionnary.doc2bow(test_list[i])\n",
    "        proba = lda_model_tfidf.get_document_topics(test_corpus)\n",
    "        article_topics.append([ str(i), str(max(proba, key = lambda w:w[1])[0])])\n",
    "print(type(prediction_list[0][1]))\n",
    "prediction_list = sorted(article_topics, key=lambda w:w[0])\n",
    "prediction_list[0:10]"
   ]
  },
  {
   "cell_type": "code",
   "execution_count": 347,
   "metadata": {},
   "outputs": [
    {
     "name": "stdout",
     "output_type": "stream",
     "text": [
      "[[0, 1], [1, 4], [2, 3], [3, 2], [4, 4], [5, 4], [6, 0], [7, 5], [8, 6], [9, 0]]\n"
     ]
    }
   ],
   "source": [
    "for e in range(len(prediction_list)):\n",
    "    for p in range(len(prediction_list[e])):\n",
    "        prediction_list[e][p] = int(prediction_list[e][p])\n",
    "prediction_list_release = sorted(prediction_list)\n",
    "print(prediction_list_release[0:10])"
   ]
  },
  {
   "cell_type": "code",
   "execution_count": 348,
   "metadata": {},
   "outputs": [
    {
     "name": "stdout",
     "output_type": "stream",
     "text": [
      "[0, 1, 1, 4, 2, 3, 3, 2, 4, 4]\n",
      "[0, 6, 5, 0, 4, 4, 2, 3, 4, 1]\n",
      "[1, 4, 3, 2, 4, 4, 0, 5, 6, 0, 8, 2, 5, 1, 9, 1, 7, 9, 5, 0]\n"
     ]
    }
   ],
   "source": [
    "prediction_list_release1 = []\n",
    "for each in prediction_list_release:\n",
    "    #print(each)\n",
    "    for i in each:    \n",
    "        prediction_list_release1.append(i)\n",
    "print(prediction_list_release1[0:10])\n",
    "\n",
    "prediction_list_release2 = []\n",
    "for i in reversed(prediction_list_release1):\n",
    "    prediction_list_release2.append(i)\n",
    "prediction_list_release2\n",
    "\n",
    "prediction_list_release3 = prediction_list_release2[::2]\n",
    "print(prediction_list_release3[-10:])\n",
    "\n",
    "prediction_list_release4 = []\n",
    "for i in reversed(prediction_list_release3):\n",
    "    prediction_list_release4.append(i)\n",
    "print(prediction_list_release4[:20])"
   ]
  },
  {
   "cell_type": "code",
   "execution_count": 349,
   "metadata": {},
   "outputs": [
    {
     "data": {
      "text/plain": [
       "[('EPA Acting Administrator Announces First-Ever Comprehensive Nationwide PFAS Action Plan',\n",
       "  1,\n",
       "  'https://wasteadvantagemag.com/epa-acting-administrator-announces-first-ever-comprehensive-nationwide-pfas-action-plan/'),\n",
       " ('Amazon’s Streamlined Plastic Packaging is Jamming Up Recycling Centers',\n",
       "  4,\n",
       "  'https://wasteadvantagemag.com/amazons-streamlined-plastic-packaging-is-jamming-up-recycling-centers/'),\n",
       " ('Plastics Industry Association Launches Search for Next President and CEO',\n",
       "  3,\n",
       "  'https://wasteadvantagemag.com/plastics-industry-association-launches-search-for-next-president-and-ceo/')]"
      ]
     },
     "execution_count": 349,
     "metadata": {},
     "output_type": "execute_result"
    }
   ],
   "source": [
    "i = 0\n",
    "final_list_tfidf = []\n",
    "for each in prediction_list_release:\n",
    "    final_list_tfidf.append((titlelist[i+a], prediction_list_release4[i], linklist[i+a]))\n",
    "    i += 1\n",
    "final_list_tfidf[:3]"
   ]
  },
  {
   "cell_type": "code",
   "execution_count": 350,
   "metadata": {},
   "outputs": [
    {
     "data": {
      "text/html": [
       "<div>\n",
       "<style scoped>\n",
       "    .dataframe tbody tr th:only-of-type {\n",
       "        vertical-align: middle;\n",
       "    }\n",
       "\n",
       "    .dataframe tbody tr th {\n",
       "        vertical-align: top;\n",
       "    }\n",
       "\n",
       "    .dataframe thead th {\n",
       "        text-align: right;\n",
       "    }\n",
       "</style>\n",
       "<table border=\"1\" class=\"dataframe\">\n",
       "  <thead>\n",
       "    <tr style=\"text-align: right;\">\n",
       "      <th></th>\n",
       "      <th>Title</th>\n",
       "      <th>Topic</th>\n",
       "      <th>Link</th>\n",
       "    </tr>\n",
       "  </thead>\n",
       "  <tbody>\n",
       "    <tr>\n",
       "      <th>0</th>\n",
       "      <td>EPA Acting Administrator Announces First-Ever ...</td>\n",
       "      <td>1</td>\n",
       "      <td>https://wasteadvantagemag.com/epa-acting-admin...</td>\n",
       "    </tr>\n",
       "    <tr>\n",
       "      <th>1</th>\n",
       "      <td>Amazon’s Streamlined Plastic Packaging is Jamm...</td>\n",
       "      <td>4</td>\n",
       "      <td>https://wasteadvantagemag.com/amazons-streamli...</td>\n",
       "    </tr>\n",
       "    <tr>\n",
       "      <th>2</th>\n",
       "      <td>Plastics Industry Association Launches Search ...</td>\n",
       "      <td>3</td>\n",
       "      <td>https://wasteadvantagemag.com/plastics-industr...</td>\n",
       "    </tr>\n",
       "    <tr>\n",
       "      <th>3</th>\n",
       "      <td>Tealinc Offers Industry Scholarship</td>\n",
       "      <td>2</td>\n",
       "      <td>https://wasteadvantagemag.com/tealinc-offers-i...</td>\n",
       "    </tr>\n",
       "    <tr>\n",
       "      <th>4</th>\n",
       "      <td>Recycled Plastic Gets a Second Life in Renaiss...</td>\n",
       "      <td>4</td>\n",
       "      <td>https://wasteadvantagemag.com/recycled-plastic...</td>\n",
       "    </tr>\n",
       "    <tr>\n",
       "      <th>5</th>\n",
       "      <td>Why Glass Recycling in the U.S. is Broken</td>\n",
       "      <td>4</td>\n",
       "      <td>https://wasteadvantagemag.com/why-glass-recycl...</td>\n",
       "    </tr>\n",
       "    <tr>\n",
       "      <th>6</th>\n",
       "      <td>New Utah Facility Will Turn Food Waste Into Re...</td>\n",
       "      <td>0</td>\n",
       "      <td>https://wasteadvantagemag.com/new-utah-facilit...</td>\n",
       "    </tr>\n",
       "    <tr>\n",
       "      <th>7</th>\n",
       "      <td>King County’s Solid Waste Division Invites Com...</td>\n",
       "      <td>5</td>\n",
       "      <td>https://wasteadvantagemag.com/king-countys-sol...</td>\n",
       "    </tr>\n",
       "    <tr>\n",
       "      <th>8</th>\n",
       "      <td>NWRA Urges Baltimore City to Reconsider Air Qu...</td>\n",
       "      <td>6</td>\n",
       "      <td>https://wasteadvantagemag.com/nwra-urges-balti...</td>\n",
       "    </tr>\n",
       "    <tr>\n",
       "      <th>9</th>\n",
       "      <td>Waste Pro Looks Within to Address National Dri...</td>\n",
       "      <td>0</td>\n",
       "      <td>https://wasteadvantagemag.com/waste-pro-looks-...</td>\n",
       "    </tr>\n",
       "  </tbody>\n",
       "</table>\n",
       "</div>"
      ],
      "text/plain": [
       "                                               Title  Topic  \\\n",
       "0  EPA Acting Administrator Announces First-Ever ...      1   \n",
       "1  Amazon’s Streamlined Plastic Packaging is Jamm...      4   \n",
       "2  Plastics Industry Association Launches Search ...      3   \n",
       "3                Tealinc Offers Industry Scholarship      2   \n",
       "4  Recycled Plastic Gets a Second Life in Renaiss...      4   \n",
       "5          Why Glass Recycling in the U.S. is Broken      4   \n",
       "6  New Utah Facility Will Turn Food Waste Into Re...      0   \n",
       "7  King County’s Solid Waste Division Invites Com...      5   \n",
       "8  NWRA Urges Baltimore City to Reconsider Air Qu...      6   \n",
       "9  Waste Pro Looks Within to Address National Dri...      0   \n",
       "\n",
       "                                                Link  \n",
       "0  https://wasteadvantagemag.com/epa-acting-admin...  \n",
       "1  https://wasteadvantagemag.com/amazons-streamli...  \n",
       "2  https://wasteadvantagemag.com/plastics-industr...  \n",
       "3  https://wasteadvantagemag.com/tealinc-offers-i...  \n",
       "4  https://wasteadvantagemag.com/recycled-plastic...  \n",
       "5  https://wasteadvantagemag.com/why-glass-recycl...  \n",
       "6  https://wasteadvantagemag.com/new-utah-facilit...  \n",
       "7  https://wasteadvantagemag.com/king-countys-sol...  \n",
       "8  https://wasteadvantagemag.com/nwra-urges-balti...  \n",
       "9  https://wasteadvantagemag.com/waste-pro-looks-...  "
      ]
     },
     "execution_count": 350,
     "metadata": {},
     "output_type": "execute_result"
    }
   ],
   "source": [
    "df = pd.DataFrame(data = final_list_tfidf)\n",
    "df.columns = ['Title', 'Topic', 'Link']\n",
    "df[0:10]"
   ]
  },
  {
   "cell_type": "code",
   "execution_count": 351,
   "metadata": {},
   "outputs": [
    {
     "data": {
      "text/html": [
       "<div>\n",
       "<style scoped>\n",
       "    .dataframe tbody tr th:only-of-type {\n",
       "        vertical-align: middle;\n",
       "    }\n",
       "\n",
       "    .dataframe tbody tr th {\n",
       "        vertical-align: top;\n",
       "    }\n",
       "\n",
       "    .dataframe thead th {\n",
       "        text-align: right;\n",
       "    }\n",
       "</style>\n",
       "<table border=\"1\" class=\"dataframe\">\n",
       "  <thead>\n",
       "    <tr style=\"text-align: right;\">\n",
       "      <th></th>\n",
       "      <th>Title</th>\n",
       "      <th>Topic</th>\n",
       "      <th>Link</th>\n",
       "    </tr>\n",
       "  </thead>\n",
       "  <tbody>\n",
       "    <tr>\n",
       "      <th>262</th>\n",
       "      <td>U.S. EPA Recognizes Food Recovery Efforts in C...</td>\n",
       "      <td>0</td>\n",
       "      <td>https://wasteadvantagemag.com/u-s-epa-recogniz...</td>\n",
       "    </tr>\n",
       "    <tr>\n",
       "      <th>66</th>\n",
       "      <td>Get to Know: Brenda A. Haney, P.E.</td>\n",
       "      <td>0</td>\n",
       "      <td>https://wasteadvantagemag.com/brenda-a-haney-p-e/</td>\n",
       "    </tr>\n",
       "    <tr>\n",
       "      <th>38</th>\n",
       "      <td>A Chair Made from Ocean Waste Hints at the Fur...</td>\n",
       "      <td>0</td>\n",
       "      <td>https://wasteadvantagemag.com/a-chair-made-fro...</td>\n",
       "    </tr>\n",
       "    <tr>\n",
       "      <th>168</th>\n",
       "      <td>City of Cheyenne Selects Burns &amp; McDonnell to ...</td>\n",
       "      <td>0</td>\n",
       "      <td>https://wasteadvantagemag.com/city-of-cheyenne...</td>\n",
       "    </tr>\n",
       "    <tr>\n",
       "      <th>366</th>\n",
       "      <td>Learning from Others</td>\n",
       "      <td>0</td>\n",
       "      <td>https://wasteadvantagemag.com/learning-from-ot...</td>\n",
       "    </tr>\n",
       "    <tr>\n",
       "      <th>365</th>\n",
       "      <td>Gloves Receive ‘Back of the Hand’ Treatment</td>\n",
       "      <td>0</td>\n",
       "      <td>https://wasteadvantagemag.com/gloves-receive-b...</td>\n",
       "    </tr>\n",
       "    <tr>\n",
       "      <th>143</th>\n",
       "      <td>Bucks Fabricating Celebrates 35 Years of Business</td>\n",
       "      <td>0</td>\n",
       "      <td>https://wasteadvantagemag.com/bucks-fabricatin...</td>\n",
       "    </tr>\n",
       "    <tr>\n",
       "      <th>9</th>\n",
       "      <td>Waste Pro Looks Within to Address National Dri...</td>\n",
       "      <td>0</td>\n",
       "      <td>https://wasteadvantagemag.com/waste-pro-looks-...</td>\n",
       "    </tr>\n",
       "    <tr>\n",
       "      <th>68</th>\n",
       "      <td>Maintenance: Improve Asset Efficiency with Pre...</td>\n",
       "      <td>0</td>\n",
       "      <td>https://wasteadvantagemag.com/maintenance-impr...</td>\n",
       "    </tr>\n",
       "    <tr>\n",
       "      <th>6</th>\n",
       "      <td>New Utah Facility Will Turn Food Waste Into Re...</td>\n",
       "      <td>0</td>\n",
       "      <td>https://wasteadvantagemag.com/new-utah-facilit...</td>\n",
       "    </tr>\n",
       "  </tbody>\n",
       "</table>\n",
       "</div>"
      ],
      "text/plain": [
       "                                                 Title  Topic  \\\n",
       "262  U.S. EPA Recognizes Food Recovery Efforts in C...      0   \n",
       "66                  Get to Know: Brenda A. Haney, P.E.      0   \n",
       "38   A Chair Made from Ocean Waste Hints at the Fur...      0   \n",
       "168  City of Cheyenne Selects Burns & McDonnell to ...      0   \n",
       "366                               Learning from Others      0   \n",
       "365        Gloves Receive ‘Back of the Hand’ Treatment      0   \n",
       "143  Bucks Fabricating Celebrates 35 Years of Business      0   \n",
       "9    Waste Pro Looks Within to Address National Dri...      0   \n",
       "68   Maintenance: Improve Asset Efficiency with Pre...      0   \n",
       "6    New Utah Facility Will Turn Food Waste Into Re...      0   \n",
       "\n",
       "                                                  Link  \n",
       "262  https://wasteadvantagemag.com/u-s-epa-recogniz...  \n",
       "66   https://wasteadvantagemag.com/brenda-a-haney-p-e/  \n",
       "38   https://wasteadvantagemag.com/a-chair-made-fro...  \n",
       "168  https://wasteadvantagemag.com/city-of-cheyenne...  \n",
       "366  https://wasteadvantagemag.com/learning-from-ot...  \n",
       "365  https://wasteadvantagemag.com/gloves-receive-b...  \n",
       "143  https://wasteadvantagemag.com/bucks-fabricatin...  \n",
       "9    https://wasteadvantagemag.com/waste-pro-looks-...  \n",
       "68   https://wasteadvantagemag.com/maintenance-impr...  \n",
       "6    https://wasteadvantagemag.com/new-utah-facilit...  "
      ]
     },
     "execution_count": 351,
     "metadata": {},
     "output_type": "execute_result"
    }
   ],
   "source": [
    "df.sort_values(by = 'Topic', ascending=True)[0:10]"
   ]
  },
  {
   "cell_type": "code",
   "execution_count": 352,
   "metadata": {},
   "outputs": [],
   "source": [
    "df.to_excel('DataFrameTopic.xlsx')"
   ]
  },
  {
   "cell_type": "markdown",
   "metadata": {},
   "source": [
    "### Conclusion"
   ]
  },
  {
   "cell_type": "markdown",
   "metadata": {},
   "source": [
    "We have now our LDA model and thanks to them we can predict our article will be more associated to one or another topic! It easy so helpful to know that before reading the article beacuse it allows you to choose an article before reading it just by choosing which topic is the most interesting in your opinion and find the right one! You have also the link on the excel file in order to access easier the webpage!\n",
    "\n",
    "We could see that the 2 LDA models are a bit different but it is absolutely normal because it depends on the corpus used.\n",
    "\n",
    "Thanks to this study we learnt that :\n",
    "- Other waste seems to be the most reccurent category before recyclable in waste articles\n",
    "- Plastic (waste) is the word refered to a category of waste which the most used in these articles\n",
    "- Waste / recycling and the other most important words are all in the center of our gephi graph (seems logical) and create 6 classes!"
   ]
  }
 ],
 "metadata": {
  "kernelspec": {
   "display_name": "Python 3",
   "language": "python",
   "name": "python3"
  },
  "language_info": {
   "codemirror_mode": {
    "name": "ipython",
    "version": 3
   },
   "file_extension": ".py",
   "mimetype": "text/x-python",
   "name": "python",
   "nbconvert_exporter": "python",
   "pygments_lexer": "ipython3",
   "version": "3.7.1"
  }
 },
 "nbformat": 4,
 "nbformat_minor": 2
}
