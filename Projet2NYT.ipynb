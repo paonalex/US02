{
 "cells": [
  {
   "cell_type": "code",
   "execution_count": 243,
   "metadata": {},
   "outputs": [],
   "source": [
    "import pandas\n",
    "import time\n",
    "import random\n",
    "import pickle\n",
    "import requests\n",
    "import tqdm\n",
    "import html5lib\n",
    "import lxml\n",
    "import nltk\n",
    "import csv\n",
    "from bs4 import BeautifulSoup\n",
    "from collections import Counter"
   ]
  },
  {
   "cell_type": "code",
   "execution_count": 94,
   "metadata": {},
   "outputs": [
    {
     "name": "stderr",
     "output_type": "stream",
     "text": [
      "[nltk_data] Downloading package punkt to\n",
      "[nltk_data]     C:\\Users\\alexa\\AppData\\Roaming\\nltk_data...\n",
      "[nltk_data]   Unzipping tokenizers\\punkt.zip.\n"
     ]
    },
    {
     "data": {
      "text/plain": [
       "True"
      ]
     },
     "execution_count": 94,
     "metadata": {},
     "output_type": "execute_result"
    }
   ],
   "source": [
    "nltk.download('punkt')"
   ]
  },
  {
   "cell_type": "code",
   "execution_count": 98,
   "metadata": {},
   "outputs": [
    {
     "name": "stderr",
     "output_type": "stream",
     "text": [
      "[nltk_data] Downloading package averaged_perceptron_tagger to\n",
      "[nltk_data]     C:\\Users\\alexa\\AppData\\Roaming\\nltk_data...\n",
      "[nltk_data]   Unzipping taggers\\averaged_perceptron_tagger.zip.\n"
     ]
    },
    {
     "data": {
      "text/plain": [
       "True"
      ]
     },
     "execution_count": 98,
     "metadata": {},
     "output_type": "execute_result"
    }
   ],
   "source": [
    "nltk.download('averaged_perceptron_tagger')"
   ]
  },
  {
   "cell_type": "code",
   "execution_count": 244,
   "metadata": {},
   "outputs": [
    {
     "name": "stdout",
     "output_type": "stream",
     "text": [
      "[<h2 class=\"headline\" itemprop=\"headline\">\n",
      "                    Store’s Bid to Shame Customers Over Plastic Bags Backfires                </h2>, <h2 class=\"headline\" itemprop=\"headline\">\n",
      "                    Recyclers Cringe as Southeast Asia Says It’s Sick of the West’s Trash                </h2>, <h2 class=\"headline\" itemprop=\"headline\">\n",
      "                    France to End Disposal of $900 Million in Unsold Goods Each Year                </h2>, <h2 class=\"headline\" itemprop=\"headline\">\n",
      "                    Carnival Cruises to Pay $20 Million in Pollution and Cover-Up Case                </h2>, <h2 class=\"headline\" itemprop=\"headline\">\n",
      "                    Those Tiny Hotel Toiletry Bottles Are on Their Way Out                </h2>, <h2 class=\"headline\" itemprop=\"headline\">\n",
      "                    Food Delivery Apps Are Drowning China in Plastic                </h2>, <h2 class=\"headline\" itemprop=\"headline\">\n",
      "                    Canada Agrees to Take Back Trash Sent to Philippines Years Ago                </h2>, <h2 class=\"headline\" itemprop=\"headline\">\n",
      "                    Philippines Recalls Its Ambassador to Canada in a Spat Over Trash                </h2>, <h2 class=\"headline\" itemprop=\"headline\">\n",
      "                    Waste Not, if You Want to Help Secure the Future of the Planet                </h2>, <h2 class=\"headline\" itemprop=\"headline\">\n",
      "                    Electronic Marvels Turn Into Dangerous Trash in East Africa                </h2>, <h2 class=\"headline\" itemprop=\"headline\">\n",
      "                    Philippines Sets Deadline for Canada to Take Back Trash                </h2>, <h2 class=\"headline\" itemprop=\"headline\">\n",
      "                    Capri Welcomes 2.3 Million Tourists a Year but Wants to Limit the Trash They Leave Behind                </h2>, <h2 class=\"headline\" itemprop=\"headline\">\n",
      "                    Seaweed Pods, Anyone? Marathons Get Creative to Stop Littering the Streets                </h2>, <h2 class=\"headline\" itemprop=\"headline\">\n",
      "                    After Duterte’s Threats Over Tons of Old Trash, Canada Says It’s Working on It                </h2>, <h2 class=\"headline\" itemprop=\"headline\">\n",
      "                    Paper or Plastic? Time to Bring Your Own Bag                </h2>, <h2 class=\"headline\" itemprop=\"headline\">\n",
      "                    Hello, Little Microbe. Doesn’t This Jacket Look Yummy?                </h2>, <h2 class=\"headline\" itemprop=\"headline\">\n",
      "                    Tackling the Plastic Problem, One City (or Country) at a Time                </h2>, <h2 class=\"headline\" itemprop=\"headline\">\n",
      "                    How to Travel Without Leaving a Trace                </h2>, <h2 class=\"headline\" itemprop=\"headline\">\n",
      "                    How to Break Your Single-Use Plastics Habit                </h2>, <h2 class=\"headline\" itemprop=\"headline\">\n",
      "                    When Trash Is a Journalist’s Treasure                </h2>, <h2 class=\"headline\">88 Pounds of Trash Found in Whale’s Stomach</h2>, <h2 class=\"headline\">‘Monster of a Fatberg’ Discovered In English Sewer</h2>, <h2 class=\"headline\">Dead Whale’s Stomach Is Found Filled With Trash in Indonesia</h2>, <h2 class=\"headline\" itemprop=\"headline\">\n",
      "                    Store’s Bid to Shame Customers Over Plastic Bags Backfires                </h2>, <h2 class=\"headline\" itemprop=\"headline\">\n",
      "                    Recyclers Cringe as Southeast Asia Says It’s Sick of the West’s Trash                </h2>, <h2 class=\"headline\" itemprop=\"headline\">\n",
      "                    France to End Disposal of $900 Million in Unsold Goods Each Year                </h2>, <h2 class=\"headline\" itemprop=\"headline\">\n",
      "                    Carnival Cruises to Pay $20 Million in Pollution and Cover-Up Case                </h2>, <h2 class=\"headline\" itemprop=\"headline\">\n",
      "                    Those Tiny Hotel Toiletry Bottles Are on Their Way Out                </h2>, <h2 class=\"headline\" itemprop=\"headline\">\n",
      "                    Food Delivery Apps Are Drowning China in Plastic                </h2>, <h2 class=\"headline\" itemprop=\"headline\">\n",
      "                    Canada Agrees to Take Back Trash Sent to Philippines Years Ago                </h2>, <h2 class=\"headline\" itemprop=\"headline\">\n",
      "                    Philippines Recalls Its Ambassador to Canada in a Spat Over Trash                </h2>, <h2 class=\"headline\" itemprop=\"headline\">\n",
      "                    Waste Not, if You Want to Help Secure the Future of the Planet                </h2>, <h2 class=\"headline\" itemprop=\"headline\">\n",
      "                    Electronic Marvels Turn Into Dangerous Trash in East Africa                </h2>, <h2 class=\"headline\" itemprop=\"headline\">\n",
      "                    Philippines Sets Deadline for Canada to Take Back Trash                </h2>, <h2 class=\"headline\" itemprop=\"headline\">\n",
      "                    Capri Welcomes 2.3 Million Tourists a Year but Wants to Limit the Trash They Leave Behind                </h2>, <h2 class=\"headline\" itemprop=\"headline\">\n",
      "                    Seaweed Pods, Anyone? Marathons Get Creative to Stop Littering the Streets                </h2>, <h2 class=\"headline\" itemprop=\"headline\">\n",
      "                    After Duterte’s Threats Over Tons of Old Trash, Canada Says It’s Working on It                </h2>, <h2 class=\"headline\" itemprop=\"headline\">\n",
      "                    Paper or Plastic? Time to Bring Your Own Bag                </h2>, <h2 class=\"headline\" itemprop=\"headline\">\n",
      "                    Hello, Little Microbe. Doesn’t This Jacket Look Yummy?                </h2>, <h2 class=\"headline\" itemprop=\"headline\">\n",
      "                    Tackling the Plastic Problem, One City (or Country) at a Time                </h2>, <h2 class=\"headline\" itemprop=\"headline\">\n",
      "                    How to Travel Without Leaving a Trace                </h2>, <h2 class=\"headline\" itemprop=\"headline\">\n",
      "                    How to Break Your Single-Use Plastics Habit                </h2>, <h2 class=\"headline\" itemprop=\"headline\">\n",
      "                    When Trash Is a Journalist’s Treasure                </h2>]\n"
     ]
    }
   ],
   "source": [
    "source = requests.get('https://www.nytimes.com/topic/subject/waste-materials-and-disposal').text\n",
    "\n",
    "soup = BeautifulSoup(source, 'html5lib')\n",
    "\n",
    "articles = soup.find_all('div', 'story-meta')\n",
    "\n",
    "for article in articles:\n",
    "    \n",
    "\n",
    "print(article)"
   ]
  },
  {
   "cell_type": "code",
   "execution_count": 6,
   "metadata": {},
   "outputs": [
    {
     "data": {
      "text/plain": [
       "35"
      ]
     },
     "execution_count": 6,
     "metadata": {},
     "output_type": "execute_result"
    }
   ],
   "source": [
    "csv_file = open('cms_scrape1.csv', 'w')\n",
    "\n",
    "csv_writer = csv.writer(csv_file)\n",
    "\n",
    "csv_writer.writerow([\"headlines\", \"summaries\", \"resultat\", \"date\"])"
   ]
  },
  {
   "cell_type": "code",
   "execution_count": 7,
   "metadata": {},
   "outputs": [
    {
     "name": "stdout",
     "output_type": "stream",
     "text": [
      "\n",
      "                    Recyclers Cringe as Southeast Asia Says It’s Sick of the West’s Trash                \n",
      "After China restricted plastic scrap imports, countries like Malaysia took the brunt of the waste. But now there’s a regionwide backlash, and recyclers are worried.\n",
      "Mike Ives\n",
      "June 7, 2019\n",
      "\n",
      "                    France to End Disposal of $900 Million in Unsold Goods Each Year                \n",
      "The government plans to outlaw the destruction of brand-new consumer products, a practice that companies use to stop goods from being stolen or sold at steep discounts.\n",
      "Palko Karasz\n",
      "June 5, 2019\n",
      "\n",
      "                    Carnival Cruises to Pay $20 Million in Pollution and Cover-Up Case                \n",
      "In 2016, Princess Cruise Lines agreed to pay $40 million for illegal dumping. But that didn’t stop Carnival, its parent company, from polluting again.\n",
      "Sarah Mervosh\n",
      "June 4, 2019\n",
      "\n",
      "                    Those Tiny Hotel Toiletry Bottles Are on Their Way Out                \n",
      "A bill in California would force hotels to get rid of single-use shampoo and soap bottles to keep plastic waste down.\n",
      "Christine Hauser\n",
      "June 4, 2019\n",
      "\n",
      "                    Food Delivery Apps Are Drowning China in Plastic                \n",
      "The noodles and barbecue arrive within 30 minutes. The containers they come in could be around for hundreds of years thereafter.\n",
      "Raymond Zhong and Carolyn Zhang\n",
      "May 28, 2019\n",
      "\n",
      "                    Canada Agrees to Take Back Trash Sent to Philippines Years Ago                \n",
      "The garbage, which was mistakenly shipped to the Philippines in 2013 and 2014, had been the subject of a diplomatic dispute and outrage from President Rodrigo Duterte.\n",
      "Jason Gutierrez\n",
      "May 23, 2019\n",
      "\n",
      "                    Philippines Recalls Its Ambassador to Canada in a Spat Over Trash                \n",
      "The recall comes after Canada failed to take back tons of household rubbish sent to the Southeast Asian country that had been labeled as recyclable.\n",
      "Jason Gutierrez\n",
      "May 16, 2019\n",
      "\n",
      "                    Waste Not, if You Want to Help Secure the Future of the Planet                \n",
      "Companies are experimenting with new definitions of waste and new ways of disposing of it — or avoiding the creation of it altogether\n",
      "Tatiana Schlossberg\n",
      "May 12, 2019\n",
      "\n",
      "                    Electronic Marvels Turn Into Dangerous Trash in East Africa                \n",
      "Companies seek solutions to the unintended consequences of rising wealth that allows for more electronics — and the e-waste that inevitably comes next.\n",
      "Amy Yee\n",
      "May 12, 2019\n",
      "\n",
      "                    Philippines Sets Deadline for Canada to Take Back Trash                \n",
      "President Rodrigo Duterte demanded that tons of garbage mistakenly sent to his country be returned by May 15, threatening otherwise to dump it on Canada’s shore.\n",
      "Jason Gutierrez\n",
      "May 8, 2019\n",
      "\n",
      "                    Capri Welcomes 2.3 Million Tourists a Year but Wants to Limit the Trash They Leave Behind                \n",
      "Capri has decreed a ban on plastic and would like to limit boat traffic, too, in an effort to control those twin Italian ills: tourism and trash.\n",
      "Rod Nordland\n",
      "May 1, 2019\n",
      "\n",
      "                    Seaweed Pods, Anyone? Marathons Get Creative to Stop Littering the Streets                \n",
      "Plastic bottles and cups fill the streets after marathons. But a more pressing problem from these events is something you can’t see: Your carbon footprint.\n",
      "Sarah Mervosh\n",
      "April 30, 2019\n",
      "\n",
      "                    After Duterte’s Threats Over Tons of Old Trash, Canada Says It’s Working on It                \n",
      "President Rodrigo Duterte of the Philippines said he was ready to “declare war” with Canada over hundreds of tons of waste shipped to his country over five years ago.\n",
      "Alan Yuhas\n",
      "April 26, 2019\n",
      "\n",
      "                    Paper or Plastic? Time to Bring Your Own Bag                \n",
      "The City Council has approved a 5-cent charge on paper bags, making it harder to hide from the statewide ban on single-use plastic ones.\n",
      "Michael Gold\n",
      "April 22, 2019\n",
      "\n",
      "                    Hello, Little Microbe. Doesn’t This Jacket Look Yummy?                \n",
      "Now we can trick tiny bugs into eating our clothing. Consumption is finally a good thing.\n",
      "Vanessa Friedman\n",
      "April 22, 2019\n",
      "\n",
      "                    Tackling the Plastic Problem, One City (or Country) at a Time                \n",
      "For Earth Day, a look at what three traveler-friendly locations are doing to reduce their plastic waste.\n",
      "Zach Wichter\n",
      "April 22, 2019\n",
      "\n",
      "                    How to Travel Without Leaving a Trace                \n",
      "In time for Earth Day, items that tourist destinations often find tossed out by travelers — and some ways that you can avoid adding to all that rubbish.\n",
      "Ria Misra\n",
      "April 21, 2019\n",
      "\n",
      "                    How to Break Your Single-Use Plastics Habit                \n",
      "Ditch your one-and-done straws, spoons, and containers with this kit of affordable, reusable stand-ins.\n",
      "Kaitlyn Wells\n",
      "April 16, 2019\n",
      "\n",
      "                    When Trash Is a Journalist’s Treasure                \n",
      "Jake Orta was not aware he was searching the bins of Mark Zuckerberg’s house until we told him who owned the place.\n",
      "Thomas Fuller\n",
      "April 10, 2019\n",
      "\n",
      "                    In San Francisco, Making a Living From Your Billionaire Neighbor’s Trash                \n",
      "In a city swollen by the wealth of the tech industry, the rich and poor live very separate lives. But sometimes they connect through the garbage.\n",
      "Thomas Fuller\n",
      "April 7, 2019\n",
      "88 Pounds of Trash Found in Whale’s Stomach\n",
      "March 18, 2019\n",
      "‘Monster of a Fatberg’ Discovered In English Sewer\n",
      "Jan. 8, 2019\n",
      "Dead Whale’s Stomach Is Found Filled With Trash in Indonesia\n",
      "Nov. 21, 2018\n",
      "\n",
      "                    Recyclers Cringe as Southeast Asia Says It’s Sick of the West’s Trash                \n",
      "After China restricted plastic scrap imports, countries like Malaysia took the brunt of the waste. But now there’s a regionwide backlash, and recyclers are worried.\n",
      "Mike Ives\n",
      "June 7, 2019\n",
      "\n",
      "                    France to End Disposal of $900 Million in Unsold Goods Each Year                \n",
      "The government plans to outlaw the destruction of brand-new consumer products, a practice that companies use to stop goods from being stolen or sold at steep discounts.\n",
      "Palko Karasz\n",
      "June 5, 2019\n",
      "\n",
      "                    Carnival Cruises to Pay $20 Million in Pollution and Cover-Up Case                \n",
      "In 2016, Princess Cruise Lines agreed to pay $40 million for illegal dumping. But that didn’t stop Carnival, its parent company, from polluting again.\n",
      "Sarah Mervosh\n",
      "June 4, 2019\n",
      "\n",
      "                    Those Tiny Hotel Toiletry Bottles Are on Their Way Out                \n",
      "A bill in California would force hotels to get rid of single-use shampoo and soap bottles to keep plastic waste down.\n",
      "Christine Hauser\n",
      "June 4, 2019\n",
      "\n",
      "                    Food Delivery Apps Are Drowning China in Plastic                \n",
      "The noodles and barbecue arrive within 30 minutes. The containers they come in could be around for hundreds of years thereafter.\n",
      "Raymond Zhong and Carolyn Zhang\n",
      "May 28, 2019\n",
      "\n",
      "                    Canada Agrees to Take Back Trash Sent to Philippines Years Ago                \n",
      "The garbage, which was mistakenly shipped to the Philippines in 2013 and 2014, had been the subject of a diplomatic dispute and outrage from President Rodrigo Duterte.\n",
      "Jason Gutierrez\n",
      "May 23, 2019\n",
      "\n",
      "                    Philippines Recalls Its Ambassador to Canada in a Spat Over Trash                \n",
      "The recall comes after Canada failed to take back tons of household rubbish sent to the Southeast Asian country that had been labeled as recyclable.\n",
      "Jason Gutierrez\n",
      "May 16, 2019\n",
      "\n",
      "                    Waste Not, if You Want to Help Secure the Future of the Planet                \n",
      "Companies are experimenting with new definitions of waste and new ways of disposing of it — or avoiding the creation of it altogether\n",
      "Tatiana Schlossberg\n",
      "May 12, 2019\n",
      "\n",
      "                    Electronic Marvels Turn Into Dangerous Trash in East Africa                \n",
      "Companies seek solutions to the unintended consequences of rising wealth that allows for more electronics — and the e-waste that inevitably comes next.\n",
      "Amy Yee\n",
      "May 12, 2019\n",
      "\n",
      "                    Philippines Sets Deadline for Canada to Take Back Trash                \n",
      "President Rodrigo Duterte demanded that tons of garbage mistakenly sent to his country be returned by May 15, threatening otherwise to dump it on Canada’s shore.\n",
      "Jason Gutierrez\n",
      "May 8, 2019\n",
      "\n",
      "                    Capri Welcomes 2.3 Million Tourists a Year but Wants to Limit the Trash They Leave Behind                \n",
      "Capri has decreed a ban on plastic and would like to limit boat traffic, too, in an effort to control those twin Italian ills: tourism and trash.\n",
      "Rod Nordland\n",
      "May 1, 2019\n",
      "\n",
      "                    Seaweed Pods, Anyone? Marathons Get Creative to Stop Littering the Streets                \n",
      "Plastic bottles and cups fill the streets after marathons. But a more pressing problem from these events is something you can’t see: Your carbon footprint.\n",
      "Sarah Mervosh\n",
      "April 30, 2019\n",
      "\n",
      "                    After Duterte’s Threats Over Tons of Old Trash, Canada Says It’s Working on It                \n",
      "President Rodrigo Duterte of the Philippines said he was ready to “declare war” with Canada over hundreds of tons of waste shipped to his country over five years ago.\n",
      "Alan Yuhas\n",
      "April 26, 2019\n",
      "\n",
      "                    Paper or Plastic? Time to Bring Your Own Bag                \n",
      "The City Council has approved a 5-cent charge on paper bags, making it harder to hide from the statewide ban on single-use plastic ones.\n",
      "Michael Gold\n",
      "April 22, 2019\n",
      "\n",
      "                    Hello, Little Microbe. Doesn’t This Jacket Look Yummy?                \n",
      "Now we can trick tiny bugs into eating our clothing. Consumption is finally a good thing.\n",
      "Vanessa Friedman\n",
      "April 22, 2019\n",
      "\n",
      "                    Tackling the Plastic Problem, One City (or Country) at a Time                \n",
      "For Earth Day, a look at what three traveler-friendly locations are doing to reduce their plastic waste.\n",
      "Zach Wichter\n",
      "April 22, 2019\n",
      "\n",
      "                    How to Travel Without Leaving a Trace                \n",
      "In time for Earth Day, items that tourist destinations often find tossed out by travelers — and some ways that you can avoid adding to all that rubbish.\n",
      "Ria Misra\n",
      "April 21, 2019\n",
      "\n",
      "                    How to Break Your Single-Use Plastics Habit                \n",
      "Ditch your one-and-done straws, spoons, and containers with this kit of affordable, reusable stand-ins.\n",
      "Kaitlyn Wells\n",
      "April 16, 2019\n",
      "\n",
      "                    When Trash Is a Journalist’s Treasure                \n",
      "Jake Orta was not aware he was searching the bins of Mark Zuckerberg’s house until we told him who owned the place.\n",
      "Thomas Fuller\n",
      "April 10, 2019\n",
      "\n",
      "                    In San Francisco, Making a Living From Your Billionaire Neighbor’s Trash                \n",
      "In a city swollen by the wealth of the tech industry, the rich and poor live very separate lives. But sometimes they connect through the garbage.\n",
      "Thomas Fuller\n",
      "April 7, 2019\n"
     ]
    }
   ],
   "source": [
    "for article in soup.find_all('article'):\n",
    "    headlines = article.h2.text\n",
    "    print(headlines)\n",
    "    \n",
    "    try : \n",
    "        summaries = article.find('p', class_='summary').text\n",
    "        print(summaries)\n",
    "        \n",
    "        author = article.find('p', class_='byline').text\n",
    "        c= author.split(\" \")[1:]\n",
    "        resultat = \" \".join(c)\n",
    "        print(resultat)\n",
    "        \n",
    "    except :\n",
    "        pass\n",
    "\n",
    " \n",
    "    date = article.find('time', class_='dateline').text\n",
    "    print(date)\n",
    "    \n",
    "    csv_writer.writerow([headlines, summaries, resultat, date])\n",
    "\n",
    "csv_file.close()"
   ]
  },
  {
   "cell_type": "code",
   "execution_count": 86,
   "metadata": {},
   "outputs": [],
   "source": [
    "def get_list_article_name(soup):\n",
    "    titlelist = []\n",
    "    storymeta = soup.find_all('div', 'story-meta')\n",
    "    for article in storymeta:\n",
    "        a = article.find_all('h2')\n",
    "        for articletitle in a:\n",
    "            title = articletitle.contents[0]\n",
    "            title1 = title.split(' ')[20:]\n",
    "            title2 = title1[:-16]\n",
    "            title3 = \" \".join(title2)\n",
    "        titlelist.append(title3)\n",
    "    return titlelist\n"
   ]
  },
  {
   "cell_type": "code",
   "execution_count": 87,
   "metadata": {},
   "outputs": [],
   "source": [
    "titlelist = get_list_article_name(soup)"
   ]
  },
  {
   "cell_type": "code",
   "execution_count": 88,
   "metadata": {},
   "outputs": [
    {
     "name": "stdout",
     "output_type": "stream",
     "text": [
      "['Recyclers Cringe as Southeast Asia Says It’s Sick of the West’s Trash', 'France to End Disposal of $900 Million in Unsold Goods Each Year', 'Carnival Cruises to Pay $20 Million in Pollution and Cover-Up Case', 'Those Tiny Hotel Toiletry Bottles Are on Their Way Out', 'Food Delivery Apps Are Drowning China in Plastic', 'Canada Agrees to Take Back Trash Sent to Philippines Years Ago', 'Philippines Recalls Its Ambassador to Canada in a Spat Over Trash', 'Waste Not, if You Want to Help Secure the Future of the Planet', 'Electronic Marvels Turn Into Dangerous Trash in East Africa', 'Philippines Sets Deadline for Canada to Take Back Trash', 'Capri Welcomes 2.3 Million Tourists a Year but Wants to Limit the Trash They Leave Behind', 'Seaweed Pods, Anyone? Marathons Get Creative to Stop Littering the Streets', 'After Duterte’s Threats Over Tons of Old Trash, Canada Says It’s Working on It', 'Paper or Plastic? Time to Bring Your Own Bag', 'Hello, Little Microbe. Doesn’t This Jacket Look Yummy?', 'Tackling the Plastic Problem, One City (or Country) at a Time', 'How to Travel Without Leaving a Trace', 'How to Break Your Single-Use Plastics Habit', 'When Trash Is a Journalist’s Treasure', 'In San Francisco, Making a Living From Your Billionaire Neighbor’s Trash', 'Recyclers Cringe as Southeast Asia Says It’s Sick of the West’s Trash', 'France to End Disposal of $900 Million in Unsold Goods Each Year', 'Carnival Cruises to Pay $20 Million in Pollution and Cover-Up Case', 'Those Tiny Hotel Toiletry Bottles Are on Their Way Out', 'Food Delivery Apps Are Drowning China in Plastic', 'Canada Agrees to Take Back Trash Sent to Philippines Years Ago', 'Philippines Recalls Its Ambassador to Canada in a Spat Over Trash', 'Waste Not, if You Want to Help Secure the Future of the Planet', 'Electronic Marvels Turn Into Dangerous Trash in East Africa', 'Philippines Sets Deadline for Canada to Take Back Trash', 'Capri Welcomes 2.3 Million Tourists a Year but Wants to Limit the Trash They Leave Behind', 'Seaweed Pods, Anyone? Marathons Get Creative to Stop Littering the Streets', 'After Duterte’s Threats Over Tons of Old Trash, Canada Says It’s Working on It', 'Paper or Plastic? Time to Bring Your Own Bag', 'Hello, Little Microbe. Doesn’t This Jacket Look Yummy?', 'Tackling the Plastic Problem, One City (or Country) at a Time', 'How to Travel Without Leaving a Trace', 'How to Break Your Single-Use Plastics Habit', 'When Trash Is a Journalist’s Treasure', 'In San Francisco, Making a Living From Your Billionaire Neighbor’s Trash']\n"
     ]
    }
   ],
   "source": [
    "print(titlelist)"
   ]
  },
  {
   "cell_type": "code",
   "execution_count": 234,
   "metadata": {},
   "outputs": [],
   "source": [
    "def get_list_nouns(titlelist):\n",
    "    tokenslist = []\n",
    "    for title in titlelist:\n",
    "        tokens = nltk.word_tokenize(title)\n",
    "        tags = nltk.pos_tag(tokens)\n",
    "               \n",
    "        for tag in tags :\n",
    "            if tag[1] == 'NN' or tag[1] == 'NNPS' or tag[1] == 'NNS' or tag[1] == 'NNP':\n",
    "                tokenslist.append(str(tag[0]))\n",
    "    return tokenslist"
   ]
  },
  {
   "cell_type": "code",
   "execution_count": 235,
   "metadata": {},
   "outputs": [],
   "source": [
    "tokenslist = get_list_nouns(titlelist)"
   ]
  },
  {
   "cell_type": "code",
   "execution_count": 236,
   "metadata": {},
   "outputs": [
    {
     "name": "stdout",
     "output_type": "stream",
     "text": [
      "['Recyclers', 'Cringe', 'Southeast', 'Asia', '’', 'Sick', 'West', '’', 'Trash', 'France', 'Disposal', 'Million', 'Unsold', 'Goods', 'Year', 'Carnival', 'Million', 'Pollution', 'Cover-Up', 'Case', 'Tiny', 'Hotel', 'Toiletry', 'Bottles', 'Are', 'Their', 'Way', 'Food', 'Delivery', 'Apps', 'Are', 'Drowning', 'China', 'Plastic', 'Canada', 'Trash', 'Sent', 'Philippines', 'Years', 'Philippines', 'Recalls', 'Ambassador', 'Canada', 'Spat', 'Over', 'Trash', 'Waste', 'Future', 'Planet', 'Marvels', 'Turn', 'Into', 'Dangerous', 'Trash', 'East', 'Africa', 'Philippines', 'Sets', 'Deadline', 'Canada', 'Trash', 'Capri', 'Million', 'Year', 'Wants', 'Trash', 'Seaweed', 'Pods', 'Anyone', 'Marathons', 'Get', 'Creative', 'Streets', 'Duterte', '’', 's', 'Threats', 'Over', 'Tons', 'Old', 'Trash', 'Canada', '’', 'Paper', 'Plastic', 'Time', 'Bag', 'Hello', 'Little', 'Microbe', 'Doesn', '’', 't', 'Jacket', 'Look', 'Yummy', 'Plastic', 'Problem', 'City', 'Country', 'Time', 'Trace', 'Plastics', 'Trash', 'Journalist', '’', 'Treasure', 'San', 'Francisco', 'Your', 'Billionaire', 'Neighbor', '’', 's', 'Trash', 'Recyclers', 'Cringe', 'Southeast', 'Asia', '’', 'Sick', 'West', '’', 'Trash', 'France', 'Disposal', 'Million', 'Unsold', 'Goods', 'Year', 'Carnival', 'Million', 'Pollution', 'Cover-Up', 'Case', 'Tiny', 'Hotel', 'Toiletry', 'Bottles', 'Are', 'Their', 'Way', 'Food', 'Delivery', 'Apps', 'Are', 'Drowning', 'China', 'Plastic', 'Canada', 'Trash', 'Sent', 'Philippines', 'Years', 'Philippines', 'Recalls', 'Ambassador', 'Canada', 'Spat', 'Over', 'Trash', 'Waste', 'Future', 'Planet', 'Marvels', 'Turn', 'Into', 'Dangerous', 'Trash', 'East', 'Africa', 'Philippines', 'Sets', 'Deadline', 'Canada', 'Trash', 'Capri', 'Million', 'Year', 'Wants', 'Trash', 'Seaweed', 'Pods', 'Anyone', 'Marathons', 'Get', 'Creative', 'Streets', 'Duterte', '’', 's', 'Threats', 'Over', 'Tons', 'Old', 'Trash', 'Canada', '’', 'Paper', 'Plastic', 'Time', 'Bag', 'Hello', 'Little', 'Microbe', 'Doesn', '’', 't', 'Jacket', 'Look', 'Yummy', 'Plastic', 'Problem', 'City', 'Country', 'Time', 'Trace', 'Plastics', 'Trash', 'Journalist', '’', 'Treasure', 'San', 'Francisco', 'Your', 'Billionaire', 'Neighbor', '’', 's', 'Trash']\n"
     ]
    }
   ],
   "source": [
    "print(tokenslist)"
   ]
  },
  {
   "cell_type": "code",
   "execution_count": 227,
   "metadata": {},
   "outputs": [
    {
     "name": "stdout",
     "output_type": "stream",
     "text": [
      "['France', 'to', 'End', 'Disposal', 'of', '$', '900', 'Million', 's', '’', 'Unsold', 'Goods', 'Each', 'Year', 'Waste']\n",
      "[('France', 'NNP'), ('to', 'TO'), ('End', 'VB'), ('Disposal', 'NNP'), ('of', 'IN'), ('$', '$'), ('900', 'CD'), ('Million', 'NNP'), ('s', 'NN'), ('’', 'NNP'), ('Unsold', 'NNP'), ('Goods', 'NNP'), ('Each', 'DT'), ('Year', 'NN'), ('Waste', 'NN')]\n"
     ]
    }
   ],
   "source": [
    "title = 'France to End Disposal of $900 Million s ’ Unsold Goods Each Year Waste'\n",
    "tokens = nltk.word_tokenize(title)\n",
    "tags = nltk.pos_tag(tokens)\n",
    "print(tokens)\n",
    "print(tags)"
   ]
  },
  {
   "cell_type": "code",
   "execution_count": 237,
   "metadata": {},
   "outputs": [],
   "source": [
    "counts = Counter(word for word in tokenslist)"
   ]
  },
  {
   "cell_type": "code",
   "execution_count": 238,
   "metadata": {},
   "outputs": [
    {
     "name": "stdout",
     "output_type": "stream",
     "text": [
      "Counter({'Trash': 18, '’': 14, 'Canada': 8, 'Million': 6, 'Plastic': 6, 'Philippines': 6, 'Year': 4, 'Are': 4, 'Over': 4, 's': 4, 'Time': 4, 'Recyclers': 2, 'Cringe': 2, 'Southeast': 2, 'Asia': 2, 'Sick': 2, 'West': 2, 'France': 2, 'Disposal': 2, 'Unsold': 2, 'Goods': 2, 'Carnival': 2, 'Pollution': 2, 'Cover-Up': 2, 'Case': 2, 'Tiny': 2, 'Hotel': 2, 'Toiletry': 2, 'Bottles': 2, 'Their': 2, 'Way': 2, 'Food': 2, 'Delivery': 2, 'Apps': 2, 'Drowning': 2, 'China': 2, 'Sent': 2, 'Years': 2, 'Recalls': 2, 'Ambassador': 2, 'Spat': 2, 'Waste': 2, 'Future': 2, 'Planet': 2, 'Marvels': 2, 'Turn': 2, 'Into': 2, 'Dangerous': 2, 'East': 2, 'Africa': 2, 'Sets': 2, 'Deadline': 2, 'Capri': 2, 'Wants': 2, 'Seaweed': 2, 'Pods': 2, 'Anyone': 2, 'Marathons': 2, 'Get': 2, 'Creative': 2, 'Streets': 2, 'Duterte': 2, 'Threats': 2, 'Tons': 2, 'Old': 2, 'Paper': 2, 'Bag': 2, 'Hello': 2, 'Little': 2, 'Microbe': 2, 'Doesn': 2, 't': 2, 'Jacket': 2, 'Look': 2, 'Yummy': 2, 'Problem': 2, 'City': 2, 'Country': 2, 'Trace': 2, 'Plastics': 2, 'Journalist': 2, 'Treasure': 2, 'San': 2, 'Francisco': 2, 'Your': 2, 'Billionaire': 2, 'Neighbor': 2})\n"
     ]
    }
   ],
   "source": [
    "print(counts)"
   ]
  }
 ],
 "metadata": {
  "kernelspec": {
   "display_name": "Python 3",
   "language": "python",
   "name": "python3"
  },
  "language_info": {
   "codemirror_mode": {
    "name": "ipython",
    "version": 3
   },
   "file_extension": ".py",
   "mimetype": "text/x-python",
   "name": "python",
   "nbconvert_exporter": "python",
   "pygments_lexer": "ipython3",
   "version": "3.7.1"
  }
 },
 "nbformat": 4,
 "nbformat_minor": 2
}
