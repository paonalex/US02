{
 "cells": [
  {
   "cell_type": "code",
   "execution_count": null,
   "metadata": {},
   "outputs": [],
   "source": [
    "def get_list_nouns(titlelist):\n",
    "    tokenslist = []\n",
    "    countlist = []\n",
    "    for title in titlelist:\n",
    "        tokens = nltk.word_tokenize(title)\n",
    "#         tags = nltk.pos_tag(tokens)\n",
    "               \n",
    "#         for tag in tags :\n",
    "#             if tag[1] == 'NN' or tag[1] == 'NNPS' or tag[1] == 'NNS' or tag[1] == 'NNP':\n",
    "#                 tokenslist.append(str(tag[0]))\n",
    "\n",
    "       # if title.count('Waste')>0:\n",
    "        countlist.append([title,title.count('Waste')])\n",
    "        #counts = Counter(word for word in tokens)\n",
    "        #countlist.append(counts)\n",
    "    return countlist\n",
    "\n",
    "#tokenslist = get_list_nouns(titlelist)\n",
    "\n",
    "countlist = get_list_nouns(titlelist)\n",
    "countlist"
   ]
  },
  {
   "cell_type": "code",
   "execution_count": null,
   "metadata": {},
   "outputs": [],
   "source": []
  }
 ],
 "metadata": {
  "kernelspec": {
   "display_name": "Python 3",
   "language": "python",
   "name": "python3"
  },
  "language_info": {
   "codemirror_mode": {
    "name": "ipython",
    "version": 3
   },
   "file_extension": ".py",
   "mimetype": "text/x-python",
   "name": "python",
   "nbconvert_exporter": "python",
   "pygments_lexer": "ipython3",
   "version": "3.7.1"
  }
 },
 "nbformat": 4,
 "nbformat_minor": 2
}
