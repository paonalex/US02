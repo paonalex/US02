{
 "cells": [
  {
   "cell_type": "code",
   "execution_count": 2,
   "metadata": {},
   "outputs": [],
   "source": [
    "import requests\n",
    "import nltk\n",
    "import random\n",
    "import time\n",
    "from collections import Counter\n",
    "from bs4 import BeautifulSoup"
   ]
  },
  {
   "cell_type": "code",
   "execution_count": 83,
   "metadata": {},
   "outputs": [
    {
     "name": "stdout",
     "output_type": "stream",
     "text": [
      "3\n"
     ]
    }
   ],
   "source": [
    "source = []\n",
    "article = []\n",
    "soup = []\n",
    "for i in range(3):\n",
    "    source.append(requests.get('https://www.wastedive.com/?page=' + str(i+1)).text)\n",
    "\n",
    "    soup.append(BeautifulSoup(source[i], 'html5lib'))\n",
    "\n",
    "    article.append(soup[i].find_all('h3', 'feed__title feed__title--display'))\n",
    "\n",
    "print(len(article))"
   ]
  },
  {
   "cell_type": "code",
   "execution_count": 84,
   "metadata": {},
   "outputs": [
    {
     "name": "stdout",
     "output_type": "stream",
     "text": [
      "25\n",
      "[<h3 class=\"feed__title feed__title--display\">\n",
      "                                <a href=\"/news/why-the-epas-decision-on-ep-waste-is-very-good-for-the-industry/556458/\">\n",
      "                                    \n",
      "                                    Why the EPA's decision on E&amp;P waste is very good for the industry\n",
      "                                </a>\n",
      "                            </h3>, <h3 class=\"feed__title feed__title--display\">\n",
      "                                <a href=\"/news/madison-food-scrap-collection-pilot/556654/\">\n",
      "                                    \n",
      "                                    Madison, Wisconsin relaunching curbside organics pilot\n",
      "                                </a>\n",
      "                            </h3>, <h3 class=\"feed__title feed__title--display\">\n",
      "                                <a href=\"/news/waste-management-dayton-ohio-landfill-settlement/556613/\">\n",
      "                                    \n",
      "                                    Waste Management set to pay Dayton, Ohio $10.5M landfill settlement\n",
      "                                </a>\n",
      "                            </h3>, <h3 class=\"feed__title feed__title--display\">\n",
      "                                <a href=\"/news/palo-alto-california-approves-sweeping-single-use-plastics-ban/556631/\">\n",
      "                                    \n",
      "                                    Palo Alto, California approves sweeping single-use plastics ban\n",
      "                                </a>\n",
      "                            </h3>, <h3 class=\"feed__title feed__title--display\">\n",
      "                                <a href=\"/news/annual-shareholder-meeting-results-from-waste-industry-companies/556271/\">\n",
      "                                    \n",
      "                                    Annual meeting results from the waste industry's top companies\n",
      "                                </a>\n",
      "                            </h3>, <h3 class=\"feed__title feed__title--display\">\n",
      "                                <a href=\"/news/philadelphia-poised-to-award-waste-management-covanta-disposal-contracts/556329/\">\n",
      "                                    \n",
      "                                    Philadelphia poised to award Waste Management, Covanta disposal contracts\n",
      "                                </a>\n",
      "                            </h3>, <h3 class=\"feed__title feed__title--display\">\n",
      "                                <a href=\"/news/scrap-collector-mount-everest-now-worlds-highest-garbage-dump/556395/\">\n",
      "                                    \n",
      "                                    Scrap Collector: Mount Everest now 'world's highest garbage dump'\n",
      "                                </a>\n",
      "                            </h3>, <h3 class=\"feed__title feed__title--display\">\n",
      "                                <a href=\"/news/waste-management-pursuing-vertical-expansion-at-delaware-landfill/556427/\">\n",
      "                                    \n",
      "                                    Waste Management pursuing vertical expansion at Delaware landfill\n",
      "                                </a>\n",
      "                            </h3>, <h3 class=\"feed__title feed__title--display\">\n",
      "                                <a href=\"/news/keurig-dr-pepper-sustainability/556325/\">\n",
      "                                    \n",
      "                                    Keurig Dr Pepper commits to 100% recyclable or compostable packaging by 2025\n",
      "                                </a>\n",
      "                            </h3>, <h3 class=\"feed__title feed__title--display\">\n",
      "                                <a href=\"/news/florida-county-to-perform-extra-groundwater-monitoring-at-waste-connections/555477/\">\n",
      "                                    \n",
      "                                    Florida county to perform extra groundwater monitoring at Waste Connections landfill\n",
      "                                </a>\n",
      "                            </h3>, <h3 class=\"feed__title feed__title--display\">\n",
      "                                <a href=\"/news/what-chinese-import-policies-mean-for-all-50-states/510751/\">\n",
      "                                    \n",
      "                                    How recycling is changing in all 50 states\n",
      "                                </a>\n",
      "                            </h3>, <h3 class=\"feed__title feed__title--display\">\n",
      "                                <a href=\"/news/republic-attempting-to-exit-connecticut-mrf-contract-via-lawsuit/556172/\">\n",
      "                                    \n",
      "                                    Republic attempting to exit Connecticut MRF contract via lawsuit\n",
      "                                </a>\n",
      "                            </h3>, <h3 class=\"feed__title feed__title--display\">\n",
      "                                <a href=\"/news/philadelphia-cancels-recycling-rewards-program/556248/\">\n",
      "                                    \n",
      "                                    Philadelphia cancels recycling rewards program\n",
      "                                </a>\n",
      "                            </h3>, <h3 class=\"feed__title feed__title--display\">\n",
      "                                <a href=\"/news/fcc-environmental-contract-omaha-nebraska/552404/\">\n",
      "                                    \n",
      "                                    Omaha council votes against FCC Environmental collection contract\n",
      "                                </a>\n",
      "                            </h3>, <h3 class=\"feed__title feed__title--display\">\n",
      "                                <a href=\"/news/santa-monica-rejects-mrf-recycling-contract/556193/\">\n",
      "                                    \n",
      "                                    Southern California city rejects new recycling contract amid market volatility\n",
      "                                </a>\n",
      "                            </h3>, <h3 class=\"feed__title feed__title--display\">\n",
      "                                <a href=\"/news/public-companies-increased-control-of-74b-us-waste-industry-in-2018/556079/\">\n",
      "                                    \n",
      "                                    Public companies increased control of $74B US waste industry in 2018\n",
      "                                </a>\n",
      "                            </h3>, <h3 class=\"feed__title feed__title--display\">\n",
      "                                <a href=\"/news/texas-legislature-passes-two-waste-permitting-laws/556073/\">\n",
      "                                    \n",
      "                                    Texas legislature passes two waste permitting laws\n",
      "                                </a>\n",
      "                            </h3>, <h3 class=\"feed__title feed__title--display\">\n",
      "                                <a href=\"/news/court-upends-st-paul-minnesota-collection-system-leaving-fate-to-voters/555995/\">\n",
      "                                    \n",
      "                                    Court upends St. Paul, Minnesota collection system, leaving fate to voters\n",
      "                                </a>\n",
      "                            </h3>, <h3 class=\"feed__title feed__title--display\">\n",
      "                                <a href=\"/news/scrap-collector-malaysia-returning-3300-tons-of-contaminated-plastic-scra/555874/\">\n",
      "                                    \n",
      "                                    Scrap Collector: Malaysia returning 3,300 tons of contaminated plastic scrap\n",
      "                                </a>\n",
      "                            </h3>, <h3 class=\"feed__title feed__title--display\">\n",
      "                                <a href=\"/news/california-state-legislators-want-to-phase-out-non-recyclable-plastic-products/549406/\">\n",
      "                                    \n",
      "                                    California bills advance that would set 75% plastic packaging reduction goal\n",
      "                                </a>\n",
      "                            </h3>, <h3 class=\"feed__title feed__title--display\">\n",
      "                                <a href=\"/news/new-york-franchise-bill-1-company-could-exclusively-win-15-of-20-zones/555774/\">\n",
      "                                    \n",
      "                                    New York franchise bill: 1 company could exclusively win 15 of 20 zones\n",
      "                                </a>\n",
      "                            </h3>, <h3 class=\"feed__title feed__title--display\">\n",
      "                                <a href=\"/news/illinois-mandates-case-by-case-coal-ash-site-reviews-as-federal-rules-remai/555841/\">\n",
      "                                    \n",
      "                                    Illinois mandates case-by-case coal ash site reviews as federal rules remain in flux\n",
      "                                </a>\n",
      "                            </h3>, <h3 class=\"feed__title feed__title--display\">\n",
      "                                <a href=\"/news/cincinnati-chosen-as-next-beyond-34-city/555654/\">\n",
      "                                    \n",
      "                                    Cincinnati chosen as next 'Beyond 34' city\n",
      "                                </a>\n",
      "                            </h3>, <h3 class=\"feed__title feed__title--display\">\n",
      "                                <a href=\"/news/congressional-appropriations-bill-calls-for-national-recycling-strategy/555759/\">\n",
      "                                    \n",
      "                                    Congressional appropriations bill calls for 'national recycling strategy'\n",
      "                                </a>\n",
      "                            </h3>, <h3 class=\"feed__title feed__title--display\">\n",
      "                                <a href=\"/news/doubt-and-discord-ahead-of-new-york-franchise-bill-introduction/555671/\">\n",
      "                                    \n",
      "                                    Doubt and discord ahead of New York franchise bill introduction\n",
      "                                </a>\n",
      "                            </h3>]\n",
      "25\n",
      "[<h3 class=\"feed__title feed__title--display\">\n",
      "                                <a href=\"/news/annexation-approval-gives-advanced-disposal-path-to-illinois-landfill-expan/555687/\">\n",
      "                                    \n",
      "                                    Annexation approval gives Advanced Disposal path to Illinois landfill expansion\n",
      "                                </a>\n",
      "                            </h3>, <h3 class=\"feed__title feed__title--display\">\n",
      "                                <a href=\"/news/nonprofit-tests-trash-collecting-robot-on-chicago-river/555709/\">\n",
      "                                    \n",
      "                                    Nonprofit tests trash-collecting robot on Chicago River\n",
      "                                </a>\n",
      "                            </h3>, <h3 class=\"feed__title feed__title--display\">\n",
      "                                <a href=\"/news/maryland-legislature-advances-statewide-eps-foam-ban-bill/550844/\">\n",
      "                                    \n",
      "                                    Maryland passes statewide EPS foam ban bill\n",
      "                                </a>\n",
      "                            </h3>, <h3 class=\"feed__title feed__title--display\">\n",
      "                                <a href=\"/news/new-york-legislature-wte-Circular-enerG-incinerator/550727/\">\n",
      "                                    \n",
      "                                    NY governor signs legislation to stop WTE project\n",
      "                                </a>\n",
      "                            </h3>, <h3 class=\"feed__title feed__title--display\">\n",
      "                                <a href=\"/news/fda-backs-best-if-used-by-voluntary-date-labeling-for-food-products/555542/\">\n",
      "                                    \n",
      "                                    FDA backs 'Best if used by' voluntary date labeling for food products\n",
      "                                </a>\n",
      "                            </h3>, <h3 class=\"feed__title feed__title--display\">\n",
      "                                <a href=\"/news/scrap-collector-vermont-passes-nations-toughest-plastics-bill-yet/555482/\">\n",
      "                                    \n",
      "                                    Scrap Collector: Vermont passes nation's 'toughest' plastics bill yet\n",
      "                                </a>\n",
      "                            </h3>, <h3 class=\"feed__title feed__title--display\">\n",
      "                                <a href=\"/news/letters-to-the-editor-wte-is-the-true-circular-solution/555475/\">\n",
      "                                    \n",
      "                                    Letters to the editor: WTE is the true circular solution\n",
      "                                </a>\n",
      "                            </h3>, <h3 class=\"feed__title feed__title--display\">\n",
      "                                <a href=\"/news/conversations-with-execs-from-8-key-industry-companies/555452/\">\n",
      "                                    \n",
      "                                    Conversations with execs from 8 key industry companies\n",
      "                                </a>\n",
      "                            </h3>, <h3 class=\"feed__title feed__title--display\">\n",
      "                                <a href=\"/news/majority-of-us-incinerators-located-in-marginalized-communities-report-r/555375/\">\n",
      "                                    \n",
      "                                    Nearly 80% of US incinerators located in marginalized communities, report reveals\n",
      "                                </a>\n",
      "                            </h3>, <h3 class=\"feed__title feed__title--display\">\n",
      "                                <a href=\"/news/ohio-county-outlines-food-waste-reduction-plans-potential-curbside-pilot/555433/\">\n",
      "                                    \n",
      "                                    Ohio county outlines food waste reduction plans, potential curbside pilot\n",
      "                                </a>\n",
      "                            </h3>, <h3 class=\"feed__title feed__title--display\">\n",
      "                                <a href=\"/news/kentucky-citys-suspension-of-paper-recycling-ripples-through-region/555237/\">\n",
      "                                    \n",
      "                                    Kentucky city's suspension of paper recycling ripples through region\n",
      "                                </a>\n",
      "                            </h3>, <h3 class=\"feed__title feed__title--display\">\n",
      "                                <a href=\"/news/loop-waste-free-ecommerce-launch/555361/\">\n",
      "                                    \n",
      "                                    Terracycle's Loop launches with P&amp;G, Kroger, Walgreens on board\n",
      "                                </a>\n",
      "                            </h3>, <h3 class=\"feed__title feed__title--display\">\n",
      "                                <a href=\"/news/omaha-nebraska-concerns-low-bid-wcs-fcc/555306/\">\n",
      "                                    \n",
      "                                    Omaha, Nebraska raises multiple concerns about low bidder for collection contract\n",
      "                                </a>\n",
      "                            </h3>, <h3 class=\"feed__title feed__title--display\">\n",
      "                                <a href=\"/news/straight-talk-with-wca-waste-ceo-bill-caesar/555154/\">\n",
      "                                    \n",
      "                                    Straight talk with WCA Waste CEO Bill Caesar\n",
      "                                </a>\n",
      "                            </h3>, <h3 class=\"feed__title feed__title--display\">\n",
      "                                <a href=\"/news/safety-falls-on-everyone-from-top-leaders-to-hourly-employees/555171/\">\n",
      "                                    \n",
      "                                    Safety falls on everyone — from top leaders to hourly employees\n",
      "                                </a>\n",
      "                            </h3>, <h3 class=\"feed__title feed__title--display\">\n",
      "                                <a href=\"/news/whole-foods-ditching-plastic-straws-across-all-stores/555249/\">\n",
      "                                    \n",
      "                                    Whole Foods ditching plastic straws across all stores\n",
      "                                </a>\n",
      "                            </h3>, <h3 class=\"feed__title feed__title--display\">\n",
      "                                <a href=\"/news/rubicon-global-taking-less-combative-tack-focusing-on-software-business/555052/\">\n",
      "                                    \n",
      "                                    Rubicon Global taking less combative tack, focusing on software business\n",
      "                                </a>\n",
      "                            </h3>, <h3 class=\"feed__title feed__title--display\">\n",
      "                                <a href=\"/news/zero-waste-solutions-mrf-opening-massachusetts-disposal-crisis/545996/\">\n",
      "                                    \n",
      "                                    New Massachusetts MRF opens in market with tight processing capacity\n",
      "                                </a>\n",
      "                            </h3>, <h3 class=\"feed__title feed__title--display\">\n",
      "                                <a href=\"/news/waste-connections-worthing-jackman-labor-recycling/554975/\">\n",
      "                                    \n",
      "                                    Waste Connections may be third-largest, but don't accuse it of being a 'big company'\n",
      "                                </a>\n",
      "                            </h3>, <h3 class=\"feed__title feed__title--display\">\n",
      "                                <a href=\"/news/scrap-collector-plastics-hidden-climate-impacts-revealed/555007/\">\n",
      "                                    \n",
      "                                    Scrap Collector: Plastic's 'hidden' climate impacts revealed\n",
      "                                </a>\n",
      "                            </h3>, <h3 class=\"feed__title feed__title--display\">\n",
      "                                <a href=\"/news/court-decision-mayville-wisconsin-landfill-expansion-protest/547491/\">\n",
      "                                    \n",
      "                                    Wisconsin city reaches landfill settlement with Advanced Disposal\n",
      "                                </a>\n",
      "                            </h3>, <h3 class=\"feed__title feed__title--display\">\n",
      "                                <a href=\"/news/gfl-environmental-Dovigi-Pelosi-ambition/554721/\">\n",
      "                                    \n",
      "                                    GFL Environmental aims to be 'one of the largest players in the continent'\n",
      "                                </a>\n",
      "                            </h3>, <h3 class=\"feed__title feed__title--display\">\n",
      "                                <a href=\"/news/a-broken-link-in-the-circular-economy/554731/\">\n",
      "                                    \n",
      "                                    A broken link in the circular economy\n",
      "                                </a>\n",
      "                            </h3>, <h3 class=\"feed__title feed__title--display\">\n",
      "                                <a href=\"/news/fmcsa-comment-driver-age-pilot-trucking/554859/\">\n",
      "                                    \n",
      "                                    FMCSA seeks comment on proposed driver age pilot\n",
      "                                </a>\n",
      "                            </h3>, <h3 class=\"feed__title feed__title--display\">\n",
      "                                <a href=\"/news/wwf-activation-hub-resource-plastic-pollution-ocean/554738/\">\n",
      "                                    \n",
      "                                    WWF 'activation hub' to help companies make good on plastic pollution commitments\n",
      "                                </a>\n",
      "                            </h3>]\n",
      "25\n",
      "[<h3 class=\"feed__title feed__title--display\">\n",
      "                                <a href=\"/news/cfo-large-us-recyclers-export-plastic/554857/\">\n",
      "                                    \n",
      "                                    Major recyclers deny still exporting plastic overseas\n",
      "                                </a>\n",
      "                            </h3>, <h3 class=\"feed__title feed__title--display\">\n",
      "                                <a href=\"/news/republic-services-president-jon-vander-ark-recycling-landfill/554768/\">\n",
      "                                    \n",
      "                                    New Republic Services president: 'Death of landfills has been overexaggerated'\n",
      "                                </a>\n",
      "                            </h3>, <h3 class=\"feed__title feed__title--display\">\n",
      "                                <a href=\"/news/covanta-poised-for-wte-awakening-in-us-if-it-comes/554794/\">\n",
      "                                    \n",
      "                                    Covanta poised for WTE 'awakening' in US — if it comes\n",
      "                                </a>\n",
      "                            </h3>, <h3 class=\"feed__title feed__title--display\">\n",
      "                                <a href=\"/news/fcc-environmental-plans-to-grow-faster-in-us-start-acquiring/554678/\">\n",
      "                                    \n",
      "                                    FCC Environmental plans to 'grow faster' in US, start acquiring\n",
      "                                </a>\n",
      "                            </h3>, <h3 class=\"feed__title feed__title--display\">\n",
      "                                <a href=\"/news/washington-becomes-10th-state-to-pass-epr-for-paint/554661/\">\n",
      "                                    \n",
      "                                    Washington becomes 10th state to pass EPR for paint\n",
      "                                </a>\n",
      "                            </h3>, <h3 class=\"feed__title feed__title--display\">\n",
      "                                <a href=\"/news/waste-management-coo-john-morris-chicago-mrf/554572/\">\n",
      "                                    \n",
      "                                    Waste Management COO: New Chicago MRF will be 'much more mechanized'\n",
      "                                </a>\n",
      "                            </h3>, <h3 class=\"feed__title feed__title--display\">\n",
      "                                <a href=\"/news/department-of-energy-to-award-79m-for-bioenergy-research-and-development/554581/\">\n",
      "                                    \n",
      "                                    Department of Energy to award $79M for bioenergy research and development\n",
      "                                </a>\n",
      "                            </h3>, <h3 class=\"feed__title feed__title--display\">\n",
      "                                <a href=\"/news/immigration-stalemate-drivers-tps/554484/\">\n",
      "                                    \n",
      "                                    Top waste companies fed up with immigration stalemate, losing drivers\n",
      "                                </a>\n",
      "                            </h3>, <h3 class=\"feed__title feed__title--display\">\n",
      "                                <a href=\"/news/scrap-collector-us-abstains-from-supporting-basel-convention-plastics-pr/554520/\">\n",
      "                                    \n",
      "                                    Scrap Collector: U.S. abstains from supporting Basel Convention plastics amendment\n",
      "                                </a>\n",
      "                            </h3>, <h3 class=\"feed__title feed__title--display\">\n",
      "                                <a href=\"/news/recyclers-request-government-mandates-for-recycled-plastic-content-in-bags/554363/\">\n",
      "                                    \n",
      "                                    Recyclers request government mandates for recycled plastic content in bags\n",
      "                                </a>\n",
      "                            </h3>, <h3 class=\"feed__title feed__title--display\">\n",
      "                                <a href=\"/news/alabama-city-permitted-to-expand-landfill-after-5-year-closure/554418/\">\n",
      "                                    \n",
      "                                    Alabama city permitted to expand landfill after 5-year closure\n",
      "                                </a>\n",
      "                            </h3>, <h3 class=\"feed__title feed__title--display\">\n",
      "                                <a href=\"/news/what-recycling-end-market-development-looks-like-in-2019/553683/\">\n",
      "                                    \n",
      "                                    What recycling end market development looks like in 2019\n",
      "                                </a>\n",
      "                            </h3>, <h3 class=\"feed__title feed__title--display\">\n",
      "                                <a href=\"/news/why-recycling-should-be-accessible-to-every-american/554209/\">\n",
      "                                    \n",
      "                                    Why recycling should be accessible to every American\n",
      "                                </a>\n",
      "                            </h3>, <h3 class=\"feed__title feed__title--display\">\n",
      "                                <a href=\"/news/epa-landfill-emissions-plans/554345/\">\n",
      "                                    \n",
      "                                    Court: EPA must review landfill emissions plans after years of delay\n",
      "                                </a>\n",
      "                            </h3>, <h3 class=\"feed__title feed__title--display\">\n",
      "                                <a href=\"/news/huntington-beach-republic-services-contract-termination/551844/\">\n",
      "                                    \n",
      "                                    California city moves to terminate 'evergreen' Republic Services contract\n",
      "                                </a>\n",
      "                            </h3>, <h3 class=\"feed__title feed__title--display\">\n",
      "                                <a href=\"/news/toxins-in-the-ground-inside-americas-most-polluted-coal-ash-site-and-indu/554344/\">\n",
      "                                    \n",
      "                                    Toxins in the ground: Inside America's most polluted coal ash site and industry's struggle with federal rules\n",
      "                                </a>\n",
      "                            </h3>, <h3 class=\"feed__title feed__title--display\">\n",
      "                                <a href=\"/news/republics-solution-to-the-california-organics-challenge/554113/\">\n",
      "                                    \n",
      "                                    Republic's solution to the California 'organics challenge'\n",
      "                                </a>\n",
      "                            </h3>, <h3 class=\"feed__title feed__title--display\">\n",
      "                                <a href=\"/news/study-biodegradable-bags-survive-soil-and-water-for-years/554119/\">\n",
      "                                    \n",
      "                                    Study: Biodegradable bags survive soil and water for years\n",
      "                                </a>\n",
      "                            </h3>, <h3 class=\"feed__title feed__title--display\">\n",
      "                                <a href=\"/news/amy-c-elliott-salvage/553877/\">\n",
      "                                    \n",
      "                                    Off the Route: Documentarian Amy C. Elliott on the 'apex of consumerism'\n",
      "                                </a>\n",
      "                            </h3>, <h3 class=\"feed__title feed__title--display\">\n",
      "                                <a href=\"/news/end-of-waste-foundations-new-blockchain-recycling-concept-starts-with-glas/554081/\">\n",
      "                                    \n",
      "                                    End of Waste Foundation's new blockchain recycling concept starts with glass\n",
      "                                </a>\n",
      "                            </h3>, <h3 class=\"feed__title feed__title--display\">\n",
      "                                <a href=\"/news/scrap-collector-private-apple-lobbying-efforts-postpone-california-repair/553967/\">\n",
      "                                    \n",
      "                                    Scrap Collector: Private Apple lobbying efforts postpone California repair bill\n",
      "                                </a>\n",
      "                            </h3>, <h3 class=\"feed__title feed__title--display\">\n",
      "                                <a href=\"/news/la-sanitation-director-Enrique-Zaldivar-organics-zero-waste-part-2/554045/\">\n",
      "                                    \n",
      "                                    LA Sanitation director's plans to tackle organics and hit 'zero waste' targets\n",
      "                                </a>\n",
      "                            </h3>, <h3 class=\"feed__title feed__title--display\">\n",
      "                                <a href=\"/news/casella-recycling-revenue-rises-boston-negotiations-ongoing/553891/\">\n",
      "                                    \n",
      "                                    Casella recycling revenue rises, Boston negotiations ongoing\n",
      "                                </a>\n",
      "                            </h3>, <h3 class=\"feed__title feed__title--display\">\n",
      "                                <a href=\"/news/maine-becomes-first-in-the-nation-to-enact-statewide-foam-ban/553908/\">\n",
      "                                    \n",
      "                                    Maine becomes first in the nation to enact statewide foam ban\n",
      "                                </a>\n",
      "                            </h3>, <h3 class=\"feed__title feed__title--display\">\n",
      "                                <a href=\"/news/scrap-metal-theft-bill-gains-new-momentum-in-kansas-legislature/553850/\">\n",
      "                                    \n",
      "                                    Scrap metal theft bill gains new momentum in Kansas legislature\n",
      "                                </a>\n",
      "                            </h3>]\n"
     ]
    }
   ],
   "source": [
    "for each in article:\n",
    "    print(len(each))\n",
    "    print(each)"
   ]
  },
  {
   "cell_type": "code",
   "execution_count": 38,
   "metadata": {},
   "outputs": [],
   "source": [
    "# def get_list_article_name(soup):\n",
    "#     titlelist = []\n",
    "#     dayarticle = soup.find_all('h3', class_='feed__title feed__title--display')\n",
    "#     for article in dayarticle:\n",
    "#         a = article.find_all('a')\n",
    "#         for articletitle in a:\n",
    "#             title = articletitle.contents[0]\n",
    "#         titlelist.append(title)\n",
    "#     return titlelist"
   ]
  },
  {
   "cell_type": "code",
   "execution_count": 39,
   "metadata": {},
   "outputs": [],
   "source": [
    "# titlelist = get_list_article_name(soup)"
   ]
  },
  {
   "cell_type": "code",
   "execution_count": 37,
   "metadata": {},
   "outputs": [
    {
     "name": "stdout",
     "output_type": "stream",
     "text": [
      "['\\n                                    \\n                                    Major recyclers deny still exporting plastic overseas\\n                                ', \"\\n                                    \\n                                    New Republic Services president: 'Death of landfills has been overexaggerated'\\n                                \", \"\\n                                    \\n                                    Covanta poised for WTE 'awakening' in US — if it comes\\n                                \", \"\\n                                    \\n                                    FCC Environmental plans to 'grow faster' in US, start acquiring\\n                                \", '\\n                                    \\n                                    Washington becomes 10th state to pass EPR for paint\\n                                ', \"\\n                                    \\n                                    Waste Management COO: New Chicago MRF will be 'much more mechanized'\\n                                \", '\\n                                    \\n                                    Department of Energy to award $79M for bioenergy research and development\\n                                ', '\\n                                    \\n                                    Top waste companies fed up with immigration stalemate, losing drivers\\n                                ', '\\n                                    \\n                                    Scrap Collector: U.S. abstains from supporting Basel Convention plastics amendment\\n                                ', '\\n                                    \\n                                    Recyclers request government mandates for recycled plastic content in bags\\n                                ', '\\n                                    \\n                                    Alabama city permitted to expand landfill after 5-year closure\\n                                ', '\\n                                    \\n                                    What recycling end market development looks like in 2019\\n                                ', '\\n                                    \\n                                    Why recycling should be accessible to every American\\n                                ', '\\n                                    \\n                                    Court: EPA must review landfill emissions plans after years of delay\\n                                ', \"\\n                                    \\n                                    California city moves to terminate 'evergreen' Republic Services contract\\n                                \", \"\\n                                    \\n                                    Toxins in the ground: Inside America's most polluted coal ash site and industry's struggle with federal rules\\n                                \", \"\\n                                    \\n                                    Republic's solution to the California 'organics challenge'\\n                                \", '\\n                                    \\n                                    Study: Biodegradable bags survive soil and water for years\\n                                ', \"\\n                                    \\n                                    Off the Route: Documentarian Amy C. Elliott on the 'apex of consumerism'\\n                                \", \"\\n                                    \\n                                    End of Waste Foundation's new blockchain recycling concept starts with glass\\n                                \", '\\n                                    \\n                                    Scrap Collector: Private Apple lobbying efforts postpone California repair bill\\n                                ', \"\\n                                    \\n                                    LA Sanitation director's plans to tackle organics and hit 'zero waste' targets\\n                                \", '\\n                                    \\n                                    Casella recycling revenue rises, Boston negotiations ongoing\\n                                ', '\\n                                    \\n                                    Maine becomes first in the nation to enact statewide foam ban\\n                                ', '\\n                                    \\n                                    Scrap metal theft bill gains new momentum in Kansas legislature\\n                                ']\n"
     ]
    }
   ],
   "source": [
    "# print(titlelist)"
   ]
  },
  {
   "cell_type": "code",
   "execution_count": 273,
   "metadata": {},
   "outputs": [],
   "source": [
    "def get_list_article_name(soup):\n",
    "    titlelist = []\n",
    "    for each in soup:\n",
    "        feed_title = each.find_all('h3', 'feed__title feed__title--display')\n",
    "        for article in feed_title:\n",
    "            a = article.find_all('a')\n",
    "            for articletitle in a:\n",
    "                title = articletitle.contents[0]\n",
    "                title1 = title.strip()\n",
    "            titlelist.append(title1)\n",
    "    return titlelist"
   ]
  },
  {
   "cell_type": "code",
   "execution_count": 274,
   "metadata": {},
   "outputs": [],
   "source": [
    "titlelist = get_list_article_name(soup)"
   ]
  },
  {
   "cell_type": "code",
   "execution_count": 275,
   "metadata": {},
   "outputs": [
    {
     "name": "stdout",
     "output_type": "stream",
     "text": [
      "[\"Why the EPA's decision on E&P waste is very good for the industry\", 'Madison, Wisconsin relaunching curbside organics pilot', 'Waste Management set to pay Dayton, Ohio $10.5M landfill settlement', 'Palo Alto, California approves sweeping single-use plastics ban', \"Annual meeting results from the waste industry's top companies\", 'Philadelphia poised to award Waste Management, Covanta disposal contracts', \"Scrap Collector: Mount Everest now 'world's highest garbage dump'\", 'Waste Management pursuing vertical expansion at Delaware landfill', 'Keurig Dr Pepper commits to 100% recyclable or compostable packaging by 2025', 'Florida county to perform extra groundwater monitoring at Waste Connections landfill', 'How recycling is changing in all 50 states', 'Republic attempting to exit Connecticut MRF contract via lawsuit', 'Philadelphia cancels recycling rewards program', 'Omaha council votes against FCC Environmental collection contract', 'Southern California city rejects new recycling contract amid market volatility', 'Public companies increased control of $74B US waste industry in 2018', 'Texas legislature passes two waste permitting laws', 'Court upends St. Paul, Minnesota collection system, leaving fate to voters', 'Scrap Collector: Malaysia returning 3,300 tons of contaminated plastic scrap', 'California bills advance that would set 75% plastic packaging reduction goal', 'New York franchise bill: 1 company could exclusively win 15 of 20 zones', 'Illinois mandates case-by-case coal ash site reviews as federal rules remain in flux', \"Cincinnati chosen as next 'Beyond 34' city\", \"Congressional appropriations bill calls for 'national recycling strategy'\", 'Doubt and discord ahead of New York franchise bill introduction', 'Annexation approval gives Advanced Disposal path to Illinois landfill expansion', 'Nonprofit tests trash-collecting robot on Chicago River', 'Maryland passes statewide EPS foam ban bill', 'NY governor signs legislation to stop WTE project', \"FDA backs 'Best if used by' voluntary date labeling for food products\", \"Scrap Collector: Vermont passes nation's 'toughest' plastics bill yet\", 'Letters to the editor: WTE is the true circular solution', 'Conversations with execs from 8 key industry companies', 'Nearly 80% of US incinerators located in marginalized communities, report reveals', 'Ohio county outlines food waste reduction plans, potential curbside pilot', \"Kentucky city's suspension of paper recycling ripples through region\", \"Terracycle's Loop launches with P&G, Kroger, Walgreens on board\", 'Omaha, Nebraska raises multiple concerns about low bidder for collection contract', 'Straight talk with WCA Waste CEO Bill Caesar', 'Safety falls on everyone — from top leaders to hourly employees', 'Whole Foods ditching plastic straws across all stores', 'Rubicon Global taking less combative tack, focusing on software business', 'New Massachusetts MRF opens in market with tight processing capacity', \"Waste Connections may be third-largest, but don't accuse it of being a 'big company'\", \"Scrap Collector: Plastic's 'hidden' climate impacts revealed\", 'Wisconsin city reaches landfill settlement with Advanced Disposal', \"GFL Environmental aims to be 'one of the largest players in the continent'\", 'A broken link in the circular economy', 'FMCSA seeks comment on proposed driver age pilot', \"WWF 'activation hub' to help companies make good on plastic pollution commitments\", 'Major recyclers deny still exporting plastic overseas', \"New Republic Services president: 'Death of landfills has been overexaggerated'\", \"Covanta poised for WTE 'awakening' in US — if it comes\", \"FCC Environmental plans to 'grow faster' in US, start acquiring\", 'Washington becomes 10th state to pass EPR for paint', \"Waste Management COO: New Chicago MRF will be 'much more mechanized'\", 'Department of Energy to award $79M for bioenergy research and development', 'Top waste companies fed up with immigration stalemate, losing drivers', 'Scrap Collector: U.S. abstains from supporting Basel Convention plastics amendment', 'Recyclers request government mandates for recycled plastic content in bags', 'Alabama city permitted to expand landfill after 5-year closure', 'What recycling end market development looks like in 2019', 'Why recycling should be accessible to every American', 'Court: EPA must review landfill emissions plans after years of delay', \"California city moves to terminate 'evergreen' Republic Services contract\", \"Toxins in the ground: Inside America's most polluted coal ash site and industry's struggle with federal rules\", \"Republic's solution to the California 'organics challenge'\", 'Study: Biodegradable bags survive soil and water for years', \"Off the Route: Documentarian Amy C. Elliott on the 'apex of consumerism'\", \"End of Waste Foundation's new blockchain recycling concept starts with glass\", 'Scrap Collector: Private Apple lobbying efforts postpone California repair bill', \"LA Sanitation director's plans to tackle organics and hit 'zero waste' targets\", 'Casella recycling revenue rises, Boston negotiations ongoing', 'Maine becomes first in the nation to enact statewide foam ban', 'Scrap metal theft bill gains new momentum in Kansas legislature']\n",
      "75\n"
     ]
    }
   ],
   "source": [
    "print(titlelist)\n",
    "print(len(titlelist))"
   ]
  },
  {
   "cell_type": "code",
   "execution_count": 277,
   "metadata": {},
   "outputs": [],
   "source": [
    "def get_list_nouns(titlelist):\n",
    "    tokenslist = []\n",
    "    for title in titlelist:\n",
    "        tokens = nltk.word_tokenize(title)\n",
    "        tags = nltk.pos_tag(tokens)\n",
    "               \n",
    "        for tag in tags :\n",
    "            if tag[1] == 'NN' or tag[1] == 'NNPS' or tag[1] == 'NNS' or tag[1] == 'NNP':\n",
    "                tokenslist.append(str(tag[0]))\n",
    "    return tokenslist\n",
    "tokenslist = get_list_nouns(titlelist)"
   ]
  },
  {
   "cell_type": "code",
   "execution_count": 278,
   "metadata": {},
   "outputs": [
    {
     "name": "stdout",
     "output_type": "stream",
     "text": [
      "['EPA', 'decision', 'E', 'P', 'waste', 'industry', 'Madison', 'Wisconsin', 'organics', 'pilot', 'Waste', 'Management', 'Dayton', 'Ohio', 'landfill', 'settlement', 'Palo', 'Alto', 'California', 'plastics', 'ban', 'meeting', 'results', 'waste', 'industry', 'companies', 'Philadelphia', 'Waste', 'Management', 'Covanta', 'disposal', 'contracts', 'Scrap', 'Collector', 'Mount', 'Everest', 'garbage', 'dump', 'Waste', 'Management', 'expansion', 'Delaware', 'landfill', 'Keurig', 'Dr', 'Pepper', '%', 'packaging', 'Florida', 'county', 'groundwater', 'monitoring', 'Waste', 'Connections', 'landfill', 'recycling', 'states', 'Connecticut', 'MRF', 'contract', 'lawsuit', 'Philadelphia', 'cancels', 'rewards', 'program', 'Omaha', 'council', 'votes', 'FCC', 'Environmental', 'collection', 'contract', 'Southern', 'California', 'city', 'contract', 'market', 'volatility', 'companies', 'control', 'US', 'waste', 'industry', 'Texas', 'legislature', 'waste', 'laws', 'Court', 'St.', 'Paul', 'Minnesota', 'collection', 'system', 'fate', 'voters', 'Scrap', 'Collector', 'Malaysia', 'tons', 'plastic', 'scrap', 'California', 'bills', 'advance', '%', 'packaging', 'reduction', 'goal', 'New', 'York', 'franchise', 'bill', 'company', 'zones', 'Illinois', 'coal', 'ash', 'site', 'reviews', 'rules', 'flux', 'Cincinnati', 'chosen', \"'Beyond\", 'city', 'appropriations', 'bill', 'strategy', 'Doubt', 'discord', 'New', 'York', 'franchise', 'bill', 'introduction', 'Annexation', 'approval', 'Advanced', 'Disposal', 'path', 'Illinois', 'landfill', 'expansion', 'tests', 'robot', 'Chicago', 'River', 'Maryland', 'EPS', 'foam', 'ban', 'bill', 'NY', 'governor', 'signs', 'legislation', 'WTE', 'project', 'FDA', 'backs', 'date', 'labeling', 'food', 'products', 'Scrap', 'Collector', 'Vermont', 'nation', 'plastics', 'bill', 'Letters', 'editor', 'WTE', 'solution', 'Conversations', 'execs', 'industry', 'companies', '%', 'US', 'incinerators', 'communities', 'report', 'reveals', 'Ohio', 'county', 'outlines', 'food', 'waste', 'reduction', 'plans', 'curbside', 'pilot', 'Kentucky', 'city', 'suspension', 'paper', 'recycling', 'ripples', 'region', 'Terracycle', 'Loop', 'P', 'G', 'Kroger', 'Walgreens', 'board', 'Omaha', 'Nebraska', 'concerns', 'bidder', 'collection', 'contract', 'talk', 'WCA', 'Waste', 'CEO', 'Bill', 'Caesar', 'Safety', 'everyone', '—', 'leaders', 'employees', 'Foods', 'plastic', 'straws', 'stores', 'Rubicon', 'Global', 'tack', 'software', 'business', 'New', 'Massachusetts', 'MRF', 'market', 'processing', 'capacity', 'Waste', 'Connections', 'company', 'Scrap', 'Collector', 'Plastic', \"'hidden\", 'climate', 'impacts', 'Wisconsin', 'city', 'reaches', 'settlement', 'Advanced', 'Disposal', 'GFL', 'Environmental', 'players', 'continent', 'link', 'economy', 'FMCSA', 'comment', 'driver', 'age', 'pilot', 'WWF', \"'activation\", 'hub', 'companies', 'pollution', 'commitments', 'recyclers', 'plastic', 'overseas', 'New', 'Republic', 'Services', 'president', \"'Death\", 'landfills', 'Covanta', 'WTE', 'US', 'FCC', 'Environmental', 'US', 'start', 'Washington', 'state', 'EPR', 'paint', 'Waste', 'Management', 'COO', 'New', 'Chicago', 'MRF', 'Department', 'Energy', 'bioenergy', 'research', 'development', 'waste', 'companies', 'immigration', 'stalemate', 'drivers', 'Scrap', 'Collector', 'U.S.', 'Basel', 'Convention', 'plastics', 'amendment', 'Recyclers', 'government', 'mandates', 'plastic', 'content', 'bags', 'Alabama', 'city', 'landfill', 'closure', 'end', 'market', 'development', 'Court', 'EPA', 'emissions', 'plans', 'years', 'delay', 'California', 'city', 'moves', \"'evergreen\", 'Republic', 'Services', 'contract', 'Toxins', 'ground', 'Inside', 'America', 'coal', 'ash', 'site', 'industry', 'struggle', 'rules', 'Republic', 'solution', 'California', \"'organics\", 'challenge', 'Study', 'bags', 'soil', 'water', 'years', 'Route', 'Amy', 'C.', 'Elliott', \"'apex\", 'consumerism', 'End', 'Waste', 'Foundation', 'blockchain', 'concept', 'glass', 'Scrap', 'Collector', 'Apple', 'lobbying', 'efforts', 'California', 'repair', 'bill', 'LA', 'Sanitation', 'director', 'plans', 'organics', 'waste', 'targets', 'Casella', 'revenue', 'rises', 'Boston', 'negotiations', 'Maine', 'nation', 'foam', 'ban', 'Scrap', 'metal', 'theft', 'bill', 'gains', 'momentum', 'Kansas', 'legislature']\n"
     ]
    }
   ],
   "source": [
    "print(tokenslist)"
   ]
  },
  {
   "cell_type": "code",
   "execution_count": 279,
   "metadata": {},
   "outputs": [
    {
     "name": "stdout",
     "output_type": "stream",
     "text": [
      "404\n"
     ]
    }
   ],
   "source": [
    "print(len(tokenslist))"
   ]
  },
  {
   "cell_type": "code",
   "execution_count": 280,
   "metadata": {},
   "outputs": [
    {
     "name": "stdout",
     "output_type": "stream",
     "text": [
      "404\n"
     ]
    }
   ],
   "source": [
    "total = len(tokenslist)\n",
    "print(total)"
   ]
  },
  {
   "cell_type": "code",
   "execution_count": 281,
   "metadata": {},
   "outputs": [
    {
     "name": "stdout",
     "output_type": "stream",
     "text": [
      "269\n",
      "{'laws': 1, 'cincinnati': 1, 'incinerators': 1, 'impacts': 1, 'amy': 1, 'rules': 2, \"'evergreen\": 1, 'blockchain': 1, 'theft': 1, \"'organics\": 1, 'county': 2, 'food': 2, 'omaha': 2, 'landfill': 5, 'disposal': 3, 'illinois': 2, 'players': 1, 'la': 1, 'tons': 1, 'council': 1, 'everest': 1, 'lawsuit': 1, 'stalemate': 1, 'loop': 1, 'ash': 2, 'ripples': 1, 'ground': 1, 'reaches': 1, 'bioenergy': 1, 'development': 2, 'kentucky': 1, 'mandates': 1, 'epa': 2, 'date': 1, 'software': 1, 'control': 1, 'palo': 1, 'paper': 1, 'emissions': 1, 'hub': 1, 'franchise': 2, 'content': 1, 'wca': 1, 'alabama': 1, 'targets': 1, 'covanta': 2, 'rubicon': 1, 'approval': 1, 'wisconsin': 2, 'ban': 3, 'editor': 1, 'madison': 1, 'closure': 1, 'companies': 5, 'immigration': 1, 'california': 6, 'c.': 1, 'path': 1, 'paul': 1, 'board': 1, 'river': 1, 'talk': 1, 'fda': 1, 'paint': 1, 'washington': 1, 'director': 1, 'dayton': 1, 'collector': 6, 'repair': 1, 'consumerism': 1, 'votes': 1, 'nebraska': 1, 'capacity': 1, 'climate': 1, 'momentum': 1, 'nation': 2, \"'beyond\": 1, 'legislature': 2, 'strategy': 1, 'ceo': 1, 'meeting': 1, 'collection': 3, 'mrf': 3, 'landfills': 1, 'rewards': 1, 'coal': 2, 'state': 1, 'st.': 1, 'execs': 1, 'driver': 1, 'volatility': 1, 'bags': 2, 'recycling': 2, 'reduction': 2, 'region': 1, 'business': 1, 'metal': 1, 'kroger': 1, 'department': 1, 'report': 1, 'fmcsa': 1, 'discord': 1, 'basel': 1, 'water': 1, 'scrap': 8, 'garbage': 1, 'bidder': 1, 'program': 1, 'minnesota': 1, 'lobbying': 1, 'delay': 1, 'us': 4, 'research': 1, 'governor': 1, 'system': 1, 'industry': 5, 'decision': 1, 'start': 1, 'apple': 1, 'revenue': 1, 'company': 2, 'age': 1, 'pepper': 1, 'pollution': 1, 'advance': 1, 'route': 1, 'foundation': 1, 'wwf': 1, 'caesar': 1, 'mount': 1, 'delaware': 1, 'flux': 1, 'everyone': 1, \"'hidden\": 1, 'gains': 1, 'chosen': 1, 'energy': 1, 'communities': 1, 'massachusetts': 1, 'cancels': 1, 'president': 1, 'packaging': 2, 'sanitation': 1, 'dump': 1, 'plans': 3, 'backs': 1, 'monitoring': 1, 'outlines': 1, 'toxins': 1, 'tack': 1, 'alto': 1, 'struggle': 1, 'overseas': 1, 'soil': 1, 'expansion': 2, 'labeling': 1, 'bill': 8, 'rises': 1, 'florida': 1, 'malaysia': 1, 'ohio': 2, 'maine': 1, 'york': 2, 'epr': 1, 'philadelphia': 2, 'products': 1, 'reveals': 1, 'annexation': 1, 'goal': 1, 'vermont': 1, 'ny': 1, 'terracycle': 1, 'concerns': 1, 'global': 1, 'texas': 1, 'boston': 1, 'stores': 1, 'walgreens': 1, 'recyclers': 2, 'project': 1, 'foods': 1, 'concept': 1, 'government': 1, 'link': 1, 'coo': 1, 'connecticut': 1, 'plastic': 5, 'kansas': 1, 'comment': 1, 'appropriations': 1, 'commitments': 1, 'reviews': 1, 'end': 2, 'market': 3, 'years': 2, 'robot': 1, 'solution': 2, 'leaders': 1, 'continent': 1, \"'activation\": 1, 'convention': 1, 'casella': 1, 'safety': 1, 'letters': 1, 'processing': 1, 'dr': 1, 'chicago': 2, 'services': 2, 'challenge': 1, 'fcc': 2, 'environmental': 3, 'fate': 1, 'foam': 2, 'drivers': 1, 'republic': 3, 'southern': 1, 'results': 1, \"'death\": 1, 'eps': 1, 'legislation': 1, 'inside': 1, 'glass': 1, 'groundwater': 1, 'study': 1, 'economy': 1, 'suspension': 1, 'advanced': 2, 'efforts': 1, 'contracts': 1, 'waste': 15, 'voters': 1, 'plastics': 3, 'settlement': 2, 'connections': 2, 'bills': 1, 'organics': 2, 'keurig': 1, 'zones': 1, 'states': 1, 'site': 2, 'maryland': 1, 'wte': 3, 'straws': 1, 'introduction': 1, 'amendment': 1, 'moves': 1, 'america': 1, 'contract': 5, 'gfl': 1, 'court': 2, 'curbside': 1, 'tests': 1, 'management': 4, 'pilot': 3, 'employees': 1, 'u.s.': 1, 'negotiations': 1, 'conversations': 1, \"'apex\": 1, 'new': 5, 'elliott': 1, 'doubt': 1, 'city': 6, 'signs': 1}\n"
     ]
    }
   ],
   "source": [
    "texte = ' '.join(tokenslist).lower()\n",
    "list_words = set()\n",
    "for each in tokenslist:\n",
    "    list_words.add(each.lower())\n",
    "list_words = list(list_words)\n",
    "\n",
    "print(len(list_words))\n",
    "number_word = {}\n",
    "c = 0\n",
    "for each in list_words:\n",
    "    if len(each) > 1:\n",
    "        for i in tokenslist:\n",
    "            if each.lower() == i.lower():\n",
    "                c += 1\n",
    "        number_word[each] = c\n",
    "        c = 0\n",
    "\n",
    "print(number_word)"
   ]
  },
  {
   "cell_type": "code",
   "execution_count": 282,
   "metadata": {},
   "outputs": [
    {
     "name": "stdout",
     "output_type": "stream",
     "text": [
      "[('laws', 1), ('cincinnati', 1), ('incinerators', 1), ('impacts', 1), ('amy', 1), (\"'evergreen\", 1), ('blockchain', 1), ('theft', 1), (\"'organics\", 1), ('players', 1), ('la', 1), ('tons', 1), ('council', 1), ('everest', 1), ('lawsuit', 1), ('stalemate', 1), ('loop', 1), ('ripples', 1), ('ground', 1), ('reaches', 1), ('bioenergy', 1), ('kentucky', 1), ('mandates', 1), ('date', 1), ('software', 1), ('control', 1), ('palo', 1), ('paper', 1), ('emissions', 1), ('hub', 1), ('content', 1), ('wca', 1), ('alabama', 1), ('targets', 1), ('rubicon', 1), ('approval', 1), ('editor', 1), ('madison', 1), ('closure', 1), ('immigration', 1), ('c.', 1), ('path', 1), ('paul', 1), ('board', 1), ('river', 1), ('talk', 1), ('fda', 1), ('paint', 1), ('washington', 1), ('director', 1), ('dayton', 1), ('repair', 1), ('consumerism', 1), ('votes', 1), ('nebraska', 1), ('capacity', 1), ('climate', 1), ('momentum', 1), (\"'beyond\", 1), ('strategy', 1), ('ceo', 1), ('meeting', 1), ('landfills', 1), ('rewards', 1), ('state', 1), ('st.', 1), ('execs', 1), ('driver', 1), ('volatility', 1), ('region', 1), ('business', 1), ('metal', 1), ('kroger', 1), ('department', 1), ('report', 1), ('fmcsa', 1), ('discord', 1), ('basel', 1), ('water', 1), ('garbage', 1), ('bidder', 1), ('program', 1), ('minnesota', 1), ('lobbying', 1), ('delay', 1), ('research', 1), ('governor', 1), ('system', 1), ('decision', 1), ('start', 1), ('apple', 1), ('revenue', 1), ('age', 1), ('pepper', 1), ('pollution', 1), ('advance', 1), ('route', 1), ('foundation', 1), ('wwf', 1), ('caesar', 1), ('mount', 1), ('delaware', 1), ('flux', 1), ('everyone', 1), (\"'hidden\", 1), ('gains', 1), ('chosen', 1), ('energy', 1), ('communities', 1), ('massachusetts', 1), ('cancels', 1), ('president', 1), ('sanitation', 1), ('dump', 1), ('backs', 1), ('monitoring', 1), ('outlines', 1), ('toxins', 1), ('tack', 1), ('alto', 1), ('struggle', 1), ('overseas', 1), ('soil', 1), ('labeling', 1), ('rises', 1), ('florida', 1), ('malaysia', 1), ('maine', 1), ('epr', 1), ('products', 1), ('reveals', 1), ('annexation', 1), ('goal', 1), ('vermont', 1), ('ny', 1), ('terracycle', 1), ('concerns', 1), ('global', 1), ('texas', 1), ('boston', 1), ('stores', 1), ('walgreens', 1), ('project', 1), ('foods', 1), ('concept', 1), ('government', 1), ('link', 1), ('coo', 1), ('connecticut', 1), ('kansas', 1), ('comment', 1), ('appropriations', 1), ('commitments', 1), ('reviews', 1), ('robot', 1), ('leaders', 1), ('continent', 1), (\"'activation\", 1), ('convention', 1), ('casella', 1), ('safety', 1), ('letters', 1), ('processing', 1), ('dr', 1), ('challenge', 1), ('fate', 1), ('drivers', 1), ('southern', 1), ('results', 1), (\"'death\", 1), ('eps', 1), ('legislation', 1), ('inside', 1), ('glass', 1), ('groundwater', 1), ('study', 1), ('economy', 1), ('suspension', 1), ('efforts', 1), ('contracts', 1), ('voters', 1), ('bills', 1), ('keurig', 1), ('zones', 1), ('states', 1), ('maryland', 1), ('straws', 1), ('introduction', 1), ('amendment', 1), ('moves', 1), ('america', 1), ('gfl', 1), ('curbside', 1), ('tests', 1), ('employees', 1), ('u.s.', 1), ('negotiations', 1), ('conversations', 1), (\"'apex\", 1), ('elliott', 1), ('doubt', 1), ('signs', 1), ('rules', 2), ('county', 2), ('food', 2), ('omaha', 2), ('illinois', 2), ('ash', 2), ('development', 2), ('epa', 2), ('franchise', 2), ('covanta', 2), ('wisconsin', 2), ('nation', 2), ('legislature', 2), ('coal', 2), ('bags', 2), ('recycling', 2), ('reduction', 2), ('company', 2), ('packaging', 2), ('expansion', 2), ('ohio', 2), ('york', 2), ('philadelphia', 2), ('recyclers', 2), ('end', 2), ('years', 2), ('solution', 2), ('chicago', 2), ('services', 2), ('fcc', 2), ('foam', 2), ('advanced', 2), ('settlement', 2), ('connections', 2), ('organics', 2), ('site', 2), ('court', 2), ('disposal', 3), ('ban', 3), ('collection', 3), ('mrf', 3), ('plans', 3), ('market', 3), ('environmental', 3), ('republic', 3), ('plastics', 3), ('wte', 3), ('pilot', 3), ('us', 4), ('management', 4), ('landfill', 5), ('companies', 5), ('industry', 5), ('plastic', 5), ('contract', 5), ('new', 5), ('california', 6), ('collector', 6), ('city', 6), ('scrap', 8), ('bill', 8), ('waste', 15)]\n"
     ]
    }
   ],
   "source": [
    "def get_order(name_and_occurences):\n",
    "    return name_and_occurences[1]\n",
    "\n",
    "number_word_sorted = sorted(number_word.items(), key = get_order)\n",
    "print(number_word_sorted)"
   ]
  },
  {
   "cell_type": "code",
   "execution_count": 283,
   "metadata": {},
   "outputs": [
    {
     "name": "stdout",
     "output_type": "stream",
     "text": [
      "2\n"
     ]
    }
   ],
   "source": [
    "tuple1 = number_word_sorted[227][1]\n",
    "print(tuple1)"
   ]
  },
  {
   "cell_type": "code",
   "execution_count": 284,
   "metadata": {},
   "outputs": [
    {
     "name": "stdout",
     "output_type": "stream",
     "text": [
      "0.007434944237918215\n"
     ]
    }
   ],
   "source": [
    "ratio = tuple1 /  len(list_words)\n",
    "print(ratio)"
   ]
  },
  {
   "cell_type": "code",
   "execution_count": 285,
   "metadata": {},
   "outputs": [],
   "source": [
    "import matplotlib.pyplot as plt\n",
    "import numpy as np"
   ]
  },
  {
   "cell_type": "code",
   "execution_count": 1,
   "metadata": {},
   "outputs": [
    {
     "ename": "NameError",
     "evalue": "name 'number_word_sorted' is not defined",
     "output_type": "error",
     "traceback": [
      "\u001b[1;31m---------------------------------------------------------------------------\u001b[0m",
      "\u001b[1;31mNameError\u001b[0m                                 Traceback (most recent call last)",
      "\u001b[1;32m<ipython-input-1-5245eff6471f>\u001b[0m in \u001b[0;36m<module>\u001b[1;34m\u001b[0m\n\u001b[0;32m      1\u001b[0m \u001b[1;31m# Pie chart, where the slices will be ordered and plotted counter-clockwise:\u001b[0m\u001b[1;33m\u001b[0m\u001b[1;33m\u001b[0m\u001b[1;33m\u001b[0m\u001b[0m\n\u001b[1;32m----> 2\u001b[1;33m \u001b[0mlabels\u001b[0m \u001b[1;33m=\u001b[0m \u001b[0mnumber_word_sorted\u001b[0m\u001b[1;33m[\u001b[0m\u001b[1;36m227\u001b[0m\u001b[1;33m]\u001b[0m\u001b[1;33m[\u001b[0m\u001b[1;36m0\u001b[0m\u001b[1;33m]\u001b[0m\u001b[1;33m,\u001b[0m \u001b[0mnumber_word_sorted\u001b[0m\u001b[1;33m[\u001b[0m\u001b[1;36m226\u001b[0m\u001b[1;33m]\u001b[0m\u001b[1;33m[\u001b[0m\u001b[1;36m0\u001b[0m\u001b[1;33m]\u001b[0m\u001b[1;33m,\u001b[0m \u001b[0mnumber_word_sorted\u001b[0m\u001b[1;33m[\u001b[0m\u001b[1;36m225\u001b[0m\u001b[1;33m]\u001b[0m\u001b[1;33m[\u001b[0m\u001b[1;36m0\u001b[0m\u001b[1;33m]\u001b[0m\u001b[1;33m,\u001b[0m \u001b[0mnumber_word_sorted\u001b[0m\u001b[1;33m[\u001b[0m\u001b[1;36m224\u001b[0m\u001b[1;33m]\u001b[0m\u001b[1;33m[\u001b[0m\u001b[1;36m0\u001b[0m\u001b[1;33m]\u001b[0m\u001b[1;33m\u001b[0m\u001b[1;33m\u001b[0m\u001b[0m\n\u001b[0m\u001b[0;32m      3\u001b[0m \u001b[0msizes\u001b[0m \u001b[1;33m=\u001b[0m \u001b[1;33m[\u001b[0m\u001b[0mnumber_word_sorted\u001b[0m\u001b[1;33m[\u001b[0m\u001b[1;36m227\u001b[0m\u001b[1;33m]\u001b[0m\u001b[1;33m[\u001b[0m\u001b[1;36m1\u001b[0m\u001b[1;33m]\u001b[0m\u001b[1;33m/\u001b[0m\u001b[0mlen\u001b[0m\u001b[1;33m(\u001b[0m\u001b[0mlist_words\u001b[0m\u001b[1;33m)\u001b[0m\u001b[1;33m,\u001b[0m \u001b[0mnumber_word_sorted\u001b[0m\u001b[1;33m[\u001b[0m\u001b[1;36m226\u001b[0m\u001b[1;33m]\u001b[0m\u001b[1;33m[\u001b[0m\u001b[1;36m1\u001b[0m\u001b[1;33m]\u001b[0m\u001b[1;33m/\u001b[0m\u001b[0mlen\u001b[0m\u001b[1;33m(\u001b[0m\u001b[0mlist_words\u001b[0m\u001b[1;33m)\u001b[0m\u001b[1;33m,\u001b[0m \u001b[1;33m(\u001b[0m\u001b[0mnumber_word_sorted\u001b[0m\u001b[1;33m[\u001b[0m\u001b[1;36m225\u001b[0m\u001b[1;33m]\u001b[0m\u001b[1;33m[\u001b[0m\u001b[1;36m1\u001b[0m\u001b[1;33m]\u001b[0m\u001b[1;33m+\u001b[0m\u001b[0mnumber_word_sorted\u001b[0m\u001b[1;33m[\u001b[0m\u001b[1;36m215\u001b[0m\u001b[1;33m]\u001b[0m\u001b[1;33m[\u001b[0m\u001b[1;36m1\u001b[0m\u001b[1;33m]\u001b[0m\u001b[1;33m)\u001b[0m\u001b[1;33m/\u001b[0m\u001b[0mlen\u001b[0m\u001b[1;33m(\u001b[0m\u001b[0mlist_words\u001b[0m\u001b[1;33m)\u001b[0m\u001b[1;33m,\u001b[0m \u001b[0mnumber_word_sorted\u001b[0m\u001b[1;33m[\u001b[0m\u001b[1;36m224\u001b[0m\u001b[1;33m]\u001b[0m\u001b[1;33m[\u001b[0m\u001b[1;36m1\u001b[0m\u001b[1;33m]\u001b[0m\u001b[1;33m/\u001b[0m\u001b[0mlen\u001b[0m\u001b[1;33m(\u001b[0m\u001b[0mlist_words\u001b[0m\u001b[1;33m)\u001b[0m\u001b[1;33m]\u001b[0m\u001b[1;33m\u001b[0m\u001b[1;33m\u001b[0m\u001b[0m\n\u001b[0;32m      4\u001b[0m \u001b[0mexplode\u001b[0m \u001b[1;33m=\u001b[0m \u001b[1;33m(\u001b[0m\u001b[1;36m0.1\u001b[0m\u001b[1;33m,\u001b[0m \u001b[1;36m0\u001b[0m\u001b[1;33m,\u001b[0m \u001b[1;36m0\u001b[0m\u001b[1;33m,\u001b[0m \u001b[1;36m0\u001b[0m\u001b[1;33m)\u001b[0m  \u001b[1;31m# only \"explode\" the 2nd slice (i.e. 'plastic')\u001b[0m\u001b[1;33m\u001b[0m\u001b[1;33m\u001b[0m\u001b[0m\n\u001b[0;32m      5\u001b[0m \u001b[1;33m\u001b[0m\u001b[0m\n",
      "\u001b[1;31mNameError\u001b[0m: name 'number_word_sorted' is not defined"
     ]
    }
   ],
   "source": [
    "# Pie chart, where the slices will be ordered and plotted counter-clockwise:\n",
    "labels = number_word_sorted[227][0], number_word_sorted[226][0], number_word_sorted[225][0], number_word_sorted[224][0]\n",
    "sizes = [number_word_sorted[227][1]/len(list_words), number_word_sorted[226][1]/len(list_words), (number_word_sorted[225][1]+number_word_sorted[215][1])/len(list_words), number_word_sorted[224][1]/len(list_words)]\n",
    "explode = (0.1, 0, 0, 0)  # only \"explode\" the 2nd slice (i.e. 'plastic')\n",
    "\n",
    "fig1, ax1 = plt.subplots()\n",
    "ax1.pie(sizes, explode=explode, labels=labels, autopct='%1.1f%%',\n",
    "        shadow=True, startangle=90)\n",
    "\n",
    "ax1.axis('equal')  # Equal aspect ratio ensures that pie is drawn as a circle.\n",
    "\n",
    "plt.show()"
   ]
  },
  {
   "cell_type": "code",
   "execution_count": 287,
   "metadata": {},
   "outputs": [
    {
     "data": {
      "image/png": "[encoded data removed]",
      "text/plain": [
       "<Figure size 432x288 with 1 Axes>"
      ]
     },
     "metadata": {
      "needs_background": "light"
     },
     "output_type": "display_data"
    }
   ],
   "source": [
    "objects = (number_word_sorted[-1][0], number_word_sorted[-2][0], number_word_sorted[-9][0], number_word_sorted[-4][0])\n",
    "y_pos = np.arange(len(objects))\n",
    "performance = [number_word_sorted[-1][1]/len(list_words)*100, number_word_sorted[-2][1]/len(list_words)*100, (number_word_sorted[-3][1]+number_word_sorted[215][1])/len(list_words)*100, number_word_sorted[-4][1]/len(list_words)*100]\n",
    "\n",
    "plt.bar(y_pos, performance, align='center', alpha=0.5)\n",
    "plt.xticks(y_pos, objects)\n",
    "plt.ylabel('Ratio')\n",
    "plt.title('Pourcentage of the use of words')\n",
    "\n",
    "plt.show()"
   ]
  },
  {
   "cell_type": "code",
   "execution_count": null,
   "metadata": {},
   "outputs": [],
   "source": [
    "# faire la même chose avec le summarypor comparer les résultats\n",
    "\n",
    "# prendre d'autres articles et comparer"
   ]
  },
  {
   "cell_type": "code",
   "execution_count": null,
   "metadata": {},
   "outputs": [],
   "source": []
  }
 ],
 "metadata": {
  "kernelspec": {
   "display_name": "Python 3",
   "language": "python",
   "name": "python3"
  },
  "language_info": {
   "codemirror_mode": {
    "name": "ipython",
    "version": 3
   },
   "file_extension": ".py",
   "mimetype": "text/x-python",
   "name": "python",
   "nbconvert_exporter": "python",
   "pygments_lexer": "ipython3",
   "version": "3.7.1"
  }
 },
 "nbformat": 4,
 "nbformat_minor": 2
}
