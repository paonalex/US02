{
 "cells": [
  {
   "cell_type": "code",
   "execution_count": 19,
   "metadata": {},
   "outputs": [],
   "source": [
    "import warnings\n",
    "warnings.filterwarnings(action='ignore', category=UserWarning, module='gensim')\n",
    "import gensim"
   ]
  },
  {
   "cell_type": "code",
   "execution_count": 21,
   "metadata": {},
   "outputs": [],
   "source": [
    "from gensim.models import Word2Vec"
   ]
  },
  {
   "cell_type": "code",
   "execution_count": 56,
   "metadata": {},
   "outputs": [],
   "source": [
    "sentences = [['this', 'is', 'the', 'good', 'machine', 'learning', 'book'],\n",
    "            ['this', 'is',  'another', 'book'],\n",
    "            ['one', 'more', 'book'],\n",
    "            ['this', 'is', 'the', 'new', 'post'],\n",
    "            ['this', 'is', 'about', 'machine', 'learning', 'post'],  \n",
    "            ['and', 'this', 'is', 'the', 'last', 'post']]"
   ]
  },
  {
   "cell_type": "code",
   "execution_count": 57,
   "metadata": {},
   "outputs": [],
   "source": [
    "model = Word2Vec(sentences, min_count=1)"
   ]
  },
  {
   "cell_type": "code",
   "execution_count": 58,
   "metadata": {},
   "outputs": [
    {
     "name": "stdout",
     "output_type": "stream",
     "text": [
      "0.06055953995544156\n",
      "-0.044818353362999844\n",
      "[('one', 0.09842193126678467), ('more', 0.09382733702659607)]\n",
      "[-1.7255045e-03 -1.4248646e-03 -1.7747941e-03  2.1063515e-03\n",
      "  3.7057160e-03 -4.9701841e-03 -5.5423970e-06 -2.7513409e-03\n",
      " -4.2879432e-03  1.9523017e-03  2.6652545e-03 -2.6407039e-03\n",
      "  4.2148340e-03  4.1060084e-03 -3.4888249e-03  2.7878929e-03\n",
      " -1.9927453e-03  2.8499120e-03 -1.3397606e-03  1.4694029e-03\n",
      "  2.5124399e-03 -3.2470236e-03 -3.9677895e-03  1.3130752e-03\n",
      " -1.2538953e-03  3.9641652e-03 -1.3691869e-03  2.5713979e-03\n",
      " -3.0373081e-03 -3.9499537e-03 -2.9859273e-04 -3.6760157e-03\n",
      " -4.7774375e-03  8.6050108e-04 -4.6003880e-03  1.2063844e-03\n",
      "  1.8491645e-03  2.7061233e-03  4.7282591e-03 -4.3104622e-03\n",
      "  2.8740326e-03 -3.3652526e-03  9.3864498e-04  4.9772365e-03\n",
      "  3.7859036e-03  5.0323457e-04 -1.6857900e-03  4.2757583e-03\n",
      " -3.7425566e-03  3.8577940e-03  3.4238334e-04  1.8262776e-03\n",
      "  3.9195083e-03 -3.6193265e-03  3.8253397e-03 -2.8983681e-03\n",
      "  4.4950736e-03  1.1446401e-03 -4.9278340e-03 -1.8842657e-03\n",
      " -4.9091172e-03  1.7921295e-03  1.1052411e-03 -7.9202640e-05\n",
      "  4.1583888e-03 -4.0753666e-04 -2.3573455e-03  3.1709762e-03\n",
      "  5.0692708e-04  6.7188690e-04  3.9566262e-03  7.0474303e-04\n",
      " -2.7910660e-03  1.7973165e-03 -3.8719655e-03 -4.1567651e-03\n",
      "  3.3908105e-03  2.2380389e-03 -4.0180869e-03  3.0083484e-03\n",
      " -6.6137163e-04  2.5907392e-03  9.4901049e-04  3.4018226e-03\n",
      "  2.3940192e-04  4.0423968e-03  7.6964824e-04  3.2225847e-03\n",
      "  3.4295574e-03 -2.8783260e-03 -6.2338426e-04 -6.5870857e-04\n",
      " -5.5439642e-04 -4.2701024e-04  4.9958779e-03 -1.5372343e-03\n",
      "  4.3201834e-04  3.1640639e-03 -1.4628780e-03 -4.2736786e-03]\n"
     ]
    }
   ],
   "source": [
    "print (model.wv.similarity('this', 'is'))\n",
    "print (model.wv.similarity('post', 'book'))\n",
    "print (model.wv.most_similar(positive=['machine'], negative=[], topn=2))\n",
    "print (model.wv.__getitem__('the'))"
   ]
  },
  {
   "cell_type": "code",
   "execution_count": 54,
   "metadata": {},
   "outputs": [
    {
     "name": "stdout",
     "output_type": "stream",
     "text": [
      "['this', 'is', 'the', 'good', 'machine', 'learning', 'book', 'another', 'one', 'more', 'new', 'post', 'about', 'and', 'last']\n",
      "15\n"
     ]
    }
   ],
   "source": [
    "print (list(model.wv.vocab))\n",
    "print (len(list(model.wv.vocab)))"
   ]
  },
  {
   "cell_type": "code",
   "execution_count": null,
   "metadata": {},
   "outputs": [],
   "source": []
  }
 ],
 "metadata": {
  "kernelspec": {
   "display_name": "Python 3",
   "language": "python",
   "name": "python3"
  },
  "language_info": {
   "codemirror_mode": {
    "name": "ipython",
    "version": 3
   },
   "file_extension": ".py",
   "mimetype": "text/x-python",
   "name": "python",
   "nbconvert_exporter": "python",
   "pygments_lexer": "ipython3",
   "version": "3.7.1"
  }
 },
 "nbformat": 4,
 "nbformat_minor": 2
}
