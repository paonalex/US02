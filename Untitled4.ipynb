{
 "cells": [
  {
   "cell_type": "code",
   "execution_count": 2,
   "metadata": {},
   "outputs": [],
   "source": [
    "import requests\n",
    "import nltk\n",
    "import random\n",
    "import time\n",
    "from collections import Counter\n",
    "from bs4 import BeautifulSoup"
   ]
  },
  {
   "cell_type": "code",
   "execution_count": 83,
   "metadata": {},
   "outputs": [
    {
     "name": "stdout",
     "output_type": "stream",
     "text": [
      "3\n"
     ]
    }
   ],
   "source": [
    "source = []\n",
    "article = []\n",
    "soup = []\n",
    "for i in range(3):\n",
    "    source.append(requests.get('https://www.wastedive.com/?page=' + str(i+1)).text)\n",
    "\n",
    "    soup.append(BeautifulSoup(source[i], 'html5lib'))\n",
    "\n",
    "    article.append(soup[i].find_all('h3', 'feed__title feed__title--display'))\n",
    "\n",
    "print(len(article))"
   ]
  },
  {
   "cell_type": "code",
   "execution_count": 84,
   "metadata": {},
   "outputs": [
    {
     "name": "stdout",
     "output_type": "stream",
     "text": [
      "25\n",
      "[<h3 class=\"feed__title feed__title--display\">\n",
      "                                <a href=\"/news/why-the-epas-decision-on-ep-waste-is-very-good-for-the-industry/556458/\">\n",
      "                                    \n",
      "                                    Why the EPA's decision on E&amp;P waste is very good for the industry\n",
      "                                </a>\n",
      "                            </h3>, <h3 class=\"feed__title feed__title--display\">\n",
      "                                <a href=\"/news/madison-food-scrap-collection-pilot/556654/\">\n",
      "                                    \n",
      "                                    Madison, Wisconsin relaunching curbside organics pilot\n",
      "                                </a>\n",
      "                            </h3>, <h3 class=\"feed__title feed__title--display\">\n",
      "                                <a href=\"/news/waste-management-dayton-ohio-landfill-settlement/556613/\">\n",
      "                                    \n",
      "                                    Waste Management set to pay Dayton, Ohio $10.5M landfill settlement\n",
      "                                </a>\n",
      "                            </h3>, <h3 class=\"feed__title feed__title--display\">\n",
      "                                <a href=\"/news/palo-alto-california-approves-sweeping-single-use-plastics-ban/556631/\">\n",
      "                                    \n",
      "                                    Palo Alto, California approves sweeping single-use plastics ban\n",
      "                                </a>\n",
      "                            </h3>, <h3 class=\"feed__title feed__title--display\">\n",
      "                                <a href=\"/news/annual-shareholder-meeting-results-from-waste-industry-companies/556271/\">\n",
      "                                    \n",
      "                                    Annual meeting results from the waste industry's top companies\n",
      "                                </a>\n",
      "                            </h3>, <h3 class=\"feed__title feed__title--display\">\n",
      "                                <a href=\"/news/philadelphia-poised-to-award-waste-management-covanta-disposal-contracts/556329/\">\n",
      "                                    \n",
      "                                    Philadelphia poised to award Waste Management, Covanta disposal contracts\n",
      "                                </a>\n",
      "                            </h3>, <h3 class=\"feed__title feed__title--display\">\n",
      "                                <a href=\"/news/scrap-collector-mount-everest-now-worlds-highest-garbage-dump/556395/\">\n",
      "                                    \n",
      "                                    Scrap Collector: Mount Everest now 'world's highest garbage dump'\n",
      "                                </a>\n",
      "                            </h3>, <h3 class=\"feed__title feed__title--display\">\n",
      "                                <a href=\"/news/waste-management-pursuing-vertical-expansion-at-delaware-landfill/556427/\">\n",
      "                                    \n",
      "                                    Waste Management pursuing vertical expansion at Delaware landfill\n",
      "                                </a>\n",
      "                            </h3>, <h3 class=\"feed__title feed__title--display\">\n",
      "                                <a href=\"/news/keurig-dr-pepper-sustainability/556325/\">\n",
      "                                    \n",
      "                                    Keurig Dr Pepper commits to 100% recyclable or compostable packaging by 2025\n",
      "                                </a>\n",
      "                            </h3>, <h3 class=\"feed__title feed__title--display\">\n",
      "                                <a href=\"/news/florida-county-to-perform-extra-groundwater-monitoring-at-waste-connections/555477/\">\n",
      "                                    \n",
      "                                    Florida county to perform extra groundwater monitoring at Waste Connections landfill\n",
      "                                </a>\n",
      "                            </h3>, <h3 class=\"feed__title feed__title--display\">\n",
      "                                <a href=\"/news/what-chinese-import-policies-mean-for-all-50-states/510751/\">\n",
      "                                    \n",
      "                                    How recycling is changing in all 50 states\n",
      "                                </a>\n",
      "                            </h3>, <h3 class=\"feed__title feed__title--display\">\n",
      "                                <a href=\"/news/republic-attempting-to-exit-connecticut-mrf-contract-via-lawsuit/556172/\">\n",
      "                                    \n",
      "                                    Republic attempting to exit Connecticut MRF contract via lawsuit\n",
      "                                </a>\n",
      "                            </h3>, <h3 class=\"feed__title feed__title--display\">\n",
      "                                <a href=\"/news/philadelphia-cancels-recycling-rewards-program/556248/\">\n",
      "                                    \n",
      "                                    Philadelphia cancels recycling rewards program\n",
      "                                </a>\n",
      "                            </h3>, <h3 class=\"feed__title feed__title--display\">\n",
      "                                <a href=\"/news/fcc-environmental-contract-omaha-nebraska/552404/\">\n",
      "                                    \n",
      "                                    Omaha council votes against FCC Environmental collection contract\n",
      "                                </a>\n",
      "                            </h3>, <h3 class=\"feed__title feed__title--display\">\n",
      "                                <a href=\"/news/santa-monica-rejects-mrf-recycling-contract/556193/\">\n",
      "                                    \n",
      "                                    Southern California city rejects new recycling contract amid market volatility\n",
      "                                </a>\n",
      "                            </h3>, <h3 class=\"feed__title feed__title--display\">\n",
      "                                <a href=\"/news/public-companies-increased-control-of-74b-us-waste-industry-in-2018/556079/\">\n",
      "                                    \n",
      "                                    Public companies increased control of $74B US waste industry in 2018\n",
      "                                </a>\n",
      "                            </h3>, <h3 class=\"feed__title feed__title--display\">\n",
      "                                <a href=\"/news/texas-legislature-passes-two-waste-permitting-laws/556073/\">\n",
      "                                    \n",
      "                                    Texas legislature passes two waste permitting laws\n",
      "                                </a>\n",
      "                            </h3>, <h3 class=\"feed__title feed__title--display\">\n",
      "                                <a href=\"/news/court-upends-st-paul-minnesota-collection-system-leaving-fate-to-voters/555995/\">\n",
      "                                    \n",
      "                                    Court upends St. Paul, Minnesota collection system, leaving fate to voters\n",
      "                                </a>\n",
      "                            </h3>, <h3 class=\"feed__title feed__title--display\">\n",
      "                                <a href=\"/news/scrap-collector-malaysia-returning-3300-tons-of-contaminated-plastic-scra/555874/\">\n",
      "                                    \n",
      "                                    Scrap Collector: Malaysia returning 3,300 tons of contaminated plastic scrap\n",
      "                                </a>\n",
      "                            </h3>, <h3 class=\"feed__title feed__title--display\">\n",
      "                                <a href=\"/news/california-state-legislators-want-to-phase-out-non-recyclable-plastic-products/549406/\">\n",
      "                                    \n",
      "                                    California bills advance that would set 75% plastic packaging reduction goal\n",
      "                                </a>\n",
      "                            </h3>, <h3 class=\"feed__title feed__title--display\">\n",
      "                                <a href=\"/news/new-york-franchise-bill-1-company-could-exclusively-win-15-of-20-zones/555774/\">\n",
      "                                    \n",
      "                                    New York franchise bill: 1 company could exclusively win 15 of 20 zones\n",
      "                                </a>\n",
      "                            </h3>, <h3 class=\"feed__title feed__title--display\">\n",
      "                                <a href=\"/news/illinois-mandates-case-by-case-coal-ash-site-reviews-as-federal-rules-remai/555841/\">\n",
      "                                    \n",
      "                                    Illinois mandates case-by-case coal ash site reviews as federal rules remain in flux\n",
      "                                </a>\n",
      "                            </h3>, <h3 class=\"feed__title feed__title--display\">\n",
      "                                <a href=\"/news/cincinnati-chosen-as-next-beyond-34-city/555654/\">\n",
      "                                    \n",
      "                                    Cincinnati chosen as next 'Beyond 34' city\n",
      "                                </a>\n",
      "                            </h3>, <h3 class=\"feed__title feed__title--display\">\n",
      "                                <a href=\"/news/congressional-appropriations-bill-calls-for-national-recycling-strategy/555759/\">\n",
      "                                    \n",
      "                                    Congressional appropriations bill calls for 'national recycling strategy'\n",
      "                                </a>\n",
      "                            </h3>, <h3 class=\"feed__title feed__title--display\">\n",
      "                                <a href=\"/news/doubt-and-discord-ahead-of-new-york-franchise-bill-introduction/555671/\">\n",
      "                                    \n",
      "                                    Doubt and discord ahead of New York franchise bill introduction\n",
      "                                </a>\n",
      "                            </h3>]\n",
      "25\n",
      "[<h3 class=\"feed__title feed__title--display\">\n",
      "                                <a href=\"/news/annexation-approval-gives-advanced-disposal-path-to-illinois-landfill-expan/555687/\">\n",
      "                                    \n",
      "                                    Annexation approval gives Advanced Disposal path to Illinois landfill expansion\n",
      "                                </a>\n",
      "                            </h3>, <h3 class=\"feed__title feed__title--display\">\n",
      "                                <a href=\"/news/nonprofit-tests-trash-collecting-robot-on-chicago-river/555709/\">\n",
      "                                    \n",
      "                                    Nonprofit tests trash-collecting robot on Chicago River\n",
      "                                </a>\n",
      "                            </h3>, <h3 class=\"feed__title feed__title--display\">\n",
      "                                <a href=\"/news/maryland-legislature-advances-statewide-eps-foam-ban-bill/550844/\">\n",
      "                                    \n",
      "                                    Maryland passes statewide EPS foam ban bill\n",
      "                                </a>\n",
      "                            </h3>, <h3 class=\"feed__title feed__title--display\">\n",
      "                                <a href=\"/news/new-york-legislature-wte-Circular-enerG-incinerator/550727/\">\n",
      "                                    \n",
      "                                    NY governor signs legislation to stop WTE project\n",
      "                                </a>\n",
      "                            </h3>, <h3 class=\"feed__title feed__title--display\">\n",
      "                                <a href=\"/news/fda-backs-best-if-used-by-voluntary-date-labeling-for-food-products/555542/\">\n",
      "                                    \n",
      "                                    FDA backs 'Best if used by' voluntary date labeling for food products\n",
      "                                </a>\n",
      "                            </h3>, <h3 class=\"feed__title feed__title--display\">\n",
      "                                <a href=\"/news/scrap-collector-vermont-passes-nations-toughest-plastics-bill-yet/555482/\">\n",
      "                                    \n",
      "                                    Scrap Collector: Vermont passes nation's 'toughest' plastics bill yet\n",
      "                                </a>\n",
      "                            </h3>, <h3 class=\"feed__title feed__title--display\">\n",
      "                                <a href=\"/news/letters-to-the-editor-wte-is-the-true-circular-solution/555475/\">\n",
      "                                    \n",
      "                                    Letters to the editor: WTE is the true circular solution\n",
      "                                </a>\n",
      "                            </h3>, <h3 class=\"feed__title feed__title--display\">\n",
      "                                <a href=\"/news/conversations-with-execs-from-8-key-industry-companies/555452/\">\n",
      "                                    \n",
      "                                    Conversations with execs from 8 key industry companies\n",
      "                                </a>\n",
      "                            </h3>, <h3 class=\"feed__title feed__title--display\">\n",
      "                                <a href=\"/news/majority-of-us-incinerators-located-in-marginalized-communities-report-r/555375/\">\n",
      "                                    \n",
      "                                    Nearly 80% of US incinerators located in marginalized communities, report reveals\n",
      "                                </a>\n",
      "                            </h3>, <h3 class=\"feed__title feed__title--display\">\n",
      "                                <a href=\"/news/ohio-county-outlines-food-waste-reduction-plans-potential-curbside-pilot/555433/\">\n",
      "                                    \n",
      "                                    Ohio county outlines food waste reduction plans, potential curbside pilot\n",
      "                                </a>\n",
      "                            </h3>, <h3 class=\"feed__title feed__title--display\">\n",
      "                                <a href=\"/news/kentucky-citys-suspension-of-paper-recycling-ripples-through-region/555237/\">\n",
      "                                    \n",
      "                                    Kentucky city's suspension of paper recycling ripples through region\n",
      "                                </a>\n",
      "                            </h3>, <h3 class=\"feed__title feed__title--display\">\n",
      "                                <a href=\"/news/loop-waste-free-ecommerce-launch/555361/\">\n",
      "                                    \n",
      "                                    Terracycle's Loop launches with P&amp;G, Kroger, Walgreens on board\n",
      "                                </a>\n",
      "                            </h3>, <h3 class=\"feed__title feed__title--display\">\n",
      "                                <a href=\"/news/omaha-nebraska-concerns-low-bid-wcs-fcc/555306/\">\n",
      "                                    \n",
      "                                    Omaha, Nebraska raises multiple concerns about low bidder for collection contract\n",
      "                                </a>\n",
      "                            </h3>, <h3 class=\"feed__title feed__title--display\">\n",
      "                                <a href=\"/news/straight-talk-with-wca-waste-ceo-bill-caesar/555154/\">\n",
      "                                    \n",
      "                                    Straight talk with WCA Waste CEO Bill Caesar\n",
      "                                </a>\n",
      "                            </h3>, <h3 class=\"feed__title feed__title--display\">\n",
      "                                <a href=\"/news/safety-falls-on-everyone-from-top-leaders-to-hourly-employees/555171/\">\n",
      "                                    \n",
      "                                    Safety falls on everyone — from top leaders to hourly employees\n",
      "                                </a>\n",
      "                            </h3>, <h3 class=\"feed__title feed__title--display\">\n",
      "                                <a href=\"/news/whole-foods-ditching-plastic-straws-across-all-stores/555249/\">\n",
      "                                    \n",
      "                                    Whole Foods ditching plastic straws across all stores\n",
      "                                </a>\n",
      "                            </h3>, <h3 class=\"feed__title feed__title--display\">\n",
      "                                <a href=\"/news/rubicon-global-taking-less-combative-tack-focusing-on-software-business/555052/\">\n",
      "                                    \n",
      "                                    Rubicon Global taking less combative tack, focusing on software business\n",
      "                                </a>\n",
      "                            </h3>, <h3 class=\"feed__title feed__title--display\">\n",
      "                                <a href=\"/news/zero-waste-solutions-mrf-opening-massachusetts-disposal-crisis/545996/\">\n",
      "                                    \n",
      "                                    New Massachusetts MRF opens in market with tight processing capacity\n",
      "                                </a>\n",
      "                            </h3>, <h3 class=\"feed__title feed__title--display\">\n",
      "                                <a href=\"/news/waste-connections-worthing-jackman-labor-recycling/554975/\">\n",
      "                                    \n",
      "                                    Waste Connections may be third-largest, but don't accuse it of being a 'big company'\n",
      "                                </a>\n",
      "                            </h3>, <h3 class=\"feed__title feed__title--display\">\n",
      "                                <a href=\"/news/scrap-collector-plastics-hidden-climate-impacts-revealed/555007/\">\n",
      "                                    \n",
      "                                    Scrap Collector: Plastic's 'hidden' climate impacts revealed\n",
      "                                </a>\n",
      "                            </h3>, <h3 class=\"feed__title feed__title--display\">\n",
      "                                <a href=\"/news/court-decision-mayville-wisconsin-landfill-expansion-protest/547491/\">\n",
      "                                    \n",
      "                                    Wisconsin city reaches landfill settlement with Advanced Disposal\n",
      "                                </a>\n",
      "                            </h3>, <h3 class=\"feed__title feed__title--display\">\n",
      "                                <a href=\"/news/gfl-environmental-Dovigi-Pelosi-ambition/554721/\">\n",
      "                                    \n",
      "                                    GFL Environmental aims to be 'one of the largest players in the continent'\n",
      "                                </a>\n",
      "                            </h3>, <h3 class=\"feed__title feed__title--display\">\n",
      "                                <a href=\"/news/a-broken-link-in-the-circular-economy/554731/\">\n",
      "                                    \n",
      "                                    A broken link in the circular economy\n",
      "                                </a>\n",
      "                            </h3>, <h3 class=\"feed__title feed__title--display\">\n",
      "                                <a href=\"/news/fmcsa-comment-driver-age-pilot-trucking/554859/\">\n",
      "                                    \n",
      "                                    FMCSA seeks comment on proposed driver age pilot\n",
      "                                </a>\n",
      "                            </h3>, <h3 class=\"feed__title feed__title--display\">\n",
      "                                <a href=\"/news/wwf-activation-hub-resource-plastic-pollution-ocean/554738/\">\n",
      "                                    \n",
      "                                    WWF 'activation hub' to help companies make good on plastic pollution commitments\n",
      "                                </a>\n",
      "                            </h3>]\n",
      "25\n",
      "[<h3 class=\"feed__title feed__title--display\">\n",
      "                                <a href=\"/news/cfo-large-us-recyclers-export-plastic/554857/\">\n",
      "                                    \n",
      "                                    Major recyclers deny still exporting plastic overseas\n",
      "                                </a>\n",
      "                            </h3>, <h3 class=\"feed__title feed__title--display\">\n",
      "                                <a href=\"/news/republic-services-president-jon-vander-ark-recycling-landfill/554768/\">\n",
      "                                    \n",
      "                                    New Republic Services president: 'Death of landfills has been overexaggerated'\n",
      "                                </a>\n",
      "                            </h3>, <h3 class=\"feed__title feed__title--display\">\n",
      "                                <a href=\"/news/covanta-poised-for-wte-awakening-in-us-if-it-comes/554794/\">\n",
      "                                    \n",
      "                                    Covanta poised for WTE 'awakening' in US — if it comes\n",
      "                                </a>\n",
      "                            </h3>, <h3 class=\"feed__title feed__title--display\">\n",
      "                                <a href=\"/news/fcc-environmental-plans-to-grow-faster-in-us-start-acquiring/554678/\">\n",
      "                                    \n",
      "                                    FCC Environmental plans to 'grow faster' in US, start acquiring\n",
      "                                </a>\n",
      "                            </h3>, <h3 class=\"feed__title feed__title--display\">\n",
      "                                <a href=\"/news/washington-becomes-10th-state-to-pass-epr-for-paint/554661/\">\n",
      "                                    \n",
      "                                    Washington becomes 10th state to pass EPR for paint\n",
      "                                </a>\n",
      "                            </h3>, <h3 class=\"feed__title feed__title--display\">\n",
      "                                <a href=\"/news/waste-management-coo-john-morris-chicago-mrf/554572/\">\n",
      "                                    \n",
      "                                    Waste Management COO: New Chicago MRF will be 'much more mechanized'\n",
      "                                </a>\n",
      "                            </h3>, <h3 class=\"feed__title feed__title--display\">\n",
      "                                <a href=\"/news/department-of-energy-to-award-79m-for-bioenergy-research-and-development/554581/\">\n",
      "                                    \n",
      "                                    Department of Energy to award $79M for bioenergy research and development\n",
      "                                </a>\n",
      "                            </h3>, <h3 class=\"feed__title feed__title--display\">\n",
      "                                <a href=\"/news/immigration-stalemate-drivers-tps/554484/\">\n",
      "                                    \n",
      "                                    Top waste companies fed up with immigration stalemate, losing drivers\n",
      "                                </a>\n",
      "                            </h3>, <h3 class=\"feed__title feed__title--display\">\n",
      "                                <a href=\"/news/scrap-collector-us-abstains-from-supporting-basel-convention-plastics-pr/554520/\">\n",
      "                                    \n",
      "                                    Scrap Collector: U.S. abstains from supporting Basel Convention plastics amendment\n",
      "                                </a>\n",
      "                            </h3>, <h3 class=\"feed__title feed__title--display\">\n",
      "                                <a href=\"/news/recyclers-request-government-mandates-for-recycled-plastic-content-in-bags/554363/\">\n",
      "                                    \n",
      "                                    Recyclers request government mandates for recycled plastic content in bags\n",
      "                                </a>\n",
      "                            </h3>, <h3 class=\"feed__title feed__title--display\">\n",
      "                                <a href=\"/news/alabama-city-permitted-to-expand-landfill-after-5-year-closure/554418/\">\n",
      "                                    \n",
      "                                    Alabama city permitted to expand landfill after 5-year closure\n",
      "                                </a>\n",
      "                            </h3>, <h3 class=\"feed__title feed__title--display\">\n",
      "                                <a href=\"/news/what-recycling-end-market-development-looks-like-in-2019/553683/\">\n",
      "                                    \n",
      "                                    What recycling end market development looks like in 2019\n",
      "                                </a>\n",
      "                            </h3>, <h3 class=\"feed__title feed__title--display\">\n",
      "                                <a href=\"/news/why-recycling-should-be-accessible-to-every-american/554209/\">\n",
      "                                    \n",
      "                                    Why recycling should be accessible to every American\n",
      "                                </a>\n",
      "                            </h3>, <h3 class=\"feed__title feed__title--display\">\n",
      "                                <a href=\"/news/epa-landfill-emissions-plans/554345/\">\n",
      "                                    \n",
      "                                    Court: EPA must review landfill emissions plans after years of delay\n",
      "                                </a>\n",
      "                            </h3>, <h3 class=\"feed__title feed__title--display\">\n",
      "                                <a href=\"/news/huntington-beach-republic-services-contract-termination/551844/\">\n",
      "                                    \n",
      "                                    California city moves to terminate 'evergreen' Republic Services contract\n",
      "                                </a>\n",
      "                            </h3>, <h3 class=\"feed__title feed__title--display\">\n",
      "                                <a href=\"/news/toxins-in-the-ground-inside-americas-most-polluted-coal-ash-site-and-indu/554344/\">\n",
      "                                    \n",
      "                                    Toxins in the ground: Inside America's most polluted coal ash site and industry's struggle with federal rules\n",
      "                                </a>\n",
      "                            </h3>, <h3 class=\"feed__title feed__title--display\">\n",
      "                                <a href=\"/news/republics-solution-to-the-california-organics-challenge/554113/\">\n",
      "                                    \n",
      "                                    Republic's solution to the California 'organics challenge'\n",
      "                                </a>\n",
      "                            </h3>, <h3 class=\"feed__title feed__title--display\">\n",
      "                                <a href=\"/news/study-biodegradable-bags-survive-soil-and-water-for-years/554119/\">\n",
      "                                    \n",
      "                                    Study: Biodegradable bags survive soil and water for years\n",
      "                                </a>\n",
      "                            </h3>, <h3 class=\"feed__title feed__title--display\">\n",
      "                                <a href=\"/news/amy-c-elliott-salvage/553877/\">\n",
      "                                    \n",
      "                                    Off the Route: Documentarian Amy C. Elliott on the 'apex of consumerism'\n",
      "                                </a>\n",
      "                            </h3>, <h3 class=\"feed__title feed__title--display\">\n",
      "                                <a href=\"/news/end-of-waste-foundations-new-blockchain-recycling-concept-starts-with-glas/554081/\">\n",
      "                                    \n",
      "                                    End of Waste Foundation's new blockchain recycling concept starts with glass\n",
      "                                </a>\n",
      "                            </h3>, <h3 class=\"feed__title feed__title--display\">\n",
      "                                <a href=\"/news/scrap-collector-private-apple-lobbying-efforts-postpone-california-repair/553967/\">\n",
      "                                    \n",
      "                                    Scrap Collector: Private Apple lobbying efforts postpone California repair bill\n",
      "                                </a>\n",
      "                            </h3>, <h3 class=\"feed__title feed__title--display\">\n",
      "                                <a href=\"/news/la-sanitation-director-Enrique-Zaldivar-organics-zero-waste-part-2/554045/\">\n",
      "                                    \n",
      "                                    LA Sanitation director's plans to tackle organics and hit 'zero waste' targets\n",
      "                                </a>\n",
      "                            </h3>, <h3 class=\"feed__title feed__title--display\">\n",
      "                                <a href=\"/news/casella-recycling-revenue-rises-boston-negotiations-ongoing/553891/\">\n",
      "                                    \n",
      "                                    Casella recycling revenue rises, Boston negotiations ongoing\n",
      "                                </a>\n",
      "                            </h3>, <h3 class=\"feed__title feed__title--display\">\n",
      "                                <a href=\"/news/maine-becomes-first-in-the-nation-to-enact-statewide-foam-ban/553908/\">\n",
      "                                    \n",
      "                                    Maine becomes first in the nation to enact statewide foam ban\n",
      "                                </a>\n",
      "                            </h3>, <h3 class=\"feed__title feed__title--display\">\n",
      "                                <a href=\"/news/scrap-metal-theft-bill-gains-new-momentum-in-kansas-legislature/553850/\">\n",
      "                                    \n",
      "                                    Scrap metal theft bill gains new momentum in Kansas legislature\n",
      "                                </a>\n",
      "                            </h3>]\n"
     ]
    }
   ],
   "source": [
    "for each in article:\n",
    "    print(len(each))\n",
    "    print(each)"
   ]
  },
  {
   "cell_type": "code",
   "execution_count": 38,
   "metadata": {},
   "outputs": [],
   "source": [
    "# def get_list_article_name(soup):\n",
    "#     titlelist = []\n",
    "#     dayarticle = soup.find_all('h3', class_='feed__title feed__title--display')\n",
    "#     for article in dayarticle:\n",
    "#         a = article.find_all('a')\n",
    "#         for articletitle in a:\n",
    "#             title = articletitle.contents[0]\n",
    "#         titlelist.append(title)\n",
    "#     return titlelist"
   ]
  },
  {
   "cell_type": "code",
   "execution_count": 39,
   "metadata": {},
   "outputs": [],
   "source": [
    "# titlelist = get_list_article_name(soup)"
   ]
  },
  {
   "cell_type": "code",
   "execution_count": 37,
   "metadata": {},
   "outputs": [
    {
     "name": "stdout",
     "output_type": "stream",
     "text": [
      "['\\n                                    \\n                                    Major recyclers deny still exporting plastic overseas\\n                                ', \"\\n                                    \\n                                    New Republic Services president: 'Death of landfills has been overexaggerated'\\n                                \", \"\\n                                    \\n                                    Covanta poised for WTE 'awakening' in US — if it comes\\n                                \", \"\\n                                    \\n                                    FCC Environmental plans to 'grow faster' in US, start acquiring\\n                                \", '\\n                                    \\n                                    Washington becomes 10th state to pass EPR for paint\\n                                ', \"\\n                                    \\n                                    Waste Management COO: New Chicago MRF will be 'much more mechanized'\\n                                \", '\\n                                    \\n                                    Department of Energy to award $79M for bioenergy research and development\\n                                ', '\\n                                    \\n                                    Top waste companies fed up with immigration stalemate, losing drivers\\n                                ', '\\n                                    \\n                                    Scrap Collector: U.S. abstains from supporting Basel Convention plastics amendment\\n                                ', '\\n                                    \\n                                    Recyclers request government mandates for recycled plastic content in bags\\n                                ', '\\n                                    \\n                                    Alabama city permitted to expand landfill after 5-year closure\\n                                ', '\\n                                    \\n                                    What recycling end market development looks like in 2019\\n                                ', '\\n                                    \\n                                    Why recycling should be accessible to every American\\n                                ', '\\n                                    \\n                                    Court: EPA must review landfill emissions plans after years of delay\\n                                ', \"\\n                                    \\n                                    California city moves to terminate 'evergreen' Republic Services contract\\n                                \", \"\\n                                    \\n                                    Toxins in the ground: Inside America's most polluted coal ash site and industry's struggle with federal rules\\n                                \", \"\\n                                    \\n                                    Republic's solution to the California 'organics challenge'\\n                                \", '\\n                                    \\n                                    Study: Biodegradable bags survive soil and water for years\\n                                ', \"\\n                                    \\n                                    Off the Route: Documentarian Amy C. Elliott on the 'apex of consumerism'\\n                                \", \"\\n                                    \\n                                    End of Waste Foundation's new blockchain recycling concept starts with glass\\n                                \", '\\n                                    \\n                                    Scrap Collector: Private Apple lobbying efforts postpone California repair bill\\n                                ', \"\\n                                    \\n                                    LA Sanitation director's plans to tackle organics and hit 'zero waste' targets\\n                                \", '\\n                                    \\n                                    Casella recycling revenue rises, Boston negotiations ongoing\\n                                ', '\\n                                    \\n                                    Maine becomes first in the nation to enact statewide foam ban\\n                                ', '\\n                                    \\n                                    Scrap metal theft bill gains new momentum in Kansas legislature\\n                                ']\n"
     ]
    }
   ],
   "source": [
    "# print(titlelist)"
   ]
  },
  {
   "cell_type": "code",
   "execution_count": 102,
   "metadata": {},
   "outputs": [],
   "source": [
    "def get_list_article_name(soup):\n",
    "    titlelist = []\n",
    "    for each in soup:\n",
    "        feed_title = each.find_all('h3', 'feed__title feed__title--display')\n",
    "        for article in feed_title:\n",
    "            a = article.find_all('a')\n",
    "            for articletitle in a:\n",
    "                title = articletitle.contents[0]\n",
    "                title1 = title.split(' ')[72:]\n",
    "                title2 = title1[:-33]\n",
    "                title3 = \" \".join(title2)\n",
    "            titlelist.append(title3)\n",
    "    return titlelist"
   ]
  },
  {
   "cell_type": "code",
   "execution_count": 103,
   "metadata": {},
   "outputs": [],
   "source": [
    "titlelist = get_list_article_name(soup)"
   ]
  },
  {
   "cell_type": "code",
   "execution_count": 104,
   "metadata": {},
   "outputs": [
    {
     "name": "stdout",
     "output_type": "stream",
     "text": [
      "[\"Why the EPA's decision on E&P waste is very good for the\", 'Madison, Wisconsin relaunching curbside organics', 'Waste Management set to pay Dayton, Ohio $10.5M landfill', 'Palo Alto, California approves sweeping single-use plastics', \"Annual meeting results from the waste industry's top\", 'Philadelphia poised to award Waste Management, Covanta disposal', \"Scrap Collector: Mount Everest now 'world's highest garbage\", 'Waste Management pursuing vertical expansion at Delaware', 'Keurig Dr Pepper commits to 100% recyclable or compostable packaging by', 'Florida county to perform extra groundwater monitoring at Waste Connections', 'How recycling is changing in all 50', 'Republic attempting to exit Connecticut MRF contract via', 'Philadelphia cancels recycling rewards', 'Omaha council votes against FCC Environmental collection', 'Southern California city rejects new recycling contract amid market', 'Public companies increased control of $74B US waste industry in', 'Texas legislature passes two waste permitting', 'Court upends St. Paul, Minnesota collection system, leaving fate to', 'Scrap Collector: Malaysia returning 3,300 tons of contaminated plastic', 'California bills advance that would set 75% plastic packaging reduction', 'New York franchise bill: 1 company could exclusively win 15 of 20', 'Illinois mandates case-by-case coal ash site reviews as federal rules remain in', \"Cincinnati chosen as next 'Beyond 34'\", \"Congressional appropriations bill calls for 'national recycling\", 'Doubt and discord ahead of New York franchise bill', 'Annexation approval gives Advanced Disposal path to Illinois landfill', 'Nonprofit tests trash-collecting robot on Chicago', 'Maryland passes statewide EPS foam ban', 'NY governor signs legislation to stop WTE', \"FDA backs 'Best if used by' voluntary date labeling for food\", \"Scrap Collector: Vermont passes nation's 'toughest' plastics bill\", 'Letters to the editor: WTE is the true circular', 'Conversations with execs from 8 key industry', 'Nearly 80% of US incinerators located in marginalized communities, report', 'Ohio county outlines food waste reduction plans, potential curbside', \"Kentucky city's suspension of paper recycling ripples through\", \"Terracycle's Loop launches with P&G, Kroger, Walgreens on\", 'Omaha, Nebraska raises multiple concerns about low bidder for collection', 'Straight talk with WCA Waste CEO Bill', 'Safety falls on everyone — from top leaders to hourly', 'Whole Foods ditching plastic straws across all', 'Rubicon Global taking less combative tack, focusing on software', 'New Massachusetts MRF opens in market with tight processing', \"Waste Connections may be third-largest, but don't accuse it of being a 'big\", \"Scrap Collector: Plastic's 'hidden' climate impacts\", 'Wisconsin city reaches landfill settlement with Advanced', \"GFL Environmental aims to be 'one of the largest players in the\", 'A broken link in the circular', 'FMCSA seeks comment on proposed driver age', \"WWF 'activation hub' to help companies make good on plastic pollution\", 'Major recyclers deny still exporting plastic', \"New Republic Services president: 'Death of landfills has been\", \"Covanta poised for WTE 'awakening' in US — if it\", \"FCC Environmental plans to 'grow faster' in US, start\", 'Washington becomes 10th state to pass EPR for', \"Waste Management COO: New Chicago MRF will be 'much more\", 'Department of Energy to award $79M for bioenergy research and', 'Top waste companies fed up with immigration stalemate, losing', 'Scrap Collector: U.S. abstains from supporting Basel Convention plastics', 'Recyclers request government mandates for recycled plastic content in', 'Alabama city permitted to expand landfill after 5-year', 'What recycling end market development looks like in', 'Why recycling should be accessible to every', 'Court: EPA must review landfill emissions plans after years of', \"California city moves to terminate 'evergreen' Republic Services\", \"Toxins in the ground: Inside America's most polluted coal ash site and industry's struggle with federal\", \"Republic's solution to the California 'organics\", 'Study: Biodegradable bags survive soil and water for', \"Off the Route: Documentarian Amy C. Elliott on the 'apex of\", \"End of Waste Foundation's new blockchain recycling concept starts with\", 'Scrap Collector: Private Apple lobbying efforts postpone California repair', \"LA Sanitation director's plans to tackle organics and hit 'zero waste'\", 'Casella recycling revenue rises, Boston negotiations', 'Maine becomes first in the nation to enact statewide foam', 'Scrap metal theft bill gains new momentum in Kansas']\n",
      "75\n"
     ]
    }
   ],
   "source": [
    "print(titlelist)\n",
    "print(len(titlelist))"
   ]
  },
  {
   "cell_type": "code",
   "execution_count": 105,
   "metadata": {},
   "outputs": [],
   "source": [
    "def get_list_nouns(titlelist):\n",
    "    tokenslist = []\n",
    "    for title in titlelist:\n",
    "        tokens = nltk.word_tokenize(title)\n",
    "        tags = nltk.pos_tag(tokens)\n",
    "               \n",
    "        for tag in tags :\n",
    "            if tag[1] == 'NN' or tag[1] == 'NNPS' or tag[1] == 'NNS' or tag[1] == 'NNP':\n",
    "                tokenslist.append(str(tag[0]))\n",
    "    return tokenslist"
   ]
  },
  {
   "cell_type": "code",
   "execution_count": 106,
   "metadata": {},
   "outputs": [],
   "source": [
    "tokenslist = get_list_nouns(titlelist)"
   ]
  },
  {
   "cell_type": "code",
   "execution_count": 107,
   "metadata": {},
   "outputs": [
    {
     "name": "stdout",
     "output_type": "stream",
     "text": [
      "['EPA', 'decision', 'E', 'P', 'waste', 'Madison', 'Wisconsin', 'curbside', 'organics', 'Waste', 'Management', 'Dayton', 'Ohio', 'landfill', 'Palo', 'Alto', 'California', 'plastics', 'meeting', 'results', 'waste', 'industry', 'Philadelphia', 'Waste', 'Management', 'Covanta', 'disposal', 'Scrap', 'Collector', 'Mount', 'Everest', 'garbage', 'Waste', 'Management', 'expansion', 'Delaware', 'Keurig', 'Dr', 'Pepper', '%', 'packaging', 'Florida', 'county', 'groundwater', 'monitoring', 'Waste', 'Connections', 'recycling', 'Connecticut', 'MRF', 'contract', 'Philadelphia', 'cancels', 'rewards', 'Omaha', 'council', 'votes', 'FCC', 'Environmental', 'collection', 'Southern', 'California', 'city', 'contract', 'market', 'companies', 'control', 'US', 'waste', 'industry', 'Texas', 'legislature', 'waste', 'Court', 'St.', 'Paul', 'Minnesota', 'collection', 'system', 'fate', 'Scrap', 'Collector', 'Malaysia', 'tons', 'plastic', 'California', 'bills', 'advance', '%', 'packaging', 'reduction', 'New', 'York', 'franchise', 'bill', 'company', 'Illinois', 'coal', 'ash', 'site', 'reviews', 'rules', 'Cincinnati', 'chosen', \"'Beyond\", 'appropriations', 'bill', 'recycling', 'Doubt', 'discord', 'New', 'York', 'franchise', 'bill', 'Annexation', 'approval', 'Advanced', 'Disposal', 'path', 'Illinois', 'landfill', 'tests', 'robot', 'Chicago', 'Maryland', 'EPS', 'foam', 'ban', 'NY', 'governor', 'signs', 'legislation', 'WTE', 'FDA', 'backs', 'date', 'labeling', 'food', 'Scrap', 'Collector', 'Vermont', 'nation', 'plastics', 'bill', 'Letters', 'editor', 'WTE', 'circular', 'Conversations', 'execs', 'key', 'industry', '%', 'US', 'incinerators', 'communities', 'report', 'Ohio', 'county', 'outlines', 'food', 'waste', 'reduction', 'plans', 'curbside', 'Kentucky', 'city', 'suspension', 'paper', 'recycling', 'ripples', 'Terracycle', 'Loop', 'P', 'G', 'Kroger', 'Omaha', 'Nebraska', 'concerns', 'bidder', 'collection', 'talk', 'WCA', 'Waste', 'CEO', 'Bill', 'Safety', 'everyone', '—', 'leaders', 'Foods', 'plastic', 'straws', 'Rubicon', 'Global', 'tack', 'software', 'New', 'Massachusetts', 'MRF', 'market', 'processing', 'Waste', 'Connections', \"'big\", 'Scrap', 'Collector', 'Plastic', \"'hidden\", 'climate', 'impacts', 'Wisconsin', 'city', 'reaches', 'settlement', 'Advanced', 'GFL', 'Environmental', 'players', 'link', 'circular', 'FMCSA', 'comment', 'driver', 'age', 'WWF', \"'activation\", 'hub', 'companies', 'plastic', 'pollution', 'recyclers', 'plastic', 'New', 'Republic', 'Services', 'president', \"'Death\", 'landfills', 'Covanta', 'WTE', 'US', 'FCC', 'Environmental', 'US', 'start', 'Washington', 'state', 'EPR', 'Waste', 'Management', 'COO', 'New', 'Chicago', 'MRF', 'Department', 'Energy', 'bioenergy', 'research', 'waste', 'companies', 'immigration', 'stalemate', 'Scrap', 'Collector', 'U.S.', 'Basel', 'Convention', 'plastics', 'Recyclers', 'government', 'mandates', 'plastic', 'content', 'Alabama', 'city', 'landfill', 'end', 'market', 'development', 'Court', 'EPA', 'emissions', 'plans', 'years', 'California', 'city', 'moves', \"'evergreen\", 'Republic', 'Services', 'Toxins', 'ground', 'Inside', 'America', 'coal', 'ash', 'site', 'industry', 'struggle', 'Republic', 'solution', 'California', \"'organics\", 'Study', 'bags', 'soil', 'water', 'Route', 'Amy', 'C.', 'Elliott', \"'apex\", 'End', 'Waste', 'Foundation', 'blockchain', 'concept', 'Scrap', 'Collector', 'Apple', 'lobbying', 'efforts', 'California', 'repair', 'LA', 'Sanitation', 'director', 'plans', 'organics', 'waste', 'Casella', 'revenue', 'rises', 'Boston', 'negotiations', 'Maine', 'nation', 'foam', 'Scrap', 'metal', 'theft', 'bill', 'gains', 'momentum', 'Kansas']\n"
     ]
    }
   ],
   "source": [
    "print(tokenslist)"
   ]
  },
  {
   "cell_type": "code",
   "execution_count": 142,
   "metadata": {},
   "outputs": [
    {
     "name": "stdout",
     "output_type": "stream",
     "text": [
      "346\n"
     ]
    }
   ],
   "source": [
    "total = len(tokenslist)\n",
    "print(total)"
   ]
  },
  {
   "cell_type": "code",
   "execution_count": 190,
   "metadata": {},
   "outputs": [
    {
     "name": "stdout",
     "output_type": "stream",
     "text": [
      "{'cincinnati': 1, 'incinerators': 1, 'impacts': 1, 'amy': 1, 'rules': 1, \"'evergreen\": 1, 'theft': 1, \"'organics\": 1, 'county': 2, 'food': 2, 'omaha': 2, 'landfill': 3, 'disposal': 2, 'illinois': 2, 'players': 1, 'la': 1, 'tons': 1, 'council': 1, 'everest': 1, 'stalemate': 1, 'loop': 1, 'ash': 2, 'circular': 2, 'ripples': 1, 'ground': 1, 'reaches': 1, 'bioenergy': 1, 'development': 1, 'kentucky': 1, 'mandates': 1, 'epa': 2, 'date': 1, 'software': 1, 'control': 1, 'palo': 1, 'paper': 1, 'emissions': 1, 'hub': 1, 'franchise': 2, 'content': 1, 'wca': 1, 'alabama': 1, 'covanta': 2, 'rubicon': 1, 'approval': 1, 'wisconsin': 2, 'ban': 1, 'editor': 1, 'madison': 1, 'companies': 3, 'immigration': 1, 'california': 6, 'c.': 1, 'path': 1, 'paul': 1, 'talk': 1, 'fda': 1, 'director': 1, 'washington': 1, 'dayton': 1, 'collector': 6, 'repair': 1, 'votes': 1, 'nebraska': 1, 'climate': 1, 'momentum': 1, 'nation': 2, \"'beyond\": 1, 'legislature': 1, 'ceo': 1, 'meeting': 1, 'collection': 3, 'mrf': 3, 'landfills': 1, 'rewards': 1, 'coal': 2, 'state': 1, 'st.': 1, 'execs': 1, 'driver': 1, 'metal': 1, 'bags': 1, 'recycling': 3, 'reduction': 2, 'kroger': 1, 'department': 1, 'report': 1, 'fmcsa': 1, 'discord': 1, 'basel': 1, 'water': 1, 'scrap': 7, 'garbage': 1, 'bidder': 1, 'minnesota': 1, 'lobbying': 1, 'us': 4, 'research': 1, 'governor': 1, 'system': 1, 'industry': 4, 'decision': 1, 'start': 1, 'apple': 1, 'revenue': 1, 'company': 1, 'age': 1, 'pepper': 1, 'pollution': 1, 'advance': 1, 'route': 1, 'foundation': 1, 'wwf': 1, 'mount': 1, 'delaware': 1, 'everyone': 1, \"'hidden\": 1, 'gains': 1, 'key': 1, 'chosen': 1, 'energy': 1, 'communities': 1, 'massachusetts': 1, 'cancels': 1, 'president': 1, 'packaging': 2, 'sanitation': 1, 'plans': 3, 'backs': 1, 'monitoring': 1, 'outlines': 1, 'toxins': 1, 'tack': 1, 'alto': 1, 'struggle': 1, 'soil': 1, 'expansion': 1, 'labeling': 1, 'bill': 6, 'rises': 1, 'florida': 1, 'malaysia': 1, 'ohio': 2, 'maine': 1, 'york': 2, 'epr': 1, 'philadelphia': 2, 'terracycle': 1, 'global': 1, 'annexation': 1, 'vermont': 1, 'ny': 1, 'concerns': 1, 'texas': 1, 'boston': 1, 'recyclers': 2, 'foods': 1, 'concept': 1, 'government': 1, 'link': 1, 'coo': 1, 'connecticut': 1, 'plastic': 6, 'kansas': 1, 'comment': 1, 'appropriations': 1, 'end': 2, 'reviews': 1, 'years': 1, 'market': 3, 'blockchain': 1, 'robot': 1, 'leaders': 1, \"'activation\": 1, 'solution': 1, 'convention': 1, 'casella': 1, 'safety': 1, 'letters': 1, 'processing': 1, 'dr': 1, 'chicago': 2, 'services': 2, 'fcc': 2, 'environmental': 3, 'fate': 1, 'foam': 2, \"'big\": 1, 'republic': 3, 'southern': 1, 'results': 1, \"'death\": 1, 'eps': 1, 'legislation': 1, 'inside': 1, 'groundwater': 1, 'study': 1, 'suspension': 1, 'advanced': 2, 'efforts': 1, 'connections': 2, 'waste': 15, 'bills': 1, 'plastics': 3, 'settlement': 1, 'maryland': 1, 'gfl': 1, 'organics': 2, 'keurig': 1, 'site': 2, 'wte': 3, 'straws': 1, 'moves': 1, 'america': 1, 'contract': 2, 'curbside': 2, 'court': 2, 'tests': 1, 'management': 4, 'u.s.': 1, 'negotiations': 1, 'conversations': 1, \"'apex\": 1, 'new': 5, 'elliott': 1, 'doubt': 1, 'city': 5, 'signs': 1}\n"
     ]
    }
   ],
   "source": [
    "texte = ' '.join(tokenslist).lower()\n",
    "list_words = set()\n",
    "for each in tokenslist:\n",
    "    list_words.add(each.lower())\n",
    "list_words = list(list_words)\n",
    "\n",
    "number_word = {}\n",
    "c = 0\n",
    "for each in list_words:\n",
    "    if len(each) > 1:\n",
    "        for i in tokenslist:\n",
    "            if each.lower() == i.lower():\n",
    "                c += 1\n",
    "        number_word[each] = c\n",
    "        c = 0\n",
    "\n",
    "print(number_word)"
   ]
  },
  {
   "cell_type": "code",
   "execution_count": 139,
   "metadata": {},
   "outputs": [
    {
     "data": {
      "text/plain": [
       "4"
      ]
     },
     "execution_count": 139,
     "metadata": {},
     "output_type": "execute_result"
    }
   ],
   "source": [
    "tokenslist.index(\"waste\")"
   ]
  },
  {
   "cell_type": "code",
   "execution_count": 112,
   "metadata": {},
   "outputs": [
    {
     "data": {
      "text/plain": [
       "9"
      ]
     },
     "execution_count": 112,
     "metadata": {},
     "output_type": "execute_result"
    }
   ],
   "source": [
    "tokenslist.index(\"Waste\")"
   ]
  },
  {
   "cell_type": "code",
   "execution_count": 113,
   "metadata": {},
   "outputs": [
    {
     "name": "stdout",
     "output_type": "stream",
     "text": [
      "13\n"
     ]
    }
   ],
   "source": [
    "print(tokenslist.index(\"waste\") + tokenslist.index(\"Waste\"))"
   ]
  },
  {
   "cell_type": "code",
   "execution_count": 116,
   "metadata": {},
   "outputs": [
    {
     "name": "stdout",
     "output_type": "stream",
     "text": [
      "346\n"
     ]
    }
   ],
   "source": [
    "print(len(tokenslist[:]))"
   ]
  },
  {
   "cell_type": "code",
   "execution_count": 117,
   "metadata": {},
   "outputs": [
    {
     "name": "stdout",
     "output_type": "stream",
     "text": [
      "75\n"
     ]
    }
   ],
   "source": [
    "print(len(titlelist[:]))"
   ]
  },
  {
   "cell_type": "code",
   "execution_count": 125,
   "metadata": {},
   "outputs": [],
   "source": [
    "import numpy as np\n",
    "import matplotlib.pyplot as plt"
   ]
  },
  {
   "cell_type": "code",
   "execution_count": 138,
   "metadata": {},
   "outputs": [
    {
     "data": {
      "image/png": "[encoded data removed]",
      "text/plain": [
       "<Figure size 432x288 with 1 Axes>"
      ]
     },
     "metadata": {},
     "output_type": "display_data"
    }
   ],
   "source": [
    "# Pie chart, where the slices will be ordered and plotted counter-clockwise:\n",
    "labels = 'Waste', 'Plastic', 'Organic', 'Coal'\n",
    "sizes = [tokenslist.index(\"waste\") + tokenslist.index(\"Waste\"), tokenslist.index(\"plastic\"), tokenslist.index(\"organics\") , tokenslist.index(\"coal\")]\n",
    "explode = (0, 0, 0, 0.1)  # only \"explode\" the 2nd slice (i.e. 'plastic')\n",
    "\n",
    "fig1, ax1 = plt.subplots()\n",
    "ax1.pie(sizes, explode=explode, labels=labels, autopct='%1.1f%%',\n",
    "        shadow=True, startangle=90)\n",
    "\n",
    "ax1.axis('equal')  # Equal aspect ratio ensures that pie is drawn as a circle.\n",
    "\n",
    "plt.show()"
   ]
  },
  {
   "cell_type": "code",
   "execution_count": null,
   "metadata": {},
   "outputs": [],
   "source": []
  }
 ],
 "metadata": {
  "kernelspec": {
   "display_name": "Python 3",
   "language": "python",
   "name": "python3"
  },
  "language_info": {
   "codemirror_mode": {
    "name": "ipython",
    "version": 3
   },
   "file_extension": ".py",
   "mimetype": "text/x-python",
   "name": "python",
   "nbconvert_exporter": "python",
   "pygments_lexer": "ipython3",
   "version": "3.7.1"
  }
 },
 "nbformat": 4,
 "nbformat_minor": 2
}
