{
 "cells": [
  {
   "cell_type": "markdown",
   "metadata": {},
   "source": [
    "#first example : the economics automation\n",
    "##import librairies\n",
    "### let's try markdown\n"
   ]
  },
  {
   "cell_type": "code",
   "execution_count": 31,
   "metadata": {},
   "outputs": [],
   "source": [
    "import pandas #permet d'importer la librairie panda qui permet de manipuler facilement les données structurées (comme le tableau excel utilisé ci-après)0\n",
    "import time\n",
    "import random"
   ]
  },
  {
   "cell_type": "markdown",
   "metadata": {},
   "source": [
    "import excel"
   ]
  },
  {
   "cell_type": "code",
   "execution_count": 2,
   "metadata": {},
   "outputs": [
    {
     "name": "stdout",
     "output_type": "stream",
     "text": [
      "Afghanistan\n",
      "Albania\n",
      "Armenia\n",
      "Azerbaijan\n",
      "Bahrain\n",
      "Bangladesh\n",
      "Belarus\n",
      "Bhutan\n",
      "Bosnia and Herzegovina\n",
      "Brunei\n",
      "Bulgaria\n",
      "Cambodia\n",
      "China\n",
      "Croatia\n",
      "Czech Republic\n",
      "East Timor\n",
      "Egypt\n",
      "Estonia\n",
      "France\n",
      "Georgia\n",
      "Germany\n",
      "Hungary\n",
      "India\n",
      "Indonesia\n",
      "Iran\n",
      "Iraq\n",
      "Israel\n",
      "Jordan\n",
      "Kazakhstan\n",
      "Kuwait\n",
      "Kyrgyzstan\n",
      "Laos\n",
      "Latvia\n",
      "Lebanon\n",
      "Lithuania\n",
      "Macedonia\n",
      "Malaysia\n",
      "Maldives\n",
      "Moldova\n",
      "Mongolia\n",
      "Montenegro\n",
      "Myanmar\n",
      "Nepal\n",
      "Oman\n",
      "Pakistan\n",
      "Philippines\n",
      "Poland\n",
      "Qatar\n",
      "Romania\n",
      "Russia\n",
      "Saudi Arabia\n",
      "Serbia\n",
      "Singapore\n",
      "Slovakia\n",
      "Slovenia\n",
      "Sri Lanka\n",
      "Syria\n",
      "Tajikistan\n",
      "Thailiand\n",
      "The United Arab Emirates\n",
      "Turkey\n",
      "Turkmenistan\n",
      "United Kingdom\n",
      "United States of America\n",
      "Ukraine\n",
      "Uzbekistan\n",
      "Vietnam\n",
      "Yemen\n"
     ]
    }
   ],
   "source": [
    "filename = 'C:\\\\Users\\\\alexa\\\\Documents\\\\UTC\\\\IM04 - Depart etranger\\\\US02\\\\Data-sheet-STUDENTS.xlsx' #emplacement du fichier Data-sheet-STUDENTS désormais nommé filename\n",
    "df = pandas.read_excel(filename, header = 2, usecols = 'B:AR') #La methode read_excel() reads the data into a Pandas Data Frame, where the first parameter is the filename and the second parameter is the header and finally l'étendue des colums.\n",
    "for i,v in df['Country (according to CN Gov):'].iteritems(): #boucle : i : index and v : value, iteration of items\n",
    "    print (v.split('(')[0].strip()) #montrer v (liste de mots grâce à split) et enlever les espaces inutiles avec strip et suppr les not BRI car split fait 2 parts on garde que la première"
   ]
  },
  {
   "cell_type": "markdown",
   "metadata": {},
   "source": [
    "#request an API"
   ]
  },
  {
   "cell_type": "code",
   "execution_count": 14,
   "metadata": {},
   "outputs": [],
   "source": [
    "import requests #library (bibliothèque) Python Requests will allow you to send HTTP/1.1 requests using Python. With it, you can add content like headers, form data, multipart files, and parameters via simple Python libraries. It also allows you to access the response data of Python in the same way."
   ]
  },
  {
   "cell_type": "code",
   "execution_count": 15,
   "metadata": {},
   "outputs": [
    {
     "name": "stdout",
     "output_type": "stream",
     "text": [
      "200\n",
      "{'indicator': {'id': 'GC.TAX.IMPT.ZS', 'value': 'Customs and other import duties (% of tax revenue)'}, 'country': {'id': 'CN', 'value': 'China'}, 'countryiso3code': 'CHN', 'date': '2017', 'value': None, 'unit': '', 'obs_status': '', 'decimal': 1}\n",
      "data for China is None\n"
     ]
    }
   ],
   "source": [
    "url = 'http://api.worldbank.org/v2/country/chn/indicator/GC.TAX.IMPT.ZS?format=json' #url du lien en .json pour la lecture simplifée\n",
    "r = requests.get(url) #prend la page et la stock dans la variable r\n",
    "print(r.status_code) #imprimer le code de l'erreur de la page (200= bien passé)\n",
    "data = r.json() #r=page et json = format de lecture\n",
    "print (data[1][1]) #just to show what is data[1][1]\n",
    "print('data for',data[1][1]['country']['value'], 'is',data[1][1]['value']) #recherche des données dans data[1][1]['country']['value']"
   ]
  },
  {
   "cell_type": "code",
   "execution_count": 16,
   "metadata": {},
   "outputs": [
    {
     "name": "stdout",
     "output_type": "stream",
     "text": [
      "200\n",
      "2016 3.89434134127694\n"
     ]
    }
   ],
   "source": [
    "url = 'http://api.worldbank.org/v2/country/chn/indicator/GC.TAX.IMPT.ZS?format=json' #url du lien en .json pour la lecture simplifée\n",
    "r = requests.get(url) #prend la page et la stock dans la variable r\n",
    "print(r.status_code) #imprimer le code de l'erreur de la page (200= bien passé)\n",
    "data = r.json() #r=page et json = format de lecture\n",
    "for i in data[1]:\n",
    "    if i['value'] is None :\n",
    "        continue\n",
    "    else:\n",
    "        print(i['date'],i['value'])\n",
    "        break #loop pour show la date et la valeur, si value n'existe pas alors on remonte dans les dates pour trouver la dernière date avec une valeur"
   ]
  },
  {
   "cell_type": "code",
   "execution_count": 17,
   "metadata": {},
   "outputs": [
    {
     "name": "stdout",
     "output_type": "stream",
     "text": [
      "Italy ITA\n"
     ]
    }
   ],
   "source": [
    "country_name = 'Italy' #nom du pays ici France\n",
    "url = 'https://restcountries.eu/rest/v2/name/' + country_name #rajoute France à string d'avant\n",
    "r = requests.get(url) #same\n",
    "data = r.json() #same\n",
    "print(country_name, data[0]['alpha3Code']) #affichage"
   ]
  },
  {
   "cell_type": "code",
   "execution_count": 28,
   "metadata": {},
   "outputs": [
    {
     "data": {
      "text/plain": [
       "'THA'"
      ]
     },
     "execution_count": 28,
     "metadata": {},
     "output_type": "execute_result"
    }
   ],
   "source": [
    "def get_iso_code(country_name):\n",
    "    try: \n",
    "        url = 'https://restcountries.eu/rest/v2/name/' + country_name #rajoute France à string d'avant\n",
    "        r = requests.get(url) #same\n",
    "        data = r.json() #same\n",
    "        return data[0]['alpha3Code']\n",
    "    except KeyError: #permet de runner le code et d'afficher les messages d'erreurs mais de continuer à le runner\n",
    "        print('[ERROR] cannot get code for', country_name) #affiche [ERROR] cannot get code for et le nom du country avec le probleme exemple Thailiand =/= Thailand. Très utile quand on a des longs codes à runner pour éviter qu'à la fin il nous sorte just, ça marche pas\n",
    "        return None\n",
    "get_iso_code('Thailand')"
   ]
  },
  {
   "cell_type": "code",
   "execution_count": 63,
   "metadata": {},
   "outputs": [],
   "source": [
    "countries = {} #j'ai un empty dictionnary"
   ]
  },
  {
   "cell_type": "code",
   "execution_count": 64,
   "metadata": {},
   "outputs": [
    {
     "name": "stdout",
     "output_type": "stream",
     "text": [
      "Afghanistan AFG\n",
      "Albania ALB\n",
      "Armenia ARM\n",
      "Azerbaijan AZE\n",
      "Bahrain BHR\n",
      "Bangladesh BGD\n",
      "Belarus BLR\n",
      "Bhutan BTN\n",
      "Bosnia and Herzegovina BIH\n",
      "Brunei BRN\n",
      "Bulgaria BGR\n",
      "Cambodia KHM\n",
      "China CHN\n",
      "Croatia HRV\n",
      "Czech Republic CZE\n",
      "East Timor TLS\n",
      "Egypt EGY\n",
      "Estonia EST\n",
      "France FRA\n",
      "Georgia GEO\n",
      "Germany DEU\n",
      "Hungary HUN\n",
      "India IOT\n",
      "Indonesia IDN\n",
      "Iran IRN\n",
      "Iraq IRQ\n",
      "Israel ISR\n",
      "Jordan JOR\n",
      "Kazakhstan KAZ\n",
      "Kuwait KWT\n",
      "Kyrgyzstan KGZ\n",
      "Laos LAO\n",
      "Latvia LVA\n",
      "Lebanon LBN\n",
      "Lithuania LTU\n",
      "Macedonia MKD\n",
      "Malaysia MYS\n",
      "Maldives MDV\n",
      "Moldova MDA\n",
      "Mongolia MNG\n",
      "Montenegro MNE\n",
      "Myanmar MMR\n",
      "Nepal NPL\n",
      "Oman OMN\n",
      "Pakistan PAK\n",
      "Philippines PHL\n",
      "Poland POL\n",
      "Qatar QAT\n",
      "Romania ROU\n",
      "Russia RUS\n",
      "Saudi Arabia SAU\n",
      "Serbia SRB\n",
      "Singapore SGP\n",
      "Slovakia SVK\n",
      "Slovenia SVN\n",
      "Sri Lanka LKA\n",
      "Syria SYR\n",
      "Tajikistan TJK\n",
      "[ERROR] cannot get code for Thailiand\n",
      "[ERROR] cannot get code for The United Arab Emirates\n",
      "Turkey TUR\n",
      "Turkmenistan TKM\n",
      "United Kingdom GBR\n",
      "United States of America USA\n",
      "Ukraine UKR\n",
      "Uzbekistan UZB\n",
      "Vietnam VNM\n",
      "Yemen YEM\n"
     ]
    }
   ],
   "source": [
    "for i,v in df['Country (according to CN Gov):'].iteritems(): #iteritems = generator object data frame #keys = lsite des pays #values = liste des 3 premireès lettres #items = liste des deux\n",
    "    country_name = v.split('(')[0].strip() #comme avant\n",
    "    if country_name not in countries.keys(): #si le nom  du pays n'est pas dans la liste des keys\n",
    "        iso_code = get_iso_code(country_name) #je demande au iso_code d'être getisocode avec country name\n",
    "        if iso_code is not None:\n",
    "            countries[country_name] = iso_code\n",
    "            print(country_name,iso_code)\n",
    "            time.sleep(0.5+random.random()) #give a number between 0 and 1 + 0.5 so 0.5 et 1.5 et relances la boucle, but : pas se faire ban\n"
   ]
  },
  {
   "cell_type": "code",
   "execution_count": 65,
   "metadata": {},
   "outputs": [
    {
     "name": "stdout",
     "output_type": "stream",
     "text": [
      "{'Afghanistan': 'AFG', 'Albania': 'ALB', 'Armenia': 'ARM', 'Azerbaijan': 'AZE', 'Bahrain': 'BHR', 'Bangladesh': 'BGD', 'Belarus': 'BLR', 'Bhutan': 'BTN', 'Bosnia and Herzegovina': 'BIH', 'Brunei': 'BRN', 'Bulgaria': 'BGR', 'Cambodia': 'KHM', 'China': 'CHN', 'Croatia': 'HRV', 'Czech Republic': 'CZE', 'East Timor': 'TLS', 'Egypt': 'EGY', 'Estonia': 'EST', 'France': 'FRA', 'Georgia': 'GEO', 'Germany': 'DEU', 'Hungary': 'HUN', 'India': 'IOT', 'Indonesia': 'IDN', 'Iran': 'IRN', 'Iraq': 'IRQ', 'Israel': 'ISR', 'Jordan': 'JOR', 'Kazakhstan': 'KAZ', 'Kuwait': 'KWT', 'Kyrgyzstan': 'KGZ', 'Laos': 'LAO', 'Latvia': 'LVA', 'Lebanon': 'LBN', 'Lithuania': 'LTU', 'Macedonia': 'MKD', 'Malaysia': 'MYS', 'Maldives': 'MDV', 'Moldova': 'MDA', 'Mongolia': 'MNG', 'Montenegro': 'MNE', 'Myanmar': 'MMR', 'Nepal': 'NPL', 'Oman': 'OMN', 'Pakistan': 'PAK', 'Philippines': 'PHL', 'Poland': 'POL', 'Qatar': 'QAT', 'Romania': 'ROU', 'Russia': 'RUS', 'Saudi Arabia': 'SAU', 'Serbia': 'SRB', 'Singapore': 'SGP', 'Slovakia': 'SVK', 'Slovenia': 'SVN', 'Sri Lanka': 'LKA', 'Syria': 'SYR', 'Tajikistan': 'TJK', 'Turkey': 'TUR', 'Turkmenistan': 'TKM', 'United Kingdom': 'GBR', 'United States of America': 'USA', 'Ukraine': 'UKR', 'Uzbekistan': 'UZB', 'Vietnam': 'VNM', 'Yemen': 'YEM', 'Thailiand': 'THA', 'The United Arab Emirates': 'ARE'}\n"
     ]
    }
   ],
   "source": [
    "countries['Thailiand'] = 'THA'\n",
    "countries['The United Arab Emirates'] = 'ARE'\n",
    "print(countries)"
   ]
  },
  {
   "cell_type": "code",
   "execution_count": 66,
   "metadata": {},
   "outputs": [],
   "source": [
    "import pickle\n",
    "with open ('countries.pickle','wb+') as fp: #open this file empty and you want to write in it\n",
    "    pickle.dump(countries,fp)"
   ]
  },
  {
   "cell_type": "code",
   "execution_count": 68,
   "metadata": {},
   "outputs": [
    {
     "data": {
      "text/plain": [
       "{'Afghanistan': 'AFG',\n",
       " 'Albania': 'ALB',\n",
       " 'Armenia': 'ARM',\n",
       " 'Azerbaijan': 'AZE',\n",
       " 'Bahrain': 'BHR',\n",
       " 'Bangladesh': 'BGD',\n",
       " 'Belarus': 'BLR',\n",
       " 'Bhutan': 'BTN',\n",
       " 'Bosnia and Herzegovina': 'BIH',\n",
       " 'Brunei': 'BRN',\n",
       " 'Bulgaria': 'BGR',\n",
       " 'Cambodia': 'KHM',\n",
       " 'China': 'CHN',\n",
       " 'Croatia': 'HRV',\n",
       " 'Czech Republic': 'CZE',\n",
       " 'East Timor': 'TLS',\n",
       " 'Egypt': 'EGY',\n",
       " 'Estonia': 'EST',\n",
       " 'France': 'FRA',\n",
       " 'Georgia': 'GEO',\n",
       " 'Germany': 'DEU',\n",
       " 'Hungary': 'HUN',\n",
       " 'India': 'IOT',\n",
       " 'Indonesia': 'IDN',\n",
       " 'Iran': 'IRN',\n",
       " 'Iraq': 'IRQ',\n",
       " 'Israel': 'ISR',\n",
       " 'Jordan': 'JOR',\n",
       " 'Kazakhstan': 'KAZ',\n",
       " 'Kuwait': 'KWT',\n",
       " 'Kyrgyzstan': 'KGZ',\n",
       " 'Laos': 'LAO',\n",
       " 'Latvia': 'LVA',\n",
       " 'Lebanon': 'LBN',\n",
       " 'Lithuania': 'LTU',\n",
       " 'Macedonia': 'MKD',\n",
       " 'Malaysia': 'MYS',\n",
       " 'Maldives': 'MDV',\n",
       " 'Moldova': 'MDA',\n",
       " 'Mongolia': 'MNG',\n",
       " 'Montenegro': 'MNE',\n",
       " 'Myanmar': 'MMR',\n",
       " 'Nepal': 'NPL',\n",
       " 'Oman': 'OMN',\n",
       " 'Pakistan': 'PAK',\n",
       " 'Philippines': 'PHL',\n",
       " 'Poland': 'POL',\n",
       " 'Qatar': 'QAT',\n",
       " 'Romania': 'ROU',\n",
       " 'Russia': 'RUS',\n",
       " 'Saudi Arabia': 'SAU',\n",
       " 'Serbia': 'SRB',\n",
       " 'Singapore': 'SGP',\n",
       " 'Slovakia': 'SVK',\n",
       " 'Slovenia': 'SVN',\n",
       " 'Sri Lanka': 'LKA',\n",
       " 'Syria': 'SYR',\n",
       " 'Tajikistan': 'TJK',\n",
       " 'Turkey': 'TUR',\n",
       " 'Turkmenistan': 'TKM',\n",
       " 'United Kingdom': 'GBR',\n",
       " 'United States of America': 'USA',\n",
       " 'Ukraine': 'UKR',\n",
       " 'Uzbekistan': 'UZB',\n",
       " 'Vietnam': 'VNM',\n",
       " 'Yemen': 'YEM',\n",
       " 'Thailiand': 'THA',\n",
       " 'The United Arab Emirates': 'ARE'}"
      ]
     },
     "execution_count": 68,
     "metadata": {},
     "output_type": "execute_result"
    }
   ],
   "source": [
    "with open ('countries.pickle','rb') as fp:\n",
    "    test = pickle.load(fp)\n",
    "test"
   ]
  },
  {
   "cell_type": "code",
   "execution_count": null,
   "metadata": {},
   "outputs": [],
   "source": [
    "def \n",
    "url = 'http://api.worldbank.org/v2/country/chn/indicator/GC.TAX.IMPT.ZS?format=json' #url du lien en .json pour la lecture simplifée\n",
    "r = requests.get(url) #prend la page et la stock dans la variable r\n",
    "print(r.status_code) #imprimer le code de l'erreur de la page (200= requête acceptée)\n",
    "data = r.json() #r=page et json = format de lecture\n",
    "for i in data[1]:\n",
    "    if i['value'] is None :\n",
    "        continue\n",
    "    else:\n",
    "        print(i['date'],i['value'])\n",
    "        break #loop pour show la date et la valeur, si value n'existe pas alors on remonte dans les dates pour trouver la dernière date avec une valeur"
   ]
  }
 ],
 "metadata": {
  "kernelspec": {
   "display_name": "Python 3",
   "language": "python",
   "name": "python3"
  },
  "language_info": {
   "codemirror_mode": {
    "name": "ipython",
    "version": 3
   },
   "file_extension": ".py",
   "mimetype": "text/x-python",
   "name": "python",
   "nbconvert_exporter": "python",
   "pygments_lexer": "ipython3",
   "version": "3.7.1"
  }
 },
 "nbformat": 4,
 "nbformat_minor": 2
}
