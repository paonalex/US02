{
 "cells": [
  {
   "cell_type": "markdown",
   "metadata": {},
   "source": [
    "#first example : the economics automation\n",
    "##import librairies\n",
    "### let's try markdown\n"
   ]
  },
  {
   "cell_type": "code",
   "execution_count": 12,
   "metadata": {},
   "outputs": [],
   "source": [
    "import pandas #permet d'importer le package panda qui permet de manipuler facilement les données structurées (comme le tableau excel utilisé ci-après)"
   ]
  },
  {
   "cell_type": "markdown",
   "metadata": {},
   "source": [
    "import excel"
   ]
  },
  {
   "cell_type": "code",
   "execution_count": 13,
   "metadata": {},
   "outputs": [
    {
     "name": "stdout",
     "output_type": "stream",
     "text": [
      "Afghanistan\n",
      "Albania\n",
      "Armenia\n",
      "Azerbaijan\n",
      "Bahrain\n",
      "Bangladesh\n",
      "Belarus\n",
      "Bhutan\n",
      "Bosnia and Herzegovina\n",
      "Brunei\n",
      "Bulgaria\n",
      "Cambodia\n",
      "China\n",
      "Croatia\n",
      "Czech Republic\n",
      "East Timor\n",
      "Egypt\n",
      "Estonia\n",
      "France\n",
      "Georgia\n",
      "Germany\n",
      "Hungary\n",
      "India\n",
      "Indonesia\n",
      "Iran\n",
      "Iraq\n",
      "Israel\n",
      "Jordan\n",
      "Kazakhstan\n",
      "Kuwait\n",
      "Kyrgyzstan\n",
      "Laos\n",
      "Latvia\n",
      "Lebanon\n",
      "Lithuania\n",
      "Macedonia\n",
      "Malaysia\n",
      "Maldives\n",
      "Moldova\n",
      "Mongolia\n",
      "Montenegro\n",
      "Myanmar\n",
      "Nepal\n",
      "Oman\n",
      "Pakistan\n",
      "Philippines\n",
      "Poland\n",
      "Qatar\n",
      "Romania\n",
      "Russia\n",
      "Saudi Arabia\n",
      "Serbia\n",
      "Singapore\n",
      "Slovakia\n",
      "Slovenia\n",
      "Sri Lanka\n",
      "Syria\n",
      "Tajikistan\n",
      "Thailiand\n",
      "The United Arab Emirates\n",
      "Turkey\n",
      "Turkmenistan\n",
      "United Kingdom\n",
      "United States of America\n",
      "Ukraine\n",
      "Uzbekistan\n",
      "Vietnam\n",
      "Yemen\n"
     ]
    }
   ],
   "source": [
    "filename = 'C:\\\\Users\\\\alexa\\\\Documents\\\\UTC\\\\IM04 - Depart etranger\\\\US02\\\\Data-sheet-STUDENTS.xlsx' #emplacement du fichier Data-sheet-STUDENTS\n",
    "df = pandas.read_excel(filename, header = 2, usecols = 'B:AR') #La methode read_excel() reads the data into a Pandas Data Frame, where the first parameter is the filename and the second parameter is the header and finally l'étendue des colums.\n",
    "for i,v in df['Country (according to CN Gov):'].iteritems(): #boucle : i : index and v : value, iteration of items\n",
    "    print (v.split('(')[0].strip()) #montrer v (liste de mots grâce à split) et enlever les espaces inutiles avec strip"
   ]
  },
  {
   "cell_type": "markdown",
   "metadata": {},
   "source": [
    "#request an API"
   ]
  },
  {
   "cell_type": "code",
   "execution_count": 14,
   "metadata": {},
   "outputs": [],
   "source": [
    "import requests #library (bibliothèque) Python Requests will allow you to send HTTP/1.1 requests using Python. With it, you can add content like headers, form data, multipart files, and parameters via simple Python libraries. It also allows you to access the response data of Python in the same way."
   ]
  },
  {
   "cell_type": "code",
   "execution_count": 15,
   "metadata": {},
   "outputs": [
    {
     "name": "stdout",
     "output_type": "stream",
     "text": [
      "200\n",
      "{'indicator': {'id': 'GC.TAX.IMPT.ZS', 'value': 'Customs and other import duties (% of tax revenue)'}, 'country': {'id': 'CN', 'value': 'China'}, 'countryiso3code': 'CHN', 'date': '2017', 'value': None, 'unit': '', 'obs_status': '', 'decimal': 1}\n",
      "data for China is None\n"
     ]
    }
   ],
   "source": [
    "url = 'http://api.worldbank.org/v2/country/chn/indicator/GC.TAX.IMPT.ZS?format=json' #url du lien en .json pour la lecture simplifée\n",
    "r = requests.get(url) #prend la page et la stock dans la variable r\n",
    "print(r.status_code) #imprimer le code de l'erreur de la page (200= bien passé)\n",
    "data = r.json() #r=page et json = format de lecture\n",
    "print (data[1][1]) #just to show what is data[1][1]\n",
    "print('data for',data[1][1]['country']['value'], 'is',data[1][1]['value']) #recherche des données dans data[1][1]['country']['value']"
   ]
  },
  {
   "cell_type": "code",
   "execution_count": 61,
   "metadata": {},
   "outputs": [
    {
     "name": "stdout",
     "output_type": "stream",
     "text": [
      "200\n",
      "2016 3.89434134127694\n"
     ]
    }
   ],
   "source": [
    "url = 'http://api.worldbank.org/v2/country/chn/indicator/GC.TAX.IMPT.ZS?format=json' #url du lien en .json pour la lecture simplifée\n",
    "r = requests.get(url) #prend la page et la stock dans la variable r\n",
    "print(r.status_code) #imprimer le code de l'erreur de la page (200= bien passé)\n",
    "data = r.json() #r=page et json = format de lecture\n",
    "for i in data[1]:\n",
    "    if i['value'] is None :\n",
    "        continue\n",
    "    else:\n",
    "        print(i['date'],i['value'])\n",
    "        break #loop pour show la date et la valeur, si value n'existe pas alors on remonte dans les dates pour trouver la dernière date avec une valeur"
   ]
  },
  {
   "cell_type": "code",
   "execution_count": 63,
   "metadata": {},
   "outputs": [
    {
     "name": "stdout",
     "output_type": "stream",
     "text": [
      "France FRA\n"
     ]
    }
   ],
   "source": [
    "country_name = 'France' #nom du pays ici France\n",
    "url = 'https://restcountries.eu/rest/v2/name/' + country_name #rajoute France à string d'avant\n",
    "r = requests.get(url) #same\n",
    "data = r.json() #same\n",
    "print(country_name, data[0]['alpha3Code']) #affichage"
   ]
  },
  {
   "cell_type": "code",
   "execution_count": null,
   "metadata": {},
   "outputs": [],
   "source": []
  }
 ],
 "metadata": {
  "kernelspec": {
   "display_name": "Python 3",
   "language": "python",
   "name": "python3"
  },
  "language_info": {
   "codemirror_mode": {
    "name": "ipython",
    "version": 3
   },
   "file_extension": ".py",
   "mimetype": "text/x-python",
   "name": "python",
   "nbconvert_exporter": "python",
   "pygments_lexer": "ipython3",
   "version": "3.7.1"
  }
 },
 "nbformat": 4,
 "nbformat_minor": 2
}
